{
 "cells": [
  {
   "cell_type": "markdown",
   "metadata": {},
   "source": [
    "# Model Doğrulama / Model Tuning"
   ]
  },
  {
   "cell_type": "code",
   "execution_count": 47,
   "metadata": {},
   "outputs": [],
   "source": [
    "import seaborn as sns\n",
    "import pandas as pd\n",
    "import numpy as np\n",
    "import statsmodels.api as sm\n",
    "from sklearn.linear_model import LinearRegression\n",
    "from sklearn.metrics import mean_squared_error, r2_score\n",
    "from sklearn.decomposition import PCA\n",
    "from sklearn.preprocessing import scale\n",
    "from sklearn import model_selection\n",
    "import matplotlib.pyplot as plt"
   ]
  },
  {
   "cell_type": "code",
   "execution_count": 48,
   "metadata": {},
   "outputs": [],
   "source": [
    "hit = pd.read_csv(\"Hitters.csv\")\n",
    "\n",
    "df = hit.copy()\n",
    "\n",
    "df = df.dropna()\n",
    "\n",
    "dms = pd.get_dummies(df[[\"League\", \"Division\", \"NewLeague\"]])\n",
    "\n",
    "y = df[\"Salary\"]\n",
    "\n",
    "X_ = df.drop([\"Salary\", \"League\", \"Division\", \"NewLeague\"], axis = 1).astype(\"float64\")\n",
    "\n",
    "X = pd.concat([X_, dms[[\"League_N\", \"Division_W\", \"NewLeague_N\"]]], axis = 1)\n",
    "\n",
    "X_train, X_test, y_train, y_test = train_test_split(X, y, test_size = 0.25, random_state = 42)\n",
    "\n",
    "training = df.copy()\n",
    "\n",
    "pca = PCA()\n",
    "\n",
    "X_reduced_train = pca.fit_transform(scale(X_train))\n",
    "\n",
    "lm = LinearRegression()\n",
    "\n",
    "pcr_model = lm.fit(X_reduced_train, y_train)\n",
    "\n",
    "y_pred_train = pcr_model.predict(X_reduced_train)\n",
    "\n",
    "pca2 = PCA()\n",
    "\n",
    "X_reduced_test = pca2.fit_transform(scale(X_test))\n",
    "\n",
    "y_pred_test = pcr_model.predict(X_reduced_test)"
   ]
  },
  {
   "cell_type": "code",
   "execution_count": 49,
   "metadata": {},
   "outputs": [
    {
     "name": "stdout",
     "output_type": "stream",
     "text": [
      "405.15753641499646\n"
     ]
    }
   ],
   "source": [
    "print(np.sqrt(mean_squared_error(y_test, y_pred_test)))"
   ]
  },
  {
   "cell_type": "code",
   "execution_count": 50,
   "metadata": {},
   "outputs": [
    {
     "name": "stdout",
     "output_type": "stream",
     "text": [
      "392.38935589493457\n"
     ]
    }
   ],
   "source": [
    "pcr_model_col1 = lm.fit(X_reduced_train[:, 0:1], y_train)  # modelleme için birinci bileşeni al\n",
    "\n",
    "y_pred_test_col1 = pcr_model_col1.predict(X_reduced_test[:, 0:1])  # boyutlar uyuşmalı!\n",
    "\n",
    "# şu anda tek bileşenli bir regresyon modeli kurmuş olduk.\n",
    "\n",
    "print(np.sqrt(mean_squared_error(y_test, y_pred_test_col1)))  "
   ]
  },
  {
   "cell_type": "code",
   "execution_count": 51,
   "metadata": {},
   "outputs": [
    {
     "name": "stdout",
     "output_type": "stream",
     "text": [
      "396.38761247967653\n"
     ]
    }
   ],
   "source": [
    "pcr_model_colms2 = lm.fit(X_reduced_train[:, 0:2], y_train)  # modelleme için ilk iki bileşeni al.\n",
    "\n",
    "y_pred_test_colms2 = pcr_model_colms2.predict(X_reduced_test[:, 0:2])  # boyutlar uyuşmalı!\n",
    "\n",
    "# şu anda iki bileşenli bir regresyon modeli kurmuş olduk.\n",
    "\n",
    "print(np.sqrt(mean_squared_error(y_test, y_pred_test_colms2))) "
   ]
  },
  {
   "cell_type": "code",
   "execution_count": 52,
   "metadata": {},
   "outputs": [
    {
     "name": "stdout",
     "output_type": "stream",
     "text": [
      "397.233644079134\n"
     ]
    }
   ],
   "source": [
    "pcr_model_colms5 = lm.fit(X_reduced_train[:, 0:5], y_train)  # modelleme için ilk beş bileşeni al.\n",
    "\n",
    "y_pred_test_colms5 = pcr_model_colms5.predict(X_reduced_test[:, 0:5])  # boyutlar uyuşmalı!\n",
    "\n",
    "# şu anda beş bileşenli bir regresyon modeli kurmuş olduk.\n",
    "\n",
    "print(np.sqrt(mean_squared_error(y_test, y_pred_test_colms5))) "
   ]
  },
  {
   "cell_type": "code",
   "execution_count": 53,
   "metadata": {},
   "outputs": [
    {
     "name": "stdout",
     "output_type": "stream",
     "text": [
      "390.79142556822234\n"
     ]
    }
   ],
   "source": [
    "pcr_model_colms10 = lm.fit(X_reduced_train[:, 0:10], y_train)  # modelleme için ilk on bileşeni al.\n",
    "\n",
    "y_pred_test_colms10 = pcr_model_colms10.predict(X_reduced_test[:, 0:10])  # boyutlar uyuşmalı!\n",
    "\n",
    "# şu anda on bileşenli bir regresyon modeli kurmuş olduk.\n",
    "\n",
    "print(np.sqrt(mean_squared_error(y_test, y_pred_test_colms10))) "
   ]
  },
  {
   "cell_type": "code",
   "execution_count": 54,
   "metadata": {},
   "outputs": [],
   "source": [
    "# 10 katlı cross validation yapılandırması yapmak için;\n",
    "# 'shuffle', grupların ayrılmadan önce karıştırılıp karıştırılmayacağı anlamına gelir. Bizim için 'True'.\n",
    "\n",
    "cv_10 = model_selection.KFold(n_splits = 10, shuffle = True, random_state = 1)"
   ]
  },
  {
   "cell_type": "code",
   "execution_count": 55,
   "metadata": {},
   "outputs": [],
   "source": [
    "lm1 = LinearRegression()\n",
    "\n",
    "RMSE = []"
   ]
  },
  {
   "cell_type": "code",
   "execution_count": 56,
   "metadata": {},
   "outputs": [],
   "source": [
    "for i in np.arange(1, X_reduced_train.shape[1] + 1):\n",
    "    \n",
    "    scoreSquare = model_selection.cross_val_score(lm1, X_reduced_train[:, :i], y_train.ravel(), cv = cv_10, \n",
    "                                                  scoring = \"neg_mean_squared_error\").mean()\n",
    "    \n",
    "    score = np.sqrt(-1 * scoreSquare)\n",
    "    \n",
    "    RMSE.append(score)"
   ]
  },
  {
   "cell_type": "code",
   "execution_count": 57,
   "metadata": {},
   "outputs": [
    {
     "data": {
      "text/plain": [
       "[339.00500170955814,\n",
       " 335.4728032081954,\n",
       " 335.2590543755473,\n",
       " 335.7884270015904,\n",
       " 331.09740630173496,\n",
       " 329.0340331060009,\n",
       " 328.19368073916246,\n",
       " 331.4554758418423,\n",
       " 333.67757478496605,\n",
       " 339.503303868483,\n",
       " 340.5292981595513,\n",
       " 344.5766545758867,\n",
       " 351.26086167973125,\n",
       " 356.4667660069188,\n",
       " 357.2309164188571,\n",
       " 342.7834361594297,\n",
       " 343.74562772537456,\n",
       " 344.75198625737386,\n",
       " 353.3705052990855]"
      ]
     },
     "execution_count": 57,
     "metadata": {},
     "output_type": "execute_result"
    }
   ],
   "source": [
    "RMSE"
   ]
  },
  {
   "cell_type": "code",
   "execution_count": 58,
   "metadata": {},
   "outputs": [
    {
     "data": {
      "image/png": "[encoded data removed]",
      "text/plain": [
       "<Figure size 432x288 with 1 Axes>"
      ]
     },
     "metadata": {
      "needs_background": "light"
     },
     "output_type": "display_data"
    }
   ],
   "source": [
    "plt.plot(RMSE, \"-v\")\n",
    "plt.xlabel(\"Bileşen Sayısı\")\n",
    "plt.ylabel(\"RMSE\")\n",
    "plt.title(\"Maaş Tahmin Modeli için PCR Model Tuning\");\n",
    "\n",
    "# bileşen sayısı arttıkça, bir süre boyunca RMSE'nin düştüğü görülmüş.\n",
    "# bir süreden sonra ise artmaya başlamış.\n",
    "# bileşen sayısı değişen sayısı kadar olduğunda çok da iyi bir performans elde edilmediğini görüyoruz.\n",
    "# optimum bileşen sayısının kaç olması gerektiğini bulmuş oluyoruz. (Bizim için 6) - en düşük RMSE değeri"
   ]
  },
  {
   "cell_type": "code",
   "execution_count": 59,
   "metadata": {},
   "outputs": [],
   "source": [
    "# model hiperparametresini, elimizdeki optimum bileşen değeri aracılığı ile oluşturmamız gerekiyor.\n",
    "# yani şimdiki işimiz final modelini oluşturmak.\n",
    "\n",
    "lm2 = LinearRegression()"
   ]
  },
  {
   "cell_type": "code",
   "execution_count": 60,
   "metadata": {},
   "outputs": [
    {
     "name": "stdout",
     "output_type": "stream",
     "text": [
      "308.82659830945016\n"
     ]
    }
   ],
   "source": [
    "# PCR eğitim modelinin kurulması(final)\n",
    "\n",
    "pcr_model_final = lm2.fit(X_reduced_train[:, 0:6], y_train)\n",
    "\n",
    "y_pred_train_final = pcr_model_final.predict(X_reduced_train[:, 0:6])\n",
    "\n",
    "# tahmin edilen değer ile eğitim içerisindeki gerçek değerler için bulunan eğitim hatası.\n",
    "print(np.sqrt(mean_squared_error(y_train, y_pred_train_final)))"
   ]
  },
  {
   "cell_type": "code",
   "execution_count": 61,
   "metadata": {},
   "outputs": [
    {
     "name": "stdout",
     "output_type": "stream",
     "text": [
      "393.1198700096223\n"
     ]
    }
   ],
   "source": [
    "# PCR test modelinin kurulması(final)\n",
    "\n",
    "pcr_model_final = lm2.fit(X_reduced_train[:, 0:6], y_train)\n",
    "\n",
    "y_pred_test_final = pcr_model_final.predict(X_reduced_test[:, 0:6])\n",
    "\n",
    "# tahmin edilen değer ile eğitim içerisindeki gerçek değerler için bulunan eğitim hatası.\n",
    "print(np.sqrt(mean_squared_error(y_test, y_pred_test_final)))"
   ]
  },
  {
   "cell_type": "markdown",
   "metadata": {},
   "source": [
    "### burada modeli doğrulamak için cross validation yöntemleri uygulanmıştır."
   ]
  },
  {
   "cell_type": "markdown",
   "metadata": {},
   "source": [
    "### optimum oluşmaya çalıştığımız test hatamız."
   ]
  },
  {
   "cell_type": "code",
   "execution_count": null,
   "metadata": {},
   "outputs": [],
   "source": []
  }
 ],
 "metadata": {
  "kernelspec": {
   "display_name": "Python 3",
   "language": "python",
   "name": "python3"
  },
  "language_info": {
   "codemirror_mode": {
    "name": "ipython",
    "version": 3
   },
   "file_extension": ".py",
   "mimetype": "text/x-python",
   "name": "python",
   "nbconvert_exporter": "python",
   "pygments_lexer": "ipython3",
   "version": "3.7.3"
  }
 },
 "nbformat": 4,
 "nbformat_minor": 2
}
