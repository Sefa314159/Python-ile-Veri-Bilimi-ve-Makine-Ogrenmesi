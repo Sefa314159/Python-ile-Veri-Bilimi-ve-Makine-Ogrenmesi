{
 "cells": [
  {
   "cell_type": "markdown",
   "metadata": {},
   "source": [
    "# Tahmin"
   ]
  },
  {
   "cell_type": "code",
   "execution_count": 1,
   "metadata": {},
   "outputs": [],
   "source": [
    "import seaborn as sns\n",
    "import pandas as pd\n",
    "import numpy as np\n",
    "import statsmodels.api as sm\n",
    "from sklearn.linear_model import LinearRegression\n",
    "from sklearn.metrics import mean_squared_error, r2_score\n",
    "from sklearn.decomposition import PCA\n",
    "from sklearn.preprocessing import scale\n",
    "from sklearn.cross_decomposition import PLSRegression, PLSSVD\n",
    "from sklearn.model_selection import train_test_split, cross_val_score, cross_val_predict\n",
    "from sklearn.linear_model import Ridge\n",
    "from sklearn.linear_model import RidgeCV\n",
    "from sklearn.linear_model import Lasso\n",
    "from sklearn import model_selection\n",
    "import matplotlib.pyplot as plt"
   ]
  },
  {
   "cell_type": "code",
   "execution_count": 2,
   "metadata": {},
   "outputs": [],
   "source": [
    "hit = pd.read_csv(\"Hitters.csv\")\n",
    "\n",
    "df = hit.copy()\n",
    "\n",
    "df = df.dropna()\n",
    "\n",
    "dms = pd.get_dummies(df[[\"League\", \"Division\", \"NewLeague\"]])\n",
    "\n",
    "y = df[\"Salary\"]\n",
    "\n",
    "X_ = df.drop([\"Salary\", \"League\", \"Division\", \"NewLeague\"], axis = 1).astype(\"float64\")\n",
    "\n",
    "X = pd.concat([X_, dms[[\"League_N\", \"Division_W\", \"NewLeague_N\"]]], axis = 1)\n",
    "\n",
    "X_train, X_test, y_train, y_test = train_test_split(X, y, test_size = 0.25, random_state = 42)"
   ]
  },
  {
   "cell_type": "code",
   "execution_count": 3,
   "metadata": {},
   "outputs": [
    {
     "name": "stderr",
     "output_type": "stream",
     "text": [
      "C:\\Users\\Sefa3\\Anaconda3\\lib\\site-packages\\sklearn\\linear_model\\coordinate_descent.py:475: ConvergenceWarning: Objective did not converge. You might want to increase the number of iterations. Duality gap: 5691.3971730060875, tolerance: 3898.686956380658\n",
      "  positive)\n",
      "C:\\Users\\Sefa3\\Anaconda3\\lib\\site-packages\\sklearn\\linear_model\\coordinate_descent.py:475: ConvergenceWarning: Objective did not converge. You might want to increase the number of iterations. Duality gap: 6243.794457580894, tolerance: 3898.686956380658\n",
      "  positive)\n",
      "C:\\Users\\Sefa3\\Anaconda3\\lib\\site-packages\\sklearn\\linear_model\\coordinate_descent.py:475: ConvergenceWarning: Objective did not converge. You might want to increase the number of iterations. Duality gap: 10981.91397472471, tolerance: 3898.686956380658\n",
      "  positive)\n",
      "C:\\Users\\Sefa3\\Anaconda3\\lib\\site-packages\\sklearn\\linear_model\\coordinate_descent.py:475: ConvergenceWarning: Objective did not converge. You might want to increase the number of iterations. Duality gap: 4785.080369468778, tolerance: 3898.686956380658\n",
      "  positive)\n",
      "C:\\Users\\Sefa3\\Anaconda3\\lib\\site-packages\\sklearn\\linear_model\\coordinate_descent.py:475: ConvergenceWarning: Objective did not converge. You might want to increase the number of iterations. Duality gap: 7431.01150046289, tolerance: 3898.686956380658\n",
      "  positive)\n",
      "C:\\Users\\Sefa3\\Anaconda3\\lib\\site-packages\\sklearn\\linear_model\\coordinate_descent.py:475: ConvergenceWarning: Objective did not converge. You might want to increase the number of iterations. Duality gap: 19365.929183105007, tolerance: 3898.686956380658\n",
      "  positive)\n",
      "C:\\Users\\Sefa3\\Anaconda3\\lib\\site-packages\\sklearn\\linear_model\\coordinate_descent.py:475: ConvergenceWarning: Objective did not converge. You might want to increase the number of iterations. Duality gap: 82812.38315996714, tolerance: 3898.686956380658\n",
      "  positive)\n",
      "C:\\Users\\Sefa3\\Anaconda3\\lib\\site-packages\\sklearn\\linear_model\\coordinate_descent.py:475: ConvergenceWarning: Objective did not converge. You might want to increase the number of iterations. Duality gap: 3347617.462906531, tolerance: 3898.686956380658\n",
      "  positive)\n",
      "C:\\Users\\Sefa3\\Anaconda3\\lib\\site-packages\\sklearn\\linear_model\\coordinate_descent.py:475: ConvergenceWarning: Objective did not converge. You might want to increase the number of iterations. Duality gap: 6286363.077054923, tolerance: 3898.686956380658\n",
      "  positive)\n",
      "C:\\Users\\Sefa3\\Anaconda3\\lib\\site-packages\\sklearn\\linear_model\\coordinate_descent.py:475: ConvergenceWarning: Objective did not converge. You might want to increase the number of iterations. Duality gap: 7270365.120909841, tolerance: 3898.686956380658\n",
      "  positive)\n",
      "C:\\Users\\Sefa3\\Anaconda3\\lib\\site-packages\\sklearn\\linear_model\\coordinate_descent.py:475: ConvergenceWarning: Objective did not converge. You might want to increase the number of iterations. Duality gap: 7857834.986638632, tolerance: 3898.686956380658\n",
      "  positive)\n",
      "C:\\Users\\Sefa3\\Anaconda3\\lib\\site-packages\\sklearn\\linear_model\\coordinate_descent.py:475: ConvergenceWarning: Objective did not converge. You might want to increase the number of iterations. Duality gap: 8033008.823312405, tolerance: 3898.686956380658\n",
      "  positive)\n",
      "C:\\Users\\Sefa3\\Anaconda3\\lib\\site-packages\\sklearn\\linear_model\\coordinate_descent.py:475: ConvergenceWarning: Objective did not converge. You might want to increase the number of iterations. Duality gap: 8131008.237518649, tolerance: 3898.686956380658\n",
      "  positive)\n",
      "C:\\Users\\Sefa3\\Anaconda3\\lib\\site-packages\\sklearn\\linear_model\\coordinate_descent.py:475: ConvergenceWarning: Objective did not converge. You might want to increase the number of iterations. Duality gap: 8186013.130172725, tolerance: 3898.686956380658\n",
      "  positive)\n",
      "C:\\Users\\Sefa3\\Anaconda3\\lib\\site-packages\\sklearn\\linear_model\\coordinate_descent.py:475: ConvergenceWarning: Objective did not converge. You might want to increase the number of iterations. Duality gap: 8217283.129088372, tolerance: 3898.686956380658\n",
      "  positive)\n",
      "C:\\Users\\Sefa3\\Anaconda3\\lib\\site-packages\\sklearn\\linear_model\\coordinate_descent.py:475: ConvergenceWarning: Objective did not converge. You might want to increase the number of iterations. Duality gap: 8235409.922807017, tolerance: 3898.686956380658\n",
      "  positive)\n",
      "C:\\Users\\Sefa3\\Anaconda3\\lib\\site-packages\\sklearn\\linear_model\\coordinate_descent.py:475: ConvergenceWarning: Objective did not converge. You might want to increase the number of iterations. Duality gap: 8246040.748837183, tolerance: 3898.686956380658\n",
      "  positive)\n",
      "C:\\Users\\Sefa3\\Anaconda3\\lib\\site-packages\\sklearn\\linear_model\\coordinate_descent.py:475: ConvergenceWarning: Objective did not converge. You might want to increase the number of iterations. Duality gap: 8252380.428235767, tolerance: 3898.686956380658\n",
      "  positive)\n",
      "C:\\Users\\Sefa3\\Anaconda3\\lib\\site-packages\\sklearn\\linear_model\\coordinate_descent.py:475: ConvergenceWarning: Objective did not converge. You might want to increase the number of iterations. Duality gap: 8256363.362195176, tolerance: 3898.686956380658\n",
      "  positive)\n",
      "C:\\Users\\Sefa3\\Anaconda3\\lib\\site-packages\\sklearn\\linear_model\\coordinate_descent.py:475: ConvergenceWarning: Objective did not converge. You might want to increase the number of iterations. Duality gap: 8256783.254612761, tolerance: 3898.686956380658\n",
      "  positive)\n",
      "C:\\Users\\Sefa3\\Anaconda3\\lib\\site-packages\\sklearn\\linear_model\\coordinate_descent.py:475: ConvergenceWarning: Objective did not converge. You might want to increase the number of iterations. Duality gap: 8256012.300389285, tolerance: 3898.686956380658\n",
      "  positive)\n",
      "C:\\Users\\Sefa3\\Anaconda3\\lib\\site-packages\\sklearn\\linear_model\\coordinate_descent.py:475: ConvergenceWarning: Objective did not converge. You might want to increase the number of iterations. Duality gap: 8254807.780472247, tolerance: 3898.686956380658\n",
      "  positive)\n",
      "C:\\Users\\Sefa3\\Anaconda3\\lib\\site-packages\\sklearn\\linear_model\\coordinate_descent.py:475: ConvergenceWarning: Objective did not converge. You might want to increase the number of iterations. Duality gap: 8253541.822538962, tolerance: 3898.686956380658\n",
      "  positive)\n",
      "C:\\Users\\Sefa3\\Anaconda3\\lib\\site-packages\\sklearn\\linear_model\\coordinate_descent.py:475: ConvergenceWarning: Objective did not converge. You might want to increase the number of iterations. Duality gap: 8252381.581419759, tolerance: 3898.686956380658\n",
      "  positive)\n",
      "C:\\Users\\Sefa3\\Anaconda3\\lib\\site-packages\\sklearn\\linear_model\\coordinate_descent.py:475: ConvergenceWarning: Objective did not converge. You might want to increase the number of iterations. Duality gap: 8251388.176294998, tolerance: 3898.686956380658\n",
      "  positive)\n",
      "C:\\Users\\Sefa3\\Anaconda3\\lib\\site-packages\\sklearn\\linear_model\\coordinate_descent.py:475: ConvergenceWarning: Objective did not converge. You might want to increase the number of iterations. Duality gap: 8250570.588123157, tolerance: 3898.686956380658\n",
      "  positive)\n",
      "C:\\Users\\Sefa3\\Anaconda3\\lib\\site-packages\\sklearn\\linear_model\\coordinate_descent.py:475: ConvergenceWarning: Objective did not converge. You might want to increase the number of iterations. Duality gap: 8249914.317383983, tolerance: 3898.686956380658\n",
      "  positive)\n",
      "C:\\Users\\Sefa3\\Anaconda3\\lib\\site-packages\\sklearn\\linear_model\\coordinate_descent.py:475: ConvergenceWarning: Objective did not converge. You might want to increase the number of iterations. Duality gap: 8249396.2662087465, tolerance: 3898.686956380658\n",
      "  positive)\n",
      "C:\\Users\\Sefa3\\Anaconda3\\lib\\site-packages\\sklearn\\linear_model\\coordinate_descent.py:475: ConvergenceWarning: Objective did not converge. You might want to increase the number of iterations. Duality gap: 8248992.028936763, tolerance: 3898.686956380658\n",
      "  positive)\n",
      "C:\\Users\\Sefa3\\Anaconda3\\lib\\site-packages\\sklearn\\linear_model\\coordinate_descent.py:475: ConvergenceWarning: Objective did not converge. You might want to increase the number of iterations. Duality gap: 8248679.163725123, tolerance: 3898.686956380658\n",
      "  positive)\n",
      "C:\\Users\\Sefa3\\Anaconda3\\lib\\site-packages\\sklearn\\linear_model\\coordinate_descent.py:475: ConvergenceWarning: Objective did not converge. You might want to increase the number of iterations. Duality gap: 8248438.453545405, tolerance: 3898.686956380658\n",
      "  positive)\n"
     ]
    },
    {
     "data": {
      "image/png": "[encoded data removed]",
      "text/plain": [
       "<Figure size 432x288 with 1 Axes>"
      ]
     },
     "metadata": {
      "needs_background": "light"
     },
     "output_type": "display_data"
    }
   ],
   "source": [
    "lambdalar = 10 ** np.linspace(10, -2, 100) * 5\n",
    "\n",
    "lasso_model = Lasso()\n",
    "katsayilar = []\n",
    "\n",
    "for i in lambdalar:\n",
    "    lasso_model.set_params(alpha = i)\n",
    "    lasso_model.fit(X_train, y_train)\n",
    "    katsayilar.append(lasso_model.coef_)\n",
    "    \n",
    "ax = plt.gca()\n",
    "ax.plot(lambdalar, katsayilar)\n",
    "ax.set_xscale(\"log\")\n",
    "\n",
    "plt.axis(\"tight\")\n",
    "plt.xlabel(\"lambda(Alpha) Değerleri\")\n",
    "plt.ylabel(\"Katsayılar / Ağırlıklar\")\n",
    "plt.title(\"Düzenlileştirmenin Bir Fonksiyonu Olarak Lasso Katsayıları\");"
   ]
  },
  {
   "cell_type": "code",
   "execution_count": 4,
   "metadata": {},
   "outputs": [
    {
     "data": {
      "text/plain": [
       "Lasso(alpha=0.05, copy_X=True, fit_intercept=True, max_iter=1000,\n",
       "      normalize=False, positive=False, precompute=False, random_state=None,\n",
       "      selection='cyclic', tol=0.0001, warm_start=False)"
      ]
     },
     "execution_count": 4,
     "metadata": {},
     "output_type": "execute_result"
    }
   ],
   "source": [
    "lasso_model"
   ]
  },
  {
   "cell_type": "markdown",
   "metadata": {},
   "source": [
    "## eğitim seti için bulunan hata;"
   ]
  },
  {
   "cell_type": "code",
   "execution_count": 13,
   "metadata": {},
   "outputs": [
    {
     "data": {
      "text/plain": [
       "array([ 378.24555009,  781.72181162,  494.65256702,  116.63494831,\n",
       "        425.08084478, 1003.98297497,  155.59854548,  362.0201954 ,\n",
       "        487.4977061 ,  919.18156386, 1619.29045745,  817.26812936,\n",
       "        922.92577353,  743.13008575,  651.17249672,  705.08968291,\n",
       "       1135.03495476,   39.10666711,  212.11885202,  407.93814153,\n",
       "        712.58179197, 1085.87714264,  475.72540792,  391.85173212,\n",
       "         12.7337238 ,  774.81323108,  563.56499468,  180.49923467,\n",
       "        336.54581991,  323.23053117,  207.06834209,  503.44562205,\n",
       "        950.64673428,  298.05589366,  482.70416397,  422.73609423,\n",
       "        427.03138195,  669.19972381,  297.62651746,  203.81851443,\n",
       "        213.5040927 ,  318.53038545,  202.98986676,  132.68308885,\n",
       "        225.20744117, 1091.51854628,  330.20320844,  529.59736394,\n",
       "        340.91758231,  323.48390665,  538.83290418,  444.98553226,\n",
       "        332.07431966,  451.440059  ,  654.87819369,  280.53981463,\n",
       "        451.44037388,  703.77805192,  276.64381467, 1536.22138621,\n",
       "        296.62551117,  167.42857651,  203.46719179,  225.47455327,\n",
       "        194.1613883 ,  748.948422  ,  118.95952192,  419.62669052,\n",
       "        279.09620242,  317.17375171,  280.96966079,  877.87191825,\n",
       "        743.49885945,  721.89347482, 1486.26558595,  435.49117987,\n",
       "        584.86975258,  517.5206925 ,  284.88343193, 1043.35418934,\n",
       "        661.3915178 ,  518.70523636,  597.48115525,  702.73180838,\n",
       "        129.19156075,  741.10060653,  793.57537901, 1086.76895535,\n",
       "       1114.87108906,  680.38524833,  334.61785914,  185.63727547,\n",
       "       1173.97309247,  193.90163691,  437.79441221, 1251.69226858,\n",
       "       1106.75449124,  462.61426179,  734.58186034,  740.93277446,\n",
       "        355.72015036,  268.2057883 ,  624.27641215, 1319.86082475,\n",
       "        462.67939783, 1328.32324937,  756.57441053,  207.91699683,\n",
       "         22.44325329,  697.50072943,  736.280438  ,  453.95917535,\n",
       "        288.20577865,  594.29914995,  505.65078175,  521.12424055,\n",
       "        924.47348438,  705.73496406,  339.74111092,  407.77290647,\n",
       "        588.18911972,  695.87391291, 1118.37188481,  220.95488684,\n",
       "         78.94799586,  439.29346721, 1347.81028097,  163.59445417,\n",
       "        120.69897252,  508.84190676,  912.57376846,  735.84496231,\n",
       "       1095.38066272,  822.91436973,  873.56377194,  282.77364617,\n",
       "        678.35749747,  360.90942802,  266.50756945,  861.24697408,\n",
       "         37.21702257,  382.05362507,  437.02961831,  595.21372338,\n",
       "        215.94553715,  286.22683097,  153.5774169 ,  425.75617541,\n",
       "        465.53272821, 1126.49231649,  190.13173949,   79.99920158,\n",
       "        168.2249845 ,  163.47922666,  849.03354305,  194.58898496,\n",
       "       1050.33152254,   95.00885462,  883.47016511,  557.25405245,\n",
       "        274.08877347,  352.62527449, 1344.12469752,  125.27171419,\n",
       "        536.4678287 ,  725.41122558,  422.89647045,  210.95036349,\n",
       "        696.23127724,  606.60321791,  773.66132283,  266.51874946,\n",
       "        637.2912542 ,  816.64690765,  260.1725717 ,  310.35065974,\n",
       "        364.79408262,  687.96132312,  525.38803819, 1064.28893278,\n",
       "        206.82340222,  471.88550806,  198.30591613,  610.51739719,\n",
       "        481.23046268,  773.42828798,  731.54659812,  556.75057792,\n",
       "        149.97901909,  401.44245764,  160.7010529 ,  829.05193382,\n",
       "       1247.497714  , 1250.15186878,  380.43921196,  734.91293346,\n",
       "        156.66740439])"
      ]
     },
     "execution_count": 13,
     "metadata": {},
     "output_type": "execute_result"
    }
   ],
   "source": [
    "lasso_model.predict(X_train)"
   ]
  },
  {
   "cell_type": "code",
   "execution_count": 14,
   "metadata": {},
   "outputs": [],
   "source": [
    "y_pred_train = lasso_model.predict(X_train)"
   ]
  },
  {
   "cell_type": "code",
   "execution_count": 15,
   "metadata": {},
   "outputs": [
    {
     "data": {
      "text/plain": [
       "289.36546365261916"
      ]
     },
     "execution_count": 15,
     "metadata": {},
     "output_type": "execute_result"
    }
   ],
   "source": [
    "np.sqrt(mean_squared_error(y_train, y_pred_train))"
   ]
  },
  {
   "cell_type": "code",
   "execution_count": 16,
   "metadata": {},
   "outputs": [
    {
     "data": {
      "text/plain": [
       "0.5769017266359919"
      ]
     },
     "execution_count": 16,
     "metadata": {},
     "output_type": "execute_result"
    }
   ],
   "source": [
    "r2_score(y_train, y_pred_train)"
   ]
  },
  {
   "cell_type": "markdown",
   "metadata": {},
   "source": [
    "## test seti için bulunan hata;"
   ]
  },
  {
   "cell_type": "code",
   "execution_count": 17,
   "metadata": {},
   "outputs": [
    {
     "data": {
      "text/plain": [
       "array([ 614.14982527,  702.24948346, 1005.35941383,  414.18636154,\n",
       "        398.62194202,  344.72032181,  665.01871087,  451.53393778,\n",
       "        914.68247641,  644.54335817,  691.51335015,  884.43781331,\n",
       "        209.66949198,  446.22565101,  262.69967716,  499.02774876,\n",
       "        805.35654662,   43.31063189, 1250.51123905,  316.15184775,\n",
       "        422.75902054,  743.21089697,  572.90881204,  655.16514444,\n",
       "        618.9693712 ,  200.49760677,  882.64104876,  253.95178573,\n",
       "        430.45401488,   83.96658988,  143.45665588,  130.611807  ,\n",
       "        363.66904646,  461.93229622,  273.41371728,  242.76457353,\n",
       "       1324.6394014 ,  107.98893228,  135.65156387,  242.44090219,\n",
       "         51.42164552,  297.64129368,  586.67087292,  398.73526763,\n",
       "        763.62022274,  688.87585656,  343.92093223,  245.77587296,\n",
       "        254.94522977,  662.72930214,  766.0147892 ,  313.59132753,\n",
       "        765.79474854,  189.58319561,  284.14297318,  590.04290744,\n",
       "        663.38765516,  803.12409197,  164.93677099, 1170.25024454,\n",
       "       1672.86894077,  412.25746199,  993.68555224,  486.93029086,\n",
       "        567.34071229,  188.29936892])"
      ]
     },
     "execution_count": 17,
     "metadata": {},
     "output_type": "execute_result"
    }
   ],
   "source": [
    "lasso_model.predict(X_test)"
   ]
  },
  {
   "cell_type": "code",
   "execution_count": 18,
   "metadata": {},
   "outputs": [],
   "source": [
    "y_pred_test = lasso_model.predict(X_test)"
   ]
  },
  {
   "cell_type": "code",
   "execution_count": 19,
   "metadata": {},
   "outputs": [
    {
     "data": {
      "text/plain": [
       "356.79561756210836"
      ]
     },
     "execution_count": 19,
     "metadata": {},
     "output_type": "execute_result"
    }
   ],
   "source": [
    "np.sqrt(mean_squared_error(y_test, y_pred_test))"
   ]
  },
  {
   "cell_type": "code",
   "execution_count": 20,
   "metadata": {},
   "outputs": [
    {
     "data": {
      "text/plain": [
       "0.4119292481388006"
      ]
     },
     "execution_count": 20,
     "metadata": {},
     "output_type": "execute_result"
    }
   ],
   "source": [
    "r2_score(y_test, y_pred_test)"
   ]
  },
  {
   "cell_type": "code",
   "execution_count": null,
   "metadata": {},
   "outputs": [],
   "source": []
  }
 ],
 "metadata": {
  "kernelspec": {
   "display_name": "Python 3",
   "language": "python",
   "name": "python3"
  },
  "language_info": {
   "codemirror_mode": {
    "name": "ipython",
    "version": 3
   },
   "file_extension": ".py",
   "mimetype": "text/x-python",
   "name": "python",
   "nbconvert_exporter": "python",
   "pygments_lexer": "ipython3",
   "version": "3.7.3"
  }
 },
 "nbformat": 4,
 "nbformat_minor": 2
}
