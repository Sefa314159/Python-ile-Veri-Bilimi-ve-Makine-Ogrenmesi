{
 "cells": [
  {
   "cell_type": "markdown",
   "metadata": {},
   "source": [
    "# Bagging"
   ]
  },
  {
   "cell_type": "markdown",
   "metadata": {},
   "source": [
    "Temeli, bootstrap yöntemi ile oluşturulan birden fazla karar ağacının, ürettiği tahminlerin bir araya getirilerek değerlendirilmesine dayanır."
   ]
  },
  {
   "cell_type": "markdown",
   "metadata": {},
   "source": [
    "1996, Breiman"
   ]
  },
  {
   "cell_type": "markdown",
   "metadata": {},
   "source": [
    "-------"
   ]
  },
  {
   "cell_type": "markdown",
   "metadata": {},
   "source": [
    "# 1. Model (Bagged)"
   ]
  },
  {
   "cell_type": "code",
   "execution_count": 1,
   "metadata": {},
   "outputs": [],
   "source": [
    "import numpy as np\n",
    "import pandas as pd\n",
    "import matplotlib.pyplot as plt\n",
    "from sklearn.model_selection import train_test_split, GridSearchCV,cross_val_score\n",
    "from sklearn.metrics import mean_squared_error, r2_score\n",
    "from sklearn.preprocessing import scale \n",
    "from sklearn import model_selection\n",
    "from sklearn.tree import DecisionTreeRegressor, DecisionTreeClassifier\n",
    "from sklearn.neighbors import KNeighborsRegressor\n",
    "from sklearn.ensemble import BaggingRegressor\n",
    "from sklearn.svm import SVR\n",
    "from sklearn.linear_model import LinearRegression\n",
    "from sklearn.preprocessing import StandardScaler\n",
    "from sklearn.neural_network import MLPRegressor\n",
    "\n",
    "from warnings import filterwarnings\n",
    "filterwarnings('ignore')"
   ]
  },
  {
   "cell_type": "code",
   "execution_count": 2,
   "metadata": {},
   "outputs": [
    {
     "data": {
      "text/html": [
       "<div>\n",
       "<style scoped>\n",
       "    .dataframe tbody tr th:only-of-type {\n",
       "        vertical-align: middle;\n",
       "    }\n",
       "\n",
       "    .dataframe tbody tr th {\n",
       "        vertical-align: top;\n",
       "    }\n",
       "\n",
       "    .dataframe thead th {\n",
       "        text-align: right;\n",
       "    }\n",
       "</style>\n",
       "<table border=\"1\" class=\"dataframe\">\n",
       "  <thead>\n",
       "    <tr style=\"text-align: right;\">\n",
       "      <th></th>\n",
       "      <th>AtBat</th>\n",
       "      <th>Hits</th>\n",
       "      <th>HmRun</th>\n",
       "      <th>Runs</th>\n",
       "      <th>RBI</th>\n",
       "      <th>Walks</th>\n",
       "      <th>Years</th>\n",
       "      <th>CAtBat</th>\n",
       "      <th>CHits</th>\n",
       "      <th>CHmRun</th>\n",
       "      <th>CRuns</th>\n",
       "      <th>CRBI</th>\n",
       "      <th>CWalks</th>\n",
       "      <th>League</th>\n",
       "      <th>Division</th>\n",
       "      <th>PutOuts</th>\n",
       "      <th>Assists</th>\n",
       "      <th>Errors</th>\n",
       "      <th>Salary</th>\n",
       "      <th>NewLeague</th>\n",
       "    </tr>\n",
       "  </thead>\n",
       "  <tbody>\n",
       "    <tr>\n",
       "      <th>1</th>\n",
       "      <td>315</td>\n",
       "      <td>81</td>\n",
       "      <td>7</td>\n",
       "      <td>24</td>\n",
       "      <td>38</td>\n",
       "      <td>39</td>\n",
       "      <td>14</td>\n",
       "      <td>3449</td>\n",
       "      <td>835</td>\n",
       "      <td>69</td>\n",
       "      <td>321</td>\n",
       "      <td>414</td>\n",
       "      <td>375</td>\n",
       "      <td>N</td>\n",
       "      <td>W</td>\n",
       "      <td>632</td>\n",
       "      <td>43</td>\n",
       "      <td>10</td>\n",
       "      <td>475.0</td>\n",
       "      <td>N</td>\n",
       "    </tr>\n",
       "    <tr>\n",
       "      <th>2</th>\n",
       "      <td>479</td>\n",
       "      <td>130</td>\n",
       "      <td>18</td>\n",
       "      <td>66</td>\n",
       "      <td>72</td>\n",
       "      <td>76</td>\n",
       "      <td>3</td>\n",
       "      <td>1624</td>\n",
       "      <td>457</td>\n",
       "      <td>63</td>\n",
       "      <td>224</td>\n",
       "      <td>266</td>\n",
       "      <td>263</td>\n",
       "      <td>A</td>\n",
       "      <td>W</td>\n",
       "      <td>880</td>\n",
       "      <td>82</td>\n",
       "      <td>14</td>\n",
       "      <td>480.0</td>\n",
       "      <td>A</td>\n",
       "    </tr>\n",
       "    <tr>\n",
       "      <th>3</th>\n",
       "      <td>496</td>\n",
       "      <td>141</td>\n",
       "      <td>20</td>\n",
       "      <td>65</td>\n",
       "      <td>78</td>\n",
       "      <td>37</td>\n",
       "      <td>11</td>\n",
       "      <td>5628</td>\n",
       "      <td>1575</td>\n",
       "      <td>225</td>\n",
       "      <td>828</td>\n",
       "      <td>838</td>\n",
       "      <td>354</td>\n",
       "      <td>N</td>\n",
       "      <td>E</td>\n",
       "      <td>200</td>\n",
       "      <td>11</td>\n",
       "      <td>3</td>\n",
       "      <td>500.0</td>\n",
       "      <td>N</td>\n",
       "    </tr>\n",
       "    <tr>\n",
       "      <th>4</th>\n",
       "      <td>321</td>\n",
       "      <td>87</td>\n",
       "      <td>10</td>\n",
       "      <td>39</td>\n",
       "      <td>42</td>\n",
       "      <td>30</td>\n",
       "      <td>2</td>\n",
       "      <td>396</td>\n",
       "      <td>101</td>\n",
       "      <td>12</td>\n",
       "      <td>48</td>\n",
       "      <td>46</td>\n",
       "      <td>33</td>\n",
       "      <td>N</td>\n",
       "      <td>E</td>\n",
       "      <td>805</td>\n",
       "      <td>40</td>\n",
       "      <td>4</td>\n",
       "      <td>91.5</td>\n",
       "      <td>N</td>\n",
       "    </tr>\n",
       "    <tr>\n",
       "      <th>5</th>\n",
       "      <td>594</td>\n",
       "      <td>169</td>\n",
       "      <td>4</td>\n",
       "      <td>74</td>\n",
       "      <td>51</td>\n",
       "      <td>35</td>\n",
       "      <td>11</td>\n",
       "      <td>4408</td>\n",
       "      <td>1133</td>\n",
       "      <td>19</td>\n",
       "      <td>501</td>\n",
       "      <td>336</td>\n",
       "      <td>194</td>\n",
       "      <td>A</td>\n",
       "      <td>W</td>\n",
       "      <td>282</td>\n",
       "      <td>421</td>\n",
       "      <td>25</td>\n",
       "      <td>750.0</td>\n",
       "      <td>A</td>\n",
       "    </tr>\n",
       "  </tbody>\n",
       "</table>\n",
       "</div>"
      ],
      "text/plain": [
       "   AtBat  Hits  HmRun  Runs  RBI  Walks  Years  CAtBat  CHits  CHmRun  CRuns  \\\n",
       "1    315    81      7    24   38     39     14    3449    835      69    321   \n",
       "2    479   130     18    66   72     76      3    1624    457      63    224   \n",
       "3    496   141     20    65   78     37     11    5628   1575     225    828   \n",
       "4    321    87     10    39   42     30      2     396    101      12     48   \n",
       "5    594   169      4    74   51     35     11    4408   1133      19    501   \n",
       "\n",
       "   CRBI  CWalks League Division  PutOuts  Assists  Errors  Salary NewLeague  \n",
       "1   414     375      N        W      632       43      10   475.0         N  \n",
       "2   266     263      A        W      880       82      14   480.0         A  \n",
       "3   838     354      N        E      200       11       3   500.0         N  \n",
       "4    46      33      N        E      805       40       4    91.5         N  \n",
       "5   336     194      A        W      282      421      25   750.0         A  "
      ]
     },
     "execution_count": 2,
     "metadata": {},
     "output_type": "execute_result"
    }
   ],
   "source": [
    "hit = pd.read_csv(\"Hitters.csv\")\n",
    "\n",
    "df = hit.copy()\n",
    "\n",
    "df = df.dropna()\n",
    "\n",
    "df.head()"
   ]
  },
  {
   "cell_type": "code",
   "execution_count": 3,
   "metadata": {},
   "outputs": [
    {
     "data": {
      "text/html": [
       "<div>\n",
       "<style scoped>\n",
       "    .dataframe tbody tr th:only-of-type {\n",
       "        vertical-align: middle;\n",
       "    }\n",
       "\n",
       "    .dataframe tbody tr th {\n",
       "        vertical-align: top;\n",
       "    }\n",
       "\n",
       "    .dataframe thead th {\n",
       "        text-align: right;\n",
       "    }\n",
       "</style>\n",
       "<table border=\"1\" class=\"dataframe\">\n",
       "  <thead>\n",
       "    <tr style=\"text-align: right;\">\n",
       "      <th></th>\n",
       "      <th>League_A</th>\n",
       "      <th>League_N</th>\n",
       "      <th>Division_E</th>\n",
       "      <th>Division_W</th>\n",
       "      <th>NewLeague_A</th>\n",
       "      <th>NewLeague_N</th>\n",
       "    </tr>\n",
       "  </thead>\n",
       "  <tbody>\n",
       "    <tr>\n",
       "      <th>1</th>\n",
       "      <td>0</td>\n",
       "      <td>1</td>\n",
       "      <td>0</td>\n",
       "      <td>1</td>\n",
       "      <td>0</td>\n",
       "      <td>1</td>\n",
       "    </tr>\n",
       "    <tr>\n",
       "      <th>2</th>\n",
       "      <td>1</td>\n",
       "      <td>0</td>\n",
       "      <td>0</td>\n",
       "      <td>1</td>\n",
       "      <td>1</td>\n",
       "      <td>0</td>\n",
       "    </tr>\n",
       "    <tr>\n",
       "      <th>3</th>\n",
       "      <td>0</td>\n",
       "      <td>1</td>\n",
       "      <td>1</td>\n",
       "      <td>0</td>\n",
       "      <td>0</td>\n",
       "      <td>1</td>\n",
       "    </tr>\n",
       "    <tr>\n",
       "      <th>4</th>\n",
       "      <td>0</td>\n",
       "      <td>1</td>\n",
       "      <td>1</td>\n",
       "      <td>0</td>\n",
       "      <td>0</td>\n",
       "      <td>1</td>\n",
       "    </tr>\n",
       "    <tr>\n",
       "      <th>5</th>\n",
       "      <td>1</td>\n",
       "      <td>0</td>\n",
       "      <td>0</td>\n",
       "      <td>1</td>\n",
       "      <td>1</td>\n",
       "      <td>0</td>\n",
       "    </tr>\n",
       "  </tbody>\n",
       "</table>\n",
       "</div>"
      ],
      "text/plain": [
       "   League_A  League_N  Division_E  Division_W  NewLeague_A  NewLeague_N\n",
       "1         0         1           0           1            0            1\n",
       "2         1         0           0           1            1            0\n",
       "3         0         1           1           0            0            1\n",
       "4         0         1           1           0            0            1\n",
       "5         1         0           0           1            1            0"
      ]
     },
     "execution_count": 3,
     "metadata": {},
     "output_type": "execute_result"
    }
   ],
   "source": [
    "dms = pd.get_dummies(df[[\"League\", \"Division\", \"NewLeague\"]])\n",
    "\n",
    "dms.head()"
   ]
  },
  {
   "cell_type": "code",
   "execution_count": 4,
   "metadata": {},
   "outputs": [
    {
     "data": {
      "text/html": [
       "<div>\n",
       "<style scoped>\n",
       "    .dataframe tbody tr th:only-of-type {\n",
       "        vertical-align: middle;\n",
       "    }\n",
       "\n",
       "    .dataframe tbody tr th {\n",
       "        vertical-align: top;\n",
       "    }\n",
       "\n",
       "    .dataframe thead th {\n",
       "        text-align: right;\n",
       "    }\n",
       "</style>\n",
       "<table border=\"1\" class=\"dataframe\">\n",
       "  <thead>\n",
       "    <tr style=\"text-align: right;\">\n",
       "      <th></th>\n",
       "      <th>AtBat</th>\n",
       "      <th>Hits</th>\n",
       "      <th>HmRun</th>\n",
       "      <th>Runs</th>\n",
       "      <th>RBI</th>\n",
       "      <th>Walks</th>\n",
       "      <th>Years</th>\n",
       "      <th>CAtBat</th>\n",
       "      <th>CHits</th>\n",
       "      <th>CHmRun</th>\n",
       "      <th>CRuns</th>\n",
       "      <th>CRBI</th>\n",
       "      <th>CWalks</th>\n",
       "      <th>PutOuts</th>\n",
       "      <th>Assists</th>\n",
       "      <th>Errors</th>\n",
       "    </tr>\n",
       "  </thead>\n",
       "  <tbody>\n",
       "    <tr>\n",
       "      <th>1</th>\n",
       "      <td>315.0</td>\n",
       "      <td>81.0</td>\n",
       "      <td>7.0</td>\n",
       "      <td>24.0</td>\n",
       "      <td>38.0</td>\n",
       "      <td>39.0</td>\n",
       "      <td>14.0</td>\n",
       "      <td>3449.0</td>\n",
       "      <td>835.0</td>\n",
       "      <td>69.0</td>\n",
       "      <td>321.0</td>\n",
       "      <td>414.0</td>\n",
       "      <td>375.0</td>\n",
       "      <td>632.0</td>\n",
       "      <td>43.0</td>\n",
       "      <td>10.0</td>\n",
       "    </tr>\n",
       "    <tr>\n",
       "      <th>2</th>\n",
       "      <td>479.0</td>\n",
       "      <td>130.0</td>\n",
       "      <td>18.0</td>\n",
       "      <td>66.0</td>\n",
       "      <td>72.0</td>\n",
       "      <td>76.0</td>\n",
       "      <td>3.0</td>\n",
       "      <td>1624.0</td>\n",
       "      <td>457.0</td>\n",
       "      <td>63.0</td>\n",
       "      <td>224.0</td>\n",
       "      <td>266.0</td>\n",
       "      <td>263.0</td>\n",
       "      <td>880.0</td>\n",
       "      <td>82.0</td>\n",
       "      <td>14.0</td>\n",
       "    </tr>\n",
       "    <tr>\n",
       "      <th>3</th>\n",
       "      <td>496.0</td>\n",
       "      <td>141.0</td>\n",
       "      <td>20.0</td>\n",
       "      <td>65.0</td>\n",
       "      <td>78.0</td>\n",
       "      <td>37.0</td>\n",
       "      <td>11.0</td>\n",
       "      <td>5628.0</td>\n",
       "      <td>1575.0</td>\n",
       "      <td>225.0</td>\n",
       "      <td>828.0</td>\n",
       "      <td>838.0</td>\n",
       "      <td>354.0</td>\n",
       "      <td>200.0</td>\n",
       "      <td>11.0</td>\n",
       "      <td>3.0</td>\n",
       "    </tr>\n",
       "    <tr>\n",
       "      <th>4</th>\n",
       "      <td>321.0</td>\n",
       "      <td>87.0</td>\n",
       "      <td>10.0</td>\n",
       "      <td>39.0</td>\n",
       "      <td>42.0</td>\n",
       "      <td>30.0</td>\n",
       "      <td>2.0</td>\n",
       "      <td>396.0</td>\n",
       "      <td>101.0</td>\n",
       "      <td>12.0</td>\n",
       "      <td>48.0</td>\n",
       "      <td>46.0</td>\n",
       "      <td>33.0</td>\n",
       "      <td>805.0</td>\n",
       "      <td>40.0</td>\n",
       "      <td>4.0</td>\n",
       "    </tr>\n",
       "    <tr>\n",
       "      <th>5</th>\n",
       "      <td>594.0</td>\n",
       "      <td>169.0</td>\n",
       "      <td>4.0</td>\n",
       "      <td>74.0</td>\n",
       "      <td>51.0</td>\n",
       "      <td>35.0</td>\n",
       "      <td>11.0</td>\n",
       "      <td>4408.0</td>\n",
       "      <td>1133.0</td>\n",
       "      <td>19.0</td>\n",
       "      <td>501.0</td>\n",
       "      <td>336.0</td>\n",
       "      <td>194.0</td>\n",
       "      <td>282.0</td>\n",
       "      <td>421.0</td>\n",
       "      <td>25.0</td>\n",
       "    </tr>\n",
       "  </tbody>\n",
       "</table>\n",
       "</div>"
      ],
      "text/plain": [
       "   AtBat   Hits  HmRun  Runs   RBI  Walks  Years  CAtBat   CHits  CHmRun  \\\n",
       "1  315.0   81.0    7.0  24.0  38.0   39.0   14.0  3449.0   835.0    69.0   \n",
       "2  479.0  130.0   18.0  66.0  72.0   76.0    3.0  1624.0   457.0    63.0   \n",
       "3  496.0  141.0   20.0  65.0  78.0   37.0   11.0  5628.0  1575.0   225.0   \n",
       "4  321.0   87.0   10.0  39.0  42.0   30.0    2.0   396.0   101.0    12.0   \n",
       "5  594.0  169.0    4.0  74.0  51.0   35.0   11.0  4408.0  1133.0    19.0   \n",
       "\n",
       "   CRuns   CRBI  CWalks  PutOuts  Assists  Errors  \n",
       "1  321.0  414.0   375.0    632.0     43.0    10.0  \n",
       "2  224.0  266.0   263.0    880.0     82.0    14.0  \n",
       "3  828.0  838.0   354.0    200.0     11.0     3.0  \n",
       "4   48.0   46.0    33.0    805.0     40.0     4.0  \n",
       "5  501.0  336.0   194.0    282.0    421.0    25.0  "
      ]
     },
     "execution_count": 4,
     "metadata": {},
     "output_type": "execute_result"
    }
   ],
   "source": [
    "X_ = df.drop([\"Salary\", \"League\", \"Division\", \"NewLeague\"], axis = 1).astype(\"float64\")\n",
    "\n",
    "X_.head()"
   ]
  },
  {
   "cell_type": "code",
   "execution_count": 5,
   "metadata": {},
   "outputs": [
    {
     "data": {
      "text/html": [
       "<div>\n",
       "<style scoped>\n",
       "    .dataframe tbody tr th:only-of-type {\n",
       "        vertical-align: middle;\n",
       "    }\n",
       "\n",
       "    .dataframe tbody tr th {\n",
       "        vertical-align: top;\n",
       "    }\n",
       "\n",
       "    .dataframe thead th {\n",
       "        text-align: right;\n",
       "    }\n",
       "</style>\n",
       "<table border=\"1\" class=\"dataframe\">\n",
       "  <thead>\n",
       "    <tr style=\"text-align: right;\">\n",
       "      <th></th>\n",
       "      <th>AtBat</th>\n",
       "      <th>Hits</th>\n",
       "      <th>HmRun</th>\n",
       "      <th>Runs</th>\n",
       "      <th>RBI</th>\n",
       "      <th>Walks</th>\n",
       "      <th>Years</th>\n",
       "      <th>CAtBat</th>\n",
       "      <th>CHits</th>\n",
       "      <th>CHmRun</th>\n",
       "      <th>CRuns</th>\n",
       "      <th>CRBI</th>\n",
       "      <th>CWalks</th>\n",
       "      <th>PutOuts</th>\n",
       "      <th>Assists</th>\n",
       "      <th>Errors</th>\n",
       "      <th>League_N</th>\n",
       "      <th>Division_W</th>\n",
       "      <th>NewLeague_N</th>\n",
       "    </tr>\n",
       "  </thead>\n",
       "  <tbody>\n",
       "    <tr>\n",
       "      <th>1</th>\n",
       "      <td>315.0</td>\n",
       "      <td>81.0</td>\n",
       "      <td>7.0</td>\n",
       "      <td>24.0</td>\n",
       "      <td>38.0</td>\n",
       "      <td>39.0</td>\n",
       "      <td>14.0</td>\n",
       "      <td>3449.0</td>\n",
       "      <td>835.0</td>\n",
       "      <td>69.0</td>\n",
       "      <td>321.0</td>\n",
       "      <td>414.0</td>\n",
       "      <td>375.0</td>\n",
       "      <td>632.0</td>\n",
       "      <td>43.0</td>\n",
       "      <td>10.0</td>\n",
       "      <td>1</td>\n",
       "      <td>1</td>\n",
       "      <td>1</td>\n",
       "    </tr>\n",
       "    <tr>\n",
       "      <th>2</th>\n",
       "      <td>479.0</td>\n",
       "      <td>130.0</td>\n",
       "      <td>18.0</td>\n",
       "      <td>66.0</td>\n",
       "      <td>72.0</td>\n",
       "      <td>76.0</td>\n",
       "      <td>3.0</td>\n",
       "      <td>1624.0</td>\n",
       "      <td>457.0</td>\n",
       "      <td>63.0</td>\n",
       "      <td>224.0</td>\n",
       "      <td>266.0</td>\n",
       "      <td>263.0</td>\n",
       "      <td>880.0</td>\n",
       "      <td>82.0</td>\n",
       "      <td>14.0</td>\n",
       "      <td>0</td>\n",
       "      <td>1</td>\n",
       "      <td>0</td>\n",
       "    </tr>\n",
       "    <tr>\n",
       "      <th>3</th>\n",
       "      <td>496.0</td>\n",
       "      <td>141.0</td>\n",
       "      <td>20.0</td>\n",
       "      <td>65.0</td>\n",
       "      <td>78.0</td>\n",
       "      <td>37.0</td>\n",
       "      <td>11.0</td>\n",
       "      <td>5628.0</td>\n",
       "      <td>1575.0</td>\n",
       "      <td>225.0</td>\n",
       "      <td>828.0</td>\n",
       "      <td>838.0</td>\n",
       "      <td>354.0</td>\n",
       "      <td>200.0</td>\n",
       "      <td>11.0</td>\n",
       "      <td>3.0</td>\n",
       "      <td>1</td>\n",
       "      <td>0</td>\n",
       "      <td>1</td>\n",
       "    </tr>\n",
       "    <tr>\n",
       "      <th>4</th>\n",
       "      <td>321.0</td>\n",
       "      <td>87.0</td>\n",
       "      <td>10.0</td>\n",
       "      <td>39.0</td>\n",
       "      <td>42.0</td>\n",
       "      <td>30.0</td>\n",
       "      <td>2.0</td>\n",
       "      <td>396.0</td>\n",
       "      <td>101.0</td>\n",
       "      <td>12.0</td>\n",
       "      <td>48.0</td>\n",
       "      <td>46.0</td>\n",
       "      <td>33.0</td>\n",
       "      <td>805.0</td>\n",
       "      <td>40.0</td>\n",
       "      <td>4.0</td>\n",
       "      <td>1</td>\n",
       "      <td>0</td>\n",
       "      <td>1</td>\n",
       "    </tr>\n",
       "    <tr>\n",
       "      <th>5</th>\n",
       "      <td>594.0</td>\n",
       "      <td>169.0</td>\n",
       "      <td>4.0</td>\n",
       "      <td>74.0</td>\n",
       "      <td>51.0</td>\n",
       "      <td>35.0</td>\n",
       "      <td>11.0</td>\n",
       "      <td>4408.0</td>\n",
       "      <td>1133.0</td>\n",
       "      <td>19.0</td>\n",
       "      <td>501.0</td>\n",
       "      <td>336.0</td>\n",
       "      <td>194.0</td>\n",
       "      <td>282.0</td>\n",
       "      <td>421.0</td>\n",
       "      <td>25.0</td>\n",
       "      <td>0</td>\n",
       "      <td>1</td>\n",
       "      <td>0</td>\n",
       "    </tr>\n",
       "  </tbody>\n",
       "</table>\n",
       "</div>"
      ],
      "text/plain": [
       "   AtBat   Hits  HmRun  Runs   RBI  Walks  Years  CAtBat   CHits  CHmRun  \\\n",
       "1  315.0   81.0    7.0  24.0  38.0   39.0   14.0  3449.0   835.0    69.0   \n",
       "2  479.0  130.0   18.0  66.0  72.0   76.0    3.0  1624.0   457.0    63.0   \n",
       "3  496.0  141.0   20.0  65.0  78.0   37.0   11.0  5628.0  1575.0   225.0   \n",
       "4  321.0   87.0   10.0  39.0  42.0   30.0    2.0   396.0   101.0    12.0   \n",
       "5  594.0  169.0    4.0  74.0  51.0   35.0   11.0  4408.0  1133.0    19.0   \n",
       "\n",
       "   CRuns   CRBI  CWalks  PutOuts  Assists  Errors  League_N  Division_W  \\\n",
       "1  321.0  414.0   375.0    632.0     43.0    10.0         1           1   \n",
       "2  224.0  266.0   263.0    880.0     82.0    14.0         0           1   \n",
       "3  828.0  838.0   354.0    200.0     11.0     3.0         1           0   \n",
       "4   48.0   46.0    33.0    805.0     40.0     4.0         1           0   \n",
       "5  501.0  336.0   194.0    282.0    421.0    25.0         0           1   \n",
       "\n",
       "   NewLeague_N  \n",
       "1            1  \n",
       "2            0  \n",
       "3            1  \n",
       "4            1  \n",
       "5            0  "
      ]
     },
     "execution_count": 5,
     "metadata": {},
     "output_type": "execute_result"
    }
   ],
   "source": [
    "X = pd.concat([X_, dms[[\"League_N\", \"Division_W\", \"NewLeague_N\"]]], axis = 1)\n",
    "\n",
    "X.head()"
   ]
  },
  {
   "cell_type": "code",
   "execution_count": 6,
   "metadata": {},
   "outputs": [
    {
     "data": {
      "text/plain": [
       "1    475.0\n",
       "2    480.0\n",
       "3    500.0\n",
       "4     91.5\n",
       "5    750.0\n",
       "Name: Salary, dtype: float64"
      ]
     },
     "execution_count": 6,
     "metadata": {},
     "output_type": "execute_result"
    }
   ],
   "source": [
    "y = df[\"Salary\"]\n",
    "\n",
    "y.head()"
   ]
  },
  {
   "cell_type": "code",
   "execution_count": 7,
   "metadata": {},
   "outputs": [],
   "source": [
    "X_train, X_test, y_train, y_test = train_test_split(X, y, test_size = 0.25, random_state = 42)"
   ]
  },
  {
   "cell_type": "code",
   "execution_count": 8,
   "metadata": {},
   "outputs": [
    {
     "data": {
      "text/plain": [
       "BaggingRegressor(base_estimator=None, bootstrap=True, bootstrap_features=True,\n",
       "                 max_features=1.0, max_samples=1.0, n_estimators=10,\n",
       "                 n_jobs=None, oob_score=False, random_state=None, verbose=0,\n",
       "                 warm_start=False)"
      ]
     },
     "execution_count": 8,
     "metadata": {},
     "output_type": "execute_result"
    }
   ],
   "source": [
    "bag_model = BaggingRegressor(bootstrap_features = True)\n",
    "\n",
    "bag_model.fit(X_train, y_train)"
   ]
  },
  {
   "cell_type": "code",
   "execution_count": 9,
   "metadata": {},
   "outputs": [
    {
     "data": {
      "text/plain": [
       "10"
      ]
     },
     "execution_count": 9,
     "metadata": {},
     "output_type": "execute_result"
    }
   ],
   "source": [
    "bag_model.n_estimators"
   ]
  },
  {
   "cell_type": "code",
   "execution_count": 10,
   "metadata": {},
   "outputs": [
    {
     "data": {
      "text/plain": [
       "[DecisionTreeRegressor(criterion='mse', max_depth=None, max_features=None,\n",
       "                       max_leaf_nodes=None, min_impurity_decrease=0.0,\n",
       "                       min_impurity_split=None, min_samples_leaf=1,\n",
       "                       min_samples_split=2, min_weight_fraction_leaf=0.0,\n",
       "                       presort=False, random_state=766210766, splitter='best'),\n",
       " DecisionTreeRegressor(criterion='mse', max_depth=None, max_features=None,\n",
       "                       max_leaf_nodes=None, min_impurity_decrease=0.0,\n",
       "                       min_impurity_split=None, min_samples_leaf=1,\n",
       "                       min_samples_split=2, min_weight_fraction_leaf=0.0,\n",
       "                       presort=False, random_state=1499816503, splitter='best'),\n",
       " DecisionTreeRegressor(criterion='mse', max_depth=None, max_features=None,\n",
       "                       max_leaf_nodes=None, min_impurity_decrease=0.0,\n",
       "                       min_impurity_split=None, min_samples_leaf=1,\n",
       "                       min_samples_split=2, min_weight_fraction_leaf=0.0,\n",
       "                       presort=False, random_state=887029455, splitter='best'),\n",
       " DecisionTreeRegressor(criterion='mse', max_depth=None, max_features=None,\n",
       "                       max_leaf_nodes=None, min_impurity_decrease=0.0,\n",
       "                       min_impurity_split=None, min_samples_leaf=1,\n",
       "                       min_samples_split=2, min_weight_fraction_leaf=0.0,\n",
       "                       presort=False, random_state=1171432629, splitter='best'),\n",
       " DecisionTreeRegressor(criterion='mse', max_depth=None, max_features=None,\n",
       "                       max_leaf_nodes=None, min_impurity_decrease=0.0,\n",
       "                       min_impurity_split=None, min_samples_leaf=1,\n",
       "                       min_samples_split=2, min_weight_fraction_leaf=0.0,\n",
       "                       presort=False, random_state=1963306343, splitter='best'),\n",
       " DecisionTreeRegressor(criterion='mse', max_depth=None, max_features=None,\n",
       "                       max_leaf_nodes=None, min_impurity_decrease=0.0,\n",
       "                       min_impurity_split=None, min_samples_leaf=1,\n",
       "                       min_samples_split=2, min_weight_fraction_leaf=0.0,\n",
       "                       presort=False, random_state=154781435, splitter='best'),\n",
       " DecisionTreeRegressor(criterion='mse', max_depth=None, max_features=None,\n",
       "                       max_leaf_nodes=None, min_impurity_decrease=0.0,\n",
       "                       min_impurity_split=None, min_samples_leaf=1,\n",
       "                       min_samples_split=2, min_weight_fraction_leaf=0.0,\n",
       "                       presort=False, random_state=2056611537, splitter='best'),\n",
       " DecisionTreeRegressor(criterion='mse', max_depth=None, max_features=None,\n",
       "                       max_leaf_nodes=None, min_impurity_decrease=0.0,\n",
       "                       min_impurity_split=None, min_samples_leaf=1,\n",
       "                       min_samples_split=2, min_weight_fraction_leaf=0.0,\n",
       "                       presort=False, random_state=630352112, splitter='best'),\n",
       " DecisionTreeRegressor(criterion='mse', max_depth=None, max_features=None,\n",
       "                       max_leaf_nodes=None, min_impurity_decrease=0.0,\n",
       "                       min_impurity_split=None, min_samples_leaf=1,\n",
       "                       min_samples_split=2, min_weight_fraction_leaf=0.0,\n",
       "                       presort=False, random_state=1151393589, splitter='best'),\n",
       " DecisionTreeRegressor(criterion='mse', max_depth=None, max_features=None,\n",
       "                       max_leaf_nodes=None, min_impurity_decrease=0.0,\n",
       "                       min_impurity_split=None, min_samples_leaf=1,\n",
       "                       min_samples_split=2, min_weight_fraction_leaf=0.0,\n",
       "                       presort=False, random_state=464146643, splitter='best')]"
      ]
     },
     "execution_count": 10,
     "metadata": {},
     "output_type": "execute_result"
    }
   ],
   "source": [
    "bag_model.estimators_ # birbirinden farklı 10 adet ağaç 'fit' edilmiş."
   ]
  },
  {
   "cell_type": "code",
   "execution_count": 14,
   "metadata": {},
   "outputs": [
    {
     "data": {
      "text/plain": [
       "[array([ 29, 126, 112, 160,  50,  77,   3, 116, 183, 160, 143, 111, 133,\n",
       "        126,  63, 110,  91,  10, 138,  79,  23,  71,  73,  21,  93,  39,\n",
       "        107,  55, 124,  70,  38, 120, 105,  68,  71,   2, 136,   6,  72,\n",
       "         92,  16,  10,  91, 109, 146, 129, 115, 117, 170,  59,  84, 141,\n",
       "          5,  26, 192,  78,  44, 133, 129, 191, 173,  44, 101, 100, 162,\n",
       "         74, 127, 165,  32,  12, 158,  71,  47,  94, 192, 120,  36,  74,\n",
       "         66, 182,  63, 138, 102,  70, 169,  34, 194, 105,  23, 136, 182,\n",
       "         25, 188,  23, 182,  55, 149,  99,  18,  47, 127, 131,  48, 195,\n",
       "          1,  53, 127,  23, 145,  19, 145, 123,  54, 161,  81,  79, 153,\n",
       "        108, 163, 171, 179,  71, 167, 110, 102, 122,  52,  61,  31,  89,\n",
       "        177, 111, 109,  80,  24, 123,  22, 140,  74,  63,   1,  25, 134,\n",
       "         76,  91,  66,  96,  65,  77, 124, 165, 196, 134, 177, 146,  86,\n",
       "        140,  10,  48, 149,   7,  56,  35,  91,  34, 172,  41, 104, 184,\n",
       "        169, 120, 182, 140,  28, 184,  24, 163,  45, 138, 102, 130,  76,\n",
       "        187,  90,  10,  99,  42,  61,  25, 141,  71, 136, 125, 108, 157,\n",
       "         42,  40]),\n",
       " array([165, 195, 187, 176,  52, 101,  13,  61,  10, 143, 116,  29,  53,\n",
       "        185, 189, 167, 111,   4, 170, 116,  18,  44, 190, 139, 147, 126,\n",
       "        165,   0,  13, 131, 168, 196,  91,  27,  32, 184, 192, 151, 170,\n",
       "        140, 157, 173,  70, 192, 116,  34,  42, 166,  83, 126,  53, 108,\n",
       "         56,  77, 162,  83,   2,  44,  95,  78,  55,  66,  17,  97, 154,\n",
       "         91,  35, 192,  27, 172, 142,  14,  56, 120,  86, 183,  42, 165,\n",
       "        195,  65,  76, 140,  17,  98,   4, 190,  29,  16, 120,  50, 133,\n",
       "        195,  21,   0,  60, 128, 184, 116, 158,  39, 193,   2, 134, 183,\n",
       "        157, 187, 125,  40,  18, 120,  83, 158,  99,   4,   3,  90,  97,\n",
       "         40,  72, 100,  12,  79,  62, 191, 135,  67,  66, 112, 107,  45,\n",
       "        102,  56,  31,  31,  50, 196, 113,  49,   4,  65, 108, 160,  32,\n",
       "         69, 149,  96, 191, 192, 132,  25,  66, 189, 110,  95,  16, 130,\n",
       "         66,  43,  14, 114, 141, 193,  52, 173,   7,  80, 182,  46, 186,\n",
       "        152,  80, 154, 189,  23,  79,  80, 163,  22,   0, 149,  82,  69,\n",
       "         67,  35,  11,  28,  83,  65, 184,  88, 179, 126,  45, 111, 177,\n",
       "         61, 176]),\n",
       " array([108,  54,  19,  68,   2,  43, 129,  80,  15,  76,  96, 102, 136,\n",
       "        175, 171,  93, 122,  23,  37, 177,  45,  17,  12, 111,  98, 114,\n",
       "         63,  25, 196, 156,  30,  70,   3,   4, 144,  42, 194,  93,   0,\n",
       "        119,  13,  48, 135,  48, 125, 120,  10,  64, 180,  68,  64,  27,\n",
       "        190,  72,  72,  54,  67,   7, 125, 128,  90, 123,  11,  67,  52,\n",
       "         77, 178,  13, 135, 188,  81, 184,  28,  74,  87, 123,  85,  60,\n",
       "        195,  41, 169, 140,   4,   1, 183,  35, 186,  80, 167, 142,  58,\n",
       "         15, 159,  81,  16,   7,  28, 136,   6, 116,  68, 145, 189, 124,\n",
       "         77, 126,  50,  98, 147,  28, 166,  61,  43, 106,  62,  82,  88,\n",
       "         85,  26, 132,  49,  50, 127, 116,  16, 188, 143,  61, 166,  48,\n",
       "         72,  25, 114,  49, 184,   3,  40,  25,   3,  88,  29,  87, 140,\n",
       "        133,  33,  54,  49,  61, 136, 194,  47, 145,  69,  55,  10, 162,\n",
       "         52,  40,  19, 161, 127,  28, 160,  88,  12,  94,  22, 169,  15,\n",
       "        186, 136, 105,  77,  21, 150,  54, 118,  22, 167, 106, 186,  56,\n",
       "         63, 193, 189,  86, 180,  71,  86, 164,  71, 132, 160, 117, 193,\n",
       "          0, 130]),\n",
       " array([118, 173, 125,  44,  95,  78,   2,  64, 193, 129, 121, 138, 180,\n",
       "          3, 192, 139, 118, 117,  40,  32, 188,  93,  20,  22,  28, 118,\n",
       "        113,  78, 193,  64,  99, 140,  29,   7, 193, 155, 113, 133, 122,\n",
       "         47,  44,  11, 171, 161,  56,  42,  20, 119, 192,  90, 149, 137,\n",
       "         61,  86,  83, 181, 103, 173, 133, 145,  16, 173,  13,  31, 166,\n",
       "        150,  98,  41, 194, 171,  18, 136,   1,  29,  68,  31,  58, 113,\n",
       "         97,  55, 164,  98,   0,  27,  46,  17, 182,  34, 152, 126,   7,\n",
       "         19,  84, 190, 100, 116, 194, 114, 174,  74,   4,  59, 145,  55,\n",
       "         88, 133,  20,  70,  43,  26, 117,  79, 171,   1, 147, 101,  34,\n",
       "         31, 182, 160,  53,  95,  39,  52,  29, 154, 126, 106,  33,  32,\n",
       "        119,   8, 168, 164,  33,  38, 100,  53, 153,  35,  67, 121, 120,\n",
       "        191, 146,   4,  25,  94, 120, 178,  58,  62,  59, 157,   2, 124,\n",
       "          2,  86, 124, 167,  61, 156, 150, 104, 103,  76, 140,  48, 167,\n",
       "        111, 169, 130,   7, 153,  50,  21, 133,  30, 119, 142, 104,  17,\n",
       "        126,  37,  54,  75,  15, 119, 175,  46, 172, 165, 129,  67, 109,\n",
       "        179,  54]),\n",
       " array([189, 158,  42,  46, 189, 110,  79,  45, 185,  91,  20, 106,  47,\n",
       "         77,  15,  98, 175,  12, 182, 112,  37,  70, 115, 132, 132, 123,\n",
       "        115,   3, 110, 136,  93, 106,  74,  16, 187, 114,  90, 107, 190,\n",
       "         28,  48, 127, 132, 146,  77,  62,  68, 112, 184, 145, 113,  37,\n",
       "        164, 133, 132,  92,  74, 152,  18, 145, 164,  10,  24, 185, 107,\n",
       "         99,  42, 160, 131, 103,  65,   0, 161,  94,  75,  84, 167,  71,\n",
       "         31,  76, 152,  62, 116,  32,  95,  29, 194,   6,  60,  32,  37,\n",
       "        112, 171,  75,   9, 161,  87,  24,  70, 104, 189, 143,  39, 157,\n",
       "        183,  25,  21,  61, 147,   7, 111,   3,  57,   9,  38, 184,  98,\n",
       "        186,  44, 152,   9, 157, 193,  93,  55, 190,  70, 127,  40,  15,\n",
       "        177,  35, 135, 119, 152,  45,  92, 155,  89, 140,  23,  94,  25,\n",
       "         38,  57, 152, 155,  97,  10,  92,  85,  56,  96,  23,  89, 144,\n",
       "         18, 145, 192, 150, 182,   7,  11,  39, 129,  96,  71, 130, 100,\n",
       "        118,  98,  53,  94,  77, 159, 182, 186, 137,  48, 133,  43, 179,\n",
       "         64, 155,  41, 109, 104,  50,  32,  86, 150,  32,  39,  71,  74,\n",
       "        162,  67]),\n",
       " array([ 32, 106, 109, 190,  80, 115, 176, 135, 163, 183, 136, 136, 144,\n",
       "        154,  33,  31,   0, 130, 141,  77,  66, 182,   3, 192, 144,  64,\n",
       "        121, 107,  18, 179,  57, 187, 164,  71, 194, 111,  96,  46, 104,\n",
       "         14,  73,   6, 143, 119,  91,  40, 181, 158,  32, 185, 169, 102,\n",
       "         42,  85,  10,  31,  29, 180,  98, 182,  60, 183,  94, 142, 193,\n",
       "        120,  66, 144,  38, 137,  39, 115, 174,  67, 164,  30,  15, 166,\n",
       "         10,  51,  84,  93,  41, 155, 160, 150, 172, 111,  12,  52,  91,\n",
       "         81, 190,   2, 105, 114,  73,   1,  50, 121, 105,  55, 117,  35,\n",
       "         88,  32, 107, 159, 101,  38,  12,  39,  46,  75, 110, 140, 130,\n",
       "        115, 141,  57,  31, 109, 186,  90,  55,  52, 142,   3,   7, 121,\n",
       "         66, 151, 123, 118, 173, 167,  33, 149, 119, 171, 107, 143,  32,\n",
       "        183, 192,  98, 160, 196, 157,  76, 183, 183, 192, 126, 148,  94,\n",
       "        101,  72, 163, 118,  61, 155, 152,  85,  31,  12,  24,  51,  96,\n",
       "         76, 118,  21, 157,  10, 139, 150, 191,  45, 157, 170, 176,  54,\n",
       "        196,  87,   2, 158,  35,  97, 158,  54,  80, 101, 160,   0,  46,\n",
       "        150,  85]),\n",
       " array([ 71, 114, 191,  71, 184, 184,  59, 144,  69, 132, 106, 140, 153,\n",
       "         83,  57,  95,  61, 154,  48, 155, 118, 133, 128,  42,  80,  52,\n",
       "        158, 126, 152, 109,  11, 162,  33, 127,  93, 153,  52, 117,  70,\n",
       "        149,  26, 190, 146,  69,  40,  49,  62,  99, 183,  97, 163, 106,\n",
       "        171, 194, 135, 109,  59,  55, 176,  61,  79,  90, 105, 172,  25,\n",
       "        160,  97,  11,  61,  85, 184,  52,  82,  31,  33, 143,  39, 127,\n",
       "         11,  48, 143, 116,  79,  98,  92,  18,  80, 151, 114,  97, 117,\n",
       "        195,  85,  24,   9,  94, 157, 109,  16,  48, 195, 195, 185,  34,\n",
       "         23, 112, 109, 119,  10,  33, 181,  16, 110, 171,  57, 164,   4,\n",
       "        196,  62, 132,   8,  44, 166,  38, 182,  72,  46,  23,  77, 186,\n",
       "         73,  59,  80,  57, 170,  56, 111,  68, 194, 190,  51,  49, 165,\n",
       "        145,  18, 171, 160, 137,  49, 191, 176, 154, 148,  70, 106,   1,\n",
       "         45,  30,   7,  26, 167,  54,   7,  83, 164, 149,  55, 114,  48,\n",
       "        138, 195,  31, 134, 127,   7,  62, 176, 110,  11,  55, 100, 145,\n",
       "         94,  25, 182, 158, 129, 167, 187, 152,  43, 137,  46,  46,  89,\n",
       "        124, 123]),\n",
       " array([103, 190, 158, 157,  60, 121,  87, 162,  25,  50, 105,  91,  45,\n",
       "         26,  99, 101,  20, 130,  43, 147,  74,  39,  89, 162, 143, 145,\n",
       "        161, 193,  76, 195,  87, 190,  40, 108,  29, 120,  25, 156, 101,\n",
       "        115, 127, 161,  44, 107,  75, 104, 182, 182,  15,  99,  30, 105,\n",
       "         75,  56, 102,  61,  89, 100,  60,  38,  20,  12, 100,  28, 184,\n",
       "        179,  29,  89,  13, 135, 180,  76,  57, 129, 165,  41,  52,  67,\n",
       "        123,  92, 127, 109, 189,  18, 121,  81,  10, 116,   3,  95,  63,\n",
       "        100, 166,  19, 157, 121, 136, 178,  61,  83,  85,  21, 125, 129,\n",
       "        188,  45, 139, 185, 186,  65, 163, 129, 191, 126,   6,  52, 182,\n",
       "         22, 109, 187,  70,  36,  84,   9,  81,  27, 158,  83, 103, 158,\n",
       "        189, 129, 125,  87,   0, 106, 184, 192, 148, 104,  17, 175, 187,\n",
       "         36, 133,  95, 140, 127, 149, 160, 162,  10,  41, 141, 185,  35,\n",
       "        108,  40, 112,  88,  79, 182,  70,  69, 101, 137, 112,  21, 106,\n",
       "        138, 124,  95, 182, 193,  75, 167,  28, 127, 161,  29, 153, 112,\n",
       "        115, 172, 119,  95,  15, 162,  86, 151,   0,  82,  26,  52,  11,\n",
       "         57, 167]),\n",
       " array([ 21, 121, 169, 105,  50,  97, 134,  53,  23,  59, 158, 146, 167,\n",
       "        131, 188,  39,  33,  29, 154,  50, 164,  31, 119,  61,  97,  85,\n",
       "        108,  54, 195, 163,  25, 173, 125,  13, 139, 158, 109, 135,  96,\n",
       "        167, 188,  15,  60,  79,   2, 127, 130, 166,  59,   3,  76,  68,\n",
       "         53, 191,  30, 160, 144, 195,  14,   9,  25,  51, 182,  45, 164,\n",
       "         83, 158, 119, 151, 115,   9, 179, 178, 175, 182, 153, 131,  27,\n",
       "        109,  49,  47,  12,  30, 123,  36,  55, 183,  67, 103,  24, 177,\n",
       "        104,  21, 140,  71,  75, 173,  42, 150, 128,  80, 138, 160, 175,\n",
       "        100, 130,  20, 126, 124, 108, 137, 111,  33,  51,  73,  19,   4,\n",
       "          2,  79,  72, 106, 180,  59,  61, 166,  80, 189,  80,  50,  14,\n",
       "          6,  60, 143,  97,  42,  11, 173, 120, 155, 195,  96, 133, 194,\n",
       "         81, 109,  14, 124, 149, 153, 186, 120, 120, 164, 122,  56, 149,\n",
       "         60, 174,  38, 146,  68,  41, 172, 147, 117, 182, 117, 112, 105,\n",
       "        180, 162, 178, 173, 105, 167, 128, 112,  74, 110,   3,  74, 192,\n",
       "         73,  85,  51,  81,  34, 192,  60, 133,   3,  26, 191,  39,  99,\n",
       "         79,   1]),\n",
       " array([  9, 191, 174, 170,  84, 121, 171, 143,  80, 165, 164,  47, 149,\n",
       "         49, 140, 166,  29,  17, 172,  14, 114,  34, 188, 185, 102, 195,\n",
       "         73, 104, 163, 173,  42, 122, 130, 120,  26, 171,  33, 149,  60,\n",
       "         95, 190,  64,  71, 123, 155,  70,  40, 106, 119, 171, 109,  24,\n",
       "         32,  96,  26,  83,  70, 116, 155,  24, 116,  22, 113, 122, 168,\n",
       "        143, 108,  96, 142,  78, 159, 144, 175, 155, 149,   8,  58,  88,\n",
       "         34,   1,  10,  77, 151, 165, 156,  78, 140,   2, 160, 178,  25,\n",
       "         11,  70,  53, 112,  42, 195, 183,  89, 138,  94,  90,  40,  70,\n",
       "          2, 183,  83,  21,  34,  55, 155,  18,  74, 125,  96, 186, 100,\n",
       "        114,  52, 184,   5, 190, 174, 115, 171,  50,  91, 161,   6,  85,\n",
       "        183,  57,  71, 115,  84,  71,  15,  46,  46, 132,  36, 141,  95,\n",
       "        119,   6, 187,   2, 132, 178, 192,  31,  69,  70, 112, 120,  94,\n",
       "        117,  27, 188,  85,   8,  16,  47,  65,  88, 142,   5,  69, 176,\n",
       "        162, 134, 103,  13, 120, 116, 157, 154,  26, 108,  18, 107, 142,\n",
       "        111, 152,  98, 155,   9, 192, 161, 146,  53,   7, 163, 149,  47,\n",
       "        105, 140])]"
      ]
     },
     "execution_count": 14,
     "metadata": {},
     "output_type": "execute_result"
    }
   ],
   "source": [
    "bag_model.estimators_samples_  # her bir ağaçta bulunan örnekler"
   ]
  },
  {
   "cell_type": "code",
   "execution_count": 15,
   "metadata": {},
   "outputs": [
    {
     "data": {
      "text/plain": [
       "[array([ 4, 18,  1, 16, 16,  9,  4,  0,  7, 15,  3, 18,  6,  0, 15,  3,  5,\n",
       "         8, 16]),\n",
       " array([ 3,  0,  5, 16,  5,  3, 13,  7,  5,  6, 17,  4, 18, 15, 16,  0,  1,\n",
       "        14,  9]),\n",
       " array([ 4,  9,  4,  9,  1, 12,  7,  2, 12, 13,  5, 17, 18,  8, 14,  8,  7,\n",
       "         9,  9]),\n",
       " array([ 2,  2, 12,  6, 10,  1,  1,  2,  1,  2,  4,  2,  0,  3,  9, 11,  8,\n",
       "        17,  9]),\n",
       " array([12, 10,  3, 12,  6, 13,  5,  5, 14, 17, 15,  8, 13, 17,  3, 12, 16,\n",
       "         9, 10]),\n",
       " array([ 6, 15,  0, 14, 11,  3,  1,  8, 13,  9,  9, 16, 18,  4,  7,  0,  9,\n",
       "        18,  4]),\n",
       " array([10, 13,  6,  2, 15, 14, 17,  6,  8,  7,  0, 15,  1,  6,  6, 14, 17,\n",
       "        18,  7]),\n",
       " array([ 7,  5,  2,  2,  3, 16, 13,  3,  9,  9,  3, 18, 10,  3,  4,  5, 16,\n",
       "         9,  7]),\n",
       " array([ 7, 18,  7, 13, 15,  2, 18, 15, 11,  2, 17,  3, 13, 17, 17,  2, 11,\n",
       "         2,  3]),\n",
       " array([13, 17,  0,  5, 10,  3, 11,  2, 15, 12, 16,  0,  7, 12, 15, 17, 13,\n",
       "         3,  0])]"
      ]
     },
     "execution_count": 15,
     "metadata": {},
     "output_type": "execute_result"
    }
   ],
   "source": [
    "bag_model.estimators_features_  # her bir ağacın bağımsız değişkenleri"
   ]
  },
  {
   "cell_type": "code",
   "execution_count": 16,
   "metadata": {},
   "outputs": [
    {
     "data": {
      "text/plain": [
       "DecisionTreeRegressor(criterion='mse', max_depth=None, max_features=None,\n",
       "                      max_leaf_nodes=None, min_impurity_decrease=0.0,\n",
       "                      min_impurity_split=None, min_samples_leaf=1,\n",
       "                      min_samples_split=2, min_weight_fraction_leaf=0.0,\n",
       "                      presort=False, random_state=766210766, splitter='best')"
      ]
     },
     "execution_count": 16,
     "metadata": {},
     "output_type": "execute_result"
    }
   ],
   "source": [
    "bag_model.estimators_[0]"
   ]
  },
  {
   "cell_type": "code",
   "execution_count": 17,
   "metadata": {},
   "outputs": [
    {
     "data": {
      "text/plain": [
       "DecisionTreeRegressor(criterion='mse', max_depth=None, max_features=None,\n",
       "                      max_leaf_nodes=None, min_impurity_decrease=0.0,\n",
       "                      min_impurity_split=None, min_samples_leaf=1,\n",
       "                      min_samples_split=2, min_weight_fraction_leaf=0.0,\n",
       "                      presort=False, random_state=1499816503, splitter='best')"
      ]
     },
     "execution_count": 17,
     "metadata": {},
     "output_type": "execute_result"
    }
   ],
   "source": [
    "bag_model.estimators_[1]"
   ]
  },
  {
   "cell_type": "markdown",
   "metadata": {},
   "source": [
    "------"
   ]
  },
  {
   "cell_type": "markdown",
   "metadata": {},
   "source": [
    "# Tahmin (Bagged)"
   ]
  },
  {
   "cell_type": "code",
   "execution_count": 18,
   "metadata": {},
   "outputs": [
    {
     "data": {
      "text/plain": [
       "array([ 658.75  , 1009.6666, 1112.    ,  155.35  ,  574.3333,  317.75  ,\n",
       "        215.5   ,  125.9   ,  695.    ,  557.    ,  923.5   ,  903.3333,\n",
       "        460.    ,  158.1667,  380.5   ,  837.6666,  917.8333,   99.5   ,\n",
       "        835.2   ,  246.5   ,  443.5   ,  962.75  ,  891.6666,  818.1667,\n",
       "        351.2   ,   73.55  , 1008.0001,  431.    ,  555.5   ,   94.5   ,\n",
       "         81.5   ,  750.5   ,  495.6667,  229.75  ,  268.1667,  828.5832,\n",
       "       1224.8904,  238.35  ,  158.5   ,  481.    ,   86.75  ,  132.45  ,\n",
       "        683.4999,  732.    , 1300.    ,  973.0833,  442.    ,  106.15  ,\n",
       "        160.5   ,  805.3333,  799.9166,  503.5001,  786.5   ,  180.    ,\n",
       "        104.45  ,  722.4166,  647.5   ,  644.1666,  262.6667, 1249.3071,\n",
       "       1132.4738,  462.5   , 1038.    ,  417.5   ,  677.75  ,   78.5   ])"
      ]
     },
     "execution_count": 18,
     "metadata": {},
     "output_type": "execute_result"
    }
   ],
   "source": [
    "bag_model.predict(X_test)"
   ]
  },
  {
   "cell_type": "code",
   "execution_count": 19,
   "metadata": {},
   "outputs": [],
   "source": [
    "y_pred_test = bag_model.predict(X_test)"
   ]
  },
  {
   "cell_type": "code",
   "execution_count": 21,
   "metadata": {},
   "outputs": [
    {
     "data": {
      "text/plain": [
       "347.4824455159753"
      ]
     },
     "execution_count": 21,
     "metadata": {},
     "output_type": "execute_result"
    }
   ],
   "source": [
    "np.sqrt(mean_squared_error(y_test, y_pred_test))"
   ]
  },
  {
   "cell_type": "code",
   "execution_count": 29,
   "metadata": {},
   "outputs": [
    {
     "data": {
      "text/plain": [
       "441.95505113795053"
      ]
     },
     "execution_count": 29,
     "metadata": {},
     "output_type": "execute_result"
    }
   ],
   "source": [
    "bir_y_pred = bag_model.estimators_[1].fit(X_train, y_train).predict(X_test)\n",
    "\n",
    "np.sqrt(mean_squared_error(y_test, iki_y_pred))  # beceriksiz ağaç :D"
   ]
  },
  {
   "cell_type": "code",
   "execution_count": 26,
   "metadata": {},
   "outputs": [
    {
     "data": {
      "text/plain": [
       "466.8847325687605"
      ]
     },
     "execution_count": 26,
     "metadata": {},
     "output_type": "execute_result"
    }
   ],
   "source": [
    "alti_y_pred = bag_model.estimators_[6].fit(X_train, y_train).predict(X_test)\n",
    "\n",
    "np.sqrt(mean_squared_error(y_test, yedi_y_pred))  # beceriksiz ağaç :D"
   ]
  },
  {
   "cell_type": "code",
   "execution_count": 28,
   "metadata": {},
   "outputs": [
    {
     "data": {
      "text/plain": [
       "464.198292420759"
      ]
     },
     "execution_count": 28,
     "metadata": {},
     "output_type": "execute_result"
    }
   ],
   "source": [
    "sifir_y_pred = bag_model.estimators_[0].fit(X_train, y_train).predict(X_test)\n",
    "\n",
    "np.sqrt(mean_squared_error(y_test, sifir_y_pred))  # beceriksiz ağaç :D"
   ]
  },
  {
   "cell_type": "code",
   "execution_count": 32,
   "metadata": {},
   "outputs": [
    {
     "name": "stdout",
     "output_type": "stream",
     "text": [
      "0.Ağaç : 464.198292420759\n",
      "1.Ağaç : 441.95505113795053\n",
      "2.Ağaç : 512.5510627689754\n",
      "3.Ağaç : 452.4953526696393\n",
      "4.Ağaç : 500.33661495207105\n",
      "5.Ağaç : 497.48516596744025\n",
      "6.Ağaç : 466.8847325687605\n",
      "7.Ağaç : 464.94118703895975\n",
      "8.Ağaç : 453.1948378991027\n",
      "9.Ağaç : 430.6566776123834\n"
     ]
    }
   ],
   "source": [
    "baggedList = []\n",
    "\n",
    "for i in range(0, 10):\n",
    "    y_pred_test = bag_model.estimators_[i].fit(X_train, y_train).predict(X_test)\n",
    "    baggedList.append(np.sqrt(mean_squared_error(y_test, y_pred_test)))\n",
    "    \n",
    "for i in range(0, len(baggedList)):\n",
    "    print(\"{}.Ağaç : {}\".format(i, baggedList[i]))\n"
   ]
  },
  {
   "cell_type": "markdown",
   "metadata": {},
   "source": [
    "-------"
   ]
  },
  {
   "cell_type": "markdown",
   "metadata": {},
   "source": [
    "# 3. Model Doğrulama / Model Tuning (Bagged)"
   ]
  },
  {
   "cell_type": "code",
   "execution_count": 33,
   "metadata": {},
   "outputs": [
    {
     "data": {
      "text/plain": [
       "BaggingRegressor(base_estimator=None, bootstrap=True, bootstrap_features=True,\n",
       "                 max_features=1.0, max_samples=1.0, n_estimators=10,\n",
       "                 n_jobs=None, oob_score=False, random_state=None, verbose=0,\n",
       "                 warm_start=False)"
      ]
     },
     "execution_count": 33,
     "metadata": {},
     "output_type": "execute_result"
    }
   ],
   "source": [
    "bag_model = BaggingRegressor(bootstrap_features = True)\n",
    "\n",
    "bag_model.fit(X_train, y_train)"
   ]
  },
  {
   "cell_type": "code",
   "execution_count": 36,
   "metadata": {},
   "outputs": [
    {
     "data": {
      "text/plain": [
       "GridSearchCV(cv=10, error_score='raise-deprecating',\n",
       "             estimator=BaggingRegressor(base_estimator=None, bootstrap=True,\n",
       "                                        bootstrap_features=True,\n",
       "                                        max_features=1.0, max_samples=1.0,\n",
       "                                        n_estimators=10, n_jobs=None,\n",
       "                                        oob_score=False, random_state=None,\n",
       "                                        verbose=0, warm_start=False),\n",
       "             iid='warn', n_jobs=None, param_grid={'n_estimators': range(2, 20)},\n",
       "             pre_dispatch='2*n_jobs', refit=True, return_train_score=False,\n",
       "             scoring=None, verbose=0)"
      ]
     },
     "execution_count": 36,
     "metadata": {},
     "output_type": "execute_result"
    }
   ],
   "source": [
    "bag_params = {\"n_estimators\" : range(2, 20)}\n",
    "\n",
    "bag_cv_model = GridSearchCV(bag_model, bag_params, cv = 10)\n",
    "\n",
    "bag_cv_model.fit(X_train, y_train)"
   ]
  },
  {
   "cell_type": "code",
   "execution_count": 37,
   "metadata": {},
   "outputs": [
    {
     "data": {
      "text/plain": [
       "{'n_estimators': 19}"
      ]
     },
     "execution_count": 37,
     "metadata": {},
     "output_type": "execute_result"
    }
   ],
   "source": [
    "bag_cv_model.best_params_"
   ]
  },
  {
   "cell_type": "code",
   "execution_count": 38,
   "metadata": {},
   "outputs": [
    {
     "data": {
      "text/plain": [
       "BaggingRegressor(base_estimator=None, bootstrap=True, bootstrap_features=False,\n",
       "                 max_features=1.0, max_samples=1.0, n_estimators=19,\n",
       "                 n_jobs=None, oob_score=False, random_state=45, verbose=0,\n",
       "                 warm_start=False)"
      ]
     },
     "execution_count": 38,
     "metadata": {},
     "output_type": "execute_result"
    }
   ],
   "source": [
    "# final modeli\n",
    "\n",
    "bag_tuned = BaggingRegressor(n_estimators = 19, random_state = 45)\n",
    "\n",
    "bag_tuned.fit(X_train, y_train)"
   ]
  },
  {
   "cell_type": "code",
   "execution_count": 39,
   "metadata": {},
   "outputs": [
    {
     "data": {
      "text/plain": [
       "array([ 803.52631579,  876.53505263, 1111.15789474,  130.39473684,\n",
       "        528.42105263,  346.89473684,  199.84210526,  111.55263158,\n",
       "        867.01752632,  526.66663158,  736.52631579,  979.98615789,\n",
       "        554.47368421,  175.26315789,  375.65789474,  977.28068421,\n",
       "       1003.37721053,  100.        ,  872.64910526,  267.89473684,\n",
       "        386.75436842, 1075.65789474,  708.15789474,  727.193     ,\n",
       "        462.63157895,   80.21052632,  979.95615789,  286.79826316,\n",
       "        635.21931579,   90.05263158,   85.86842105,  696.97368421,\n",
       "        489.42989474,  303.81578947,  258.        ,  729.86842105,\n",
       "       1408.96363158,  220.5       ,  123.68421053,  637.85084211,\n",
       "         81.        ,  130.23684211,  752.807     ,  706.85963158,\n",
       "       1240.13157895,  730.57015789,  434.64915789,  102.71052632,\n",
       "        180.89473684,  799.34210526,  871.53505263,  629.91231579,\n",
       "        787.78068421,  203.28947368,   99.71052632,  863.54384211,\n",
       "        683.50873684,  658.15784211,  206.05268421, 1298.34957895,\n",
       "       1203.67047368,  495.35089474,  758.42105263,  494.64910526,\n",
       "        553.68421053,   79.36842105])"
      ]
     },
     "execution_count": 39,
     "metadata": {},
     "output_type": "execute_result"
    }
   ],
   "source": [
    "bag_tuned.predict(X_test)"
   ]
  },
  {
   "cell_type": "code",
   "execution_count": 40,
   "metadata": {},
   "outputs": [
    {
     "data": {
      "text/plain": [
       "332.4260086061929"
      ]
     },
     "execution_count": 40,
     "metadata": {},
     "output_type": "execute_result"
    }
   ],
   "source": [
    "y_pred_test = bag_tuned.predict(X_test)\n",
    "\n",
    "np.sqrt(mean_squared_error(y_test, y_pred_test))"
   ]
  },
  {
   "cell_type": "markdown",
   "metadata": {},
   "source": [
    "---------------"
   ]
  },
  {
   "cell_type": "code",
   "execution_count": null,
   "metadata": {},
   "outputs": [],
   "source": []
  }
 ],
 "metadata": {
  "kernelspec": {
   "display_name": "Python 3",
   "language": "python",
   "name": "python3"
  },
  "language_info": {
   "codemirror_mode": {
    "name": "ipython",
    "version": 3
   },
   "file_extension": ".py",
   "mimetype": "text/x-python",
   "name": "python",
   "nbconvert_exporter": "python",
   "pygments_lexer": "ipython3",
   "version": "3.7.3"
  }
 },
 "nbformat": 4,
 "nbformat_minor": 2
}
