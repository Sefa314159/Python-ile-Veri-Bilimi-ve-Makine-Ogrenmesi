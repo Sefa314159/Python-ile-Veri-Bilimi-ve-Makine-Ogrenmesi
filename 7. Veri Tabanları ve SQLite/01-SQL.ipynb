{
 "cells": [
  {
   "cell_type": "markdown",
   "metadata": {},
   "source": [
    "## 1. JupyterLab Bağlantısı"
   ]
  },
  {
   "cell_type": "code",
   "execution_count": 11,
   "metadata": {},
   "outputs": [
    {
     "data": {
      "text/plain": [
       "[]"
      ]
     },
     "execution_count": 11,
     "metadata": {},
     "output_type": "execute_result"
    }
   ],
   "source": [
    "%%!\n",
    "\n",
    "pip install --trusted-host pypi.org ipython-sql"
   ]
  },
  {
   "cell_type": "code",
   "execution_count": 12,
   "metadata": {},
   "outputs": [
    {
     "name": "stdout",
     "output_type": "stream",
     "text": [
      "The sql extension is already loaded. To reload it, use:\n",
      "  %reload_ext sql\n"
     ]
    }
   ],
   "source": [
    "# sql'i jupyter'e yüklemek için\n",
    "\n",
    "%load_ext sql"
   ]
  },
  {
   "cell_type": "code",
   "execution_count": 13,
   "metadata": {},
   "outputs": [
    {
     "data": {
      "text/plain": [
       "'Connected: @vbo.db'"
      ]
     },
     "execution_count": 13,
     "metadata": {},
     "output_type": "execute_result"
    }
   ],
   "source": [
    "# 'vbo.db veri tabanına erişebilmek için'\n",
    "\n",
    "%sql sqlite:///vbo.db"
   ]
  },
  {
   "cell_type": "code",
   "execution_count": 14,
   "metadata": {},
   "outputs": [
    {
     "name": "stdout",
     "output_type": "stream",
     "text": [
      " * sqlite:///vbo.db\n",
      "Done.\n"
     ]
    },
    {
     "data": {
      "text/html": [
       "<table>\n",
       "    <tr>\n",
       "        <th>CustomerID</th>\n",
       "        <th>CustomerName</th>\n",
       "        <th>ContactName</th>\n",
       "        <th>Address</th>\n",
       "        <th>City</th>\n",
       "        <th>PostalCode</th>\n",
       "        <th>Country</th>\n",
       "    </tr>\n",
       "    <tr>\n",
       "        <td>1</td>\n",
       "        <td>Alfreds Futterkiste</td>\n",
       "        <td>Maria Anders</td>\n",
       "        <td>Obere Str. 57</td>\n",
       "        <td>Berlin</td>\n",
       "        <td>12209</td>\n",
       "        <td>Germany</td>\n",
       "    </tr>\n",
       "    <tr>\n",
       "        <td>2</td>\n",
       "        <td>Ana Trujillo Emparedados y helados</td>\n",
       "        <td>Ana Trujillo</td>\n",
       "        <td>Avda. de la Constitución 2222</td>\n",
       "        <td>México D.F.</td>\n",
       "        <td>5021</td>\n",
       "        <td>Mexico</td>\n",
       "    </tr>\n",
       "    <tr>\n",
       "        <td>3</td>\n",
       "        <td>Antonio Moreno Taquería</td>\n",
       "        <td>Antonio Moreno</td>\n",
       "        <td>Mataderos 2312</td>\n",
       "        <td>México D.F.</td>\n",
       "        <td>5023</td>\n",
       "        <td>Mexico</td>\n",
       "    </tr>\n",
       "</table>"
      ],
      "text/plain": [
       "[(1, 'Alfreds Futterkiste', 'Maria Anders', 'Obere Str. 57', 'Berlin', '12209', 'Germany'),\n",
       " (2, 'Ana Trujillo Emparedados y helados', 'Ana Trujillo', 'Avda. de la Constitución 2222', 'México D.F.', '5021', 'Mexico'),\n",
       " (3, 'Antonio Moreno Taquería', 'Antonio Moreno', 'Mataderos 2312', 'México D.F.', '5023', 'Mexico')]"
      ]
     },
     "execution_count": 14,
     "metadata": {},
     "output_type": "execute_result"
    }
   ],
   "source": [
    "%%sql\n",
    "\n",
    "SELECT * FROM Customers LIMIT 3;"
   ]
  },
  {
   "cell_type": "markdown",
   "metadata": {},
   "source": [
    "-----------"
   ]
  },
  {
   "cell_type": "markdown",
   "metadata": {},
   "source": [
    "## 2. Manuel Tablo Oluşturma"
   ]
  },
  {
   "cell_type": "code",
   "execution_count": 15,
   "metadata": {},
   "outputs": [
    {
     "name": "stdout",
     "output_type": "stream",
     "text": [
      " * sqlite:///vbo.db\n",
      "Done.\n"
     ]
    },
    {
     "data": {
      "text/plain": [
       "[]"
      ]
     },
     "execution_count": 15,
     "metadata": {},
     "output_type": "execute_result"
    }
   ],
   "source": [
    "%%sql\n",
    "\n",
    "CREATE TABLE yeni_tablo(firstname varchar(20),\n",
    "                       lastname varchar(20));"
   ]
  },
  {
   "cell_type": "code",
   "execution_count": 16,
   "metadata": {},
   "outputs": [
    {
     "name": "stdout",
     "output_type": "stream",
     "text": [
      " * sqlite:///vbo.db\n",
      "1 rows affected.\n"
     ]
    },
    {
     "data": {
      "text/plain": [
       "[]"
      ]
     },
     "execution_count": 16,
     "metadata": {},
     "output_type": "execute_result"
    }
   ],
   "source": [
    "%%sql\n",
    "\n",
    "INSERT INTO yeni_tablo values(\"Ali\", \"Uzaya_Git\")"
   ]
  },
  {
   "cell_type": "code",
   "execution_count": 18,
   "metadata": {},
   "outputs": [
    {
     "name": "stdout",
     "output_type": "stream",
     "text": [
      " * sqlite:///vbo.db\n",
      "Done.\n"
     ]
    },
    {
     "data": {
      "text/html": [
       "<table>\n",
       "    <tr>\n",
       "        <th>firstname</th>\n",
       "        <th>lastname</th>\n",
       "    </tr>\n",
       "    <tr>\n",
       "        <td>Mehmet</td>\n",
       "        <td>Soyadi</td>\n",
       "    </tr>\n",
       "    <tr>\n",
       "        <td>Ali</td>\n",
       "        <td>Uzaya_Git</td>\n",
       "    </tr>\n",
       "</table>"
      ],
      "text/plain": [
       "[('Mehmet', 'Soyadi'), ('Ali', 'Uzaya_Git')]"
      ]
     },
     "execution_count": 18,
     "metadata": {},
     "output_type": "execute_result"
    }
   ],
   "source": [
    "%%sql\n",
    "\n",
    "SELECT * FROM yeni_tablo;"
   ]
  },
  {
   "cell_type": "code",
   "execution_count": 19,
   "metadata": {},
   "outputs": [
    {
     "name": "stdout",
     "output_type": "stream",
     "text": [
      " * sqlite:///vbo.db\n",
      "1 rows affected.\n"
     ]
    },
    {
     "data": {
      "text/plain": [
       "[]"
      ]
     },
     "execution_count": 19,
     "metadata": {},
     "output_type": "execute_result"
    }
   ],
   "source": [
    "%%sql\n",
    "\n",
    "INSERT INTO yeni_tablo values(\"Işık\", \"Süte_Devam\");"
   ]
  },
  {
   "cell_type": "code",
   "execution_count": 20,
   "metadata": {},
   "outputs": [
    {
     "name": "stdout",
     "output_type": "stream",
     "text": [
      " * sqlite:///vbo.db\n",
      "Done.\n"
     ]
    },
    {
     "data": {
      "text/html": [
       "<table>\n",
       "    <tr>\n",
       "        <th>firstname</th>\n",
       "        <th>lastname</th>\n",
       "    </tr>\n",
       "    <tr>\n",
       "        <td>Mehmet</td>\n",
       "        <td>Soyadi</td>\n",
       "    </tr>\n",
       "    <tr>\n",
       "        <td>Ali</td>\n",
       "        <td>Uzaya_Git</td>\n",
       "    </tr>\n",
       "    <tr>\n",
       "        <td>Işık</td>\n",
       "        <td>Süte_Devam</td>\n",
       "    </tr>\n",
       "</table>"
      ],
      "text/plain": [
       "[('Mehmet', 'Soyadi'), ('Ali', 'Uzaya_Git'), ('Işık', 'Süte_Devam')]"
      ]
     },
     "execution_count": 20,
     "metadata": {},
     "output_type": "execute_result"
    }
   ],
   "source": [
    "%%sql\n",
    "\n",
    "SELECT * FROM yeni_tablo;"
   ]
  },
  {
   "cell_type": "markdown",
   "metadata": {},
   "source": [
    "------------"
   ]
  },
  {
   "cell_type": "markdown",
   "metadata": {},
   "source": [
    "## 3. SELECT işlemleri"
   ]
  },
  {
   "cell_type": "code",
   "execution_count": 40,
   "metadata": {},
   "outputs": [
    {
     "name": "stdout",
     "output_type": "stream",
     "text": [
      " * sqlite:///vbo.db\n",
      "Done.\n"
     ]
    },
    {
     "data": {
      "text/html": [
       "<table>\n",
       "    <tr>\n",
       "        <th>ProductID</th>\n",
       "        <th>ProductName</th>\n",
       "        <th>SupplierID</th>\n",
       "        <th>CategoryID</th>\n",
       "        <th>Unit</th>\n",
       "        <th>Price</th>\n",
       "    </tr>\n",
       "    <tr>\n",
       "        <td>1</td>\n",
       "        <td>Chais</td>\n",
       "        <td>1</td>\n",
       "        <td>1</td>\n",
       "        <td>10 boxes x 20 bags</td>\n",
       "        <td>18</td>\n",
       "    </tr>\n",
       "    <tr>\n",
       "        <td>2</td>\n",
       "        <td>Chang</td>\n",
       "        <td>1</td>\n",
       "        <td>1</td>\n",
       "        <td>24 - 12 oz bottles</td>\n",
       "        <td>19</td>\n",
       "    </tr>\n",
       "    <tr>\n",
       "        <td>3</td>\n",
       "        <td>Aniseed Syrup</td>\n",
       "        <td>1</td>\n",
       "        <td>2</td>\n",
       "        <td>12 - 550 ml bottles</td>\n",
       "        <td>10</td>\n",
       "    </tr>\n",
       "    <tr>\n",
       "        <td>4</td>\n",
       "        <td>Chef Anton&#x27;s Cajun Seasoning</td>\n",
       "        <td>2</td>\n",
       "        <td>2</td>\n",
       "        <td>48 - 6 oz jars</td>\n",
       "        <td>22</td>\n",
       "    </tr>\n",
       "    <tr>\n",
       "        <td>5</td>\n",
       "        <td>Chef Anton&#x27;s Gumbo Mix</td>\n",
       "        <td>2</td>\n",
       "        <td>2</td>\n",
       "        <td>36 boxes</td>\n",
       "        <td>21</td>\n",
       "    </tr>\n",
       "</table>"
      ],
      "text/plain": [
       "[(1, 'Chais', 1, 1, '10 boxes x 20 bags', 18),\n",
       " (2, 'Chang', 1, 1, '24 - 12 oz bottles', 19),\n",
       " (3, 'Aniseed Syrup', 1, 2, '12 - 550 ml bottles', 10),\n",
       " (4, \"Chef Anton's Cajun Seasoning\", 2, 2, '48 - 6 oz jars', 22),\n",
       " (5, \"Chef Anton's Gumbo Mix\", 2, 2, '36 boxes', 21)]"
      ]
     },
     "execution_count": 40,
     "metadata": {},
     "output_type": "execute_result"
    }
   ],
   "source": [
    "%%sql\n",
    "\n",
    "SELECT * FROM Products LIMIT 5;"
   ]
  },
  {
   "cell_type": "markdown",
   "metadata": {},
   "source": [
    "----------"
   ]
  },
  {
   "cell_type": "markdown",
   "metadata": {},
   "source": [
    "## 4. WHERE"
   ]
  },
  {
   "cell_type": "code",
   "execution_count": 43,
   "metadata": {},
   "outputs": [
    {
     "name": "stdout",
     "output_type": "stream",
     "text": [
      " * sqlite:///vbo.db\n",
      "Done.\n"
     ]
    },
    {
     "data": {
      "text/html": [
       "<table>\n",
       "    <tr>\n",
       "        <th>name</th>\n",
       "    </tr>\n",
       "    <tr>\n",
       "        <td>Categories</td>\n",
       "    </tr>\n",
       "    <tr>\n",
       "        <td>Customers</td>\n",
       "    </tr>\n",
       "    <tr>\n",
       "        <td>Employees</td>\n",
       "    </tr>\n",
       "    <tr>\n",
       "        <td>OrderDetails</td>\n",
       "    </tr>\n",
       "    <tr>\n",
       "        <td>Orders</td>\n",
       "    </tr>\n",
       "    <tr>\n",
       "        <td>Products</td>\n",
       "    </tr>\n",
       "    <tr>\n",
       "        <td>Shippers</td>\n",
       "    </tr>\n",
       "    <tr>\n",
       "        <td>Suppliers</td>\n",
       "    </tr>\n",
       "    <tr>\n",
       "        <td>yeni_tablo</td>\n",
       "    </tr>\n",
       "</table>"
      ],
      "text/plain": [
       "[('Categories',),\n",
       " ('Customers',),\n",
       " ('Employees',),\n",
       " ('OrderDetails',),\n",
       " ('Orders',),\n",
       " ('Products',),\n",
       " ('Shippers',),\n",
       " ('Suppliers',),\n",
       " ('yeni_tablo',)]"
      ]
     },
     "execution_count": 43,
     "metadata": {},
     "output_type": "execute_result"
    }
   ],
   "source": [
    "%%sql\n",
    "\n",
    "SELECT name FROM sqlite_master WHERE type = 'table'"
   ]
  },
  {
   "cell_type": "code",
   "execution_count": 30,
   "metadata": {},
   "outputs": [
    {
     "name": "stdout",
     "output_type": "stream",
     "text": [
      " * sqlite:///vbo.db\n",
      "Done.\n"
     ]
    },
    {
     "data": {
      "text/html": [
       "<table>\n",
       "    <tr>\n",
       "        <th>CustomerID</th>\n",
       "        <th>CustomerName</th>\n",
       "        <th>ContactName</th>\n",
       "        <th>Address</th>\n",
       "        <th>City</th>\n",
       "        <th>PostalCode</th>\n",
       "        <th>Country</th>\n",
       "    </tr>\n",
       "</table>"
      ],
      "text/plain": [
       "[]"
      ]
     },
     "execution_count": 30,
     "metadata": {},
     "output_type": "execute_result"
    }
   ],
   "source": [
    "%%sql\n",
    "\n",
    "SELECT * FROM Customers WHERE 1 = 0;"
   ]
  },
  {
   "cell_type": "code",
   "execution_count": 33,
   "metadata": {},
   "outputs": [
    {
     "name": "stdout",
     "output_type": "stream",
     "text": [
      " * sqlite:///vbo.db\n",
      "Done.\n"
     ]
    },
    {
     "data": {
      "text/html": [
       "<table>\n",
       "    <tr>\n",
       "        <th>CustomerID</th>\n",
       "        <th>CustomerName</th>\n",
       "        <th>ContactName</th>\n",
       "        <th>Address</th>\n",
       "        <th>City</th>\n",
       "        <th>PostalCode</th>\n",
       "        <th>Country</th>\n",
       "    </tr>\n",
       "    <tr>\n",
       "        <td>1</td>\n",
       "        <td>Alfreds Futterkiste</td>\n",
       "        <td>Maria Anders</td>\n",
       "        <td>Obere Str. 57</td>\n",
       "        <td>Berlin</td>\n",
       "        <td>12209</td>\n",
       "        <td>Germany</td>\n",
       "    </tr>\n",
       "    <tr>\n",
       "        <td>2</td>\n",
       "        <td>Ana Trujillo Emparedados y helados</td>\n",
       "        <td>Ana Trujillo</td>\n",
       "        <td>Avda. de la Constitución 2222</td>\n",
       "        <td>México D.F.</td>\n",
       "        <td>5021</td>\n",
       "        <td>Mexico</td>\n",
       "    </tr>\n",
       "    <tr>\n",
       "        <td>3</td>\n",
       "        <td>Antonio Moreno Taquería</td>\n",
       "        <td>Antonio Moreno</td>\n",
       "        <td>Mataderos 2312</td>\n",
       "        <td>México D.F.</td>\n",
       "        <td>5023</td>\n",
       "        <td>Mexico</td>\n",
       "    </tr>\n",
       "</table>"
      ],
      "text/plain": [
       "[(1, 'Alfreds Futterkiste', 'Maria Anders', 'Obere Str. 57', 'Berlin', '12209', 'Germany'),\n",
       " (2, 'Ana Trujillo Emparedados y helados', 'Ana Trujillo', 'Avda. de la Constitución 2222', 'México D.F.', '5021', 'Mexico'),\n",
       " (3, 'Antonio Moreno Taquería', 'Antonio Moreno', 'Mataderos 2312', 'México D.F.', '5023', 'Mexico')]"
      ]
     },
     "execution_count": 33,
     "metadata": {},
     "output_type": "execute_result"
    }
   ],
   "source": [
    "%%sql\n",
    "\n",
    "SELECT * FROM Customers LIMIT 3;"
   ]
  },
  {
   "cell_type": "code",
   "execution_count": 34,
   "metadata": {},
   "outputs": [
    {
     "name": "stdout",
     "output_type": "stream",
     "text": [
      " * sqlite:///vbo.db\n",
      "Done.\n"
     ]
    },
    {
     "data": {
      "text/html": [
       "<table>\n",
       "    <tr>\n",
       "        <th>CustomerName</th>\n",
       "        <th>City</th>\n",
       "    </tr>\n",
       "    <tr>\n",
       "        <td>Alfreds Futterkiste</td>\n",
       "        <td>Berlin</td>\n",
       "    </tr>\n",
       "    <tr>\n",
       "        <td>Ana Trujillo Emparedados y helados</td>\n",
       "        <td>México D.F.</td>\n",
       "    </tr>\n",
       "    <tr>\n",
       "        <td>Antonio Moreno Taquería</td>\n",
       "        <td>México D.F.</td>\n",
       "    </tr>\n",
       "    <tr>\n",
       "        <td>Around the Horn</td>\n",
       "        <td>London</td>\n",
       "    </tr>\n",
       "    <tr>\n",
       "        <td>Berglunds snabbköp</td>\n",
       "        <td>Luleå</td>\n",
       "    </tr>\n",
       "</table>"
      ],
      "text/plain": [
       "[('Alfreds Futterkiste', 'Berlin'),\n",
       " ('Ana Trujillo Emparedados y helados', 'México D.F.'),\n",
       " ('Antonio Moreno Taquería', 'México D.F.'),\n",
       " ('Around the Horn', 'London'),\n",
       " ('Berglunds snabbköp', 'Luleå')]"
      ]
     },
     "execution_count": 34,
     "metadata": {},
     "output_type": "execute_result"
    }
   ],
   "source": [
    "%%sql\n",
    "\n",
    "SELECT CustomerName, City FROM Customers LIMIT 5;"
   ]
  },
  {
   "cell_type": "code",
   "execution_count": 35,
   "metadata": {},
   "outputs": [
    {
     "name": "stdout",
     "output_type": "stream",
     "text": [
      " * sqlite:///vbo.db\n",
      "Done.\n"
     ]
    },
    {
     "data": {
      "text/html": [
       "<table>\n",
       "    <tr>\n",
       "        <th>CustomerName</th>\n",
       "        <th>City</th>\n",
       "        <th>Country</th>\n",
       "    </tr>\n",
       "    <tr>\n",
       "        <td>Alfreds Futterkiste</td>\n",
       "        <td>Berlin</td>\n",
       "        <td>Germany</td>\n",
       "    </tr>\n",
       "    <tr>\n",
       "        <td>Ana Trujillo Emparedados y helados</td>\n",
       "        <td>México D.F.</td>\n",
       "        <td>Mexico</td>\n",
       "    </tr>\n",
       "    <tr>\n",
       "        <td>Antonio Moreno Taquería</td>\n",
       "        <td>México D.F.</td>\n",
       "        <td>Mexico</td>\n",
       "    </tr>\n",
       "    <tr>\n",
       "        <td>Around the Horn</td>\n",
       "        <td>London</td>\n",
       "        <td>UK</td>\n",
       "    </tr>\n",
       "    <tr>\n",
       "        <td>Berglunds snabbköp</td>\n",
       "        <td>Luleå</td>\n",
       "        <td>Sweden</td>\n",
       "    </tr>\n",
       "</table>"
      ],
      "text/plain": [
       "[('Alfreds Futterkiste', 'Berlin', 'Germany'),\n",
       " ('Ana Trujillo Emparedados y helados', 'México D.F.', 'Mexico'),\n",
       " ('Antonio Moreno Taquería', 'México D.F.', 'Mexico'),\n",
       " ('Around the Horn', 'London', 'UK'),\n",
       " ('Berglunds snabbköp', 'Luleå', 'Sweden')]"
      ]
     },
     "execution_count": 35,
     "metadata": {},
     "output_type": "execute_result"
    }
   ],
   "source": [
    "%%sql\n",
    "\n",
    "SELECT CustomerName, City, Country FROM Customers LIMIT 5;"
   ]
  },
  {
   "cell_type": "code",
   "execution_count": 36,
   "metadata": {},
   "outputs": [
    {
     "name": "stdout",
     "output_type": "stream",
     "text": [
      " * sqlite:///vbo.db\n",
      "Done.\n"
     ]
    },
    {
     "data": {
      "text/html": [
       "<table>\n",
       "    <tr>\n",
       "        <th>ProductID</th>\n",
       "        <th>ProductName</th>\n",
       "        <th>SupplierID</th>\n",
       "        <th>CategoryID</th>\n",
       "        <th>Unit</th>\n",
       "        <th>Price</th>\n",
       "    </tr>\n",
       "    <tr>\n",
       "        <td>1</td>\n",
       "        <td>Chais</td>\n",
       "        <td>1</td>\n",
       "        <td>1</td>\n",
       "        <td>10 boxes x 20 bags</td>\n",
       "        <td>18</td>\n",
       "    </tr>\n",
       "    <tr>\n",
       "        <td>2</td>\n",
       "        <td>Chang</td>\n",
       "        <td>1</td>\n",
       "        <td>1</td>\n",
       "        <td>24 - 12 oz bottles</td>\n",
       "        <td>19</td>\n",
       "    </tr>\n",
       "    <tr>\n",
       "        <td>3</td>\n",
       "        <td>Aniseed Syrup</td>\n",
       "        <td>1</td>\n",
       "        <td>2</td>\n",
       "        <td>12 - 550 ml bottles</td>\n",
       "        <td>10</td>\n",
       "    </tr>\n",
       "</table>"
      ],
      "text/plain": [
       "[(1, 'Chais', 1, 1, '10 boxes x 20 bags', 18),\n",
       " (2, 'Chang', 1, 1, '24 - 12 oz bottles', 19),\n",
       " (3, 'Aniseed Syrup', 1, 2, '12 - 550 ml bottles', 10)]"
      ]
     },
     "execution_count": 36,
     "metadata": {},
     "output_type": "execute_result"
    }
   ],
   "source": [
    "%%sql\n",
    "\n",
    "SELECT * FROM Products LIMIT 3;"
   ]
  },
  {
   "cell_type": "markdown",
   "metadata": {},
   "source": [
    "---------------"
   ]
  },
  {
   "cell_type": "markdown",
   "metadata": {},
   "source": [
    "## 5. Matematiksel İşlemler"
   ]
  },
  {
   "cell_type": "code",
   "execution_count": 48,
   "metadata": {},
   "outputs": [
    {
     "name": "stdout",
     "output_type": "stream",
     "text": [
      " * sqlite:///vbo.db\n",
      "Done.\n"
     ]
    },
    {
     "data": {
      "text/html": [
       "<table>\n",
       "    <tr>\n",
       "        <th>Price</th>\n",
       "        <th>(Price * 2)</th>\n",
       "    </tr>\n",
       "    <tr>\n",
       "        <td>18</td>\n",
       "        <td>36</td>\n",
       "    </tr>\n",
       "    <tr>\n",
       "        <td>19</td>\n",
       "        <td>38</td>\n",
       "    </tr>\n",
       "    <tr>\n",
       "        <td>10</td>\n",
       "        <td>20</td>\n",
       "    </tr>\n",
       "</table>"
      ],
      "text/plain": [
       "[(18, 36), (19, 38), (10, 20)]"
      ]
     },
     "execution_count": 48,
     "metadata": {},
     "output_type": "execute_result"
    }
   ],
   "source": [
    "%%sql\n",
    "\n",
    "SELECT Price, (Price * 2) FROM Products LIMIT 3;"
   ]
  },
  {
   "cell_type": "code",
   "execution_count": 49,
   "metadata": {},
   "outputs": [
    {
     "name": "stdout",
     "output_type": "stream",
     "text": [
      " * sqlite:///vbo.db\n",
      "Done.\n"
     ]
    },
    {
     "data": {
      "text/html": [
       "<table>\n",
       "    <tr>\n",
       "        <th>Price</th>\n",
       "        <th>(Price * 3)</th>\n",
       "        <th>(Price * 3 - 100)</th>\n",
       "    </tr>\n",
       "    <tr>\n",
       "        <td>18</td>\n",
       "        <td>54</td>\n",
       "        <td>-46</td>\n",
       "    </tr>\n",
       "    <tr>\n",
       "        <td>19</td>\n",
       "        <td>57</td>\n",
       "        <td>-43</td>\n",
       "    </tr>\n",
       "    <tr>\n",
       "        <td>10</td>\n",
       "        <td>30</td>\n",
       "        <td>-70</td>\n",
       "    </tr>\n",
       "</table>"
      ],
      "text/plain": [
       "[(18, 54, -46), (19, 57, -43), (10, 30, -70)]"
      ]
     },
     "execution_count": 49,
     "metadata": {},
     "output_type": "execute_result"
    }
   ],
   "source": [
    "%%sql\n",
    "\n",
    "SELECT Price, (Price * 3), (Price * 3 - 100) FROM Products LIMIT 3;"
   ]
  },
  {
   "cell_type": "code",
   "execution_count": 50,
   "metadata": {},
   "outputs": [
    {
     "name": "stdout",
     "output_type": "stream",
     "text": [
      " * sqlite:///vbo.db\n",
      "Done.\n"
     ]
    },
    {
     "data": {
      "text/html": [
       "<table>\n",
       "    <tr>\n",
       "        <th>ilk_price</th>\n",
       "        <th>yeni_price</th>\n",
       "        <th>islemli_price</th>\n",
       "    </tr>\n",
       "    <tr>\n",
       "        <td>18</td>\n",
       "        <td>54</td>\n",
       "        <td>-46</td>\n",
       "    </tr>\n",
       "    <tr>\n",
       "        <td>19</td>\n",
       "        <td>57</td>\n",
       "        <td>-43</td>\n",
       "    </tr>\n",
       "    <tr>\n",
       "        <td>10</td>\n",
       "        <td>30</td>\n",
       "        <td>-70</td>\n",
       "    </tr>\n",
       "</table>"
      ],
      "text/plain": [
       "[(18, 54, -46), (19, 57, -43), (10, 30, -70)]"
      ]
     },
     "execution_count": 50,
     "metadata": {},
     "output_type": "execute_result"
    }
   ],
   "source": [
    "%%sql\n",
    "\n",
    "SELECT Price AS ilk_price, Price * 3 AS yeni_price, Price * 3 - 100 AS islemli_price FROM Products LIMIT 3;"
   ]
  },
  {
   "cell_type": "markdown",
   "metadata": {},
   "source": [
    "-----------"
   ]
  },
  {
   "cell_type": "markdown",
   "metadata": {},
   "source": [
    "## 6. COUNT"
   ]
  },
  {
   "cell_type": "code",
   "execution_count": 52,
   "metadata": {},
   "outputs": [
    {
     "name": "stdout",
     "output_type": "stream",
     "text": [
      " * sqlite:///vbo.db\n",
      "Done.\n"
     ]
    },
    {
     "data": {
      "text/html": [
       "<table>\n",
       "    <tr>\n",
       "        <th>COUNT(*)</th>\n",
       "    </tr>\n",
       "    <tr>\n",
       "        <td>91</td>\n",
       "    </tr>\n",
       "</table>"
      ],
      "text/plain": [
       "[(91,)]"
      ]
     },
     "execution_count": 52,
     "metadata": {},
     "output_type": "execute_result"
    }
   ],
   "source": [
    "%%sql\n",
    "\n",
    "SELECT COUNT(*) FROM Customers;"
   ]
  },
  {
   "cell_type": "code",
   "execution_count": 53,
   "metadata": {},
   "outputs": [
    {
     "name": "stdout",
     "output_type": "stream",
     "text": [
      " * sqlite:///vbo.db\n",
      "Done.\n"
     ]
    },
    {
     "data": {
      "text/html": [
       "<table>\n",
       "    <tr>\n",
       "        <th>satir_sayisi</th>\n",
       "    </tr>\n",
       "    <tr>\n",
       "        <td>91</td>\n",
       "    </tr>\n",
       "</table>"
      ],
      "text/plain": [
       "[(91,)]"
      ]
     },
     "execution_count": 53,
     "metadata": {},
     "output_type": "execute_result"
    }
   ],
   "source": [
    "%%sql\n",
    "\n",
    "SELECT COUNT(*) AS satir_sayisi FROM Customers;"
   ]
  },
  {
   "cell_type": "markdown",
   "metadata": {},
   "source": [
    "---------"
   ]
  },
  {
   "cell_type": "markdown",
   "metadata": {},
   "source": [
    "## 7. ORDER BY"
   ]
  },
  {
   "cell_type": "code",
   "execution_count": 55,
   "metadata": {},
   "outputs": [
    {
     "name": "stdout",
     "output_type": "stream",
     "text": [
      " * sqlite:///vbo.db\n",
      "Done.\n"
     ]
    },
    {
     "data": {
      "text/html": [
       "<table>\n",
       "    <tr>\n",
       "        <th>ProductID</th>\n",
       "        <th>ProductName</th>\n",
       "        <th>SupplierID</th>\n",
       "        <th>CategoryID</th>\n",
       "        <th>Unit</th>\n",
       "        <th>Price</th>\n",
       "    </tr>\n",
       "    <tr>\n",
       "        <td>1</td>\n",
       "        <td>Chais</td>\n",
       "        <td>1</td>\n",
       "        <td>1</td>\n",
       "        <td>10 boxes x 20 bags</td>\n",
       "        <td>18</td>\n",
       "    </tr>\n",
       "    <tr>\n",
       "        <td>2</td>\n",
       "        <td>Chang</td>\n",
       "        <td>1</td>\n",
       "        <td>1</td>\n",
       "        <td>24 - 12 oz bottles</td>\n",
       "        <td>19</td>\n",
       "    </tr>\n",
       "    <tr>\n",
       "        <td>3</td>\n",
       "        <td>Aniseed Syrup</td>\n",
       "        <td>1</td>\n",
       "        <td>2</td>\n",
       "        <td>12 - 550 ml bottles</td>\n",
       "        <td>10</td>\n",
       "    </tr>\n",
       "</table>"
      ],
      "text/plain": [
       "[(1, 'Chais', 1, 1, '10 boxes x 20 bags', 18),\n",
       " (2, 'Chang', 1, 1, '24 - 12 oz bottles', 19),\n",
       " (3, 'Aniseed Syrup', 1, 2, '12 - 550 ml bottles', 10)]"
      ]
     },
     "execution_count": 55,
     "metadata": {},
     "output_type": "execute_result"
    }
   ],
   "source": [
    "%%sql\n",
    "\n",
    "SELECT * FROM Products LIMIT 3;"
   ]
  },
  {
   "cell_type": "code",
   "execution_count": 56,
   "metadata": {},
   "outputs": [
    {
     "name": "stdout",
     "output_type": "stream",
     "text": [
      " * sqlite:///vbo.db\n",
      "Done.\n"
     ]
    },
    {
     "data": {
      "text/html": [
       "<table>\n",
       "    <tr>\n",
       "        <th>ProductID</th>\n",
       "        <th>ProductName</th>\n",
       "        <th>SupplierID</th>\n",
       "        <th>CategoryID</th>\n",
       "        <th>Unit</th>\n",
       "        <th>Price</th>\n",
       "    </tr>\n",
       "    <tr>\n",
       "        <td>13</td>\n",
       "        <td>Konbu</td>\n",
       "        <td>6</td>\n",
       "        <td>8</td>\n",
       "        <td>2 kg box</td>\n",
       "        <td>6</td>\n",
       "    </tr>\n",
       "    <tr>\n",
       "        <td>52</td>\n",
       "        <td>Filo Mix</td>\n",
       "        <td>24</td>\n",
       "        <td>5</td>\n",
       "        <td>16 - 2 kg boxes</td>\n",
       "        <td>7</td>\n",
       "    </tr>\n",
       "    <tr>\n",
       "        <td>23</td>\n",
       "        <td>Tunnbröd</td>\n",
       "        <td>9</td>\n",
       "        <td>5</td>\n",
       "        <td>12 - 250 g pkgs.</td>\n",
       "        <td>9</td>\n",
       "    </tr>\n",
       "    <tr>\n",
       "        <td>3</td>\n",
       "        <td>Aniseed Syrup</td>\n",
       "        <td>1</td>\n",
       "        <td>2</td>\n",
       "        <td>12 - 550 ml bottles</td>\n",
       "        <td>10</td>\n",
       "    </tr>\n",
       "    <tr>\n",
       "        <td>21</td>\n",
       "        <td>Sir Rodney&#x27;s Scones</td>\n",
       "        <td>8</td>\n",
       "        <td>3</td>\n",
       "        <td>24 pkgs. x 4 pieces</td>\n",
       "        <td>10</td>\n",
       "    </tr>\n",
       "    <tr>\n",
       "        <td>74</td>\n",
       "        <td>Longlife Tofu</td>\n",
       "        <td>4</td>\n",
       "        <td>7</td>\n",
       "        <td>5 kg pkg.</td>\n",
       "        <td>10</td>\n",
       "    </tr>\n",
       "    <tr>\n",
       "        <td>46</td>\n",
       "        <td>Spegesild</td>\n",
       "        <td>21</td>\n",
       "        <td>8</td>\n",
       "        <td>4 - 450 g glasses</td>\n",
       "        <td>12</td>\n",
       "    </tr>\n",
       "    <tr>\n",
       "        <td>58</td>\n",
       "        <td>Escargots de Bourgogne</td>\n",
       "        <td>27</td>\n",
       "        <td>8</td>\n",
       "        <td>24 pieces</td>\n",
       "        <td>13</td>\n",
       "    </tr>\n",
       "    <tr>\n",
       "        <td>77</td>\n",
       "        <td>Original Frankfurter grüne Soße</td>\n",
       "        <td>12</td>\n",
       "        <td>2</td>\n",
       "        <td>12 boxes</td>\n",
       "        <td>13</td>\n",
       "    </tr>\n",
       "    <tr>\n",
       "        <td>25</td>\n",
       "        <td>NuNuCa Nuß-Nougat-Creme</td>\n",
       "        <td>11</td>\n",
       "        <td>3</td>\n",
       "        <td>20 - 450 g glasses</td>\n",
       "        <td>14</td>\n",
       "    </tr>\n",
       "</table>"
      ],
      "text/plain": [
       "[(13, 'Konbu', 6, 8, '2 kg box', 6),\n",
       " (52, 'Filo Mix', 24, 5, '16 - 2 kg boxes', 7),\n",
       " (23, 'Tunnbröd', 9, 5, '12 - 250 g pkgs.', 9),\n",
       " (3, 'Aniseed Syrup', 1, 2, '12 - 550 ml bottles', 10),\n",
       " (21, \"Sir Rodney's Scones\", 8, 3, '24 pkgs. x 4 pieces', 10),\n",
       " (74, 'Longlife Tofu', 4, 7, '5 kg pkg.', 10),\n",
       " (46, 'Spegesild', 21, 8, '4 - 450 g glasses', 12),\n",
       " (58, 'Escargots de Bourgogne', 27, 8, '24 pieces', 13),\n",
       " (77, 'Original Frankfurter grüne Soße', 12, 2, '12 boxes', 13),\n",
       " (25, 'NuNuCa Nuß-Nougat-Creme', 11, 3, '20 - 450 g glasses', 14)]"
      ]
     },
     "execution_count": 56,
     "metadata": {},
     "output_type": "execute_result"
    }
   ],
   "source": [
    "%%sql\n",
    "\n",
    "SELECT * FROM Products ORDER BY Price LIMIT 10;"
   ]
  },
  {
   "cell_type": "code",
   "execution_count": 57,
   "metadata": {},
   "outputs": [
    {
     "name": "stdout",
     "output_type": "stream",
     "text": [
      " * sqlite:///vbo.db\n",
      "Done.\n"
     ]
    },
    {
     "data": {
      "text/html": [
       "<table>\n",
       "    <tr>\n",
       "        <th>ProductID</th>\n",
       "        <th>ProductName</th>\n",
       "        <th>SupplierID</th>\n",
       "        <th>CategoryID</th>\n",
       "        <th>Unit</th>\n",
       "        <th>Price</th>\n",
       "    </tr>\n",
       "    <tr>\n",
       "        <td>31</td>\n",
       "        <td>Gorgonzola Telino</td>\n",
       "        <td>14</td>\n",
       "        <td>4</td>\n",
       "        <td>12 - 100 g pkgs</td>\n",
       "        <td>435</td>\n",
       "    </tr>\n",
       "    <tr>\n",
       "        <td>38</td>\n",
       "        <td>Côte de Blaye</td>\n",
       "        <td>18</td>\n",
       "        <td>1</td>\n",
       "        <td>12 - 75 cl bottles</td>\n",
       "        <td>263</td>\n",
       "    </tr>\n",
       "    <tr>\n",
       "        <td>29</td>\n",
       "        <td>Thüringer Rostbratwurst</td>\n",
       "        <td>12</td>\n",
       "        <td>6</td>\n",
       "        <td>50 bags x 30 sausgs.</td>\n",
       "        <td>123</td>\n",
       "    </tr>\n",
       "    <tr>\n",
       "        <td>9</td>\n",
       "        <td>Mishi Kobe Niku</td>\n",
       "        <td>4</td>\n",
       "        <td>6</td>\n",
       "        <td>18 - 500 g pkgs.</td>\n",
       "        <td>97</td>\n",
       "    </tr>\n",
       "    <tr>\n",
       "        <td>20</td>\n",
       "        <td>Sir Rodney&#x27;s Marmalade</td>\n",
       "        <td>8</td>\n",
       "        <td>3</td>\n",
       "        <td>30 gift boxes</td>\n",
       "        <td>81</td>\n",
       "    </tr>\n",
       "    <tr>\n",
       "        <td>18</td>\n",
       "        <td>Carnarvon Tigers</td>\n",
       "        <td>7</td>\n",
       "        <td>8</td>\n",
       "        <td>16 kg pkg.</td>\n",
       "        <td>62</td>\n",
       "    </tr>\n",
       "    <tr>\n",
       "        <td>59</td>\n",
       "        <td>Raclette Courdavault</td>\n",
       "        <td>28</td>\n",
       "        <td>4</td>\n",
       "        <td>5 kg pkg.</td>\n",
       "        <td>55</td>\n",
       "    </tr>\n",
       "    <tr>\n",
       "        <td>51</td>\n",
       "        <td>Manjimup Dried Apples</td>\n",
       "        <td>24</td>\n",
       "        <td>7</td>\n",
       "        <td>50 - 300 g pkgs.</td>\n",
       "        <td>53</td>\n",
       "    </tr>\n",
       "    <tr>\n",
       "        <td>62</td>\n",
       "        <td>Tarte au sucre</td>\n",
       "        <td>29</td>\n",
       "        <td>3</td>\n",
       "        <td>48 pies</td>\n",
       "        <td>49</td>\n",
       "    </tr>\n",
       "    <tr>\n",
       "        <td>43</td>\n",
       "        <td>Ipoh Coffee</td>\n",
       "        <td>20</td>\n",
       "        <td>1</td>\n",
       "        <td>16 - 500 g tins</td>\n",
       "        <td>46</td>\n",
       "    </tr>\n",
       "</table>"
      ],
      "text/plain": [
       "[(31, 'Gorgonzola Telino', 14, 4, '12 - 100 g pkgs', 435),\n",
       " (38, 'Côte de Blaye', 18, 1, '12 - 75 cl bottles', 263),\n",
       " (29, 'Thüringer Rostbratwurst', 12, 6, '50 bags x 30 sausgs.', 123),\n",
       " (9, 'Mishi Kobe Niku', 4, 6, '18 - 500 g pkgs.', 97),\n",
       " (20, \"Sir Rodney's Marmalade\", 8, 3, '30 gift boxes', 81),\n",
       " (18, 'Carnarvon Tigers', 7, 8, '16 kg pkg.', 62),\n",
       " (59, 'Raclette Courdavault', 28, 4, '5 kg pkg.', 55),\n",
       " (51, 'Manjimup Dried Apples', 24, 7, '50 - 300 g pkgs.', 53),\n",
       " (62, 'Tarte au sucre', 29, 3, '48 pies', 49),\n",
       " (43, 'Ipoh Coffee', 20, 1, '16 - 500 g tins', 46)]"
      ]
     },
     "execution_count": 57,
     "metadata": {},
     "output_type": "execute_result"
    }
   ],
   "source": [
    "%%sql\n",
    "\n",
    "SELECT * FROM Products ORDER BY Price DESC LIMIT 10;"
   ]
  },
  {
   "cell_type": "markdown",
   "metadata": {},
   "source": [
    "-----------"
   ]
  },
  {
   "cell_type": "markdown",
   "metadata": {},
   "source": [
    "## 8. WHERE"
   ]
  },
  {
   "cell_type": "code",
   "execution_count": 61,
   "metadata": {},
   "outputs": [
    {
     "name": "stdout",
     "output_type": "stream",
     "text": [
      " * sqlite:///vbo.db\n",
      "Done.\n"
     ]
    },
    {
     "data": {
      "text/html": [
       "<table>\n",
       "    <tr>\n",
       "        <th>CustomerID</th>\n",
       "        <th>CustomerName</th>\n",
       "        <th>ContactName</th>\n",
       "        <th>Address</th>\n",
       "        <th>City</th>\n",
       "        <th>PostalCode</th>\n",
       "        <th>Country</th>\n",
       "    </tr>\n",
       "    <tr>\n",
       "        <td>1</td>\n",
       "        <td>Alfreds Futterkiste</td>\n",
       "        <td>Maria Anders</td>\n",
       "        <td>Obere Str. 57</td>\n",
       "        <td>Berlin</td>\n",
       "        <td>12209</td>\n",
       "        <td>Germany</td>\n",
       "    </tr>\n",
       "    <tr>\n",
       "        <td>2</td>\n",
       "        <td>Ana Trujillo Emparedados y helados</td>\n",
       "        <td>Ana Trujillo</td>\n",
       "        <td>Avda. de la Constitución 2222</td>\n",
       "        <td>México D.F.</td>\n",
       "        <td>5021</td>\n",
       "        <td>Mexico</td>\n",
       "    </tr>\n",
       "    <tr>\n",
       "        <td>3</td>\n",
       "        <td>Antonio Moreno Taquería</td>\n",
       "        <td>Antonio Moreno</td>\n",
       "        <td>Mataderos 2312</td>\n",
       "        <td>México D.F.</td>\n",
       "        <td>5023</td>\n",
       "        <td>Mexico</td>\n",
       "    </tr>\n",
       "    <tr>\n",
       "        <td>4</td>\n",
       "        <td>Around the Horn</td>\n",
       "        <td>Thomas Hardy</td>\n",
       "        <td>120 Hanover Sq.</td>\n",
       "        <td>London</td>\n",
       "        <td>WA1 1DP</td>\n",
       "        <td>UK</td>\n",
       "    </tr>\n",
       "    <tr>\n",
       "        <td>5</td>\n",
       "        <td>Berglunds snabbköp</td>\n",
       "        <td>Christina Berglund</td>\n",
       "        <td>Berguvsvägen 8</td>\n",
       "        <td>Luleå</td>\n",
       "        <td>S-958 22</td>\n",
       "        <td>Sweden</td>\n",
       "    </tr>\n",
       "    <tr>\n",
       "        <td>6</td>\n",
       "        <td>Blauer See Delikatessen</td>\n",
       "        <td>Hanna Moos</td>\n",
       "        <td>Forsterstr. 57</td>\n",
       "        <td>Mannheim</td>\n",
       "        <td>68306</td>\n",
       "        <td>Germany</td>\n",
       "    </tr>\n",
       "    <tr>\n",
       "        <td>7</td>\n",
       "        <td>Blondel père et fils</td>\n",
       "        <td>Frédérique Citeaux</td>\n",
       "        <td>24, place Kléber</td>\n",
       "        <td>Strasbourg</td>\n",
       "        <td>67000</td>\n",
       "        <td>France</td>\n",
       "    </tr>\n",
       "    <tr>\n",
       "        <td>8</td>\n",
       "        <td>Bólido Comidas preparadas</td>\n",
       "        <td>Martín Sommer</td>\n",
       "        <td>C/ Araquil, 67</td>\n",
       "        <td>Madrid</td>\n",
       "        <td>28023</td>\n",
       "        <td>Spain</td>\n",
       "    </tr>\n",
       "    <tr>\n",
       "        <td>9</td>\n",
       "        <td>Bon app&#x27;</td>\n",
       "        <td>Laurence Lebihans</td>\n",
       "        <td>12, rue des Bouchers</td>\n",
       "        <td>Marseille</td>\n",
       "        <td>13008</td>\n",
       "        <td>France</td>\n",
       "    </tr>\n",
       "    <tr>\n",
       "        <td>10</td>\n",
       "        <td>Bottom-Dollar Marketse</td>\n",
       "        <td>Elizabeth Lincoln</td>\n",
       "        <td>23 Tsawassen Blvd.</td>\n",
       "        <td>Tsawassen</td>\n",
       "        <td>T2F 8M4</td>\n",
       "        <td>Canada</td>\n",
       "    </tr>\n",
       "</table>"
      ],
      "text/plain": [
       "[(1, 'Alfreds Futterkiste', 'Maria Anders', 'Obere Str. 57', 'Berlin', '12209', 'Germany'),\n",
       " (2, 'Ana Trujillo Emparedados y helados', 'Ana Trujillo', 'Avda. de la Constitución 2222', 'México D.F.', '5021', 'Mexico'),\n",
       " (3, 'Antonio Moreno Taquería', 'Antonio Moreno', 'Mataderos 2312', 'México D.F.', '5023', 'Mexico'),\n",
       " (4, 'Around the Horn', 'Thomas Hardy', '120 Hanover Sq.', 'London', 'WA1 1DP', 'UK'),\n",
       " (5, 'Berglunds snabbköp', 'Christina Berglund', 'Berguvsvägen 8', 'Luleå', 'S-958 22', 'Sweden'),\n",
       " (6, 'Blauer See Delikatessen', 'Hanna Moos', 'Forsterstr. 57', 'Mannheim', '68306', 'Germany'),\n",
       " (7, 'Blondel père et fils', 'Frédérique Citeaux', '24, place Kléber', 'Strasbourg', '67000', 'France'),\n",
       " (8, 'Bólido Comidas preparadas', 'Martín Sommer', 'C/ Araquil, 67', 'Madrid', '28023', 'Spain'),\n",
       " (9, \"Bon app'\", 'Laurence Lebihans', '12, rue des Bouchers', 'Marseille', '13008', 'France'),\n",
       " (10, 'Bottom-Dollar Marketse', 'Elizabeth Lincoln', '23 Tsawassen Blvd.', 'Tsawassen', 'T2F 8M4', 'Canada')]"
      ]
     },
     "execution_count": 61,
     "metadata": {},
     "output_type": "execute_result"
    }
   ],
   "source": [
    "%%sql\n",
    "\n",
    "SELECT * FROM Customers LIMIT 10;"
   ]
  },
  {
   "cell_type": "code",
   "execution_count": 63,
   "metadata": {},
   "outputs": [
    {
     "name": "stdout",
     "output_type": "stream",
     "text": [
      " * sqlite:///vbo.db\n",
      "Done.\n"
     ]
    },
    {
     "data": {
      "text/html": [
       "<table>\n",
       "    <tr>\n",
       "        <th>CustomerID</th>\n",
       "        <th>CustomerName</th>\n",
       "        <th>ContactName</th>\n",
       "        <th>Address</th>\n",
       "        <th>City</th>\n",
       "        <th>PostalCode</th>\n",
       "        <th>Country</th>\n",
       "    </tr>\n",
       "    <tr>\n",
       "        <td>5</td>\n",
       "        <td>Berglunds snabbköp</td>\n",
       "        <td>Christina Berglund</td>\n",
       "        <td>Berguvsvägen 8</td>\n",
       "        <td>Luleå</td>\n",
       "        <td>S-958 22</td>\n",
       "        <td>Sweden</td>\n",
       "    </tr>\n",
       "    <tr>\n",
       "        <td>24</td>\n",
       "        <td>Folk och fä HB</td>\n",
       "        <td>Maria Larsson</td>\n",
       "        <td>Åkergatan 24</td>\n",
       "        <td>Bräcke</td>\n",
       "        <td>S-844 67</td>\n",
       "        <td>Sweden</td>\n",
       "    </tr>\n",
       "</table>"
      ],
      "text/plain": [
       "[(5, 'Berglunds snabbköp', 'Christina Berglund', 'Berguvsvägen 8', 'Luleå', 'S-958 22', 'Sweden'),\n",
       " (24, 'Folk och fä HB', 'Maria Larsson', 'Åkergatan 24', 'Bräcke', 'S-844 67', 'Sweden')]"
      ]
     },
     "execution_count": 63,
     "metadata": {},
     "output_type": "execute_result"
    }
   ],
   "source": [
    "%%sql\n",
    "\n",
    "SELECT * FROM Customers WHERE Country = 'Sweden';"
   ]
  },
  {
   "cell_type": "code",
   "execution_count": 64,
   "metadata": {},
   "outputs": [
    {
     "name": "stdout",
     "output_type": "stream",
     "text": [
      " * sqlite:///vbo.db\n",
      "Done.\n"
     ]
    },
    {
     "data": {
      "text/html": [
       "<table>\n",
       "    <tr>\n",
       "        <th>CustomerID</th>\n",
       "        <th>CustomerName</th>\n",
       "        <th>ContactName</th>\n",
       "        <th>Address</th>\n",
       "        <th>City</th>\n",
       "        <th>PostalCode</th>\n",
       "        <th>Country</th>\n",
       "    </tr>\n",
       "    <tr>\n",
       "        <td>1</td>\n",
       "        <td>Alfreds Futterkiste</td>\n",
       "        <td>Maria Anders</td>\n",
       "        <td>Obere Str. 57</td>\n",
       "        <td>Berlin</td>\n",
       "        <td>12209</td>\n",
       "        <td>Germany</td>\n",
       "    </tr>\n",
       "</table>"
      ],
      "text/plain": [
       "[(1, 'Alfreds Futterkiste', 'Maria Anders', 'Obere Str. 57', 'Berlin', '12209', 'Germany')]"
      ]
     },
     "execution_count": 64,
     "metadata": {},
     "output_type": "execute_result"
    }
   ],
   "source": [
    "%%sql\n",
    "\n",
    "SELECT * FROM Customers WHERE City = 'Berlin';"
   ]
  },
  {
   "cell_type": "code",
   "execution_count": 65,
   "metadata": {},
   "outputs": [
    {
     "name": "stdout",
     "output_type": "stream",
     "text": [
      " * sqlite:///vbo.db\n",
      "Done.\n"
     ]
    },
    {
     "data": {
      "text/html": [
       "<table>\n",
       "    <tr>\n",
       "        <th>CustomerID</th>\n",
       "        <th>CustomerName</th>\n",
       "        <th>ContactName</th>\n",
       "        <th>Address</th>\n",
       "        <th>City</th>\n",
       "        <th>PostalCode</th>\n",
       "        <th>Country</th>\n",
       "    </tr>\n",
       "    <tr>\n",
       "        <td>2</td>\n",
       "        <td>Ana Trujillo Emparedados y helados</td>\n",
       "        <td>Ana Trujillo</td>\n",
       "        <td>Avda. de la Constitución 2222</td>\n",
       "        <td>México D.F.</td>\n",
       "        <td>5021</td>\n",
       "        <td>Mexico</td>\n",
       "    </tr>\n",
       "    <tr>\n",
       "        <td>3</td>\n",
       "        <td>Antonio Moreno Taquería</td>\n",
       "        <td>Antonio Moreno</td>\n",
       "        <td>Mataderos 2312</td>\n",
       "        <td>México D.F.</td>\n",
       "        <td>5023</td>\n",
       "        <td>Mexico</td>\n",
       "    </tr>\n",
       "    <tr>\n",
       "        <td>4</td>\n",
       "        <td>Around the Horn</td>\n",
       "        <td>Thomas Hardy</td>\n",
       "        <td>120 Hanover Sq.</td>\n",
       "        <td>London</td>\n",
       "        <td>WA1 1DP</td>\n",
       "        <td>UK</td>\n",
       "    </tr>\n",
       "    <tr>\n",
       "        <td>5</td>\n",
       "        <td>Berglunds snabbköp</td>\n",
       "        <td>Christina Berglund</td>\n",
       "        <td>Berguvsvägen 8</td>\n",
       "        <td>Luleå</td>\n",
       "        <td>S-958 22</td>\n",
       "        <td>Sweden</td>\n",
       "    </tr>\n",
       "    <tr>\n",
       "        <td>6</td>\n",
       "        <td>Blauer See Delikatessen</td>\n",
       "        <td>Hanna Moos</td>\n",
       "        <td>Forsterstr. 57</td>\n",
       "        <td>Mannheim</td>\n",
       "        <td>68306</td>\n",
       "        <td>Germany</td>\n",
       "    </tr>\n",
       "    <tr>\n",
       "        <td>7</td>\n",
       "        <td>Blondel père et fils</td>\n",
       "        <td>Frédérique Citeaux</td>\n",
       "        <td>24, place Kléber</td>\n",
       "        <td>Strasbourg</td>\n",
       "        <td>67000</td>\n",
       "        <td>France</td>\n",
       "    </tr>\n",
       "    <tr>\n",
       "        <td>8</td>\n",
       "        <td>Bólido Comidas preparadas</td>\n",
       "        <td>Martín Sommer</td>\n",
       "        <td>C/ Araquil, 67</td>\n",
       "        <td>Madrid</td>\n",
       "        <td>28023</td>\n",
       "        <td>Spain</td>\n",
       "    </tr>\n",
       "    <tr>\n",
       "        <td>9</td>\n",
       "        <td>Bon app&#x27;</td>\n",
       "        <td>Laurence Lebihans</td>\n",
       "        <td>12, rue des Bouchers</td>\n",
       "        <td>Marseille</td>\n",
       "        <td>13008</td>\n",
       "        <td>France</td>\n",
       "    </tr>\n",
       "    <tr>\n",
       "        <td>10</td>\n",
       "        <td>Bottom-Dollar Marketse</td>\n",
       "        <td>Elizabeth Lincoln</td>\n",
       "        <td>23 Tsawassen Blvd.</td>\n",
       "        <td>Tsawassen</td>\n",
       "        <td>T2F 8M4</td>\n",
       "        <td>Canada</td>\n",
       "    </tr>\n",
       "    <tr>\n",
       "        <td>11</td>\n",
       "        <td>B&#x27;s Beverages</td>\n",
       "        <td>Victoria Ashworth</td>\n",
       "        <td>Fauntleroy Circus</td>\n",
       "        <td>London</td>\n",
       "        <td>EC2 5NT</td>\n",
       "        <td>UK</td>\n",
       "    </tr>\n",
       "</table>"
      ],
      "text/plain": [
       "[(2, 'Ana Trujillo Emparedados y helados', 'Ana Trujillo', 'Avda. de la Constitución 2222', 'México D.F.', '5021', 'Mexico'),\n",
       " (3, 'Antonio Moreno Taquería', 'Antonio Moreno', 'Mataderos 2312', 'México D.F.', '5023', 'Mexico'),\n",
       " (4, 'Around the Horn', 'Thomas Hardy', '120 Hanover Sq.', 'London', 'WA1 1DP', 'UK'),\n",
       " (5, 'Berglunds snabbköp', 'Christina Berglund', 'Berguvsvägen 8', 'Luleå', 'S-958 22', 'Sweden'),\n",
       " (6, 'Blauer See Delikatessen', 'Hanna Moos', 'Forsterstr. 57', 'Mannheim', '68306', 'Germany'),\n",
       " (7, 'Blondel père et fils', 'Frédérique Citeaux', '24, place Kléber', 'Strasbourg', '67000', 'France'),\n",
       " (8, 'Bólido Comidas preparadas', 'Martín Sommer', 'C/ Araquil, 67', 'Madrid', '28023', 'Spain'),\n",
       " (9, \"Bon app'\", 'Laurence Lebihans', '12, rue des Bouchers', 'Marseille', '13008', 'France'),\n",
       " (10, 'Bottom-Dollar Marketse', 'Elizabeth Lincoln', '23 Tsawassen Blvd.', 'Tsawassen', 'T2F 8M4', 'Canada'),\n",
       " (11, \"B's Beverages\", 'Victoria Ashworth', 'Fauntleroy Circus', 'London', 'EC2 5NT', 'UK')]"
      ]
     },
     "execution_count": 65,
     "metadata": {},
     "output_type": "execute_result"
    }
   ],
   "source": [
    "%%sql\n",
    "\n",
    "SELECT * FROM Customers WHERE NOT City = 'Berlin' LIMIT 10;"
   ]
  },
  {
   "cell_type": "code",
   "execution_count": 66,
   "metadata": {},
   "outputs": [
    {
     "name": "stdout",
     "output_type": "stream",
     "text": [
      " * sqlite:///vbo.db\n",
      "Done.\n"
     ]
    },
    {
     "data": {
      "text/html": [
       "<table>\n",
       "    <tr>\n",
       "        <th>CustomerID</th>\n",
       "        <th>CustomerName</th>\n",
       "        <th>ContactName</th>\n",
       "        <th>Address</th>\n",
       "        <th>City</th>\n",
       "        <th>PostalCode</th>\n",
       "        <th>Country</th>\n",
       "    </tr>\n",
       "    <tr>\n",
       "        <td>2</td>\n",
       "        <td>Ana Trujillo Emparedados y helados</td>\n",
       "        <td>Ana Trujillo</td>\n",
       "        <td>Avda. de la Constitución 2222</td>\n",
       "        <td>México D.F.</td>\n",
       "        <td>5021</td>\n",
       "        <td>Mexico</td>\n",
       "    </tr>\n",
       "</table>"
      ],
      "text/plain": [
       "[(2, 'Ana Trujillo Emparedados y helados', 'Ana Trujillo', 'Avda. de la Constitución 2222', 'México D.F.', '5021', 'Mexico')]"
      ]
     },
     "execution_count": 66,
     "metadata": {},
     "output_type": "execute_result"
    }
   ],
   "source": [
    "%%sql\n",
    "\n",
    "SELECT * FROM Customers WHERE PostalCode = 5021;"
   ]
  },
  {
   "cell_type": "code",
   "execution_count": 67,
   "metadata": {},
   "outputs": [
    {
     "name": "stdout",
     "output_type": "stream",
     "text": [
      " * sqlite:///vbo.db\n",
      "Done.\n"
     ]
    },
    {
     "data": {
      "text/html": [
       "<table>\n",
       "    <tr>\n",
       "        <th>CustomerID</th>\n",
       "        <th>CustomerName</th>\n",
       "        <th>ContactName</th>\n",
       "        <th>Address</th>\n",
       "        <th>City</th>\n",
       "        <th>PostalCode</th>\n",
       "        <th>Country</th>\n",
       "    </tr>\n",
       "    <tr>\n",
       "        <td>1</td>\n",
       "        <td>Alfreds Futterkiste</td>\n",
       "        <td>Maria Anders</td>\n",
       "        <td>Obere Str. 57</td>\n",
       "        <td>Berlin</td>\n",
       "        <td>12209</td>\n",
       "        <td>Germany</td>\n",
       "    </tr>\n",
       "    <tr>\n",
       "        <td>3</td>\n",
       "        <td>Antonio Moreno Taquería</td>\n",
       "        <td>Antonio Moreno</td>\n",
       "        <td>Mataderos 2312</td>\n",
       "        <td>México D.F.</td>\n",
       "        <td>5023</td>\n",
       "        <td>Mexico</td>\n",
       "    </tr>\n",
       "    <tr>\n",
       "        <td>4</td>\n",
       "        <td>Around the Horn</td>\n",
       "        <td>Thomas Hardy</td>\n",
       "        <td>120 Hanover Sq.</td>\n",
       "        <td>London</td>\n",
       "        <td>WA1 1DP</td>\n",
       "        <td>UK</td>\n",
       "    </tr>\n",
       "    <tr>\n",
       "        <td>5</td>\n",
       "        <td>Berglunds snabbköp</td>\n",
       "        <td>Christina Berglund</td>\n",
       "        <td>Berguvsvägen 8</td>\n",
       "        <td>Luleå</td>\n",
       "        <td>S-958 22</td>\n",
       "        <td>Sweden</td>\n",
       "    </tr>\n",
       "    <tr>\n",
       "        <td>6</td>\n",
       "        <td>Blauer See Delikatessen</td>\n",
       "        <td>Hanna Moos</td>\n",
       "        <td>Forsterstr. 57</td>\n",
       "        <td>Mannheim</td>\n",
       "        <td>68306</td>\n",
       "        <td>Germany</td>\n",
       "    </tr>\n",
       "    <tr>\n",
       "        <td>7</td>\n",
       "        <td>Blondel père et fils</td>\n",
       "        <td>Frédérique Citeaux</td>\n",
       "        <td>24, place Kléber</td>\n",
       "        <td>Strasbourg</td>\n",
       "        <td>67000</td>\n",
       "        <td>France</td>\n",
       "    </tr>\n",
       "    <tr>\n",
       "        <td>8</td>\n",
       "        <td>Bólido Comidas preparadas</td>\n",
       "        <td>Martín Sommer</td>\n",
       "        <td>C/ Araquil, 67</td>\n",
       "        <td>Madrid</td>\n",
       "        <td>28023</td>\n",
       "        <td>Spain</td>\n",
       "    </tr>\n",
       "    <tr>\n",
       "        <td>9</td>\n",
       "        <td>Bon app&#x27;</td>\n",
       "        <td>Laurence Lebihans</td>\n",
       "        <td>12, rue des Bouchers</td>\n",
       "        <td>Marseille</td>\n",
       "        <td>13008</td>\n",
       "        <td>France</td>\n",
       "    </tr>\n",
       "    <tr>\n",
       "        <td>10</td>\n",
       "        <td>Bottom-Dollar Marketse</td>\n",
       "        <td>Elizabeth Lincoln</td>\n",
       "        <td>23 Tsawassen Blvd.</td>\n",
       "        <td>Tsawassen</td>\n",
       "        <td>T2F 8M4</td>\n",
       "        <td>Canada</td>\n",
       "    </tr>\n",
       "    <tr>\n",
       "        <td>11</td>\n",
       "        <td>B&#x27;s Beverages</td>\n",
       "        <td>Victoria Ashworth</td>\n",
       "        <td>Fauntleroy Circus</td>\n",
       "        <td>London</td>\n",
       "        <td>EC2 5NT</td>\n",
       "        <td>UK</td>\n",
       "    </tr>\n",
       "</table>"
      ],
      "text/plain": [
       "[(1, 'Alfreds Futterkiste', 'Maria Anders', 'Obere Str. 57', 'Berlin', '12209', 'Germany'),\n",
       " (3, 'Antonio Moreno Taquería', 'Antonio Moreno', 'Mataderos 2312', 'México D.F.', '5023', 'Mexico'),\n",
       " (4, 'Around the Horn', 'Thomas Hardy', '120 Hanover Sq.', 'London', 'WA1 1DP', 'UK'),\n",
       " (5, 'Berglunds snabbköp', 'Christina Berglund', 'Berguvsvägen 8', 'Luleå', 'S-958 22', 'Sweden'),\n",
       " (6, 'Blauer See Delikatessen', 'Hanna Moos', 'Forsterstr. 57', 'Mannheim', '68306', 'Germany'),\n",
       " (7, 'Blondel père et fils', 'Frédérique Citeaux', '24, place Kléber', 'Strasbourg', '67000', 'France'),\n",
       " (8, 'Bólido Comidas preparadas', 'Martín Sommer', 'C/ Araquil, 67', 'Madrid', '28023', 'Spain'),\n",
       " (9, \"Bon app'\", 'Laurence Lebihans', '12, rue des Bouchers', 'Marseille', '13008', 'France'),\n",
       " (10, 'Bottom-Dollar Marketse', 'Elizabeth Lincoln', '23 Tsawassen Blvd.', 'Tsawassen', 'T2F 8M4', 'Canada'),\n",
       " (11, \"B's Beverages\", 'Victoria Ashworth', 'Fauntleroy Circus', 'London', 'EC2 5NT', 'UK')]"
      ]
     },
     "execution_count": 67,
     "metadata": {},
     "output_type": "execute_result"
    }
   ],
   "source": [
    "%%sql\n",
    "\n",
    "SELECT * FROM Customers WHERE NOT PostalCode = 5021 LIMIT 10;"
   ]
  },
  {
   "cell_type": "code",
   "execution_count": 68,
   "metadata": {},
   "outputs": [
    {
     "name": "stdout",
     "output_type": "stream",
     "text": [
      " * sqlite:///vbo.db\n",
      "Done.\n"
     ]
    },
    {
     "data": {
      "text/html": [
       "<table>\n",
       "    <tr>\n",
       "        <th>CustomerID</th>\n",
       "        <th>CustomerName</th>\n",
       "        <th>ContactName</th>\n",
       "        <th>Address</th>\n",
       "        <th>City</th>\n",
       "        <th>PostalCode</th>\n",
       "        <th>Country</th>\n",
       "    </tr>\n",
       "    <tr>\n",
       "        <td>1</td>\n",
       "        <td>Alfreds Futterkiste</td>\n",
       "        <td>Maria Anders</td>\n",
       "        <td>Obere Str. 57</td>\n",
       "        <td>Berlin</td>\n",
       "        <td>12209</td>\n",
       "        <td>Germany</td>\n",
       "    </tr>\n",
       "    <tr>\n",
       "        <td>3</td>\n",
       "        <td>Antonio Moreno Taquería</td>\n",
       "        <td>Antonio Moreno</td>\n",
       "        <td>Mataderos 2312</td>\n",
       "        <td>México D.F.</td>\n",
       "        <td>5023</td>\n",
       "        <td>Mexico</td>\n",
       "    </tr>\n",
       "    <tr>\n",
       "        <td>4</td>\n",
       "        <td>Around the Horn</td>\n",
       "        <td>Thomas Hardy</td>\n",
       "        <td>120 Hanover Sq.</td>\n",
       "        <td>London</td>\n",
       "        <td>WA1 1DP</td>\n",
       "        <td>UK</td>\n",
       "    </tr>\n",
       "    <tr>\n",
       "        <td>5</td>\n",
       "        <td>Berglunds snabbköp</td>\n",
       "        <td>Christina Berglund</td>\n",
       "        <td>Berguvsvägen 8</td>\n",
       "        <td>Luleå</td>\n",
       "        <td>S-958 22</td>\n",
       "        <td>Sweden</td>\n",
       "    </tr>\n",
       "    <tr>\n",
       "        <td>6</td>\n",
       "        <td>Blauer See Delikatessen</td>\n",
       "        <td>Hanna Moos</td>\n",
       "        <td>Forsterstr. 57</td>\n",
       "        <td>Mannheim</td>\n",
       "        <td>68306</td>\n",
       "        <td>Germany</td>\n",
       "    </tr>\n",
       "    <tr>\n",
       "        <td>7</td>\n",
       "        <td>Blondel père et fils</td>\n",
       "        <td>Frédérique Citeaux</td>\n",
       "        <td>24, place Kléber</td>\n",
       "        <td>Strasbourg</td>\n",
       "        <td>67000</td>\n",
       "        <td>France</td>\n",
       "    </tr>\n",
       "    <tr>\n",
       "        <td>8</td>\n",
       "        <td>Bólido Comidas preparadas</td>\n",
       "        <td>Martín Sommer</td>\n",
       "        <td>C/ Araquil, 67</td>\n",
       "        <td>Madrid</td>\n",
       "        <td>28023</td>\n",
       "        <td>Spain</td>\n",
       "    </tr>\n",
       "    <tr>\n",
       "        <td>9</td>\n",
       "        <td>Bon app&#x27;</td>\n",
       "        <td>Laurence Lebihans</td>\n",
       "        <td>12, rue des Bouchers</td>\n",
       "        <td>Marseille</td>\n",
       "        <td>13008</td>\n",
       "        <td>France</td>\n",
       "    </tr>\n",
       "    <tr>\n",
       "        <td>10</td>\n",
       "        <td>Bottom-Dollar Marketse</td>\n",
       "        <td>Elizabeth Lincoln</td>\n",
       "        <td>23 Tsawassen Blvd.</td>\n",
       "        <td>Tsawassen</td>\n",
       "        <td>T2F 8M4</td>\n",
       "        <td>Canada</td>\n",
       "    </tr>\n",
       "    <tr>\n",
       "        <td>11</td>\n",
       "        <td>B&#x27;s Beverages</td>\n",
       "        <td>Victoria Ashworth</td>\n",
       "        <td>Fauntleroy Circus</td>\n",
       "        <td>London</td>\n",
       "        <td>EC2 5NT</td>\n",
       "        <td>UK</td>\n",
       "    </tr>\n",
       "</table>"
      ],
      "text/plain": [
       "[(1, 'Alfreds Futterkiste', 'Maria Anders', 'Obere Str. 57', 'Berlin', '12209', 'Germany'),\n",
       " (3, 'Antonio Moreno Taquería', 'Antonio Moreno', 'Mataderos 2312', 'México D.F.', '5023', 'Mexico'),\n",
       " (4, 'Around the Horn', 'Thomas Hardy', '120 Hanover Sq.', 'London', 'WA1 1DP', 'UK'),\n",
       " (5, 'Berglunds snabbköp', 'Christina Berglund', 'Berguvsvägen 8', 'Luleå', 'S-958 22', 'Sweden'),\n",
       " (6, 'Blauer See Delikatessen', 'Hanna Moos', 'Forsterstr. 57', 'Mannheim', '68306', 'Germany'),\n",
       " (7, 'Blondel père et fils', 'Frédérique Citeaux', '24, place Kléber', 'Strasbourg', '67000', 'France'),\n",
       " (8, 'Bólido Comidas preparadas', 'Martín Sommer', 'C/ Araquil, 67', 'Madrid', '28023', 'Spain'),\n",
       " (9, \"Bon app'\", 'Laurence Lebihans', '12, rue des Bouchers', 'Marseille', '13008', 'France'),\n",
       " (10, 'Bottom-Dollar Marketse', 'Elizabeth Lincoln', '23 Tsawassen Blvd.', 'Tsawassen', 'T2F 8M4', 'Canada'),\n",
       " (11, \"B's Beverages\", 'Victoria Ashworth', 'Fauntleroy Circus', 'London', 'EC2 5NT', 'UK')]"
      ]
     },
     "execution_count": 68,
     "metadata": {},
     "output_type": "execute_result"
    }
   ],
   "source": [
    "%%sql\n",
    "\n",
    "SELECT * FROM Customers WHERE NOT PostalCode = 5021 ORDER BY CustomerID LIMIT 10;"
   ]
  },
  {
   "cell_type": "code",
   "execution_count": 81,
   "metadata": {},
   "outputs": [
    {
     "name": "stdout",
     "output_type": "stream",
     "text": [
      " * sqlite:///vbo.db\n",
      "Done.\n"
     ]
    },
    {
     "data": {
      "text/html": [
       "<table>\n",
       "    <tr>\n",
       "        <th>Countries</th>\n",
       "        <th>CustomerName</th>\n",
       "        <th>Country</th>\n",
       "    </tr>\n",
       "    <tr>\n",
       "        <td>4</td>\n",
       "        <td>GROSELLA-Restaurante</td>\n",
       "        <td>Venezuela</td>\n",
       "    </tr>\n",
       "    <tr>\n",
       "        <td>5</td>\n",
       "        <td>Ana Trujillo Emparedados y helados</td>\n",
       "        <td>Mexico</td>\n",
       "    </tr>\n",
       "    <tr>\n",
       "        <td>5</td>\n",
       "        <td>Bólido Comidas preparadas</td>\n",
       "        <td>Spain</td>\n",
       "    </tr>\n",
       "    <tr>\n",
       "        <td>7</td>\n",
       "        <td>Around the Horn</td>\n",
       "        <td>UK</td>\n",
       "    </tr>\n",
       "    <tr>\n",
       "        <td>9</td>\n",
       "        <td>Comércio Mineiro</td>\n",
       "        <td>Brazil</td>\n",
       "    </tr>\n",
       "    <tr>\n",
       "        <td>11</td>\n",
       "        <td>Blondel père et fils</td>\n",
       "        <td>France</td>\n",
       "    </tr>\n",
       "    <tr>\n",
       "        <td>11</td>\n",
       "        <td>Alfreds Futterkiste</td>\n",
       "        <td>Germany</td>\n",
       "    </tr>\n",
       "    <tr>\n",
       "        <td>13</td>\n",
       "        <td>Great Lakes Food Market</td>\n",
       "        <td>USA</td>\n",
       "    </tr>\n",
       "</table>"
      ],
      "text/plain": [
       "[(4, 'GROSELLA-Restaurante', 'Venezuela'),\n",
       " (5, 'Ana Trujillo Emparedados y helados', 'Mexico'),\n",
       " (5, 'Bólido Comidas preparadas', 'Spain'),\n",
       " (7, 'Around the Horn', 'UK'),\n",
       " (9, 'Comércio Mineiro', 'Brazil'),\n",
       " (11, 'Blondel père et fils', 'France'),\n",
       " (11, 'Alfreds Futterkiste', 'Germany'),\n",
       " (13, 'Great Lakes Food Market', 'USA')]"
      ]
     },
     "execution_count": 81,
     "metadata": {},
     "output_type": "execute_result"
    }
   ],
   "source": [
    "%%sql\n",
    "\n",
    "SELECT Countries, CustomerName, COUNTRY FROM \n",
    "(SELECT CustomerID, CustomerName, ContactName, Country, COUNT(Country) AS Countries \n",
    "FROM Customers GROUP BY Country) WHERE COUNTRIES > 3 ORDER BY COUNTRIES"
   ]
  },
  {
   "cell_type": "markdown",
   "metadata": {},
   "source": [
    "-----------"
   ]
  },
  {
   "cell_type": "markdown",
   "metadata": {},
   "source": [
    "## 9. 'AND' ve 'OR' ifadeleri"
   ]
  },
  {
   "cell_type": "code",
   "execution_count": 83,
   "metadata": {},
   "outputs": [
    {
     "name": "stdout",
     "output_type": "stream",
     "text": [
      " * sqlite:///vbo.db\n",
      "Done.\n"
     ]
    },
    {
     "data": {
      "text/html": [
       "<table>\n",
       "    <tr>\n",
       "        <th>CustomerID</th>\n",
       "        <th>CustomerName</th>\n",
       "        <th>ContactName</th>\n",
       "        <th>Address</th>\n",
       "        <th>City</th>\n",
       "        <th>PostalCode</th>\n",
       "        <th>Country</th>\n",
       "    </tr>\n",
       "    <tr>\n",
       "        <td>1</td>\n",
       "        <td>Alfreds Futterkiste</td>\n",
       "        <td>Maria Anders</td>\n",
       "        <td>Obere Str. 57</td>\n",
       "        <td>Berlin</td>\n",
       "        <td>12209</td>\n",
       "        <td>Germany</td>\n",
       "    </tr>\n",
       "    <tr>\n",
       "        <td>2</td>\n",
       "        <td>Ana Trujillo Emparedados y helados</td>\n",
       "        <td>Ana Trujillo</td>\n",
       "        <td>Avda. de la Constitución 2222</td>\n",
       "        <td>México D.F.</td>\n",
       "        <td>5021</td>\n",
       "        <td>Mexico</td>\n",
       "    </tr>\n",
       "    <tr>\n",
       "        <td>3</td>\n",
       "        <td>Antonio Moreno Taquería</td>\n",
       "        <td>Antonio Moreno</td>\n",
       "        <td>Mataderos 2312</td>\n",
       "        <td>México D.F.</td>\n",
       "        <td>5023</td>\n",
       "        <td>Mexico</td>\n",
       "    </tr>\n",
       "    <tr>\n",
       "        <td>4</td>\n",
       "        <td>Around the Horn</td>\n",
       "        <td>Thomas Hardy</td>\n",
       "        <td>120 Hanover Sq.</td>\n",
       "        <td>London</td>\n",
       "        <td>WA1 1DP</td>\n",
       "        <td>UK</td>\n",
       "    </tr>\n",
       "    <tr>\n",
       "        <td>5</td>\n",
       "        <td>Berglunds snabbköp</td>\n",
       "        <td>Christina Berglund</td>\n",
       "        <td>Berguvsvägen 8</td>\n",
       "        <td>Luleå</td>\n",
       "        <td>S-958 22</td>\n",
       "        <td>Sweden</td>\n",
       "    </tr>\n",
       "    <tr>\n",
       "        <td>6</td>\n",
       "        <td>Blauer See Delikatessen</td>\n",
       "        <td>Hanna Moos</td>\n",
       "        <td>Forsterstr. 57</td>\n",
       "        <td>Mannheim</td>\n",
       "        <td>68306</td>\n",
       "        <td>Germany</td>\n",
       "    </tr>\n",
       "    <tr>\n",
       "        <td>7</td>\n",
       "        <td>Blondel père et fils</td>\n",
       "        <td>Frédérique Citeaux</td>\n",
       "        <td>24, place Kléber</td>\n",
       "        <td>Strasbourg</td>\n",
       "        <td>67000</td>\n",
       "        <td>France</td>\n",
       "    </tr>\n",
       "    <tr>\n",
       "        <td>8</td>\n",
       "        <td>Bólido Comidas preparadas</td>\n",
       "        <td>Martín Sommer</td>\n",
       "        <td>C/ Araquil, 67</td>\n",
       "        <td>Madrid</td>\n",
       "        <td>28023</td>\n",
       "        <td>Spain</td>\n",
       "    </tr>\n",
       "    <tr>\n",
       "        <td>9</td>\n",
       "        <td>Bon app&#x27;</td>\n",
       "        <td>Laurence Lebihans</td>\n",
       "        <td>12, rue des Bouchers</td>\n",
       "        <td>Marseille</td>\n",
       "        <td>13008</td>\n",
       "        <td>France</td>\n",
       "    </tr>\n",
       "    <tr>\n",
       "        <td>10</td>\n",
       "        <td>Bottom-Dollar Marketse</td>\n",
       "        <td>Elizabeth Lincoln</td>\n",
       "        <td>23 Tsawassen Blvd.</td>\n",
       "        <td>Tsawassen</td>\n",
       "        <td>T2F 8M4</td>\n",
       "        <td>Canada</td>\n",
       "    </tr>\n",
       "</table>"
      ],
      "text/plain": [
       "[(1, 'Alfreds Futterkiste', 'Maria Anders', 'Obere Str. 57', 'Berlin', '12209', 'Germany'),\n",
       " (2, 'Ana Trujillo Emparedados y helados', 'Ana Trujillo', 'Avda. de la Constitución 2222', 'México D.F.', '5021', 'Mexico'),\n",
       " (3, 'Antonio Moreno Taquería', 'Antonio Moreno', 'Mataderos 2312', 'México D.F.', '5023', 'Mexico'),\n",
       " (4, 'Around the Horn', 'Thomas Hardy', '120 Hanover Sq.', 'London', 'WA1 1DP', 'UK'),\n",
       " (5, 'Berglunds snabbköp', 'Christina Berglund', 'Berguvsvägen 8', 'Luleå', 'S-958 22', 'Sweden'),\n",
       " (6, 'Blauer See Delikatessen', 'Hanna Moos', 'Forsterstr. 57', 'Mannheim', '68306', 'Germany'),\n",
       " (7, 'Blondel père et fils', 'Frédérique Citeaux', '24, place Kléber', 'Strasbourg', '67000', 'France'),\n",
       " (8, 'Bólido Comidas preparadas', 'Martín Sommer', 'C/ Araquil, 67', 'Madrid', '28023', 'Spain'),\n",
       " (9, \"Bon app'\", 'Laurence Lebihans', '12, rue des Bouchers', 'Marseille', '13008', 'France'),\n",
       " (10, 'Bottom-Dollar Marketse', 'Elizabeth Lincoln', '23 Tsawassen Blvd.', 'Tsawassen', 'T2F 8M4', 'Canada')]"
      ]
     },
     "execution_count": 83,
     "metadata": {},
     "output_type": "execute_result"
    }
   ],
   "source": [
    "%%sql\n",
    "\n",
    "SELECT * FROM Customers LIMIT 10;"
   ]
  },
  {
   "cell_type": "code",
   "execution_count": 85,
   "metadata": {},
   "outputs": [
    {
     "name": "stdout",
     "output_type": "stream",
     "text": [
      " * sqlite:///vbo.db\n",
      "Done.\n"
     ]
    },
    {
     "data": {
      "text/html": [
       "<table>\n",
       "    <tr>\n",
       "        <th>CustomerID</th>\n",
       "        <th>CustomerName</th>\n",
       "        <th>ContactName</th>\n",
       "        <th>Address</th>\n",
       "        <th>City</th>\n",
       "        <th>PostalCode</th>\n",
       "        <th>Country</th>\n",
       "    </tr>\n",
       "    <tr>\n",
       "        <td>4</td>\n",
       "        <td>Around the Horn</td>\n",
       "        <td>Thomas Hardy</td>\n",
       "        <td>120 Hanover Sq.</td>\n",
       "        <td>London</td>\n",
       "        <td>WA1 1DP</td>\n",
       "        <td>UK</td>\n",
       "    </tr>\n",
       "    <tr>\n",
       "        <td>11</td>\n",
       "        <td>B&#x27;s Beverages</td>\n",
       "        <td>Victoria Ashworth</td>\n",
       "        <td>Fauntleroy Circus</td>\n",
       "        <td>London</td>\n",
       "        <td>EC2 5NT</td>\n",
       "        <td>UK</td>\n",
       "    </tr>\n",
       "    <tr>\n",
       "        <td>16</td>\n",
       "        <td>Consolidated Holdings</td>\n",
       "        <td>Elizabeth Brown</td>\n",
       "        <td>Berkeley Gardens 12 Brewery</td>\n",
       "        <td>London</td>\n",
       "        <td>WX1 6LT</td>\n",
       "        <td>UK</td>\n",
       "    </tr>\n",
       "    <tr>\n",
       "        <td>19</td>\n",
       "        <td>Eastern Connection</td>\n",
       "        <td>Ann Devon</td>\n",
       "        <td>35 King George</td>\n",
       "        <td>London</td>\n",
       "        <td>WX3 6FW</td>\n",
       "        <td>UK</td>\n",
       "    </tr>\n",
       "    <tr>\n",
       "        <td>53</td>\n",
       "        <td>North/South</td>\n",
       "        <td>Simon Crowther</td>\n",
       "        <td>South House 300 Queensbridge</td>\n",
       "        <td>London</td>\n",
       "        <td>SW7 1RZ</td>\n",
       "        <td>UK</td>\n",
       "    </tr>\n",
       "    <tr>\n",
       "        <td>72</td>\n",
       "        <td>Seven Seas Imports</td>\n",
       "        <td>Hari Kumar</td>\n",
       "        <td>90 Wadhurst Rd.</td>\n",
       "        <td>London</td>\n",
       "        <td>OX15 4NB</td>\n",
       "        <td>UK</td>\n",
       "    </tr>\n",
       "</table>"
      ],
      "text/plain": [
       "[(4, 'Around the Horn', 'Thomas Hardy', '120 Hanover Sq.', 'London', 'WA1 1DP', 'UK'),\n",
       " (11, \"B's Beverages\", 'Victoria Ashworth', 'Fauntleroy Circus', 'London', 'EC2 5NT', 'UK'),\n",
       " (16, 'Consolidated Holdings', 'Elizabeth Brown', 'Berkeley Gardens 12 Brewery', 'London', 'WX1 6LT', 'UK'),\n",
       " (19, 'Eastern Connection', 'Ann Devon', '35 King George', 'London', 'WX3 6FW', 'UK'),\n",
       " (53, 'North/South', 'Simon Crowther', 'South House 300 Queensbridge', 'London', 'SW7 1RZ', 'UK'),\n",
       " (72, 'Seven Seas Imports', 'Hari Kumar', '90 Wadhurst Rd.', 'London', 'OX15 4NB', 'UK')]"
      ]
     },
     "execution_count": 85,
     "metadata": {},
     "output_type": "execute_result"
    }
   ],
   "source": [
    "%%sql\n",
    "\n",
    "SELECT * FROM Customers WHERE Country = 'UK' AND City = 'London';"
   ]
  },
  {
   "cell_type": "code",
   "execution_count": 86,
   "metadata": {},
   "outputs": [
    {
     "name": "stdout",
     "output_type": "stream",
     "text": [
      " * sqlite:///vbo.db\n",
      "Done.\n"
     ]
    },
    {
     "data": {
      "text/html": [
       "<table>\n",
       "    <tr>\n",
       "        <th>CustomerID</th>\n",
       "        <th>CustomerName</th>\n",
       "        <th>ContactName</th>\n",
       "        <th>Address</th>\n",
       "        <th>City</th>\n",
       "        <th>PostalCode</th>\n",
       "        <th>Country</th>\n",
       "    </tr>\n",
       "    <tr>\n",
       "        <td>4</td>\n",
       "        <td>Around the Horn</td>\n",
       "        <td>Thomas Hardy</td>\n",
       "        <td>120 Hanover Sq.</td>\n",
       "        <td>London</td>\n",
       "        <td>WA1 1DP</td>\n",
       "        <td>UK</td>\n",
       "    </tr>\n",
       "    <tr>\n",
       "        <td>11</td>\n",
       "        <td>B&#x27;s Beverages</td>\n",
       "        <td>Victoria Ashworth</td>\n",
       "        <td>Fauntleroy Circus</td>\n",
       "        <td>London</td>\n",
       "        <td>EC2 5NT</td>\n",
       "        <td>UK</td>\n",
       "    </tr>\n",
       "    <tr>\n",
       "        <td>16</td>\n",
       "        <td>Consolidated Holdings</td>\n",
       "        <td>Elizabeth Brown</td>\n",
       "        <td>Berkeley Gardens 12 Brewery</td>\n",
       "        <td>London</td>\n",
       "        <td>WX1 6LT</td>\n",
       "        <td>UK</td>\n",
       "    </tr>\n",
       "    <tr>\n",
       "        <td>19</td>\n",
       "        <td>Eastern Connection</td>\n",
       "        <td>Ann Devon</td>\n",
       "        <td>35 King George</td>\n",
       "        <td>London</td>\n",
       "        <td>WX3 6FW</td>\n",
       "        <td>UK</td>\n",
       "    </tr>\n",
       "    <tr>\n",
       "        <td>32</td>\n",
       "        <td>Great Lakes Food Market</td>\n",
       "        <td>Howard Snyder</td>\n",
       "        <td>2732 Baker Blvd.</td>\n",
       "        <td>Eugene</td>\n",
       "        <td>97403</td>\n",
       "        <td>USA</td>\n",
       "    </tr>\n",
       "    <tr>\n",
       "        <td>36</td>\n",
       "        <td>Hungry Coyote Import Store</td>\n",
       "        <td>Yoshi Latimer</td>\n",
       "        <td>City Center Plaza 516 Main St.</td>\n",
       "        <td>Elgin</td>\n",
       "        <td>97827</td>\n",
       "        <td>USA</td>\n",
       "    </tr>\n",
       "    <tr>\n",
       "        <td>38</td>\n",
       "        <td>Island Trading</td>\n",
       "        <td>Helen Bennett</td>\n",
       "        <td>Garden House Crowther Way</td>\n",
       "        <td>Cowes</td>\n",
       "        <td>PO31 7PJ</td>\n",
       "        <td>UK</td>\n",
       "    </tr>\n",
       "    <tr>\n",
       "        <td>43</td>\n",
       "        <td>Lazy K Kountry Store</td>\n",
       "        <td>John Steel</td>\n",
       "        <td>12 Orchestra Terrace</td>\n",
       "        <td>Walla Walla</td>\n",
       "        <td>99362</td>\n",
       "        <td>USA</td>\n",
       "    </tr>\n",
       "    <tr>\n",
       "        <td>45</td>\n",
       "        <td>Let&#x27;s Stop N Shop</td>\n",
       "        <td>Jaime Yorres</td>\n",
       "        <td>87 Polk St. Suite 5</td>\n",
       "        <td>San Francisco</td>\n",
       "        <td>94117</td>\n",
       "        <td>USA</td>\n",
       "    </tr>\n",
       "    <tr>\n",
       "        <td>48</td>\n",
       "        <td>Lonesome Pine Restaurant</td>\n",
       "        <td>Fran Wilson</td>\n",
       "        <td>89 Chiaroscuro Rd.</td>\n",
       "        <td>Portland</td>\n",
       "        <td>97219</td>\n",
       "        <td>USA</td>\n",
       "    </tr>\n",
       "    <tr>\n",
       "        <td>53</td>\n",
       "        <td>North/South</td>\n",
       "        <td>Simon Crowther</td>\n",
       "        <td>South House 300 Queensbridge</td>\n",
       "        <td>London</td>\n",
       "        <td>SW7 1RZ</td>\n",
       "        <td>UK</td>\n",
       "    </tr>\n",
       "    <tr>\n",
       "        <td>55</td>\n",
       "        <td>Old World Delicatessen</td>\n",
       "        <td>Rene Phillips</td>\n",
       "        <td>2743 Bering St.</td>\n",
       "        <td>Anchorage</td>\n",
       "        <td>99508</td>\n",
       "        <td>USA</td>\n",
       "    </tr>\n",
       "    <tr>\n",
       "        <td>65</td>\n",
       "        <td>Rattlesnake Canyon Grocery</td>\n",
       "        <td>Paula Wilson</td>\n",
       "        <td>2817 Milton Dr.</td>\n",
       "        <td>Albuquerque</td>\n",
       "        <td>87110</td>\n",
       "        <td>USA</td>\n",
       "    </tr>\n",
       "    <tr>\n",
       "        <td>71</td>\n",
       "        <td>Save-a-lot Markets</td>\n",
       "        <td>Jose Pavarotti</td>\n",
       "        <td>187 Suffolk Ln.</td>\n",
       "        <td>Boise</td>\n",
       "        <td>83720</td>\n",
       "        <td>USA</td>\n",
       "    </tr>\n",
       "    <tr>\n",
       "        <td>72</td>\n",
       "        <td>Seven Seas Imports</td>\n",
       "        <td>Hari Kumar</td>\n",
       "        <td>90 Wadhurst Rd.</td>\n",
       "        <td>London</td>\n",
       "        <td>OX15 4NB</td>\n",
       "        <td>UK</td>\n",
       "    </tr>\n",
       "    <tr>\n",
       "        <td>75</td>\n",
       "        <td>Split Rail Beer &amp; Ale</td>\n",
       "        <td>Art Braunschweiger</td>\n",
       "        <td>P.O. Box 555</td>\n",
       "        <td>Lander</td>\n",
       "        <td>82520</td>\n",
       "        <td>USA</td>\n",
       "    </tr>\n",
       "    <tr>\n",
       "        <td>77</td>\n",
       "        <td>The Big Cheese</td>\n",
       "        <td>Liz Nixon</td>\n",
       "        <td>89 Jefferson Way Suite 2</td>\n",
       "        <td>Portland</td>\n",
       "        <td>97201</td>\n",
       "        <td>USA</td>\n",
       "    </tr>\n",
       "    <tr>\n",
       "        <td>78</td>\n",
       "        <td>The Cracker Box</td>\n",
       "        <td>Liu Wong</td>\n",
       "        <td>55 Grizzly Peak Rd.</td>\n",
       "        <td>Butte</td>\n",
       "        <td>59801</td>\n",
       "        <td>USA</td>\n",
       "    </tr>\n",
       "    <tr>\n",
       "        <td>82</td>\n",
       "        <td>Trail&#x27;s Head Gourmet Provisioners</td>\n",
       "        <td>Helvetius Nagy</td>\n",
       "        <td>722 DaVinci Blvd.</td>\n",
       "        <td>Kirkland</td>\n",
       "        <td>98034</td>\n",
       "        <td>USA</td>\n",
       "    </tr>\n",
       "    <tr>\n",
       "        <td>89</td>\n",
       "        <td>White Clover Markets</td>\n",
       "        <td>Karl Jablonski</td>\n",
       "        <td>305 - 14th Ave. S. Suite 3B</td>\n",
       "        <td>Seattle</td>\n",
       "        <td>98128</td>\n",
       "        <td>USA</td>\n",
       "    </tr>\n",
       "</table>"
      ],
      "text/plain": [
       "[(4, 'Around the Horn', 'Thomas Hardy', '120 Hanover Sq.', 'London', 'WA1 1DP', 'UK'),\n",
       " (11, \"B's Beverages\", 'Victoria Ashworth', 'Fauntleroy Circus', 'London', 'EC2 5NT', 'UK'),\n",
       " (16, 'Consolidated Holdings', 'Elizabeth Brown', 'Berkeley Gardens 12 Brewery', 'London', 'WX1 6LT', 'UK'),\n",
       " (19, 'Eastern Connection', 'Ann Devon', '35 King George', 'London', 'WX3 6FW', 'UK'),\n",
       " (32, 'Great Lakes Food Market', 'Howard Snyder', '2732 Baker Blvd.', 'Eugene', '97403', 'USA'),\n",
       " (36, 'Hungry Coyote Import Store', 'Yoshi Latimer', 'City Center Plaza 516 Main St.', 'Elgin', '97827', 'USA'),\n",
       " (38, 'Island Trading', 'Helen Bennett', 'Garden House Crowther Way', 'Cowes', 'PO31 7PJ', 'UK'),\n",
       " (43, 'Lazy K Kountry Store', 'John Steel', '12 Orchestra Terrace', 'Walla Walla', '99362', 'USA'),\n",
       " (45, \"Let's Stop N Shop\", 'Jaime Yorres', '87 Polk St. Suite 5', 'San Francisco', '94117', 'USA'),\n",
       " (48, 'Lonesome Pine Restaurant', 'Fran Wilson', '89 Chiaroscuro Rd.', 'Portland', '97219', 'USA'),\n",
       " (53, 'North/South', 'Simon Crowther', 'South House 300 Queensbridge', 'London', 'SW7 1RZ', 'UK'),\n",
       " (55, 'Old World Delicatessen', 'Rene Phillips', '2743 Bering St.', 'Anchorage', '99508', 'USA'),\n",
       " (65, 'Rattlesnake Canyon Grocery', 'Paula Wilson', '2817 Milton Dr.', 'Albuquerque', '87110', 'USA'),\n",
       " (71, 'Save-a-lot Markets', 'Jose Pavarotti', '187 Suffolk Ln.', 'Boise', '83720', 'USA'),\n",
       " (72, 'Seven Seas Imports', 'Hari Kumar', '90 Wadhurst Rd.', 'London', 'OX15 4NB', 'UK'),\n",
       " (75, 'Split Rail Beer & Ale', 'Art Braunschweiger', 'P.O. Box 555', 'Lander', '82520', 'USA'),\n",
       " (77, 'The Big Cheese', 'Liz Nixon', '89 Jefferson Way Suite 2', 'Portland', '97201', 'USA'),\n",
       " (78, 'The Cracker Box', 'Liu Wong', '55 Grizzly Peak Rd.', 'Butte', '59801', 'USA'),\n",
       " (82, \"Trail's Head Gourmet Provisioners\", 'Helvetius Nagy', '722 DaVinci Blvd.', 'Kirkland', '98034', 'USA'),\n",
       " (89, 'White Clover Markets', 'Karl Jablonski', '305 - 14th Ave. S. Suite 3B', 'Seattle', '98128', 'USA')]"
      ]
     },
     "execution_count": 86,
     "metadata": {},
     "output_type": "execute_result"
    }
   ],
   "source": [
    "%%sql\n",
    "\n",
    "SELECT * FROM Customers WHERE Country = 'UK' OR COUNTRY = 'USA';"
   ]
  },
  {
   "cell_type": "code",
   "execution_count": 87,
   "metadata": {},
   "outputs": [
    {
     "name": "stdout",
     "output_type": "stream",
     "text": [
      " * sqlite:///vbo.db\n",
      "Done.\n"
     ]
    },
    {
     "data": {
      "text/html": [
       "<table>\n",
       "    <tr>\n",
       "        <th>CustomerID</th>\n",
       "        <th>CustomerName</th>\n",
       "        <th>ContactName</th>\n",
       "        <th>Address</th>\n",
       "        <th>City</th>\n",
       "        <th>PostalCode</th>\n",
       "        <th>Country</th>\n",
       "    </tr>\n",
       "</table>"
      ],
      "text/plain": [
       "[]"
      ]
     },
     "execution_count": 87,
     "metadata": {},
     "output_type": "execute_result"
    }
   ],
   "source": [
    "%%sql\n",
    "\n",
    "SELECT * FROM Customers WHERE Country = 'UK' AND COUNTRY = 'USA';"
   ]
  },
  {
   "cell_type": "code",
   "execution_count": 89,
   "metadata": {},
   "outputs": [
    {
     "name": "stdout",
     "output_type": "stream",
     "text": [
      " * sqlite:///vbo.db\n",
      "Done.\n"
     ]
    },
    {
     "data": {
      "text/html": [
       "<table>\n",
       "    <tr>\n",
       "        <th>CustomerID</th>\n",
       "        <th>CustomerName</th>\n",
       "        <th>ContactName</th>\n",
       "        <th>Address</th>\n",
       "        <th>City</th>\n",
       "        <th>PostalCode</th>\n",
       "        <th>Country</th>\n",
       "    </tr>\n",
       "    <tr>\n",
       "        <td>32</td>\n",
       "        <td>Great Lakes Food Market</td>\n",
       "        <td>Howard Snyder</td>\n",
       "        <td>2732 Baker Blvd.</td>\n",
       "        <td>Eugene</td>\n",
       "        <td>97403</td>\n",
       "        <td>USA</td>\n",
       "    </tr>\n",
       "    <tr>\n",
       "        <td>36</td>\n",
       "        <td>Hungry Coyote Import Store</td>\n",
       "        <td>Yoshi Latimer</td>\n",
       "        <td>City Center Plaza 516 Main St.</td>\n",
       "        <td>Elgin</td>\n",
       "        <td>97827</td>\n",
       "        <td>USA</td>\n",
       "    </tr>\n",
       "</table>"
      ],
      "text/plain": [
       "[(32, 'Great Lakes Food Market', 'Howard Snyder', '2732 Baker Blvd.', 'Eugene', '97403', 'USA'),\n",
       " (36, 'Hungry Coyote Import Store', 'Yoshi Latimer', 'City Center Plaza 516 Main St.', 'Elgin', '97827', 'USA')]"
      ]
     },
     "execution_count": 89,
     "metadata": {},
     "output_type": "execute_result"
    }
   ],
   "source": [
    "%%sql\n",
    "\n",
    "SELECT * FROM Customers WHERE Country = 'USA' AND (City = 'Eugene' OR City = 'Elgin');"
   ]
  },
  {
   "cell_type": "code",
   "execution_count": 92,
   "metadata": {},
   "outputs": [
    {
     "name": "stdout",
     "output_type": "stream",
     "text": [
      " * sqlite:///vbo.db\n",
      "Done.\n"
     ]
    },
    {
     "data": {
      "text/html": [
       "<table>\n",
       "    <tr>\n",
       "        <th>CustomerID</th>\n",
       "        <th>CustomerName</th>\n",
       "        <th>ContactName</th>\n",
       "        <th>Address</th>\n",
       "        <th>City</th>\n",
       "        <th>PostalCode</th>\n",
       "        <th>Country</th>\n",
       "    </tr>\n",
       "    <tr>\n",
       "        <td>32</td>\n",
       "        <td>Great Lakes Food Market</td>\n",
       "        <td>Howard Snyder</td>\n",
       "        <td>2732 Baker Blvd.</td>\n",
       "        <td>Eugene</td>\n",
       "        <td>97403</td>\n",
       "        <td>USA</td>\n",
       "    </tr>\n",
       "</table>"
      ],
      "text/plain": [
       "[(32, 'Great Lakes Food Market', 'Howard Snyder', '2732 Baker Blvd.', 'Eugene', '97403', 'USA')]"
      ]
     },
     "execution_count": 92,
     "metadata": {},
     "output_type": "execute_result"
    }
   ],
   "source": [
    "%%sql\n",
    "\n",
    "SELECT * FROM Customers WHERE Country = 'USA' AND PostalCode = 97403 AND (City = 'Eugene' OR City = 'Elgin');"
   ]
  },
  {
   "cell_type": "markdown",
   "metadata": {},
   "source": [
    "---------"
   ]
  },
  {
   "cell_type": "markdown",
   "metadata": {},
   "source": [
    "## 10. IN / OR KULLANIMI"
   ]
  },
  {
   "cell_type": "code",
   "execution_count": 93,
   "metadata": {},
   "outputs": [
    {
     "name": "stdout",
     "output_type": "stream",
     "text": [
      " * sqlite:///vbo.db\n",
      "Done.\n"
     ]
    },
    {
     "data": {
      "text/html": [
       "<table>\n",
       "    <tr>\n",
       "        <th>CustomerID</th>\n",
       "        <th>CustomerName</th>\n",
       "        <th>ContactName</th>\n",
       "        <th>Address</th>\n",
       "        <th>City</th>\n",
       "        <th>PostalCode</th>\n",
       "        <th>Country</th>\n",
       "    </tr>\n",
       "    <tr>\n",
       "        <td>1</td>\n",
       "        <td>Alfreds Futterkiste</td>\n",
       "        <td>Maria Anders</td>\n",
       "        <td>Obere Str. 57</td>\n",
       "        <td>Berlin</td>\n",
       "        <td>12209</td>\n",
       "        <td>Germany</td>\n",
       "    </tr>\n",
       "    <tr>\n",
       "        <td>2</td>\n",
       "        <td>Ana Trujillo Emparedados y helados</td>\n",
       "        <td>Ana Trujillo</td>\n",
       "        <td>Avda. de la Constitución 2222</td>\n",
       "        <td>México D.F.</td>\n",
       "        <td>5021</td>\n",
       "        <td>Mexico</td>\n",
       "    </tr>\n",
       "    <tr>\n",
       "        <td>3</td>\n",
       "        <td>Antonio Moreno Taquería</td>\n",
       "        <td>Antonio Moreno</td>\n",
       "        <td>Mataderos 2312</td>\n",
       "        <td>México D.F.</td>\n",
       "        <td>5023</td>\n",
       "        <td>Mexico</td>\n",
       "    </tr>\n",
       "    <tr>\n",
       "        <td>4</td>\n",
       "        <td>Around the Horn</td>\n",
       "        <td>Thomas Hardy</td>\n",
       "        <td>120 Hanover Sq.</td>\n",
       "        <td>London</td>\n",
       "        <td>WA1 1DP</td>\n",
       "        <td>UK</td>\n",
       "    </tr>\n",
       "    <tr>\n",
       "        <td>5</td>\n",
       "        <td>Berglunds snabbköp</td>\n",
       "        <td>Christina Berglund</td>\n",
       "        <td>Berguvsvägen 8</td>\n",
       "        <td>Luleå</td>\n",
       "        <td>S-958 22</td>\n",
       "        <td>Sweden</td>\n",
       "    </tr>\n",
       "    <tr>\n",
       "        <td>6</td>\n",
       "        <td>Blauer See Delikatessen</td>\n",
       "        <td>Hanna Moos</td>\n",
       "        <td>Forsterstr. 57</td>\n",
       "        <td>Mannheim</td>\n",
       "        <td>68306</td>\n",
       "        <td>Germany</td>\n",
       "    </tr>\n",
       "    <tr>\n",
       "        <td>7</td>\n",
       "        <td>Blondel père et fils</td>\n",
       "        <td>Frédérique Citeaux</td>\n",
       "        <td>24, place Kléber</td>\n",
       "        <td>Strasbourg</td>\n",
       "        <td>67000</td>\n",
       "        <td>France</td>\n",
       "    </tr>\n",
       "    <tr>\n",
       "        <td>8</td>\n",
       "        <td>Bólido Comidas preparadas</td>\n",
       "        <td>Martín Sommer</td>\n",
       "        <td>C/ Araquil, 67</td>\n",
       "        <td>Madrid</td>\n",
       "        <td>28023</td>\n",
       "        <td>Spain</td>\n",
       "    </tr>\n",
       "    <tr>\n",
       "        <td>9</td>\n",
       "        <td>Bon app&#x27;</td>\n",
       "        <td>Laurence Lebihans</td>\n",
       "        <td>12, rue des Bouchers</td>\n",
       "        <td>Marseille</td>\n",
       "        <td>13008</td>\n",
       "        <td>France</td>\n",
       "    </tr>\n",
       "    <tr>\n",
       "        <td>10</td>\n",
       "        <td>Bottom-Dollar Marketse</td>\n",
       "        <td>Elizabeth Lincoln</td>\n",
       "        <td>23 Tsawassen Blvd.</td>\n",
       "        <td>Tsawassen</td>\n",
       "        <td>T2F 8M4</td>\n",
       "        <td>Canada</td>\n",
       "    </tr>\n",
       "</table>"
      ],
      "text/plain": [
       "[(1, 'Alfreds Futterkiste', 'Maria Anders', 'Obere Str. 57', 'Berlin', '12209', 'Germany'),\n",
       " (2, 'Ana Trujillo Emparedados y helados', 'Ana Trujillo', 'Avda. de la Constitución 2222', 'México D.F.', '5021', 'Mexico'),\n",
       " (3, 'Antonio Moreno Taquería', 'Antonio Moreno', 'Mataderos 2312', 'México D.F.', '5023', 'Mexico'),\n",
       " (4, 'Around the Horn', 'Thomas Hardy', '120 Hanover Sq.', 'London', 'WA1 1DP', 'UK'),\n",
       " (5, 'Berglunds snabbköp', 'Christina Berglund', 'Berguvsvägen 8', 'Luleå', 'S-958 22', 'Sweden'),\n",
       " (6, 'Blauer See Delikatessen', 'Hanna Moos', 'Forsterstr. 57', 'Mannheim', '68306', 'Germany'),\n",
       " (7, 'Blondel père et fils', 'Frédérique Citeaux', '24, place Kléber', 'Strasbourg', '67000', 'France'),\n",
       " (8, 'Bólido Comidas preparadas', 'Martín Sommer', 'C/ Araquil, 67', 'Madrid', '28023', 'Spain'),\n",
       " (9, \"Bon app'\", 'Laurence Lebihans', '12, rue des Bouchers', 'Marseille', '13008', 'France'),\n",
       " (10, 'Bottom-Dollar Marketse', 'Elizabeth Lincoln', '23 Tsawassen Blvd.', 'Tsawassen', 'T2F 8M4', 'Canada')]"
      ]
     },
     "execution_count": 93,
     "metadata": {},
     "output_type": "execute_result"
    }
   ],
   "source": [
    "%%sql\n",
    "\n",
    "SELECT * FROM Customers LIMIT 10;"
   ]
  },
  {
   "cell_type": "code",
   "execution_count": 95,
   "metadata": {},
   "outputs": [
    {
     "name": "stdout",
     "output_type": "stream",
     "text": [
      " * sqlite:///vbo.db\n",
      "Done.\n"
     ]
    },
    {
     "data": {
      "text/html": [
       "<table>\n",
       "    <tr>\n",
       "        <th>CustomerID</th>\n",
       "        <th>CustomerName</th>\n",
       "        <th>ContactName</th>\n",
       "        <th>Address</th>\n",
       "        <th>City</th>\n",
       "        <th>PostalCode</th>\n",
       "        <th>Country</th>\n",
       "    </tr>\n",
       "    <tr>\n",
       "        <td>1</td>\n",
       "        <td>Alfreds Futterkiste</td>\n",
       "        <td>Maria Anders</td>\n",
       "        <td>Obere Str. 57</td>\n",
       "        <td>Berlin</td>\n",
       "        <td>12209</td>\n",
       "        <td>Germany</td>\n",
       "    </tr>\n",
       "    <tr>\n",
       "        <td>3</td>\n",
       "        <td>Antonio Moreno Taquería</td>\n",
       "        <td>Antonio Moreno</td>\n",
       "        <td>Mataderos 2312</td>\n",
       "        <td>México D.F.</td>\n",
       "        <td>5023</td>\n",
       "        <td>Mexico</td>\n",
       "    </tr>\n",
       "    <tr>\n",
       "        <td>5</td>\n",
       "        <td>Berglunds snabbköp</td>\n",
       "        <td>Christina Berglund</td>\n",
       "        <td>Berguvsvägen 8</td>\n",
       "        <td>Luleå</td>\n",
       "        <td>S-958 22</td>\n",
       "        <td>Sweden</td>\n",
       "    </tr>\n",
       "    <tr>\n",
       "        <td>7</td>\n",
       "        <td>Blondel père et fils</td>\n",
       "        <td>Frédérique Citeaux</td>\n",
       "        <td>24, place Kléber</td>\n",
       "        <td>Strasbourg</td>\n",
       "        <td>67000</td>\n",
       "        <td>France</td>\n",
       "    </tr>\n",
       "</table>"
      ],
      "text/plain": [
       "[(1, 'Alfreds Futterkiste', 'Maria Anders', 'Obere Str. 57', 'Berlin', '12209', 'Germany'),\n",
       " (3, 'Antonio Moreno Taquería', 'Antonio Moreno', 'Mataderos 2312', 'México D.F.', '5023', 'Mexico'),\n",
       " (5, 'Berglunds snabbköp', 'Christina Berglund', 'Berguvsvägen 8', 'Luleå', 'S-958 22', 'Sweden'),\n",
       " (7, 'Blondel père et fils', 'Frédérique Citeaux', '24, place Kléber', 'Strasbourg', '67000', 'France')]"
      ]
     },
     "execution_count": 95,
     "metadata": {},
     "output_type": "execute_result"
    }
   ],
   "source": [
    "%%sql\n",
    "\n",
    "SELECT * FROM Customers WHERE CustomerID IN (1, 3, 5, 7);"
   ]
  },
  {
   "cell_type": "code",
   "execution_count": 96,
   "metadata": {},
   "outputs": [
    {
     "name": "stdout",
     "output_type": "stream",
     "text": [
      " * sqlite:///vbo.db\n",
      "Done.\n"
     ]
    },
    {
     "data": {
      "text/html": [
       "<table>\n",
       "    <tr>\n",
       "        <th>CustomerID</th>\n",
       "        <th>CustomerName</th>\n",
       "        <th>ContactName</th>\n",
       "        <th>Address</th>\n",
       "        <th>City</th>\n",
       "        <th>PostalCode</th>\n",
       "        <th>Country</th>\n",
       "    </tr>\n",
       "    <tr>\n",
       "        <td>32</td>\n",
       "        <td>Great Lakes Food Market</td>\n",
       "        <td>Howard Snyder</td>\n",
       "        <td>2732 Baker Blvd.</td>\n",
       "        <td>Eugene</td>\n",
       "        <td>97403</td>\n",
       "        <td>USA</td>\n",
       "    </tr>\n",
       "    <tr>\n",
       "        <td>36</td>\n",
       "        <td>Hungry Coyote Import Store</td>\n",
       "        <td>Yoshi Latimer</td>\n",
       "        <td>City Center Plaza 516 Main St.</td>\n",
       "        <td>Elgin</td>\n",
       "        <td>97827</td>\n",
       "        <td>USA</td>\n",
       "    </tr>\n",
       "</table>"
      ],
      "text/plain": [
       "[(32, 'Great Lakes Food Market', 'Howard Snyder', '2732 Baker Blvd.', 'Eugene', '97403', 'USA'),\n",
       " (36, 'Hungry Coyote Import Store', 'Yoshi Latimer', 'City Center Plaza 516 Main St.', 'Elgin', '97827', 'USA')]"
      ]
     },
     "execution_count": 96,
     "metadata": {},
     "output_type": "execute_result"
    }
   ],
   "source": [
    "%%sql\n",
    "\n",
    "SELECT * FROM Customers WHERE Country = 'USA' AND City IN ('Eugene', 'Elgin');"
   ]
  },
  {
   "cell_type": "code",
   "execution_count": 98,
   "metadata": {},
   "outputs": [
    {
     "name": "stdout",
     "output_type": "stream",
     "text": [
      " * sqlite:///vbo.db\n",
      "Done.\n"
     ]
    },
    {
     "data": {
      "text/html": [
       "<table>\n",
       "    <tr>\n",
       "        <th>CustomerID</th>\n",
       "        <th>CustomerName</th>\n",
       "        <th>ContactName</th>\n",
       "        <th>Address</th>\n",
       "        <th>City</th>\n",
       "        <th>PostalCode</th>\n",
       "        <th>Country</th>\n",
       "    </tr>\n",
       "    <tr>\n",
       "        <td>2</td>\n",
       "        <td>Ana Trujillo Emparedados y helados</td>\n",
       "        <td>Ana Trujillo</td>\n",
       "        <td>Avda. de la Constitución 2222</td>\n",
       "        <td>México D.F.</td>\n",
       "        <td>5021</td>\n",
       "        <td>Mexico</td>\n",
       "    </tr>\n",
       "    <tr>\n",
       "        <td>4</td>\n",
       "        <td>Around the Horn</td>\n",
       "        <td>Thomas Hardy</td>\n",
       "        <td>120 Hanover Sq.</td>\n",
       "        <td>London</td>\n",
       "        <td>WA1 1DP</td>\n",
       "        <td>UK</td>\n",
       "    </tr>\n",
       "    <tr>\n",
       "        <td>6</td>\n",
       "        <td>Blauer See Delikatessen</td>\n",
       "        <td>Hanna Moos</td>\n",
       "        <td>Forsterstr. 57</td>\n",
       "        <td>Mannheim</td>\n",
       "        <td>68306</td>\n",
       "        <td>Germany</td>\n",
       "    </tr>\n",
       "    <tr>\n",
       "        <td>8</td>\n",
       "        <td>Bólido Comidas preparadas</td>\n",
       "        <td>Martín Sommer</td>\n",
       "        <td>C/ Araquil, 67</td>\n",
       "        <td>Madrid</td>\n",
       "        <td>28023</td>\n",
       "        <td>Spain</td>\n",
       "    </tr>\n",
       "    <tr>\n",
       "        <td>9</td>\n",
       "        <td>Bon app&#x27;</td>\n",
       "        <td>Laurence Lebihans</td>\n",
       "        <td>12, rue des Bouchers</td>\n",
       "        <td>Marseille</td>\n",
       "        <td>13008</td>\n",
       "        <td>France</td>\n",
       "    </tr>\n",
       "    <tr>\n",
       "        <td>10</td>\n",
       "        <td>Bottom-Dollar Marketse</td>\n",
       "        <td>Elizabeth Lincoln</td>\n",
       "        <td>23 Tsawassen Blvd.</td>\n",
       "        <td>Tsawassen</td>\n",
       "        <td>T2F 8M4</td>\n",
       "        <td>Canada</td>\n",
       "    </tr>\n",
       "    <tr>\n",
       "        <td>11</td>\n",
       "        <td>B&#x27;s Beverages</td>\n",
       "        <td>Victoria Ashworth</td>\n",
       "        <td>Fauntleroy Circus</td>\n",
       "        <td>London</td>\n",
       "        <td>EC2 5NT</td>\n",
       "        <td>UK</td>\n",
       "    </tr>\n",
       "    <tr>\n",
       "        <td>12</td>\n",
       "        <td>Cactus Comidas para llevar</td>\n",
       "        <td>Patricio Simpson</td>\n",
       "        <td>Cerrito 333</td>\n",
       "        <td>Buenos Aires</td>\n",
       "        <td>1010</td>\n",
       "        <td>Argentina</td>\n",
       "    </tr>\n",
       "    <tr>\n",
       "        <td>13</td>\n",
       "        <td>Centro comercial Moctezuma</td>\n",
       "        <td>Francisco Chang</td>\n",
       "        <td>Sierras de Granada 9993</td>\n",
       "        <td>México D.F.</td>\n",
       "        <td>5022</td>\n",
       "        <td>Mexico</td>\n",
       "    </tr>\n",
       "    <tr>\n",
       "        <td>14</td>\n",
       "        <td>Chop-suey Chinese</td>\n",
       "        <td>Yang Wang</td>\n",
       "        <td>Hauptstr. 29</td>\n",
       "        <td>Bern</td>\n",
       "        <td>3012</td>\n",
       "        <td>Switzerland</td>\n",
       "    </tr>\n",
       "</table>"
      ],
      "text/plain": [
       "[(2, 'Ana Trujillo Emparedados y helados', 'Ana Trujillo', 'Avda. de la Constitución 2222', 'México D.F.', '5021', 'Mexico'),\n",
       " (4, 'Around the Horn', 'Thomas Hardy', '120 Hanover Sq.', 'London', 'WA1 1DP', 'UK'),\n",
       " (6, 'Blauer See Delikatessen', 'Hanna Moos', 'Forsterstr. 57', 'Mannheim', '68306', 'Germany'),\n",
       " (8, 'Bólido Comidas preparadas', 'Martín Sommer', 'C/ Araquil, 67', 'Madrid', '28023', 'Spain'),\n",
       " (9, \"Bon app'\", 'Laurence Lebihans', '12, rue des Bouchers', 'Marseille', '13008', 'France'),\n",
       " (10, 'Bottom-Dollar Marketse', 'Elizabeth Lincoln', '23 Tsawassen Blvd.', 'Tsawassen', 'T2F 8M4', 'Canada'),\n",
       " (11, \"B's Beverages\", 'Victoria Ashworth', 'Fauntleroy Circus', 'London', 'EC2 5NT', 'UK'),\n",
       " (12, 'Cactus Comidas para llevar', 'Patricio Simpson', 'Cerrito 333', 'Buenos Aires', '1010', 'Argentina'),\n",
       " (13, 'Centro comercial Moctezuma', 'Francisco Chang', 'Sierras de Granada 9993', 'México D.F.', '5022', 'Mexico'),\n",
       " (14, 'Chop-suey Chinese', 'Yang Wang', 'Hauptstr. 29', 'Bern', '3012', 'Switzerland')]"
      ]
     },
     "execution_count": 98,
     "metadata": {},
     "output_type": "execute_result"
    }
   ],
   "source": [
    "%%sql\n",
    "\n",
    "SELECT * FROM Customers WHERE CustomerID NOT IN (1, 3, 5, 7) LIMIT 10;"
   ]
  },
  {
   "cell_type": "code",
   "execution_count": 99,
   "metadata": {},
   "outputs": [
    {
     "name": "stdout",
     "output_type": "stream",
     "text": [
      " * sqlite:///vbo.db\n",
      "Done.\n"
     ]
    },
    {
     "data": {
      "text/html": [
       "<table>\n",
       "    <tr>\n",
       "        <th>CustomerID</th>\n",
       "        <th>CustomerName</th>\n",
       "        <th>ContactName</th>\n",
       "        <th>Address</th>\n",
       "        <th>City</th>\n",
       "        <th>PostalCode</th>\n",
       "        <th>Country</th>\n",
       "    </tr>\n",
       "    <tr>\n",
       "        <td>43</td>\n",
       "        <td>Lazy K Kountry Store</td>\n",
       "        <td>John Steel</td>\n",
       "        <td>12 Orchestra Terrace</td>\n",
       "        <td>Walla Walla</td>\n",
       "        <td>99362</td>\n",
       "        <td>USA</td>\n",
       "    </tr>\n",
       "    <tr>\n",
       "        <td>45</td>\n",
       "        <td>Let&#x27;s Stop N Shop</td>\n",
       "        <td>Jaime Yorres</td>\n",
       "        <td>87 Polk St. Suite 5</td>\n",
       "        <td>San Francisco</td>\n",
       "        <td>94117</td>\n",
       "        <td>USA</td>\n",
       "    </tr>\n",
       "    <tr>\n",
       "        <td>48</td>\n",
       "        <td>Lonesome Pine Restaurant</td>\n",
       "        <td>Fran Wilson</td>\n",
       "        <td>89 Chiaroscuro Rd.</td>\n",
       "        <td>Portland</td>\n",
       "        <td>97219</td>\n",
       "        <td>USA</td>\n",
       "    </tr>\n",
       "    <tr>\n",
       "        <td>55</td>\n",
       "        <td>Old World Delicatessen</td>\n",
       "        <td>Rene Phillips</td>\n",
       "        <td>2743 Bering St.</td>\n",
       "        <td>Anchorage</td>\n",
       "        <td>99508</td>\n",
       "        <td>USA</td>\n",
       "    </tr>\n",
       "    <tr>\n",
       "        <td>65</td>\n",
       "        <td>Rattlesnake Canyon Grocery</td>\n",
       "        <td>Paula Wilson</td>\n",
       "        <td>2817 Milton Dr.</td>\n",
       "        <td>Albuquerque</td>\n",
       "        <td>87110</td>\n",
       "        <td>USA</td>\n",
       "    </tr>\n",
       "    <tr>\n",
       "        <td>71</td>\n",
       "        <td>Save-a-lot Markets</td>\n",
       "        <td>Jose Pavarotti</td>\n",
       "        <td>187 Suffolk Ln.</td>\n",
       "        <td>Boise</td>\n",
       "        <td>83720</td>\n",
       "        <td>USA</td>\n",
       "    </tr>\n",
       "    <tr>\n",
       "        <td>75</td>\n",
       "        <td>Split Rail Beer &amp; Ale</td>\n",
       "        <td>Art Braunschweiger</td>\n",
       "        <td>P.O. Box 555</td>\n",
       "        <td>Lander</td>\n",
       "        <td>82520</td>\n",
       "        <td>USA</td>\n",
       "    </tr>\n",
       "    <tr>\n",
       "        <td>77</td>\n",
       "        <td>The Big Cheese</td>\n",
       "        <td>Liz Nixon</td>\n",
       "        <td>89 Jefferson Way Suite 2</td>\n",
       "        <td>Portland</td>\n",
       "        <td>97201</td>\n",
       "        <td>USA</td>\n",
       "    </tr>\n",
       "    <tr>\n",
       "        <td>78</td>\n",
       "        <td>The Cracker Box</td>\n",
       "        <td>Liu Wong</td>\n",
       "        <td>55 Grizzly Peak Rd.</td>\n",
       "        <td>Butte</td>\n",
       "        <td>59801</td>\n",
       "        <td>USA</td>\n",
       "    </tr>\n",
       "    <tr>\n",
       "        <td>82</td>\n",
       "        <td>Trail&#x27;s Head Gourmet Provisioners</td>\n",
       "        <td>Helvetius Nagy</td>\n",
       "        <td>722 DaVinci Blvd.</td>\n",
       "        <td>Kirkland</td>\n",
       "        <td>98034</td>\n",
       "        <td>USA</td>\n",
       "    </tr>\n",
       "</table>"
      ],
      "text/plain": [
       "[(43, 'Lazy K Kountry Store', 'John Steel', '12 Orchestra Terrace', 'Walla Walla', '99362', 'USA'),\n",
       " (45, \"Let's Stop N Shop\", 'Jaime Yorres', '87 Polk St. Suite 5', 'San Francisco', '94117', 'USA'),\n",
       " (48, 'Lonesome Pine Restaurant', 'Fran Wilson', '89 Chiaroscuro Rd.', 'Portland', '97219', 'USA'),\n",
       " (55, 'Old World Delicatessen', 'Rene Phillips', '2743 Bering St.', 'Anchorage', '99508', 'USA'),\n",
       " (65, 'Rattlesnake Canyon Grocery', 'Paula Wilson', '2817 Milton Dr.', 'Albuquerque', '87110', 'USA'),\n",
       " (71, 'Save-a-lot Markets', 'Jose Pavarotti', '187 Suffolk Ln.', 'Boise', '83720', 'USA'),\n",
       " (75, 'Split Rail Beer & Ale', 'Art Braunschweiger', 'P.O. Box 555', 'Lander', '82520', 'USA'),\n",
       " (77, 'The Big Cheese', 'Liz Nixon', '89 Jefferson Way Suite 2', 'Portland', '97201', 'USA'),\n",
       " (78, 'The Cracker Box', 'Liu Wong', '55 Grizzly Peak Rd.', 'Butte', '59801', 'USA'),\n",
       " (82, \"Trail's Head Gourmet Provisioners\", 'Helvetius Nagy', '722 DaVinci Blvd.', 'Kirkland', '98034', 'USA')]"
      ]
     },
     "execution_count": 99,
     "metadata": {},
     "output_type": "execute_result"
    }
   ],
   "source": [
    "%%sql\n",
    "\n",
    "SELECT * FROM Customers WHERE Country = 'USA' AND City NOT IN ('Eugene', 'Elgin') LIMIT 10;"
   ]
  },
  {
   "cell_type": "markdown",
   "metadata": {},
   "source": [
    "-----"
   ]
  },
  {
   "cell_type": "markdown",
   "metadata": {},
   "source": [
    "## 11. LIKE ile Seçim İşlemleri"
   ]
  },
  {
   "cell_type": "markdown",
   "metadata": {},
   "source": [
    "- 'a%' : \"a\" ile başlayan değerler\n",
    "- '%a' : \"a\" ile biten değerler\n",
    "- %or%' : herhangi bir yerinde \"or\" olan değerler\n",
    "- '_r%' : ikinci sırasında \"r\" olan değerler\n",
    "- 'a%%' : \"a\" ile başlayıp en az 3 karakterden oluşan değerler\n",
    "- 'a%o' : \"a\" ile başlayıp \"o\" ile biten değerler"
   ]
  },
  {
   "cell_type": "code",
   "execution_count": 101,
   "metadata": {},
   "outputs": [
    {
     "name": "stdout",
     "output_type": "stream",
     "text": [
      " * sqlite:///vbo.db\n",
      "Done.\n"
     ]
    },
    {
     "data": {
      "text/html": [
       "<table>\n",
       "    <tr>\n",
       "        <th>CustomerID</th>\n",
       "        <th>CustomerName</th>\n",
       "        <th>ContactName</th>\n",
       "        <th>Address</th>\n",
       "        <th>City</th>\n",
       "        <th>PostalCode</th>\n",
       "        <th>Country</th>\n",
       "    </tr>\n",
       "    <tr>\n",
       "        <td>1</td>\n",
       "        <td>Alfreds Futterkiste</td>\n",
       "        <td>Maria Anders</td>\n",
       "        <td>Obere Str. 57</td>\n",
       "        <td>Berlin</td>\n",
       "        <td>12209</td>\n",
       "        <td>Germany</td>\n",
       "    </tr>\n",
       "    <tr>\n",
       "        <td>2</td>\n",
       "        <td>Ana Trujillo Emparedados y helados</td>\n",
       "        <td>Ana Trujillo</td>\n",
       "        <td>Avda. de la Constitución 2222</td>\n",
       "        <td>México D.F.</td>\n",
       "        <td>5021</td>\n",
       "        <td>Mexico</td>\n",
       "    </tr>\n",
       "    <tr>\n",
       "        <td>3</td>\n",
       "        <td>Antonio Moreno Taquería</td>\n",
       "        <td>Antonio Moreno</td>\n",
       "        <td>Mataderos 2312</td>\n",
       "        <td>México D.F.</td>\n",
       "        <td>5023</td>\n",
       "        <td>Mexico</td>\n",
       "    </tr>\n",
       "    <tr>\n",
       "        <td>4</td>\n",
       "        <td>Around the Horn</td>\n",
       "        <td>Thomas Hardy</td>\n",
       "        <td>120 Hanover Sq.</td>\n",
       "        <td>London</td>\n",
       "        <td>WA1 1DP</td>\n",
       "        <td>UK</td>\n",
       "    </tr>\n",
       "    <tr>\n",
       "        <td>5</td>\n",
       "        <td>Berglunds snabbköp</td>\n",
       "        <td>Christina Berglund</td>\n",
       "        <td>Berguvsvägen 8</td>\n",
       "        <td>Luleå</td>\n",
       "        <td>S-958 22</td>\n",
       "        <td>Sweden</td>\n",
       "    </tr>\n",
       "    <tr>\n",
       "        <td>6</td>\n",
       "        <td>Blauer See Delikatessen</td>\n",
       "        <td>Hanna Moos</td>\n",
       "        <td>Forsterstr. 57</td>\n",
       "        <td>Mannheim</td>\n",
       "        <td>68306</td>\n",
       "        <td>Germany</td>\n",
       "    </tr>\n",
       "    <tr>\n",
       "        <td>7</td>\n",
       "        <td>Blondel père et fils</td>\n",
       "        <td>Frédérique Citeaux</td>\n",
       "        <td>24, place Kléber</td>\n",
       "        <td>Strasbourg</td>\n",
       "        <td>67000</td>\n",
       "        <td>France</td>\n",
       "    </tr>\n",
       "    <tr>\n",
       "        <td>8</td>\n",
       "        <td>Bólido Comidas preparadas</td>\n",
       "        <td>Martín Sommer</td>\n",
       "        <td>C/ Araquil, 67</td>\n",
       "        <td>Madrid</td>\n",
       "        <td>28023</td>\n",
       "        <td>Spain</td>\n",
       "    </tr>\n",
       "    <tr>\n",
       "        <td>9</td>\n",
       "        <td>Bon app&#x27;</td>\n",
       "        <td>Laurence Lebihans</td>\n",
       "        <td>12, rue des Bouchers</td>\n",
       "        <td>Marseille</td>\n",
       "        <td>13008</td>\n",
       "        <td>France</td>\n",
       "    </tr>\n",
       "    <tr>\n",
       "        <td>10</td>\n",
       "        <td>Bottom-Dollar Marketse</td>\n",
       "        <td>Elizabeth Lincoln</td>\n",
       "        <td>23 Tsawassen Blvd.</td>\n",
       "        <td>Tsawassen</td>\n",
       "        <td>T2F 8M4</td>\n",
       "        <td>Canada</td>\n",
       "    </tr>\n",
       "</table>"
      ],
      "text/plain": [
       "[(1, 'Alfreds Futterkiste', 'Maria Anders', 'Obere Str. 57', 'Berlin', '12209', 'Germany'),\n",
       " (2, 'Ana Trujillo Emparedados y helados', 'Ana Trujillo', 'Avda. de la Constitución 2222', 'México D.F.', '5021', 'Mexico'),\n",
       " (3, 'Antonio Moreno Taquería', 'Antonio Moreno', 'Mataderos 2312', 'México D.F.', '5023', 'Mexico'),\n",
       " (4, 'Around the Horn', 'Thomas Hardy', '120 Hanover Sq.', 'London', 'WA1 1DP', 'UK'),\n",
       " (5, 'Berglunds snabbköp', 'Christina Berglund', 'Berguvsvägen 8', 'Luleå', 'S-958 22', 'Sweden'),\n",
       " (6, 'Blauer See Delikatessen', 'Hanna Moos', 'Forsterstr. 57', 'Mannheim', '68306', 'Germany'),\n",
       " (7, 'Blondel père et fils', 'Frédérique Citeaux', '24, place Kléber', 'Strasbourg', '67000', 'France'),\n",
       " (8, 'Bólido Comidas preparadas', 'Martín Sommer', 'C/ Araquil, 67', 'Madrid', '28023', 'Spain'),\n",
       " (9, \"Bon app'\", 'Laurence Lebihans', '12, rue des Bouchers', 'Marseille', '13008', 'France'),\n",
       " (10, 'Bottom-Dollar Marketse', 'Elizabeth Lincoln', '23 Tsawassen Blvd.', 'Tsawassen', 'T2F 8M4', 'Canada')]"
      ]
     },
     "execution_count": 101,
     "metadata": {},
     "output_type": "execute_result"
    }
   ],
   "source": [
    "%%sql\n",
    "\n",
    "SELECT * FROM Customers LIMIT 10;"
   ]
  },
  {
   "cell_type": "code",
   "execution_count": 102,
   "metadata": {},
   "outputs": [
    {
     "name": "stdout",
     "output_type": "stream",
     "text": [
      " * sqlite:///vbo.db\n",
      "Done.\n"
     ]
    },
    {
     "data": {
      "text/html": [
       "<table>\n",
       "    <tr>\n",
       "        <th>CustomerID</th>\n",
       "        <th>CustomerName</th>\n",
       "        <th>ContactName</th>\n",
       "        <th>Address</th>\n",
       "        <th>City</th>\n",
       "        <th>PostalCode</th>\n",
       "        <th>Country</th>\n",
       "    </tr>\n",
       "    <tr>\n",
       "        <td>3</td>\n",
       "        <td>Antonio Moreno Taquería</td>\n",
       "        <td>Antonio Moreno</td>\n",
       "        <td>Mataderos 2312</td>\n",
       "        <td>México D.F.</td>\n",
       "        <td>5023</td>\n",
       "        <td>Mexico</td>\n",
       "    </tr>\n",
       "    <tr>\n",
       "        <td>4</td>\n",
       "        <td>Around the Horn</td>\n",
       "        <td>Thomas Hardy</td>\n",
       "        <td>120 Hanover Sq.</td>\n",
       "        <td>London</td>\n",
       "        <td>WA1 1DP</td>\n",
       "        <td>UK</td>\n",
       "    </tr>\n",
       "    <tr>\n",
       "        <td>36</td>\n",
       "        <td>Hungry Coyote Import Store</td>\n",
       "        <td>Yoshi Latimer</td>\n",
       "        <td>City Center Plaza 516 Main St.</td>\n",
       "        <td>Elgin</td>\n",
       "        <td>97827</td>\n",
       "        <td>USA</td>\n",
       "    </tr>\n",
       "    <tr>\n",
       "        <td>40</td>\n",
       "        <td>La corne d&#x27;abondance</td>\n",
       "        <td>Daniel Tonini</td>\n",
       "        <td>67, avenue de l&#x27;Europe</td>\n",
       "        <td>Versailles</td>\n",
       "        <td>78000</td>\n",
       "        <td>France</td>\n",
       "    </tr>\n",
       "    <tr>\n",
       "        <td>43</td>\n",
       "        <td>Lazy K Kountry Store</td>\n",
       "        <td>John Steel</td>\n",
       "        <td>12 Orchestra Terrace</td>\n",
       "        <td>Walla Walla</td>\n",
       "        <td>99362</td>\n",
       "        <td>USA</td>\n",
       "    </tr>\n",
       "    <tr>\n",
       "        <td>52</td>\n",
       "        <td>Morgenstern Gesundkost</td>\n",
       "        <td>Alexander Feuer</td>\n",
       "        <td>Heerstr. 22</td>\n",
       "        <td>Leipzig</td>\n",
       "        <td>4179</td>\n",
       "        <td>Germany</td>\n",
       "    </tr>\n",
       "    <tr>\n",
       "        <td>53</td>\n",
       "        <td>North/South</td>\n",
       "        <td>Simon Crowther</td>\n",
       "        <td>South House 300 Queensbridge</td>\n",
       "        <td>London</td>\n",
       "        <td>SW7 1RZ</td>\n",
       "        <td>UK</td>\n",
       "    </tr>\n",
       "    <tr>\n",
       "        <td>55</td>\n",
       "        <td>Old World Delicatessen</td>\n",
       "        <td>Rene Phillips</td>\n",
       "        <td>2743 Bering St.</td>\n",
       "        <td>Anchorage</td>\n",
       "        <td>99508</td>\n",
       "        <td>USA</td>\n",
       "    </tr>\n",
       "    <tr>\n",
       "        <td>72</td>\n",
       "        <td>Seven Seas Imports</td>\n",
       "        <td>Hari Kumar</td>\n",
       "        <td>90 Wadhurst Rd.</td>\n",
       "        <td>London</td>\n",
       "        <td>OX15 4NB</td>\n",
       "        <td>UK</td>\n",
       "    </tr>\n",
       "    <tr>\n",
       "        <td>80</td>\n",
       "        <td>Tortuga Restaurante</td>\n",
       "        <td>Miguel Angel Paolino</td>\n",
       "        <td>Avda. Azteca 123</td>\n",
       "        <td>México D.F.</td>\n",
       "        <td>5033</td>\n",
       "        <td>Mexico</td>\n",
       "    </tr>\n",
       "</table>"
      ],
      "text/plain": [
       "[(3, 'Antonio Moreno Taquería', 'Antonio Moreno', 'Mataderos 2312', 'México D.F.', '5023', 'Mexico'),\n",
       " (4, 'Around the Horn', 'Thomas Hardy', '120 Hanover Sq.', 'London', 'WA1 1DP', 'UK'),\n",
       " (36, 'Hungry Coyote Import Store', 'Yoshi Latimer', 'City Center Plaza 516 Main St.', 'Elgin', '97827', 'USA'),\n",
       " (40, \"La corne d'abondance\", 'Daniel Tonini', \"67, avenue de l'Europe\", 'Versailles', '78000', 'France'),\n",
       " (43, 'Lazy K Kountry Store', 'John Steel', '12 Orchestra Terrace', 'Walla Walla', '99362', 'USA'),\n",
       " (52, 'Morgenstern Gesundkost', 'Alexander Feuer', 'Heerstr. 22', 'Leipzig', '4179', 'Germany'),\n",
       " (53, 'North/South', 'Simon Crowther', 'South House 300 Queensbridge', 'London', 'SW7 1RZ', 'UK'),\n",
       " (55, 'Old World Delicatessen', 'Rene Phillips', '2743 Bering St.', 'Anchorage', '99508', 'USA'),\n",
       " (72, 'Seven Seas Imports', 'Hari Kumar', '90 Wadhurst Rd.', 'London', 'OX15 4NB', 'UK'),\n",
       " (80, 'Tortuga Restaurante', 'Miguel Angel Paolino', 'Avda. Azteca 123', 'México D.F.', '5033', 'Mexico')]"
      ]
     },
     "execution_count": 102,
     "metadata": {},
     "output_type": "execute_result"
    }
   ],
   "source": [
    "%%sql\n",
    "\n",
    "SELECT * FROM Customers WHERE CustomerName LIKE '%or%' LIMIT 10;"
   ]
  },
  {
   "cell_type": "code",
   "execution_count": 103,
   "metadata": {},
   "outputs": [
    {
     "name": "stdout",
     "output_type": "stream",
     "text": [
      " * sqlite:///vbo.db\n",
      "Done.\n"
     ]
    },
    {
     "data": {
      "text/html": [
       "<table>\n",
       "    <tr>\n",
       "        <th>CustomerID</th>\n",
       "        <th>CustomerName</th>\n",
       "        <th>ContactName</th>\n",
       "        <th>Address</th>\n",
       "        <th>City</th>\n",
       "        <th>PostalCode</th>\n",
       "        <th>Country</th>\n",
       "    </tr>\n",
       "    <tr>\n",
       "        <td>3</td>\n",
       "        <td>Antonio Moreno Taquería</td>\n",
       "        <td>Antonio Moreno</td>\n",
       "        <td>Mataderos 2312</td>\n",
       "        <td>México D.F.</td>\n",
       "        <td>5023</td>\n",
       "        <td>Mexico</td>\n",
       "    </tr>\n",
       "    <tr>\n",
       "        <td>13</td>\n",
       "        <td>Centro comercial Moctezuma</td>\n",
       "        <td>Francisco Chang</td>\n",
       "        <td>Sierras de Granada 9993</td>\n",
       "        <td>México D.F.</td>\n",
       "        <td>5022</td>\n",
       "        <td>Mexico</td>\n",
       "    </tr>\n",
       "    <tr>\n",
       "        <td>30</td>\n",
       "        <td>Godos Cocina Típica</td>\n",
       "        <td>José Pedro Freyre</td>\n",
       "        <td>C/ Romero, 33</td>\n",
       "        <td>Sevilla</td>\n",
       "        <td>41101</td>\n",
       "        <td>Spain</td>\n",
       "    </tr>\n",
       "    <tr>\n",
       "        <td>61</td>\n",
       "        <td>Que Delícia</td>\n",
       "        <td>Bernardo Batista</td>\n",
       "        <td>Rua da Panificadora, 12</td>\n",
       "        <td>Rio de Janeiro</td>\n",
       "        <td>02389-673</td>\n",
       "        <td>Brazil</td>\n",
       "    </tr>\n",
       "    <tr>\n",
       "        <td>62</td>\n",
       "        <td>Queen Cozinha</td>\n",
       "        <td>Lúcia Carvalho</td>\n",
       "        <td>Alameda dos Canàrios, 891</td>\n",
       "        <td>São Paulo</td>\n",
       "        <td>05487-020</td>\n",
       "        <td>Brazil</td>\n",
       "    </tr>\n",
       "    <tr>\n",
       "        <td>88</td>\n",
       "        <td>Wellington Importadora</td>\n",
       "        <td>Paula Parente</td>\n",
       "        <td>Rua do Mercado, 12</td>\n",
       "        <td>Resende</td>\n",
       "        <td>08737-363</td>\n",
       "        <td>Brazil</td>\n",
       "    </tr>\n",
       "    <tr>\n",
       "        <td>90</td>\n",
       "        <td>Wilman Kala</td>\n",
       "        <td>Matti Karttunen</td>\n",
       "        <td>Keskuskatu 45</td>\n",
       "        <td>Helsinki</td>\n",
       "        <td>21240</td>\n",
       "        <td>Finland</td>\n",
       "    </tr>\n",
       "</table>"
      ],
      "text/plain": [
       "[(3, 'Antonio Moreno Taquería', 'Antonio Moreno', 'Mataderos 2312', 'México D.F.', '5023', 'Mexico'),\n",
       " (13, 'Centro comercial Moctezuma', 'Francisco Chang', 'Sierras de Granada 9993', 'México D.F.', '5022', 'Mexico'),\n",
       " (30, 'Godos Cocina Típica', 'José Pedro Freyre', 'C/ Romero, 33', 'Sevilla', '41101', 'Spain'),\n",
       " (61, 'Que Delícia', 'Bernardo Batista', 'Rua da Panificadora, 12', 'Rio de Janeiro', '02389-673', 'Brazil'),\n",
       " (62, 'Queen Cozinha', 'Lúcia Carvalho', 'Alameda dos Canàrios, 891', 'São Paulo', '05487-020', 'Brazil'),\n",
       " (88, 'Wellington Importadora', 'Paula Parente', 'Rua do Mercado, 12', 'Resende', '08737-363', 'Brazil'),\n",
       " (90, 'Wilman Kala', 'Matti Karttunen', 'Keskuskatu 45', 'Helsinki', '21240', 'Finland')]"
      ]
     },
     "execution_count": 103,
     "metadata": {},
     "output_type": "execute_result"
    }
   ],
   "source": [
    "%%sql\n",
    "\n",
    "SELECT * FROM Customers WHERE CustomerName LIKE '%a' LIMIT 10;"
   ]
  },
  {
   "cell_type": "code",
   "execution_count": 106,
   "metadata": {},
   "outputs": [
    {
     "name": "stdout",
     "output_type": "stream",
     "text": [
      " * sqlite:///vbo.db\n",
      "Done.\n"
     ]
    },
    {
     "data": {
      "text/html": [
       "<table>\n",
       "    <tr>\n",
       "        <th>CustomerID</th>\n",
       "        <th>CustomerName</th>\n",
       "        <th>ContactName</th>\n",
       "        <th>Address</th>\n",
       "        <th>City</th>\n",
       "        <th>PostalCode</th>\n",
       "        <th>Country</th>\n",
       "    </tr>\n",
       "    <tr>\n",
       "        <td>2</td>\n",
       "        <td>Ana Trujillo Emparedados y helados</td>\n",
       "        <td>Ana Trujillo</td>\n",
       "        <td>Avda. de la Constitución 2222</td>\n",
       "        <td>México D.F.</td>\n",
       "        <td>5021</td>\n",
       "        <td>Mexico</td>\n",
       "    </tr>\n",
       "    <tr>\n",
       "        <td>3</td>\n",
       "        <td>Antonio Moreno Taquería</td>\n",
       "        <td>Antonio Moreno</td>\n",
       "        <td>Mataderos 2312</td>\n",
       "        <td>México D.F.</td>\n",
       "        <td>5023</td>\n",
       "        <td>Mexico</td>\n",
       "    </tr>\n",
       "</table>"
      ],
      "text/plain": [
       "[(2, 'Ana Trujillo Emparedados y helados', 'Ana Trujillo', 'Avda. de la Constitución 2222', 'México D.F.', '5021', 'Mexico'),\n",
       " (3, 'Antonio Moreno Taquería', 'Antonio Moreno', 'Mataderos 2312', 'México D.F.', '5023', 'Mexico')]"
      ]
     },
     "execution_count": 106,
     "metadata": {},
     "output_type": "execute_result"
    }
   ],
   "source": [
    "%%sql\n",
    "\n",
    "SELECT * FROM Customers WHERE CustomerName LIKE 'A%' AND Country LIKE '%o' LIMIT 10;"
   ]
  },
  {
   "cell_type": "markdown",
   "metadata": {},
   "source": [
    "---------"
   ]
  },
  {
   "cell_type": "markdown",
   "metadata": {},
   "source": [
    "## 12. BETWEEN"
   ]
  },
  {
   "cell_type": "code",
   "execution_count": 107,
   "metadata": {},
   "outputs": [
    {
     "name": "stdout",
     "output_type": "stream",
     "text": [
      " * sqlite:///vbo.db\n",
      "Done.\n"
     ]
    },
    {
     "data": {
      "text/html": [
       "<table>\n",
       "    <tr>\n",
       "        <th>ProductID</th>\n",
       "        <th>ProductName</th>\n",
       "        <th>SupplierID</th>\n",
       "        <th>CategoryID</th>\n",
       "        <th>Unit</th>\n",
       "        <th>Price</th>\n",
       "    </tr>\n",
       "    <tr>\n",
       "        <td>1</td>\n",
       "        <td>Chais</td>\n",
       "        <td>1</td>\n",
       "        <td>1</td>\n",
       "        <td>10 boxes x 20 bags</td>\n",
       "        <td>18</td>\n",
       "    </tr>\n",
       "    <tr>\n",
       "        <td>2</td>\n",
       "        <td>Chang</td>\n",
       "        <td>1</td>\n",
       "        <td>1</td>\n",
       "        <td>24 - 12 oz bottles</td>\n",
       "        <td>19</td>\n",
       "    </tr>\n",
       "    <tr>\n",
       "        <td>3</td>\n",
       "        <td>Aniseed Syrup</td>\n",
       "        <td>1</td>\n",
       "        <td>2</td>\n",
       "        <td>12 - 550 ml bottles</td>\n",
       "        <td>10</td>\n",
       "    </tr>\n",
       "    <tr>\n",
       "        <td>4</td>\n",
       "        <td>Chef Anton&#x27;s Cajun Seasoning</td>\n",
       "        <td>2</td>\n",
       "        <td>2</td>\n",
       "        <td>48 - 6 oz jars</td>\n",
       "        <td>22</td>\n",
       "    </tr>\n",
       "    <tr>\n",
       "        <td>5</td>\n",
       "        <td>Chef Anton&#x27;s Gumbo Mix</td>\n",
       "        <td>2</td>\n",
       "        <td>2</td>\n",
       "        <td>36 boxes</td>\n",
       "        <td>21</td>\n",
       "    </tr>\n",
       "    <tr>\n",
       "        <td>6</td>\n",
       "        <td>Grandma&#x27;s Boysenberry Spread</td>\n",
       "        <td>3</td>\n",
       "        <td>2</td>\n",
       "        <td>12 - 8 oz jars</td>\n",
       "        <td>25</td>\n",
       "    </tr>\n",
       "    <tr>\n",
       "        <td>7</td>\n",
       "        <td>Uncle Bob&#x27;s Organic Dried Pears</td>\n",
       "        <td>3</td>\n",
       "        <td>7</td>\n",
       "        <td>12 - 1 lb pkgs.</td>\n",
       "        <td>30</td>\n",
       "    </tr>\n",
       "    <tr>\n",
       "        <td>8</td>\n",
       "        <td>Northwoods Cranberry Sauce</td>\n",
       "        <td>3</td>\n",
       "        <td>2</td>\n",
       "        <td>12 - 12 oz jars</td>\n",
       "        <td>40</td>\n",
       "    </tr>\n",
       "    <tr>\n",
       "        <td>9</td>\n",
       "        <td>Mishi Kobe Niku</td>\n",
       "        <td>4</td>\n",
       "        <td>6</td>\n",
       "        <td>18 - 500 g pkgs.</td>\n",
       "        <td>97</td>\n",
       "    </tr>\n",
       "    <tr>\n",
       "        <td>10</td>\n",
       "        <td>Ikura</td>\n",
       "        <td>4</td>\n",
       "        <td>8</td>\n",
       "        <td>12 - 200 ml jars</td>\n",
       "        <td>31</td>\n",
       "    </tr>\n",
       "</table>"
      ],
      "text/plain": [
       "[(1, 'Chais', 1, 1, '10 boxes x 20 bags', 18),\n",
       " (2, 'Chang', 1, 1, '24 - 12 oz bottles', 19),\n",
       " (3, 'Aniseed Syrup', 1, 2, '12 - 550 ml bottles', 10),\n",
       " (4, \"Chef Anton's Cajun Seasoning\", 2, 2, '48 - 6 oz jars', 22),\n",
       " (5, \"Chef Anton's Gumbo Mix\", 2, 2, '36 boxes', 21),\n",
       " (6, \"Grandma's Boysenberry Spread\", 3, 2, '12 - 8 oz jars', 25),\n",
       " (7, \"Uncle Bob's Organic Dried Pears\", 3, 7, '12 - 1 lb pkgs.', 30),\n",
       " (8, 'Northwoods Cranberry Sauce', 3, 2, '12 - 12 oz jars', 40),\n",
       " (9, 'Mishi Kobe Niku', 4, 6, '18 - 500 g pkgs.', 97),\n",
       " (10, 'Ikura', 4, 8, '12 - 200 ml jars', 31)]"
      ]
     },
     "execution_count": 107,
     "metadata": {},
     "output_type": "execute_result"
    }
   ],
   "source": [
    "%%sql\n",
    "\n",
    "SELECT * FROM Products LIMIT 10;"
   ]
  },
  {
   "cell_type": "code",
   "execution_count": 108,
   "metadata": {},
   "outputs": [
    {
     "name": "stdout",
     "output_type": "stream",
     "text": [
      " * sqlite:///vbo.db\n",
      "Done.\n"
     ]
    },
    {
     "data": {
      "text/html": [
       "<table>\n",
       "    <tr>\n",
       "        <th>ProductID</th>\n",
       "        <th>ProductName</th>\n",
       "        <th>SupplierID</th>\n",
       "        <th>CategoryID</th>\n",
       "        <th>Unit</th>\n",
       "        <th>Price</th>\n",
       "    </tr>\n",
       "    <tr>\n",
       "        <td>1</td>\n",
       "        <td>Chais</td>\n",
       "        <td>1</td>\n",
       "        <td>1</td>\n",
       "        <td>10 boxes x 20 bags</td>\n",
       "        <td>18</td>\n",
       "    </tr>\n",
       "    <tr>\n",
       "        <td>2</td>\n",
       "        <td>Chang</td>\n",
       "        <td>1</td>\n",
       "        <td>1</td>\n",
       "        <td>24 - 12 oz bottles</td>\n",
       "        <td>19</td>\n",
       "    </tr>\n",
       "    <tr>\n",
       "        <td>3</td>\n",
       "        <td>Aniseed Syrup</td>\n",
       "        <td>1</td>\n",
       "        <td>2</td>\n",
       "        <td>12 - 550 ml bottles</td>\n",
       "        <td>10</td>\n",
       "    </tr>\n",
       "    <tr>\n",
       "        <td>16</td>\n",
       "        <td>Pavlova</td>\n",
       "        <td>7</td>\n",
       "        <td>3</td>\n",
       "        <td>32 - 500 g boxes</td>\n",
       "        <td>17</td>\n",
       "    </tr>\n",
       "    <tr>\n",
       "        <td>21</td>\n",
       "        <td>Sir Rodney&#x27;s Scones</td>\n",
       "        <td>8</td>\n",
       "        <td>3</td>\n",
       "        <td>24 pkgs. x 4 pieces</td>\n",
       "        <td>10</td>\n",
       "    </tr>\n",
       "    <tr>\n",
       "        <td>25</td>\n",
       "        <td>NuNuCa Nuß-Nougat-Creme</td>\n",
       "        <td>11</td>\n",
       "        <td>3</td>\n",
       "        <td>20 - 450 g glasses</td>\n",
       "        <td>14</td>\n",
       "    </tr>\n",
       "    <tr>\n",
       "        <td>34</td>\n",
       "        <td>Sasquatch Ale</td>\n",
       "        <td>16</td>\n",
       "        <td>1</td>\n",
       "        <td>24 - 12 oz bottles</td>\n",
       "        <td>14</td>\n",
       "    </tr>\n",
       "    <tr>\n",
       "        <td>35</td>\n",
       "        <td>Steeleye Stout</td>\n",
       "        <td>16</td>\n",
       "        <td>1</td>\n",
       "        <td>24 - 12 oz bottles</td>\n",
       "        <td>18</td>\n",
       "    </tr>\n",
       "    <tr>\n",
       "        <td>36</td>\n",
       "        <td>Inlagd Sill</td>\n",
       "        <td>17</td>\n",
       "        <td>8</td>\n",
       "        <td>24 - 250 g jars</td>\n",
       "        <td>19</td>\n",
       "    </tr>\n",
       "    <tr>\n",
       "        <td>39</td>\n",
       "        <td>Chartreuse verte</td>\n",
       "        <td>18</td>\n",
       "        <td>1</td>\n",
       "        <td>750 cc per bottle</td>\n",
       "        <td>18</td>\n",
       "    </tr>\n",
       "</table>"
      ],
      "text/plain": [
       "[(1, 'Chais', 1, 1, '10 boxes x 20 bags', 18),\n",
       " (2, 'Chang', 1, 1, '24 - 12 oz bottles', 19),\n",
       " (3, 'Aniseed Syrup', 1, 2, '12 - 550 ml bottles', 10),\n",
       " (16, 'Pavlova', 7, 3, '32 - 500 g boxes', 17),\n",
       " (21, \"Sir Rodney's Scones\", 8, 3, '24 pkgs. x 4 pieces', 10),\n",
       " (25, 'NuNuCa Nuß-Nougat-Creme', 11, 3, '20 - 450 g glasses', 14),\n",
       " (34, 'Sasquatch Ale', 16, 1, '24 - 12 oz bottles', 14),\n",
       " (35, 'Steeleye Stout', 16, 1, '24 - 12 oz bottles', 18),\n",
       " (36, 'Inlagd Sill', 17, 8, '24 - 250 g jars', 19),\n",
       " (39, 'Chartreuse verte', 18, 1, '750 cc per bottle', 18)]"
      ]
     },
     "execution_count": 108,
     "metadata": {},
     "output_type": "execute_result"
    }
   ],
   "source": [
    "%%sql\n",
    "\n",
    "SELECT * FROM Products WHERE Price BETWEEN 10 AND 20 LIMIT 10;"
   ]
  },
  {
   "cell_type": "code",
   "execution_count": 109,
   "metadata": {},
   "outputs": [
    {
     "name": "stdout",
     "output_type": "stream",
     "text": [
      " * sqlite:///vbo.db\n",
      "Done.\n"
     ]
    },
    {
     "data": {
      "text/html": [
       "<table>\n",
       "    <tr>\n",
       "        <th>ProductID</th>\n",
       "        <th>ProductName</th>\n",
       "        <th>SupplierID</th>\n",
       "        <th>CategoryID</th>\n",
       "        <th>Unit</th>\n",
       "        <th>Price</th>\n",
       "    </tr>\n",
       "    <tr>\n",
       "        <td>4</td>\n",
       "        <td>Chef Anton&#x27;s Cajun Seasoning</td>\n",
       "        <td>2</td>\n",
       "        <td>2</td>\n",
       "        <td>48 - 6 oz jars</td>\n",
       "        <td>22</td>\n",
       "    </tr>\n",
       "    <tr>\n",
       "        <td>5</td>\n",
       "        <td>Chef Anton&#x27;s Gumbo Mix</td>\n",
       "        <td>2</td>\n",
       "        <td>2</td>\n",
       "        <td>36 boxes</td>\n",
       "        <td>21</td>\n",
       "    </tr>\n",
       "    <tr>\n",
       "        <td>6</td>\n",
       "        <td>Grandma&#x27;s Boysenberry Spread</td>\n",
       "        <td>3</td>\n",
       "        <td>2</td>\n",
       "        <td>12 - 8 oz jars</td>\n",
       "        <td>25</td>\n",
       "    </tr>\n",
       "    <tr>\n",
       "        <td>7</td>\n",
       "        <td>Uncle Bob&#x27;s Organic Dried Pears</td>\n",
       "        <td>3</td>\n",
       "        <td>7</td>\n",
       "        <td>12 - 1 lb pkgs.</td>\n",
       "        <td>30</td>\n",
       "    </tr>\n",
       "    <tr>\n",
       "        <td>8</td>\n",
       "        <td>Northwoods Cranberry Sauce</td>\n",
       "        <td>3</td>\n",
       "        <td>2</td>\n",
       "        <td>12 - 12 oz jars</td>\n",
       "        <td>40</td>\n",
       "    </tr>\n",
       "    <tr>\n",
       "        <td>9</td>\n",
       "        <td>Mishi Kobe Niku</td>\n",
       "        <td>4</td>\n",
       "        <td>6</td>\n",
       "        <td>18 - 500 g pkgs.</td>\n",
       "        <td>97</td>\n",
       "    </tr>\n",
       "    <tr>\n",
       "        <td>10</td>\n",
       "        <td>Ikura</td>\n",
       "        <td>4</td>\n",
       "        <td>8</td>\n",
       "        <td>12 - 200 ml jars</td>\n",
       "        <td>31</td>\n",
       "    </tr>\n",
       "    <tr>\n",
       "        <td>11</td>\n",
       "        <td>Queso Cabrales</td>\n",
       "        <td>5</td>\n",
       "        <td>4</td>\n",
       "        <td>1 kg pkg.</td>\n",
       "        <td>21</td>\n",
       "    </tr>\n",
       "    <tr>\n",
       "        <td>12</td>\n",
       "        <td>Queso Manchego La Pastora</td>\n",
       "        <td>5</td>\n",
       "        <td>4</td>\n",
       "        <td>10 - 500 g pkgs.</td>\n",
       "        <td>38</td>\n",
       "    </tr>\n",
       "    <tr>\n",
       "        <td>13</td>\n",
       "        <td>Konbu</td>\n",
       "        <td>6</td>\n",
       "        <td>8</td>\n",
       "        <td>2 kg box</td>\n",
       "        <td>6</td>\n",
       "    </tr>\n",
       "</table>"
      ],
      "text/plain": [
       "[(4, \"Chef Anton's Cajun Seasoning\", 2, 2, '48 - 6 oz jars', 22),\n",
       " (5, \"Chef Anton's Gumbo Mix\", 2, 2, '36 boxes', 21),\n",
       " (6, \"Grandma's Boysenberry Spread\", 3, 2, '12 - 8 oz jars', 25),\n",
       " (7, \"Uncle Bob's Organic Dried Pears\", 3, 7, '12 - 1 lb pkgs.', 30),\n",
       " (8, 'Northwoods Cranberry Sauce', 3, 2, '12 - 12 oz jars', 40),\n",
       " (9, 'Mishi Kobe Niku', 4, 6, '18 - 500 g pkgs.', 97),\n",
       " (10, 'Ikura', 4, 8, '12 - 200 ml jars', 31),\n",
       " (11, 'Queso Cabrales', 5, 4, '1 kg pkg.', 21),\n",
       " (12, 'Queso Manchego La Pastora', 5, 4, '10 - 500 g pkgs.', 38),\n",
       " (13, 'Konbu', 6, 8, '2 kg box', 6)]"
      ]
     },
     "execution_count": 109,
     "metadata": {},
     "output_type": "execute_result"
    }
   ],
   "source": [
    "%%sql\n",
    "\n",
    "SELECT * FROM Products WHERE Price NOT BETWEEN 10 AND 20 LIMIT 10;"
   ]
  },
  {
   "cell_type": "code",
   "execution_count": 111,
   "metadata": {},
   "outputs": [
    {
     "name": "stdout",
     "output_type": "stream",
     "text": [
      " * sqlite:///vbo.db\n",
      "Done.\n"
     ]
    },
    {
     "data": {
      "text/html": [
       "<table>\n",
       "    <tr>\n",
       "        <th>ProductID</th>\n",
       "        <th>ProductName</th>\n",
       "        <th>SupplierID</th>\n",
       "        <th>CategoryID</th>\n",
       "        <th>Unit</th>\n",
       "        <th>Price</th>\n",
       "    </tr>\n",
       "    <tr>\n",
       "        <td>36</td>\n",
       "        <td>Inlagd Sill</td>\n",
       "        <td>17</td>\n",
       "        <td>8</td>\n",
       "        <td>24 - 250 g jars</td>\n",
       "        <td>19</td>\n",
       "    </tr>\n",
       "    <tr>\n",
       "        <td>42</td>\n",
       "        <td>Singaporean Hokkien Fried Mee</td>\n",
       "        <td>20</td>\n",
       "        <td>5</td>\n",
       "        <td>32 - 1 kg pkgs.</td>\n",
       "        <td>14</td>\n",
       "    </tr>\n",
       "    <tr>\n",
       "        <td>46</td>\n",
       "        <td>Spegesild</td>\n",
       "        <td>21</td>\n",
       "        <td>8</td>\n",
       "        <td>4 - 450 g glasses</td>\n",
       "        <td>12</td>\n",
       "    </tr>\n",
       "    <tr>\n",
       "        <td>54</td>\n",
       "        <td>Tourtière</td>\n",
       "        <td>25</td>\n",
       "        <td>6</td>\n",
       "        <td>16 pies</td>\n",
       "        <td>16</td>\n",
       "    </tr>\n",
       "    <tr>\n",
       "        <td>58</td>\n",
       "        <td>Escargots de Bourgogne</td>\n",
       "        <td>27</td>\n",
       "        <td>8</td>\n",
       "        <td>24 pieces</td>\n",
       "        <td>13</td>\n",
       "    </tr>\n",
       "    <tr>\n",
       "        <td>73</td>\n",
       "        <td>Röd Kaviar</td>\n",
       "        <td>17</td>\n",
       "        <td>8</td>\n",
       "        <td>24 - 150 g jars</td>\n",
       "        <td>15</td>\n",
       "    </tr>\n",
       "    <tr>\n",
       "        <td>74</td>\n",
       "        <td>Longlife Tofu</td>\n",
       "        <td>4</td>\n",
       "        <td>7</td>\n",
       "        <td>5 kg pkg.</td>\n",
       "        <td>10</td>\n",
       "    </tr>\n",
       "</table>"
      ],
      "text/plain": [
       "[(36, 'Inlagd Sill', 17, 8, '24 - 250 g jars', 19),\n",
       " (42, 'Singaporean Hokkien Fried Mee', 20, 5, '32 - 1 kg pkgs.', 14),\n",
       " (46, 'Spegesild', 21, 8, '4 - 450 g glasses', 12),\n",
       " (54, 'Tourtière', 25, 6, '16 pies', 16),\n",
       " (58, 'Escargots de Bourgogne', 27, 8, '24 pieces', 13),\n",
       " (73, 'Röd Kaviar', 17, 8, '24 - 150 g jars', 15),\n",
       " (74, 'Longlife Tofu', 4, 7, '5 kg pkg.', 10)]"
      ]
     },
     "execution_count": 111,
     "metadata": {},
     "output_type": "execute_result"
    }
   ],
   "source": [
    "%%sql\n",
    "\n",
    "SELECT * FROM Products WHERE (Price BETWEEN 10 AND 20) AND (NOT CategoryID IN(1, 2, 3)) LIMIT 10;"
   ]
  },
  {
   "cell_type": "code",
   "execution_count": 112,
   "metadata": {},
   "outputs": [
    {
     "name": "stdout",
     "output_type": "stream",
     "text": [
      " * sqlite:///vbo.db\n",
      "Done.\n"
     ]
    },
    {
     "data": {
      "text/html": [
       "<table>\n",
       "    <tr>\n",
       "        <th>ProductID</th>\n",
       "        <th>ProductName</th>\n",
       "        <th>SupplierID</th>\n",
       "        <th>CategoryID</th>\n",
       "        <th>Unit</th>\n",
       "        <th>Price</th>\n",
       "    </tr>\n",
       "    <tr>\n",
       "        <td>1</td>\n",
       "        <td>Chais</td>\n",
       "        <td>1</td>\n",
       "        <td>1</td>\n",
       "        <td>10 boxes x 20 bags</td>\n",
       "        <td>18</td>\n",
       "    </tr>\n",
       "    <tr>\n",
       "        <td>2</td>\n",
       "        <td>Chang</td>\n",
       "        <td>1</td>\n",
       "        <td>1</td>\n",
       "        <td>24 - 12 oz bottles</td>\n",
       "        <td>19</td>\n",
       "    </tr>\n",
       "    <tr>\n",
       "        <td>3</td>\n",
       "        <td>Aniseed Syrup</td>\n",
       "        <td>1</td>\n",
       "        <td>2</td>\n",
       "        <td>12 - 550 ml bottles</td>\n",
       "        <td>10</td>\n",
       "    </tr>\n",
       "    <tr>\n",
       "        <td>16</td>\n",
       "        <td>Pavlova</td>\n",
       "        <td>7</td>\n",
       "        <td>3</td>\n",
       "        <td>32 - 500 g boxes</td>\n",
       "        <td>17</td>\n",
       "    </tr>\n",
       "    <tr>\n",
       "        <td>21</td>\n",
       "        <td>Sir Rodney&#x27;s Scones</td>\n",
       "        <td>8</td>\n",
       "        <td>3</td>\n",
       "        <td>24 pkgs. x 4 pieces</td>\n",
       "        <td>10</td>\n",
       "    </tr>\n",
       "    <tr>\n",
       "        <td>25</td>\n",
       "        <td>NuNuCa Nuß-Nougat-Creme</td>\n",
       "        <td>11</td>\n",
       "        <td>3</td>\n",
       "        <td>20 - 450 g glasses</td>\n",
       "        <td>14</td>\n",
       "    </tr>\n",
       "    <tr>\n",
       "        <td>34</td>\n",
       "        <td>Sasquatch Ale</td>\n",
       "        <td>16</td>\n",
       "        <td>1</td>\n",
       "        <td>24 - 12 oz bottles</td>\n",
       "        <td>14</td>\n",
       "    </tr>\n",
       "    <tr>\n",
       "        <td>35</td>\n",
       "        <td>Steeleye Stout</td>\n",
       "        <td>16</td>\n",
       "        <td>1</td>\n",
       "        <td>24 - 12 oz bottles</td>\n",
       "        <td>18</td>\n",
       "    </tr>\n",
       "    <tr>\n",
       "        <td>39</td>\n",
       "        <td>Chartreuse verte</td>\n",
       "        <td>18</td>\n",
       "        <td>1</td>\n",
       "        <td>750 cc per bottle</td>\n",
       "        <td>18</td>\n",
       "    </tr>\n",
       "    <tr>\n",
       "        <td>44</td>\n",
       "        <td>Gula Malacca</td>\n",
       "        <td>20</td>\n",
       "        <td>2</td>\n",
       "        <td>20 - 2 kg bags</td>\n",
       "        <td>19</td>\n",
       "    </tr>\n",
       "</table>"
      ],
      "text/plain": [
       "[(1, 'Chais', 1, 1, '10 boxes x 20 bags', 18),\n",
       " (2, 'Chang', 1, 1, '24 - 12 oz bottles', 19),\n",
       " (3, 'Aniseed Syrup', 1, 2, '12 - 550 ml bottles', 10),\n",
       " (16, 'Pavlova', 7, 3, '32 - 500 g boxes', 17),\n",
       " (21, \"Sir Rodney's Scones\", 8, 3, '24 pkgs. x 4 pieces', 10),\n",
       " (25, 'NuNuCa Nuß-Nougat-Creme', 11, 3, '20 - 450 g glasses', 14),\n",
       " (34, 'Sasquatch Ale', 16, 1, '24 - 12 oz bottles', 14),\n",
       " (35, 'Steeleye Stout', 16, 1, '24 - 12 oz bottles', 18),\n",
       " (39, 'Chartreuse verte', 18, 1, '750 cc per bottle', 18),\n",
       " (44, 'Gula Malacca', 20, 2, '20 - 2 kg bags', 19)]"
      ]
     },
     "execution_count": 112,
     "metadata": {},
     "output_type": "execute_result"
    }
   ],
   "source": [
    "%%sql\n",
    "\n",
    "SELECT * FROM Products WHERE (Price BETWEEN 10 AND 20) AND (CategoryID IN(1, 2, 3)) LIMIT 10;"
   ]
  },
  {
   "cell_type": "code",
   "execution_count": 113,
   "metadata": {},
   "outputs": [
    {
     "name": "stdout",
     "output_type": "stream",
     "text": [
      " * sqlite:///vbo.db\n",
      "Done.\n"
     ]
    },
    {
     "data": {
      "text/html": [
       "<table>\n",
       "    <tr>\n",
       "        <th>ProductName</th>\n",
       "    </tr>\n",
       "    <tr>\n",
       "        <td>Chais</td>\n",
       "    </tr>\n",
       "    <tr>\n",
       "        <td>Chang</td>\n",
       "    </tr>\n",
       "    <tr>\n",
       "        <td>Aniseed Syrup</td>\n",
       "    </tr>\n",
       "    <tr>\n",
       "        <td>Pavlova</td>\n",
       "    </tr>\n",
       "    <tr>\n",
       "        <td>Sir Rodney&#x27;s Scones</td>\n",
       "    </tr>\n",
       "    <tr>\n",
       "        <td>NuNuCa Nuß-Nougat-Creme</td>\n",
       "    </tr>\n",
       "    <tr>\n",
       "        <td>Sasquatch Ale</td>\n",
       "    </tr>\n",
       "    <tr>\n",
       "        <td>Steeleye Stout</td>\n",
       "    </tr>\n",
       "    <tr>\n",
       "        <td>Chartreuse verte</td>\n",
       "    </tr>\n",
       "    <tr>\n",
       "        <td>Gula Malacca</td>\n",
       "    </tr>\n",
       "</table>"
      ],
      "text/plain": [
       "[('Chais',),\n",
       " ('Chang',),\n",
       " ('Aniseed Syrup',),\n",
       " ('Pavlova',),\n",
       " (\"Sir Rodney's Scones\",),\n",
       " ('NuNuCa Nuß-Nougat-Creme',),\n",
       " ('Sasquatch Ale',),\n",
       " ('Steeleye Stout',),\n",
       " ('Chartreuse verte',),\n",
       " ('Gula Malacca',)]"
      ]
     },
     "execution_count": 113,
     "metadata": {},
     "output_type": "execute_result"
    }
   ],
   "source": [
    "%%sql\n",
    "\n",
    "SELECT ProductName FROM Products WHERE (Price BETWEEN 10 AND 20) AND (CategoryID IN(1, 2, 3)) LIMIT 10;"
   ]
  },
  {
   "cell_type": "code",
   "execution_count": 114,
   "metadata": {},
   "outputs": [
    {
     "name": "stdout",
     "output_type": "stream",
     "text": [
      " * sqlite:///vbo.db\n",
      "Done.\n"
     ]
    },
    {
     "data": {
      "text/html": [
       "<table>\n",
       "    <tr>\n",
       "        <th>ProductID</th>\n",
       "        <th>ProductName</th>\n",
       "        <th>SupplierID</th>\n",
       "        <th>CategoryID</th>\n",
       "        <th>Unit</th>\n",
       "        <th>Price</th>\n",
       "    </tr>\n",
       "    <tr>\n",
       "        <td>1</td>\n",
       "        <td>Chais</td>\n",
       "        <td>1</td>\n",
       "        <td>1</td>\n",
       "        <td>10 boxes x 20 bags</td>\n",
       "        <td>18</td>\n",
       "    </tr>\n",
       "    <tr>\n",
       "        <td>2</td>\n",
       "        <td>Chang</td>\n",
       "        <td>1</td>\n",
       "        <td>1</td>\n",
       "        <td>24 - 12 oz bottles</td>\n",
       "        <td>19</td>\n",
       "    </tr>\n",
       "    <tr>\n",
       "        <td>4</td>\n",
       "        <td>Chef Anton&#x27;s Cajun Seasoning</td>\n",
       "        <td>2</td>\n",
       "        <td>2</td>\n",
       "        <td>48 - 6 oz jars</td>\n",
       "        <td>22</td>\n",
       "    </tr>\n",
       "    <tr>\n",
       "        <td>5</td>\n",
       "        <td>Chef Anton&#x27;s Gumbo Mix</td>\n",
       "        <td>2</td>\n",
       "        <td>2</td>\n",
       "        <td>36 boxes</td>\n",
       "        <td>21</td>\n",
       "    </tr>\n",
       "    <tr>\n",
       "        <td>6</td>\n",
       "        <td>Grandma&#x27;s Boysenberry Spread</td>\n",
       "        <td>3</td>\n",
       "        <td>2</td>\n",
       "        <td>12 - 8 oz jars</td>\n",
       "        <td>25</td>\n",
       "    </tr>\n",
       "    <tr>\n",
       "        <td>9</td>\n",
       "        <td>Mishi Kobe Niku</td>\n",
       "        <td>4</td>\n",
       "        <td>6</td>\n",
       "        <td>18 - 500 g pkgs.</td>\n",
       "        <td>97</td>\n",
       "    </tr>\n",
       "    <tr>\n",
       "        <td>10</td>\n",
       "        <td>Ikura</td>\n",
       "        <td>4</td>\n",
       "        <td>8</td>\n",
       "        <td>12 - 200 ml jars</td>\n",
       "        <td>31</td>\n",
       "    </tr>\n",
       "    <tr>\n",
       "        <td>13</td>\n",
       "        <td>Konbu</td>\n",
       "        <td>6</td>\n",
       "        <td>8</td>\n",
       "        <td>2 kg box</td>\n",
       "        <td>6</td>\n",
       "    </tr>\n",
       "    <tr>\n",
       "        <td>15</td>\n",
       "        <td>Genen Shouyu</td>\n",
       "        <td>6</td>\n",
       "        <td>2</td>\n",
       "        <td>24 - 250 ml bottles</td>\n",
       "        <td>43</td>\n",
       "    </tr>\n",
       "    <tr>\n",
       "        <td>18</td>\n",
       "        <td>Carnarvon Tigers</td>\n",
       "        <td>7</td>\n",
       "        <td>8</td>\n",
       "        <td>16 kg pkg.</td>\n",
       "        <td>62</td>\n",
       "    </tr>\n",
       "    <tr>\n",
       "        <td>22</td>\n",
       "        <td>Gustaf&#x27;s Knäckebröd</td>\n",
       "        <td>9</td>\n",
       "        <td>5</td>\n",
       "        <td>24 - 500 g pkgs.</td>\n",
       "        <td>21</td>\n",
       "    </tr>\n",
       "    <tr>\n",
       "        <td>24</td>\n",
       "        <td>Guaraná Fantástica</td>\n",
       "        <td>10</td>\n",
       "        <td>1</td>\n",
       "        <td>12 - 355 ml cans</td>\n",
       "        <td>43</td>\n",
       "    </tr>\n",
       "    <tr>\n",
       "        <td>26</td>\n",
       "        <td>Gumbär Gummibärchen</td>\n",
       "        <td>11</td>\n",
       "        <td>3</td>\n",
       "        <td>100 - 250 g bags</td>\n",
       "        <td>31</td>\n",
       "    </tr>\n",
       "    <tr>\n",
       "        <td>31</td>\n",
       "        <td>Gorgonzola Telino</td>\n",
       "        <td>14</td>\n",
       "        <td>4</td>\n",
       "        <td>12 - 100 g pkgs</td>\n",
       "        <td>435</td>\n",
       "    </tr>\n",
       "    <tr>\n",
       "        <td>32</td>\n",
       "        <td>Mascarpone Fabioli</td>\n",
       "        <td>14</td>\n",
       "        <td>4</td>\n",
       "        <td>24 - 200 g pkgs.</td>\n",
       "        <td>32</td>\n",
       "    </tr>\n",
       "    <tr>\n",
       "        <td>33</td>\n",
       "        <td>Geitost</td>\n",
       "        <td>15</td>\n",
       "        <td>4</td>\n",
       "        <td>500 g</td>\n",
       "        <td>43</td>\n",
       "    </tr>\n",
       "    <tr>\n",
       "        <td>36</td>\n",
       "        <td>Inlagd Sill</td>\n",
       "        <td>17</td>\n",
       "        <td>8</td>\n",
       "        <td>24 - 250 g jars</td>\n",
       "        <td>19</td>\n",
       "    </tr>\n",
       "    <tr>\n",
       "        <td>37</td>\n",
       "        <td>Gravad lax</td>\n",
       "        <td>17</td>\n",
       "        <td>8</td>\n",
       "        <td>12 - 500 g pkgs.</td>\n",
       "        <td>26</td>\n",
       "    </tr>\n",
       "    <tr>\n",
       "        <td>38</td>\n",
       "        <td>Côte de Blaye</td>\n",
       "        <td>18</td>\n",
       "        <td>1</td>\n",
       "        <td>12 - 75 cl bottles</td>\n",
       "        <td>263</td>\n",
       "    </tr>\n",
       "    <tr>\n",
       "        <td>39</td>\n",
       "        <td>Chartreuse verte</td>\n",
       "        <td>18</td>\n",
       "        <td>1</td>\n",
       "        <td>750 cc per bottle</td>\n",
       "        <td>18</td>\n",
       "    </tr>\n",
       "    <tr>\n",
       "        <td>41</td>\n",
       "        <td>Jack&#x27;s New England Clam Chowder</td>\n",
       "        <td>19</td>\n",
       "        <td>8</td>\n",
       "        <td>12 - 12 oz cans</td>\n",
       "        <td>23</td>\n",
       "    </tr>\n",
       "    <tr>\n",
       "        <td>43</td>\n",
       "        <td>Ipoh Coffee</td>\n",
       "        <td>20</td>\n",
       "        <td>1</td>\n",
       "        <td>16 - 500 g tins</td>\n",
       "        <td>46</td>\n",
       "    </tr>\n",
       "    <tr>\n",
       "        <td>44</td>\n",
       "        <td>Gula Malacca</td>\n",
       "        <td>20</td>\n",
       "        <td>2</td>\n",
       "        <td>20 - 2 kg bags</td>\n",
       "        <td>19</td>\n",
       "    </tr>\n",
       "    <tr>\n",
       "        <td>48</td>\n",
       "        <td>Chocolade</td>\n",
       "        <td>22</td>\n",
       "        <td>3</td>\n",
       "        <td>10 pkgs.</td>\n",
       "        <td>27</td>\n",
       "    </tr>\n",
       "    <tr>\n",
       "        <td>49</td>\n",
       "        <td>Maxilaku</td>\n",
       "        <td>23</td>\n",
       "        <td>3</td>\n",
       "        <td>24 - 50 g pkgs.</td>\n",
       "        <td>20</td>\n",
       "    </tr>\n",
       "    <tr>\n",
       "        <td>51</td>\n",
       "        <td>Manjimup Dried Apples</td>\n",
       "        <td>24</td>\n",
       "        <td>7</td>\n",
       "        <td>50 - 300 g pkgs.</td>\n",
       "        <td>53</td>\n",
       "    </tr>\n",
       "    <tr>\n",
       "        <td>52</td>\n",
       "        <td>Filo Mix</td>\n",
       "        <td>24</td>\n",
       "        <td>5</td>\n",
       "        <td>16 - 2 kg boxes</td>\n",
       "        <td>7</td>\n",
       "    </tr>\n",
       "    <tr>\n",
       "        <td>56</td>\n",
       "        <td>Gnocchi di nonna Alice</td>\n",
       "        <td>26</td>\n",
       "        <td>5</td>\n",
       "        <td>24 - 250 g pkgs.</td>\n",
       "        <td>38</td>\n",
       "    </tr>\n",
       "    <tr>\n",
       "        <td>58</td>\n",
       "        <td>Escargots de Bourgogne</td>\n",
       "        <td>27</td>\n",
       "        <td>8</td>\n",
       "        <td>24 pieces</td>\n",
       "        <td>13</td>\n",
       "    </tr>\n",
       "    <tr>\n",
       "        <td>65</td>\n",
       "        <td>Louisiana Fiery Hot Pepper Sauce</td>\n",
       "        <td>2</td>\n",
       "        <td>2</td>\n",
       "        <td>32 - 8 oz bottles</td>\n",
       "        <td>43</td>\n",
       "    </tr>\n",
       "    <tr>\n",
       "        <td>66</td>\n",
       "        <td>Louisiana Hot Spiced Okra</td>\n",
       "        <td>2</td>\n",
       "        <td>2</td>\n",
       "        <td>24 - 8 oz jars</td>\n",
       "        <td>17</td>\n",
       "    </tr>\n",
       "    <tr>\n",
       "        <td>67</td>\n",
       "        <td>Laughing Lumberjack Lager</td>\n",
       "        <td>16</td>\n",
       "        <td>1</td>\n",
       "        <td>24 - 12 oz bottles</td>\n",
       "        <td>14</td>\n",
       "    </tr>\n",
       "    <tr>\n",
       "        <td>69</td>\n",
       "        <td>Gudbrandsdalsost</td>\n",
       "        <td>15</td>\n",
       "        <td>4</td>\n",
       "        <td>10 kg pkg.</td>\n",
       "        <td>36</td>\n",
       "    </tr>\n",
       "    <tr>\n",
       "        <td>71</td>\n",
       "        <td>Fløtemysost</td>\n",
       "        <td>15</td>\n",
       "        <td>4</td>\n",
       "        <td>10 - 500 g pkgs.</td>\n",
       "        <td>21</td>\n",
       "    </tr>\n",
       "    <tr>\n",
       "        <td>72</td>\n",
       "        <td>Mozzarella di Giovanni</td>\n",
       "        <td>14</td>\n",
       "        <td>4</td>\n",
       "        <td>24 - 200 g pkgs.</td>\n",
       "        <td>34</td>\n",
       "    </tr>\n",
       "    <tr>\n",
       "        <td>74</td>\n",
       "        <td>Longlife Tofu</td>\n",
       "        <td>4</td>\n",
       "        <td>7</td>\n",
       "        <td>5 kg pkg.</td>\n",
       "        <td>10</td>\n",
       "    </tr>\n",
       "    <tr>\n",
       "        <td>76</td>\n",
       "        <td>Lakkalikööri</td>\n",
       "        <td>23</td>\n",
       "        <td>1</td>\n",
       "        <td>500 ml</td>\n",
       "        <td>18</td>\n",
       "    </tr>\n",
       "</table>"
      ],
      "text/plain": [
       "[(1, 'Chais', 1, 1, '10 boxes x 20 bags', 18),\n",
       " (2, 'Chang', 1, 1, '24 - 12 oz bottles', 19),\n",
       " (4, \"Chef Anton's Cajun Seasoning\", 2, 2, '48 - 6 oz jars', 22),\n",
       " (5, \"Chef Anton's Gumbo Mix\", 2, 2, '36 boxes', 21),\n",
       " (6, \"Grandma's Boysenberry Spread\", 3, 2, '12 - 8 oz jars', 25),\n",
       " (9, 'Mishi Kobe Niku', 4, 6, '18 - 500 g pkgs.', 97),\n",
       " (10, 'Ikura', 4, 8, '12 - 200 ml jars', 31),\n",
       " (13, 'Konbu', 6, 8, '2 kg box', 6),\n",
       " (15, 'Genen Shouyu', 6, 2, '24 - 250 ml bottles', 43),\n",
       " (18, 'Carnarvon Tigers', 7, 8, '16 kg pkg.', 62),\n",
       " (22, \"Gustaf's Knäckebröd\", 9, 5, '24 - 500 g pkgs.', 21),\n",
       " (24, 'Guaraná Fantástica', 10, 1, '12 - 355 ml cans', 43),\n",
       " (26, 'Gumbär Gummibärchen', 11, 3, '100 - 250 g bags', 31),\n",
       " (31, 'Gorgonzola Telino', 14, 4, '12 - 100 g pkgs', 435),\n",
       " (32, 'Mascarpone Fabioli', 14, 4, '24 - 200 g pkgs.', 32),\n",
       " (33, 'Geitost', 15, 4, '500 g', 43),\n",
       " (36, 'Inlagd Sill', 17, 8, '24 - 250 g jars', 19),\n",
       " (37, 'Gravad lax', 17, 8, '12 - 500 g pkgs.', 26),\n",
       " (38, 'Côte de Blaye', 18, 1, '12 - 75 cl bottles', 263),\n",
       " (39, 'Chartreuse verte', 18, 1, '750 cc per bottle', 18),\n",
       " (41, \"Jack's New England Clam Chowder\", 19, 8, '12 - 12 oz cans', 23),\n",
       " (43, 'Ipoh Coffee', 20, 1, '16 - 500 g tins', 46),\n",
       " (44, 'Gula Malacca', 20, 2, '20 - 2 kg bags', 19),\n",
       " (48, 'Chocolade', 22, 3, '10 pkgs.', 27),\n",
       " (49, 'Maxilaku', 23, 3, '24 - 50 g pkgs.', 20),\n",
       " (51, 'Manjimup Dried Apples', 24, 7, '50 - 300 g pkgs.', 53),\n",
       " (52, 'Filo Mix', 24, 5, '16 - 2 kg boxes', 7),\n",
       " (56, 'Gnocchi di nonna Alice', 26, 5, '24 - 250 g pkgs.', 38),\n",
       " (58, 'Escargots de Bourgogne', 27, 8, '24 pieces', 13),\n",
       " (65, 'Louisiana Fiery Hot Pepper Sauce', 2, 2, '32 - 8 oz bottles', 43),\n",
       " (66, 'Louisiana Hot Spiced Okra', 2, 2, '24 - 8 oz jars', 17),\n",
       " (67, 'Laughing Lumberjack Lager', 16, 1, '24 - 12 oz bottles', 14),\n",
       " (69, 'Gudbrandsdalsost', 15, 4, '10 kg pkg.', 36),\n",
       " (71, 'Fløtemysost', 15, 4, '10 - 500 g pkgs.', 21),\n",
       " (72, 'Mozzarella di Giovanni', 14, 4, '24 - 200 g pkgs.', 34),\n",
       " (74, 'Longlife Tofu', 4, 7, '5 kg pkg.', 10),\n",
       " (76, 'Lakkalikööri', 23, 1, '500 ml', 18)]"
      ]
     },
     "execution_count": 114,
     "metadata": {},
     "output_type": "execute_result"
    }
   ],
   "source": [
    "%%sql\n",
    "\n",
    "SELECT * FROM Products WHERE ProductName BETWEEN 'Carnarvon Tigers' AND 'Mozzarella di Govanni';"
   ]
  },
  {
   "cell_type": "code",
   "execution_count": 115,
   "metadata": {},
   "outputs": [
    {
     "name": "stdout",
     "output_type": "stream",
     "text": [
      " * sqlite:///vbo.db\n",
      "Done.\n"
     ]
    },
    {
     "data": {
      "text/html": [
       "<table>\n",
       "    <tr>\n",
       "        <th>ProductID</th>\n",
       "        <th>ProductName</th>\n",
       "        <th>SupplierID</th>\n",
       "        <th>CategoryID</th>\n",
       "        <th>Unit</th>\n",
       "        <th>Price</th>\n",
       "    </tr>\n",
       "    <tr>\n",
       "        <td>31</td>\n",
       "        <td>Gorgonzola Telino</td>\n",
       "        <td>14</td>\n",
       "        <td>4</td>\n",
       "        <td>12 - 100 g pkgs</td>\n",
       "        <td>435</td>\n",
       "    </tr>\n",
       "    <tr>\n",
       "        <td>38</td>\n",
       "        <td>Côte de Blaye</td>\n",
       "        <td>18</td>\n",
       "        <td>1</td>\n",
       "        <td>12 - 75 cl bottles</td>\n",
       "        <td>263</td>\n",
       "    </tr>\n",
       "    <tr>\n",
       "        <td>9</td>\n",
       "        <td>Mishi Kobe Niku</td>\n",
       "        <td>4</td>\n",
       "        <td>6</td>\n",
       "        <td>18 - 500 g pkgs.</td>\n",
       "        <td>97</td>\n",
       "    </tr>\n",
       "    <tr>\n",
       "        <td>18</td>\n",
       "        <td>Carnarvon Tigers</td>\n",
       "        <td>7</td>\n",
       "        <td>8</td>\n",
       "        <td>16 kg pkg.</td>\n",
       "        <td>62</td>\n",
       "    </tr>\n",
       "    <tr>\n",
       "        <td>51</td>\n",
       "        <td>Manjimup Dried Apples</td>\n",
       "        <td>24</td>\n",
       "        <td>7</td>\n",
       "        <td>50 - 300 g pkgs.</td>\n",
       "        <td>53</td>\n",
       "    </tr>\n",
       "    <tr>\n",
       "        <td>43</td>\n",
       "        <td>Ipoh Coffee</td>\n",
       "        <td>20</td>\n",
       "        <td>1</td>\n",
       "        <td>16 - 500 g tins</td>\n",
       "        <td>46</td>\n",
       "    </tr>\n",
       "    <tr>\n",
       "        <td>15</td>\n",
       "        <td>Genen Shouyu</td>\n",
       "        <td>6</td>\n",
       "        <td>2</td>\n",
       "        <td>24 - 250 ml bottles</td>\n",
       "        <td>43</td>\n",
       "    </tr>\n",
       "    <tr>\n",
       "        <td>24</td>\n",
       "        <td>Guaraná Fantástica</td>\n",
       "        <td>10</td>\n",
       "        <td>1</td>\n",
       "        <td>12 - 355 ml cans</td>\n",
       "        <td>43</td>\n",
       "    </tr>\n",
       "    <tr>\n",
       "        <td>33</td>\n",
       "        <td>Geitost</td>\n",
       "        <td>15</td>\n",
       "        <td>4</td>\n",
       "        <td>500 g</td>\n",
       "        <td>43</td>\n",
       "    </tr>\n",
       "    <tr>\n",
       "        <td>65</td>\n",
       "        <td>Louisiana Fiery Hot Pepper Sauce</td>\n",
       "        <td>2</td>\n",
       "        <td>2</td>\n",
       "        <td>32 - 8 oz bottles</td>\n",
       "        <td>43</td>\n",
       "    </tr>\n",
       "    <tr>\n",
       "        <td>56</td>\n",
       "        <td>Gnocchi di nonna Alice</td>\n",
       "        <td>26</td>\n",
       "        <td>5</td>\n",
       "        <td>24 - 250 g pkgs.</td>\n",
       "        <td>38</td>\n",
       "    </tr>\n",
       "    <tr>\n",
       "        <td>69</td>\n",
       "        <td>Gudbrandsdalsost</td>\n",
       "        <td>15</td>\n",
       "        <td>4</td>\n",
       "        <td>10 kg pkg.</td>\n",
       "        <td>36</td>\n",
       "    </tr>\n",
       "    <tr>\n",
       "        <td>72</td>\n",
       "        <td>Mozzarella di Giovanni</td>\n",
       "        <td>14</td>\n",
       "        <td>4</td>\n",
       "        <td>24 - 200 g pkgs.</td>\n",
       "        <td>34</td>\n",
       "    </tr>\n",
       "    <tr>\n",
       "        <td>32</td>\n",
       "        <td>Mascarpone Fabioli</td>\n",
       "        <td>14</td>\n",
       "        <td>4</td>\n",
       "        <td>24 - 200 g pkgs.</td>\n",
       "        <td>32</td>\n",
       "    </tr>\n",
       "    <tr>\n",
       "        <td>10</td>\n",
       "        <td>Ikura</td>\n",
       "        <td>4</td>\n",
       "        <td>8</td>\n",
       "        <td>12 - 200 ml jars</td>\n",
       "        <td>31</td>\n",
       "    </tr>\n",
       "    <tr>\n",
       "        <td>26</td>\n",
       "        <td>Gumbär Gummibärchen</td>\n",
       "        <td>11</td>\n",
       "        <td>3</td>\n",
       "        <td>100 - 250 g bags</td>\n",
       "        <td>31</td>\n",
       "    </tr>\n",
       "    <tr>\n",
       "        <td>48</td>\n",
       "        <td>Chocolade</td>\n",
       "        <td>22</td>\n",
       "        <td>3</td>\n",
       "        <td>10 pkgs.</td>\n",
       "        <td>27</td>\n",
       "    </tr>\n",
       "    <tr>\n",
       "        <td>37</td>\n",
       "        <td>Gravad lax</td>\n",
       "        <td>17</td>\n",
       "        <td>8</td>\n",
       "        <td>12 - 500 g pkgs.</td>\n",
       "        <td>26</td>\n",
       "    </tr>\n",
       "    <tr>\n",
       "        <td>6</td>\n",
       "        <td>Grandma&#x27;s Boysenberry Spread</td>\n",
       "        <td>3</td>\n",
       "        <td>2</td>\n",
       "        <td>12 - 8 oz jars</td>\n",
       "        <td>25</td>\n",
       "    </tr>\n",
       "    <tr>\n",
       "        <td>41</td>\n",
       "        <td>Jack&#x27;s New England Clam Chowder</td>\n",
       "        <td>19</td>\n",
       "        <td>8</td>\n",
       "        <td>12 - 12 oz cans</td>\n",
       "        <td>23</td>\n",
       "    </tr>\n",
       "    <tr>\n",
       "        <td>4</td>\n",
       "        <td>Chef Anton&#x27;s Cajun Seasoning</td>\n",
       "        <td>2</td>\n",
       "        <td>2</td>\n",
       "        <td>48 - 6 oz jars</td>\n",
       "        <td>22</td>\n",
       "    </tr>\n",
       "    <tr>\n",
       "        <td>5</td>\n",
       "        <td>Chef Anton&#x27;s Gumbo Mix</td>\n",
       "        <td>2</td>\n",
       "        <td>2</td>\n",
       "        <td>36 boxes</td>\n",
       "        <td>21</td>\n",
       "    </tr>\n",
       "    <tr>\n",
       "        <td>22</td>\n",
       "        <td>Gustaf&#x27;s Knäckebröd</td>\n",
       "        <td>9</td>\n",
       "        <td>5</td>\n",
       "        <td>24 - 500 g pkgs.</td>\n",
       "        <td>21</td>\n",
       "    </tr>\n",
       "    <tr>\n",
       "        <td>71</td>\n",
       "        <td>Fløtemysost</td>\n",
       "        <td>15</td>\n",
       "        <td>4</td>\n",
       "        <td>10 - 500 g pkgs.</td>\n",
       "        <td>21</td>\n",
       "    </tr>\n",
       "    <tr>\n",
       "        <td>49</td>\n",
       "        <td>Maxilaku</td>\n",
       "        <td>23</td>\n",
       "        <td>3</td>\n",
       "        <td>24 - 50 g pkgs.</td>\n",
       "        <td>20</td>\n",
       "    </tr>\n",
       "    <tr>\n",
       "        <td>2</td>\n",
       "        <td>Chang</td>\n",
       "        <td>1</td>\n",
       "        <td>1</td>\n",
       "        <td>24 - 12 oz bottles</td>\n",
       "        <td>19</td>\n",
       "    </tr>\n",
       "    <tr>\n",
       "        <td>36</td>\n",
       "        <td>Inlagd Sill</td>\n",
       "        <td>17</td>\n",
       "        <td>8</td>\n",
       "        <td>24 - 250 g jars</td>\n",
       "        <td>19</td>\n",
       "    </tr>\n",
       "    <tr>\n",
       "        <td>44</td>\n",
       "        <td>Gula Malacca</td>\n",
       "        <td>20</td>\n",
       "        <td>2</td>\n",
       "        <td>20 - 2 kg bags</td>\n",
       "        <td>19</td>\n",
       "    </tr>\n",
       "    <tr>\n",
       "        <td>1</td>\n",
       "        <td>Chais</td>\n",
       "        <td>1</td>\n",
       "        <td>1</td>\n",
       "        <td>10 boxes x 20 bags</td>\n",
       "        <td>18</td>\n",
       "    </tr>\n",
       "    <tr>\n",
       "        <td>39</td>\n",
       "        <td>Chartreuse verte</td>\n",
       "        <td>18</td>\n",
       "        <td>1</td>\n",
       "        <td>750 cc per bottle</td>\n",
       "        <td>18</td>\n",
       "    </tr>\n",
       "    <tr>\n",
       "        <td>76</td>\n",
       "        <td>Lakkalikööri</td>\n",
       "        <td>23</td>\n",
       "        <td>1</td>\n",
       "        <td>500 ml</td>\n",
       "        <td>18</td>\n",
       "    </tr>\n",
       "    <tr>\n",
       "        <td>66</td>\n",
       "        <td>Louisiana Hot Spiced Okra</td>\n",
       "        <td>2</td>\n",
       "        <td>2</td>\n",
       "        <td>24 - 8 oz jars</td>\n",
       "        <td>17</td>\n",
       "    </tr>\n",
       "    <tr>\n",
       "        <td>67</td>\n",
       "        <td>Laughing Lumberjack Lager</td>\n",
       "        <td>16</td>\n",
       "        <td>1</td>\n",
       "        <td>24 - 12 oz bottles</td>\n",
       "        <td>14</td>\n",
       "    </tr>\n",
       "    <tr>\n",
       "        <td>58</td>\n",
       "        <td>Escargots de Bourgogne</td>\n",
       "        <td>27</td>\n",
       "        <td>8</td>\n",
       "        <td>24 pieces</td>\n",
       "        <td>13</td>\n",
       "    </tr>\n",
       "    <tr>\n",
       "        <td>74</td>\n",
       "        <td>Longlife Tofu</td>\n",
       "        <td>4</td>\n",
       "        <td>7</td>\n",
       "        <td>5 kg pkg.</td>\n",
       "        <td>10</td>\n",
       "    </tr>\n",
       "    <tr>\n",
       "        <td>52</td>\n",
       "        <td>Filo Mix</td>\n",
       "        <td>24</td>\n",
       "        <td>5</td>\n",
       "        <td>16 - 2 kg boxes</td>\n",
       "        <td>7</td>\n",
       "    </tr>\n",
       "    <tr>\n",
       "        <td>13</td>\n",
       "        <td>Konbu</td>\n",
       "        <td>6</td>\n",
       "        <td>8</td>\n",
       "        <td>2 kg box</td>\n",
       "        <td>6</td>\n",
       "    </tr>\n",
       "</table>"
      ],
      "text/plain": [
       "[(31, 'Gorgonzola Telino', 14, 4, '12 - 100 g pkgs', 435),\n",
       " (38, 'Côte de Blaye', 18, 1, '12 - 75 cl bottles', 263),\n",
       " (9, 'Mishi Kobe Niku', 4, 6, '18 - 500 g pkgs.', 97),\n",
       " (18, 'Carnarvon Tigers', 7, 8, '16 kg pkg.', 62),\n",
       " (51, 'Manjimup Dried Apples', 24, 7, '50 - 300 g pkgs.', 53),\n",
       " (43, 'Ipoh Coffee', 20, 1, '16 - 500 g tins', 46),\n",
       " (15, 'Genen Shouyu', 6, 2, '24 - 250 ml bottles', 43),\n",
       " (24, 'Guaraná Fantástica', 10, 1, '12 - 355 ml cans', 43),\n",
       " (33, 'Geitost', 15, 4, '500 g', 43),\n",
       " (65, 'Louisiana Fiery Hot Pepper Sauce', 2, 2, '32 - 8 oz bottles', 43),\n",
       " (56, 'Gnocchi di nonna Alice', 26, 5, '24 - 250 g pkgs.', 38),\n",
       " (69, 'Gudbrandsdalsost', 15, 4, '10 kg pkg.', 36),\n",
       " (72, 'Mozzarella di Giovanni', 14, 4, '24 - 200 g pkgs.', 34),\n",
       " (32, 'Mascarpone Fabioli', 14, 4, '24 - 200 g pkgs.', 32),\n",
       " (10, 'Ikura', 4, 8, '12 - 200 ml jars', 31),\n",
       " (26, 'Gumbär Gummibärchen', 11, 3, '100 - 250 g bags', 31),\n",
       " (48, 'Chocolade', 22, 3, '10 pkgs.', 27),\n",
       " (37, 'Gravad lax', 17, 8, '12 - 500 g pkgs.', 26),\n",
       " (6, \"Grandma's Boysenberry Spread\", 3, 2, '12 - 8 oz jars', 25),\n",
       " (41, \"Jack's New England Clam Chowder\", 19, 8, '12 - 12 oz cans', 23),\n",
       " (4, \"Chef Anton's Cajun Seasoning\", 2, 2, '48 - 6 oz jars', 22),\n",
       " (5, \"Chef Anton's Gumbo Mix\", 2, 2, '36 boxes', 21),\n",
       " (22, \"Gustaf's Knäckebröd\", 9, 5, '24 - 500 g pkgs.', 21),\n",
       " (71, 'Fløtemysost', 15, 4, '10 - 500 g pkgs.', 21),\n",
       " (49, 'Maxilaku', 23, 3, '24 - 50 g pkgs.', 20),\n",
       " (2, 'Chang', 1, 1, '24 - 12 oz bottles', 19),\n",
       " (36, 'Inlagd Sill', 17, 8, '24 - 250 g jars', 19),\n",
       " (44, 'Gula Malacca', 20, 2, '20 - 2 kg bags', 19),\n",
       " (1, 'Chais', 1, 1, '10 boxes x 20 bags', 18),\n",
       " (39, 'Chartreuse verte', 18, 1, '750 cc per bottle', 18),\n",
       " (76, 'Lakkalikööri', 23, 1, '500 ml', 18),\n",
       " (66, 'Louisiana Hot Spiced Okra', 2, 2, '24 - 8 oz jars', 17),\n",
       " (67, 'Laughing Lumberjack Lager', 16, 1, '24 - 12 oz bottles', 14),\n",
       " (58, 'Escargots de Bourgogne', 27, 8, '24 pieces', 13),\n",
       " (74, 'Longlife Tofu', 4, 7, '5 kg pkg.', 10),\n",
       " (52, 'Filo Mix', 24, 5, '16 - 2 kg boxes', 7),\n",
       " (13, 'Konbu', 6, 8, '2 kg box', 6)]"
      ]
     },
     "execution_count": 115,
     "metadata": {},
     "output_type": "execute_result"
    }
   ],
   "source": [
    "%%sql\n",
    "\n",
    "SELECT * FROM Products WHERE ProductName BETWEEN 'Carnarvon Tigers' AND 'Mozzarella di Govanni' ORDER BY Price DESC;"
   ]
  },
  {
   "cell_type": "markdown",
   "metadata": {},
   "source": [
    "------------"
   ]
  },
  {
   "cell_type": "markdown",
   "metadata": {},
   "source": [
    "## 13. AGGREGATION Fonksiyonları : Temel İstatistiksel İşlemler"
   ]
  },
  {
   "cell_type": "code",
   "execution_count": 116,
   "metadata": {},
   "outputs": [
    {
     "name": "stdout",
     "output_type": "stream",
     "text": [
      " * sqlite:///vbo.db\n",
      "Done.\n"
     ]
    },
    {
     "data": {
      "text/html": [
       "<table>\n",
       "    <tr>\n",
       "        <th>ProductID</th>\n",
       "        <th>ProductName</th>\n",
       "        <th>SupplierID</th>\n",
       "        <th>CategoryID</th>\n",
       "        <th>Unit</th>\n",
       "        <th>Price</th>\n",
       "    </tr>\n",
       "    <tr>\n",
       "        <td>1</td>\n",
       "        <td>Chais</td>\n",
       "        <td>1</td>\n",
       "        <td>1</td>\n",
       "        <td>10 boxes x 20 bags</td>\n",
       "        <td>18</td>\n",
       "    </tr>\n",
       "    <tr>\n",
       "        <td>2</td>\n",
       "        <td>Chang</td>\n",
       "        <td>1</td>\n",
       "        <td>1</td>\n",
       "        <td>24 - 12 oz bottles</td>\n",
       "        <td>19</td>\n",
       "    </tr>\n",
       "    <tr>\n",
       "        <td>3</td>\n",
       "        <td>Aniseed Syrup</td>\n",
       "        <td>1</td>\n",
       "        <td>2</td>\n",
       "        <td>12 - 550 ml bottles</td>\n",
       "        <td>10</td>\n",
       "    </tr>\n",
       "    <tr>\n",
       "        <td>4</td>\n",
       "        <td>Chef Anton&#x27;s Cajun Seasoning</td>\n",
       "        <td>2</td>\n",
       "        <td>2</td>\n",
       "        <td>48 - 6 oz jars</td>\n",
       "        <td>22</td>\n",
       "    </tr>\n",
       "    <tr>\n",
       "        <td>5</td>\n",
       "        <td>Chef Anton&#x27;s Gumbo Mix</td>\n",
       "        <td>2</td>\n",
       "        <td>2</td>\n",
       "        <td>36 boxes</td>\n",
       "        <td>21</td>\n",
       "    </tr>\n",
       "    <tr>\n",
       "        <td>6</td>\n",
       "        <td>Grandma&#x27;s Boysenberry Spread</td>\n",
       "        <td>3</td>\n",
       "        <td>2</td>\n",
       "        <td>12 - 8 oz jars</td>\n",
       "        <td>25</td>\n",
       "    </tr>\n",
       "    <tr>\n",
       "        <td>7</td>\n",
       "        <td>Uncle Bob&#x27;s Organic Dried Pears</td>\n",
       "        <td>3</td>\n",
       "        <td>7</td>\n",
       "        <td>12 - 1 lb pkgs.</td>\n",
       "        <td>30</td>\n",
       "    </tr>\n",
       "    <tr>\n",
       "        <td>8</td>\n",
       "        <td>Northwoods Cranberry Sauce</td>\n",
       "        <td>3</td>\n",
       "        <td>2</td>\n",
       "        <td>12 - 12 oz jars</td>\n",
       "        <td>40</td>\n",
       "    </tr>\n",
       "    <tr>\n",
       "        <td>9</td>\n",
       "        <td>Mishi Kobe Niku</td>\n",
       "        <td>4</td>\n",
       "        <td>6</td>\n",
       "        <td>18 - 500 g pkgs.</td>\n",
       "        <td>97</td>\n",
       "    </tr>\n",
       "    <tr>\n",
       "        <td>10</td>\n",
       "        <td>Ikura</td>\n",
       "        <td>4</td>\n",
       "        <td>8</td>\n",
       "        <td>12 - 200 ml jars</td>\n",
       "        <td>31</td>\n",
       "    </tr>\n",
       "</table>"
      ],
      "text/plain": [
       "[(1, 'Chais', 1, 1, '10 boxes x 20 bags', 18),\n",
       " (2, 'Chang', 1, 1, '24 - 12 oz bottles', 19),\n",
       " (3, 'Aniseed Syrup', 1, 2, '12 - 550 ml bottles', 10),\n",
       " (4, \"Chef Anton's Cajun Seasoning\", 2, 2, '48 - 6 oz jars', 22),\n",
       " (5, \"Chef Anton's Gumbo Mix\", 2, 2, '36 boxes', 21),\n",
       " (6, \"Grandma's Boysenberry Spread\", 3, 2, '12 - 8 oz jars', 25),\n",
       " (7, \"Uncle Bob's Organic Dried Pears\", 3, 7, '12 - 1 lb pkgs.', 30),\n",
       " (8, 'Northwoods Cranberry Sauce', 3, 2, '12 - 12 oz jars', 40),\n",
       " (9, 'Mishi Kobe Niku', 4, 6, '18 - 500 g pkgs.', 97),\n",
       " (10, 'Ikura', 4, 8, '12 - 200 ml jars', 31)]"
      ]
     },
     "execution_count": 116,
     "metadata": {},
     "output_type": "execute_result"
    }
   ],
   "source": [
    "%%sql\n",
    "\n",
    "SELECT * FROM Products LIMIT 10;"
   ]
  },
  {
   "cell_type": "code",
   "execution_count": 117,
   "metadata": {},
   "outputs": [
    {
     "name": "stdout",
     "output_type": "stream",
     "text": [
      " * sqlite:///vbo.db\n",
      "Done.\n"
     ]
    },
    {
     "data": {
      "text/html": [
       "<table>\n",
       "    <tr>\n",
       "        <th>MIN(Price)</th>\n",
       "    </tr>\n",
       "    <tr>\n",
       "        <td>6</td>\n",
       "    </tr>\n",
       "</table>"
      ],
      "text/plain": [
       "[(6,)]"
      ]
     },
     "execution_count": 117,
     "metadata": {},
     "output_type": "execute_result"
    }
   ],
   "source": [
    "%%sql\n",
    "\n",
    "SELECT MIN(Price) FROM Products;"
   ]
  },
  {
   "cell_type": "code",
   "execution_count": 118,
   "metadata": {},
   "outputs": [
    {
     "name": "stdout",
     "output_type": "stream",
     "text": [
      " * sqlite:///vbo.db\n",
      "Done.\n"
     ]
    },
    {
     "data": {
      "text/html": [
       "<table>\n",
       "    <tr>\n",
       "        <th>ProductID</th>\n",
       "        <th>ProductName</th>\n",
       "        <th>MinPrice</th>\n",
       "    </tr>\n",
       "    <tr>\n",
       "        <td>13</td>\n",
       "        <td>Konbu</td>\n",
       "        <td>6</td>\n",
       "    </tr>\n",
       "</table>"
      ],
      "text/plain": [
       "[(13, 'Konbu', 6)]"
      ]
     },
     "execution_count": 118,
     "metadata": {},
     "output_type": "execute_result"
    }
   ],
   "source": [
    "%%sql\n",
    "\n",
    "SELECT ProductID, ProductName, MIN(Price) AS MinPrice FROM Products;"
   ]
  },
  {
   "cell_type": "code",
   "execution_count": 120,
   "metadata": {},
   "outputs": [
    {
     "name": "stdout",
     "output_type": "stream",
     "text": [
      " * sqlite:///vbo.db\n",
      "Done.\n"
     ]
    },
    {
     "data": {
      "text/html": [
       "<table>\n",
       "    <tr>\n",
       "        <th>ProductID</th>\n",
       "        <th>ProductName</th>\n",
       "        <th>SupplierID</th>\n",
       "        <th>CategoryID</th>\n",
       "        <th>Unit</th>\n",
       "        <th>Price</th>\n",
       "        <th>MinPrice</th>\n",
       "    </tr>\n",
       "    <tr>\n",
       "        <td>13</td>\n",
       "        <td>Konbu</td>\n",
       "        <td>6</td>\n",
       "        <td>8</td>\n",
       "        <td>2 kg box</td>\n",
       "        <td>6</td>\n",
       "        <td>6</td>\n",
       "    </tr>\n",
       "</table>"
      ],
      "text/plain": [
       "[(13, 'Konbu', 6, 8, '2 kg box', 6, 6)]"
      ]
     },
     "execution_count": 120,
     "metadata": {},
     "output_type": "execute_result"
    }
   ],
   "source": [
    "%%sql\n",
    "\n",
    "SELECT * , MIN(Price) AS MinPrice FROM Products;"
   ]
  },
  {
   "cell_type": "code",
   "execution_count": 125,
   "metadata": {},
   "outputs": [
    {
     "name": "stdout",
     "output_type": "stream",
     "text": [
      " * sqlite:///vbo.db\n",
      "Done.\n"
     ]
    },
    {
     "data": {
      "text/html": [
       "<table>\n",
       "    <tr>\n",
       "        <th>ProductID</th>\n",
       "        <th>ProductName</th>\n",
       "        <th>SupplierID</th>\n",
       "        <th>CategoryID</th>\n",
       "        <th>Unit</th>\n",
       "        <th>Price</th>\n",
       "        <th>MaxPrice</th>\n",
       "    </tr>\n",
       "    <tr>\n",
       "        <td>31</td>\n",
       "        <td>Gorgonzola Telino</td>\n",
       "        <td>14</td>\n",
       "        <td>4</td>\n",
       "        <td>12 - 100 g pkgs</td>\n",
       "        <td>435</td>\n",
       "        <td>435</td>\n",
       "    </tr>\n",
       "</table>"
      ],
      "text/plain": [
       "[(31, 'Gorgonzola Telino', 14, 4, '12 - 100 g pkgs', 435, 435)]"
      ]
     },
     "execution_count": 125,
     "metadata": {},
     "output_type": "execute_result"
    }
   ],
   "source": [
    "%%sql\n",
    "\n",
    "SELECT * , MAX(Price) AS MaxPrice FROM Products;"
   ]
  },
  {
   "cell_type": "code",
   "execution_count": 139,
   "metadata": {},
   "outputs": [
    {
     "name": "stdout",
     "output_type": "stream",
     "text": [
      " * sqlite:///vbo.db\n",
      "Done.\n"
     ]
    },
    {
     "data": {
      "text/html": [
       "<table>\n",
       "    <tr>\n",
       "        <th>MaxPrice</th>\n",
       "        <th>MinPrice</th>\n",
       "    </tr>\n",
       "    <tr>\n",
       "        <td>435</td>\n",
       "        <td>6</td>\n",
       "    </tr>\n",
       "</table>"
      ],
      "text/plain": [
       "[(435, 6)]"
      ]
     },
     "execution_count": 139,
     "metadata": {},
     "output_type": "execute_result"
    }
   ],
   "source": [
    "%%sql\n",
    "\n",
    "SELECT MAX(Price) AS MaxPrice, MIN(Price) AS MinPrice FROM Products;"
   ]
  },
  {
   "cell_type": "code",
   "execution_count": 137,
   "metadata": {},
   "outputs": [
    {
     "name": "stdout",
     "output_type": "stream",
     "text": [
      " * sqlite:///vbo.db\n",
      "Done.\n"
     ]
    },
    {
     "data": {
      "text/html": [
       "<table>\n",
       "    <tr>\n",
       "        <th>AVG(Price)</th>\n",
       "    </tr>\n",
       "    <tr>\n",
       "        <td>39.15584415584416</td>\n",
       "    </tr>\n",
       "</table>"
      ],
      "text/plain": [
       "[(39.15584415584416,)]"
      ]
     },
     "execution_count": 137,
     "metadata": {},
     "output_type": "execute_result"
    }
   ],
   "source": [
    "%%sql\n",
    "\n",
    "SELECT AVG(Price) FROM Products;"
   ]
  },
  {
   "cell_type": "code",
   "execution_count": 140,
   "metadata": {},
   "outputs": [
    {
     "name": "stdout",
     "output_type": "stream",
     "text": [
      " * sqlite:///vbo.db\n",
      "Done.\n"
     ]
    },
    {
     "data": {
      "text/html": [
       "<table>\n",
       "    <tr>\n",
       "        <th>SUM(Price)</th>\n",
       "    </tr>\n",
       "    <tr>\n",
       "        <td>3015</td>\n",
       "    </tr>\n",
       "</table>"
      ],
      "text/plain": [
       "[(3015,)]"
      ]
     },
     "execution_count": 140,
     "metadata": {},
     "output_type": "execute_result"
    }
   ],
   "source": [
    "%%sql\n",
    "\n",
    "SELECT SUM(Price) FROM Products;"
   ]
  },
  {
   "cell_type": "code",
   "execution_count": 142,
   "metadata": {},
   "outputs": [
    {
     "name": "stdout",
     "output_type": "stream",
     "text": [
      " * sqlite:///vbo.db\n",
      "Done.\n"
     ]
    },
    {
     "data": {
      "text/html": [
       "<table>\n",
       "    <tr>\n",
       "        <th>MIN(Price)</th>\n",
       "        <th>MAX(Price)</th>\n",
       "        <th>AVG(Price)</th>\n",
       "        <th>SUM(Price)</th>\n",
       "    </tr>\n",
       "    <tr>\n",
       "        <td>6</td>\n",
       "        <td>435</td>\n",
       "        <td>39.15584415584416</td>\n",
       "        <td>3015</td>\n",
       "    </tr>\n",
       "</table>"
      ],
      "text/plain": [
       "[(6, 435, 39.15584415584416, 3015)]"
      ]
     },
     "execution_count": 142,
     "metadata": {},
     "output_type": "execute_result"
    }
   ],
   "source": [
    "%%sql\n",
    "\n",
    "SELECT MIN(Price), MAX(Price), AVG(Price), SUM(Price) FROM Products;"
   ]
  },
  {
   "cell_type": "code",
   "execution_count": 144,
   "metadata": {},
   "outputs": [
    {
     "name": "stdout",
     "output_type": "stream",
     "text": [
      " * sqlite:///vbo.db\n",
      "Done.\n"
     ]
    },
    {
     "data": {
      "text/html": [
       "<table>\n",
       "    <tr>\n",
       "        <th>COUNT(Price)</th>\n",
       "        <th>MIN(Price)</th>\n",
       "        <th>MAX(Price)</th>\n",
       "        <th>AVG(Price)</th>\n",
       "        <th>SUM(Price)</th>\n",
       "    </tr>\n",
       "    <tr>\n",
       "        <td>77</td>\n",
       "        <td>6</td>\n",
       "        <td>435</td>\n",
       "        <td>39.15584415584416</td>\n",
       "        <td>3015</td>\n",
       "    </tr>\n",
       "</table>"
      ],
      "text/plain": [
       "[(77, 6, 435, 39.15584415584416, 3015)]"
      ]
     },
     "execution_count": 144,
     "metadata": {},
     "output_type": "execute_result"
    }
   ],
   "source": [
    "%%sql\n",
    "\n",
    "SELECT COUNT(Price), MIN(Price), MAX(Price), AVG(Price), SUM(Price) FROM Products;"
   ]
  },
  {
   "cell_type": "markdown",
   "metadata": {},
   "source": [
    "---------"
   ]
  },
  {
   "cell_type": "markdown",
   "metadata": {},
   "source": [
    "## 14. GROUP BY ve AGGREGATION Fonksiyonları"
   ]
  },
  {
   "cell_type": "code",
   "execution_count": 148,
   "metadata": {},
   "outputs": [
    {
     "name": "stdout",
     "output_type": "stream",
     "text": [
      " * sqlite:///vbo.db\n",
      "Done.\n"
     ]
    },
    {
     "data": {
      "text/html": [
       "<table>\n",
       "    <tr>\n",
       "        <th>CustomerID</th>\n",
       "        <th>CustomerName</th>\n",
       "        <th>ContactName</th>\n",
       "        <th>Address</th>\n",
       "        <th>City</th>\n",
       "        <th>PostalCode</th>\n",
       "        <th>Country</th>\n",
       "        <th>CountCountry</th>\n",
       "    </tr>\n",
       "    <tr>\n",
       "        <td>32</td>\n",
       "        <td>Great Lakes Food Market</td>\n",
       "        <td>Howard Snyder</td>\n",
       "        <td>2732 Baker Blvd.</td>\n",
       "        <td>Eugene</td>\n",
       "        <td>97403</td>\n",
       "        <td>USA</td>\n",
       "        <td>13</td>\n",
       "    </tr>\n",
       "    <tr>\n",
       "        <td>7</td>\n",
       "        <td>Blondel père et fils</td>\n",
       "        <td>Frédérique Citeaux</td>\n",
       "        <td>24, place Kléber</td>\n",
       "        <td>Strasbourg</td>\n",
       "        <td>67000</td>\n",
       "        <td>France</td>\n",
       "        <td>11</td>\n",
       "    </tr>\n",
       "    <tr>\n",
       "        <td>1</td>\n",
       "        <td>Alfreds Futterkiste</td>\n",
       "        <td>Maria Anders</td>\n",
       "        <td>Obere Str. 57</td>\n",
       "        <td>Berlin</td>\n",
       "        <td>12209</td>\n",
       "        <td>Germany</td>\n",
       "        <td>11</td>\n",
       "    </tr>\n",
       "    <tr>\n",
       "        <td>15</td>\n",
       "        <td>Comércio Mineiro</td>\n",
       "        <td>Pedro Afonso</td>\n",
       "        <td>Av. dos Lusíadas, 23</td>\n",
       "        <td>São Paulo</td>\n",
       "        <td>05432-043</td>\n",
       "        <td>Brazil</td>\n",
       "        <td>9</td>\n",
       "    </tr>\n",
       "    <tr>\n",
       "        <td>4</td>\n",
       "        <td>Around the Horn</td>\n",
       "        <td>Thomas Hardy</td>\n",
       "        <td>120 Hanover Sq.</td>\n",
       "        <td>London</td>\n",
       "        <td>WA1 1DP</td>\n",
       "        <td>UK</td>\n",
       "        <td>7</td>\n",
       "    </tr>\n",
       "    <tr>\n",
       "        <td>2</td>\n",
       "        <td>Ana Trujillo Emparedados y helados</td>\n",
       "        <td>Ana Trujillo</td>\n",
       "        <td>Avda. de la Constitución 2222</td>\n",
       "        <td>México D.F.</td>\n",
       "        <td>5021</td>\n",
       "        <td>Mexico</td>\n",
       "        <td>5</td>\n",
       "    </tr>\n",
       "    <tr>\n",
       "        <td>8</td>\n",
       "        <td>Bólido Comidas preparadas</td>\n",
       "        <td>Martín Sommer</td>\n",
       "        <td>C/ Araquil, 67</td>\n",
       "        <td>Madrid</td>\n",
       "        <td>28023</td>\n",
       "        <td>Spain</td>\n",
       "        <td>5</td>\n",
       "    </tr>\n",
       "    <tr>\n",
       "        <td>33</td>\n",
       "        <td>GROSELLA-Restaurante</td>\n",
       "        <td>Manuel Pereira</td>\n",
       "        <td>5ª Ave. Los Palos Grandes</td>\n",
       "        <td>Caracas</td>\n",
       "        <td>1081</td>\n",
       "        <td>Venezuela</td>\n",
       "        <td>4</td>\n",
       "    </tr>\n",
       "    <tr>\n",
       "        <td>12</td>\n",
       "        <td>Cactus Comidas para llevar</td>\n",
       "        <td>Patricio Simpson</td>\n",
       "        <td>Cerrito 333</td>\n",
       "        <td>Buenos Aires</td>\n",
       "        <td>1010</td>\n",
       "        <td>Argentina</td>\n",
       "        <td>3</td>\n",
       "    </tr>\n",
       "    <tr>\n",
       "        <td>10</td>\n",
       "        <td>Bottom-Dollar Marketse</td>\n",
       "        <td>Elizabeth Lincoln</td>\n",
       "        <td>23 Tsawassen Blvd.</td>\n",
       "        <td>Tsawassen</td>\n",
       "        <td>T2F 8M4</td>\n",
       "        <td>Canada</td>\n",
       "        <td>3</td>\n",
       "    </tr>\n",
       "    <tr>\n",
       "        <td>27</td>\n",
       "        <td>Franchi S.p.A.</td>\n",
       "        <td>Paolo Accorti</td>\n",
       "        <td>Via Monte Bianco 34</td>\n",
       "        <td>Torino</td>\n",
       "        <td>10100</td>\n",
       "        <td>Italy</td>\n",
       "        <td>3</td>\n",
       "    </tr>\n",
       "    <tr>\n",
       "        <td>20</td>\n",
       "        <td>Ernst Handel</td>\n",
       "        <td>Roland Mendel</td>\n",
       "        <td>Kirchgasse 6</td>\n",
       "        <td>Graz</td>\n",
       "        <td>8010</td>\n",
       "        <td>Austria</td>\n",
       "        <td>2</td>\n",
       "    </tr>\n",
       "    <tr>\n",
       "        <td>50</td>\n",
       "        <td>Maison Dewey</td>\n",
       "        <td>Catherine Dewey</td>\n",
       "        <td>Rue Joseph-Bens 532</td>\n",
       "        <td>Bruxelles</td>\n",
       "        <td>B-1180</td>\n",
       "        <td>Belgium</td>\n",
       "        <td>2</td>\n",
       "    </tr>\n",
       "    <tr>\n",
       "        <td>73</td>\n",
       "        <td>Simons bistro</td>\n",
       "        <td>Jytte Petersen</td>\n",
       "        <td>Vinbæltet 34</td>\n",
       "        <td>København</td>\n",
       "        <td>1734</td>\n",
       "        <td>Denmark</td>\n",
       "        <td>2</td>\n",
       "    </tr>\n",
       "    <tr>\n",
       "        <td>87</td>\n",
       "        <td>Wartian Herkku</td>\n",
       "        <td>Pirkko Koskitalo</td>\n",
       "        <td>Torikatu 38</td>\n",
       "        <td>Oulu</td>\n",
       "        <td>90110</td>\n",
       "        <td>Finland</td>\n",
       "        <td>2</td>\n",
       "    </tr>\n",
       "    <tr>\n",
       "        <td>28</td>\n",
       "        <td>Furia Bacalhau e Frutos do Mar</td>\n",
       "        <td>Lino Rodriguez</td>\n",
       "        <td>Jardim das rosas n. 32</td>\n",
       "        <td>Lisboa</td>\n",
       "        <td>1675</td>\n",
       "        <td>Portugal</td>\n",
       "        <td>2</td>\n",
       "    </tr>\n",
       "    <tr>\n",
       "        <td>5</td>\n",
       "        <td>Berglunds snabbköp</td>\n",
       "        <td>Christina Berglund</td>\n",
       "        <td>Berguvsvägen 8</td>\n",
       "        <td>Luleå</td>\n",
       "        <td>S-958 22</td>\n",
       "        <td>Sweden</td>\n",
       "        <td>2</td>\n",
       "    </tr>\n",
       "    <tr>\n",
       "        <td>14</td>\n",
       "        <td>Chop-suey Chinese</td>\n",
       "        <td>Yang Wang</td>\n",
       "        <td>Hauptstr. 29</td>\n",
       "        <td>Bern</td>\n",
       "        <td>3012</td>\n",
       "        <td>Switzerland</td>\n",
       "        <td>2</td>\n",
       "    </tr>\n",
       "    <tr>\n",
       "        <td>37</td>\n",
       "        <td>Hungry Owl All-Night Grocers</td>\n",
       "        <td>Patricia McKenna</td>\n",
       "        <td>8 Johnstown Road</td>\n",
       "        <td>Cork</td>\n",
       "        <td>None</td>\n",
       "        <td>Ireland</td>\n",
       "        <td>1</td>\n",
       "    </tr>\n",
       "    <tr>\n",
       "        <td>70</td>\n",
       "        <td>Santé Gourmet</td>\n",
       "        <td>Jonas Bergulfsen</td>\n",
       "        <td>Erling Skakkes gate 78</td>\n",
       "        <td>Stavern</td>\n",
       "        <td>4110</td>\n",
       "        <td>Norway</td>\n",
       "        <td>1</td>\n",
       "    </tr>\n",
       "    <tr>\n",
       "        <td>91</td>\n",
       "        <td>Wolski</td>\n",
       "        <td>Zbyszek</td>\n",
       "        <td>ul. Filtrowa 68</td>\n",
       "        <td>Walla</td>\n",
       "        <td>01-012</td>\n",
       "        <td>Poland</td>\n",
       "        <td>1</td>\n",
       "    </tr>\n",
       "</table>"
      ],
      "text/plain": [
       "[(32, 'Great Lakes Food Market', 'Howard Snyder', '2732 Baker Blvd.', 'Eugene', '97403', 'USA', 13),\n",
       " (7, 'Blondel père et fils', 'Frédérique Citeaux', '24, place Kléber', 'Strasbourg', '67000', 'France', 11),\n",
       " (1, 'Alfreds Futterkiste', 'Maria Anders', 'Obere Str. 57', 'Berlin', '12209', 'Germany', 11),\n",
       " (15, 'Comércio Mineiro', 'Pedro Afonso', 'Av. dos Lusíadas, 23', 'São Paulo', '05432-043', 'Brazil', 9),\n",
       " (4, 'Around the Horn', 'Thomas Hardy', '120 Hanover Sq.', 'London', 'WA1 1DP', 'UK', 7),\n",
       " (2, 'Ana Trujillo Emparedados y helados', 'Ana Trujillo', 'Avda. de la Constitución 2222', 'México D.F.', '5021', 'Mexico', 5),\n",
       " (8, 'Bólido Comidas preparadas', 'Martín Sommer', 'C/ Araquil, 67', 'Madrid', '28023', 'Spain', 5),\n",
       " (33, 'GROSELLA-Restaurante', 'Manuel Pereira', '5ª Ave. Los Palos Grandes', 'Caracas', '1081', 'Venezuela', 4),\n",
       " (12, 'Cactus Comidas para llevar', 'Patricio Simpson', 'Cerrito 333', 'Buenos Aires', '1010', 'Argentina', 3),\n",
       " (10, 'Bottom-Dollar Marketse', 'Elizabeth Lincoln', '23 Tsawassen Blvd.', 'Tsawassen', 'T2F 8M4', 'Canada', 3),\n",
       " (27, 'Franchi S.p.A.', 'Paolo Accorti', 'Via Monte Bianco 34', 'Torino', '10100', 'Italy', 3),\n",
       " (20, 'Ernst Handel', 'Roland Mendel', 'Kirchgasse 6', 'Graz', '8010', 'Austria', 2),\n",
       " (50, 'Maison Dewey', 'Catherine Dewey', 'Rue Joseph-Bens 532', 'Bruxelles', 'B-1180', 'Belgium', 2),\n",
       " (73, 'Simons bistro', 'Jytte Petersen', 'Vinbæltet 34', 'København', '1734', 'Denmark', 2),\n",
       " (87, 'Wartian Herkku', 'Pirkko Koskitalo', 'Torikatu 38', 'Oulu', '90110', 'Finland', 2),\n",
       " (28, 'Furia Bacalhau e Frutos do Mar', 'Lino Rodriguez', 'Jardim das rosas n. 32', 'Lisboa', '1675', 'Portugal', 2),\n",
       " (5, 'Berglunds snabbköp', 'Christina Berglund', 'Berguvsvägen 8', 'Luleå', 'S-958 22', 'Sweden', 2),\n",
       " (14, 'Chop-suey Chinese', 'Yang Wang', 'Hauptstr. 29', 'Bern', '3012', 'Switzerland', 2),\n",
       " (37, 'Hungry Owl All-Night Grocers', 'Patricia McKenna', '8 Johnstown Road', 'Cork', None, 'Ireland', 1),\n",
       " (70, 'Santé Gourmet', 'Jonas Bergulfsen', 'Erling Skakkes gate 78', 'Stavern', '4110', 'Norway', 1),\n",
       " (91, 'Wolski', 'Zbyszek', 'ul. Filtrowa 68', 'Walla', '01-012', 'Poland', 1)]"
      ]
     },
     "execution_count": 148,
     "metadata": {},
     "output_type": "execute_result"
    }
   ],
   "source": [
    "%%sql\n",
    "\n",
    "SELECT *, COUNT(Country) AS CountCountry FROM Customers GROUP BY Country ORDER BY CountCountry DESC;"
   ]
  },
  {
   "cell_type": "code",
   "execution_count": 155,
   "metadata": {},
   "outputs": [
    {
     "name": "stdout",
     "output_type": "stream",
     "text": [
      " * sqlite:///vbo.db\n",
      "Done.\n"
     ]
    },
    {
     "data": {
      "text/html": [
       "<table>\n",
       "    <tr>\n",
       "        <th>CustomerID</th>\n",
       "        <th>CustomerName</th>\n",
       "        <th>ContactName</th>\n",
       "        <th>Address</th>\n",
       "        <th>City</th>\n",
       "        <th>PostalCode</th>\n",
       "        <th>Country</th>\n",
       "        <th>CountCountry</th>\n",
       "    </tr>\n",
       "    <tr>\n",
       "        <td>32</td>\n",
       "        <td>Great Lakes Food Market</td>\n",
       "        <td>Howard Snyder</td>\n",
       "        <td>2732 Baker Blvd.</td>\n",
       "        <td>Eugene</td>\n",
       "        <td>97403</td>\n",
       "        <td>USA</td>\n",
       "        <td>13</td>\n",
       "    </tr>\n",
       "    <tr>\n",
       "        <td>7</td>\n",
       "        <td>Blondel père et fils</td>\n",
       "        <td>Frédérique Citeaux</td>\n",
       "        <td>24, place Kléber</td>\n",
       "        <td>Strasbourg</td>\n",
       "        <td>67000</td>\n",
       "        <td>France</td>\n",
       "        <td>11</td>\n",
       "    </tr>\n",
       "    <tr>\n",
       "        <td>1</td>\n",
       "        <td>Alfreds Futterkiste</td>\n",
       "        <td>Maria Anders</td>\n",
       "        <td>Obere Str. 57</td>\n",
       "        <td>Berlin</td>\n",
       "        <td>12209</td>\n",
       "        <td>Germany</td>\n",
       "        <td>11</td>\n",
       "    </tr>\n",
       "    <tr>\n",
       "        <td>15</td>\n",
       "        <td>Comércio Mineiro</td>\n",
       "        <td>Pedro Afonso</td>\n",
       "        <td>Av. dos Lusíadas, 23</td>\n",
       "        <td>São Paulo</td>\n",
       "        <td>05432-043</td>\n",
       "        <td>Brazil</td>\n",
       "        <td>9</td>\n",
       "    </tr>\n",
       "    <tr>\n",
       "        <td>4</td>\n",
       "        <td>Around the Horn</td>\n",
       "        <td>Thomas Hardy</td>\n",
       "        <td>120 Hanover Sq.</td>\n",
       "        <td>London</td>\n",
       "        <td>WA1 1DP</td>\n",
       "        <td>UK</td>\n",
       "        <td>7</td>\n",
       "    </tr>\n",
       "</table>"
      ],
      "text/plain": [
       "[(32, 'Great Lakes Food Market', 'Howard Snyder', '2732 Baker Blvd.', 'Eugene', '97403', 'USA', 13),\n",
       " (7, 'Blondel père et fils', 'Frédérique Citeaux', '24, place Kléber', 'Strasbourg', '67000', 'France', 11),\n",
       " (1, 'Alfreds Futterkiste', 'Maria Anders', 'Obere Str. 57', 'Berlin', '12209', 'Germany', 11),\n",
       " (15, 'Comércio Mineiro', 'Pedro Afonso', 'Av. dos Lusíadas, 23', 'São Paulo', '05432-043', 'Brazil', 9),\n",
       " (4, 'Around the Horn', 'Thomas Hardy', '120 Hanover Sq.', 'London', 'WA1 1DP', 'UK', 7)]"
      ]
     },
     "execution_count": 155,
     "metadata": {},
     "output_type": "execute_result"
    }
   ],
   "source": [
    "%%sql\n",
    "\n",
    "SELECT * FROM \n",
    "(SELECT *, COUNT(Country) AS CountCountry FROM Customers GROUP BY Country ORDER BY CountCountry DESC)\n",
    "WHERE CountCountry > 5"
   ]
  },
  {
   "cell_type": "code",
   "execution_count": 157,
   "metadata": {},
   "outputs": [
    {
     "name": "stdout",
     "output_type": "stream",
     "text": [
      " * sqlite:///vbo.db\n",
      "Done.\n"
     ]
    },
    {
     "data": {
      "text/html": [
       "<table>\n",
       "    <tr>\n",
       "        <th>ProductID</th>\n",
       "        <th>ProductName</th>\n",
       "        <th>SupplierID</th>\n",
       "        <th>CategoryID</th>\n",
       "        <th>Unit</th>\n",
       "        <th>Price</th>\n",
       "        <th>Average</th>\n",
       "    </tr>\n",
       "    <tr>\n",
       "        <td>11</td>\n",
       "        <td>Queso Cabrales</td>\n",
       "        <td>5</td>\n",
       "        <td>4</td>\n",
       "        <td>1 kg pkg.</td>\n",
       "        <td>21</td>\n",
       "        <td>74.9</td>\n",
       "    </tr>\n",
       "    <tr>\n",
       "        <td>9</td>\n",
       "        <td>Mishi Kobe Niku</td>\n",
       "        <td>4</td>\n",
       "        <td>6</td>\n",
       "        <td>18 - 500 g pkgs.</td>\n",
       "        <td>97</td>\n",
       "        <td>55.166666666666664</td>\n",
       "    </tr>\n",
       "    <tr>\n",
       "        <td>1</td>\n",
       "        <td>Chais</td>\n",
       "        <td>1</td>\n",
       "        <td>1</td>\n",
       "        <td>10 boxes x 20 bags</td>\n",
       "        <td>18</td>\n",
       "        <td>42.75</td>\n",
       "    </tr>\n",
       "    <tr>\n",
       "        <td>16</td>\n",
       "        <td>Pavlova</td>\n",
       "        <td>7</td>\n",
       "        <td>3</td>\n",
       "        <td>32 - 500 g boxes</td>\n",
       "        <td>17</td>\n",
       "        <td>33.76923076923077</td>\n",
       "    </tr>\n",
       "    <tr>\n",
       "        <td>7</td>\n",
       "        <td>Uncle Bob&#x27;s Organic Dried Pears</td>\n",
       "        <td>3</td>\n",
       "        <td>7</td>\n",
       "        <td>12 - 1 lb pkgs.</td>\n",
       "        <td>30</td>\n",
       "        <td>32.2</td>\n",
       "    </tr>\n",
       "    <tr>\n",
       "        <td>3</td>\n",
       "        <td>Aniseed Syrup</td>\n",
       "        <td>1</td>\n",
       "        <td>2</td>\n",
       "        <td>12 - 550 ml bottles</td>\n",
       "        <td>10</td>\n",
       "        <td>28.25</td>\n",
       "    </tr>\n",
       "    <tr>\n",
       "        <td>10</td>\n",
       "        <td>Ikura</td>\n",
       "        <td>4</td>\n",
       "        <td>8</td>\n",
       "        <td>12 - 200 ml jars</td>\n",
       "        <td>31</td>\n",
       "        <td>26.5</td>\n",
       "    </tr>\n",
       "    <tr>\n",
       "        <td>22</td>\n",
       "        <td>Gustaf&#x27;s Knäckebröd</td>\n",
       "        <td>9</td>\n",
       "        <td>5</td>\n",
       "        <td>24 - 500 g pkgs.</td>\n",
       "        <td>21</td>\n",
       "        <td>23.571428571428573</td>\n",
       "    </tr>\n",
       "</table>"
      ],
      "text/plain": [
       "[(11, 'Queso Cabrales', 5, 4, '1 kg pkg.', 21, 74.9),\n",
       " (9, 'Mishi Kobe Niku', 4, 6, '18 - 500 g pkgs.', 97, 55.166666666666664),\n",
       " (1, 'Chais', 1, 1, '10 boxes x 20 bags', 18, 42.75),\n",
       " (16, 'Pavlova', 7, 3, '32 - 500 g boxes', 17, 33.76923076923077),\n",
       " (7, \"Uncle Bob's Organic Dried Pears\", 3, 7, '12 - 1 lb pkgs.', 30, 32.2),\n",
       " (3, 'Aniseed Syrup', 1, 2, '12 - 550 ml bottles', 10, 28.25),\n",
       " (10, 'Ikura', 4, 8, '12 - 200 ml jars', 31, 26.5),\n",
       " (22, \"Gustaf's Knäckebröd\", 9, 5, '24 - 500 g pkgs.', 21, 23.571428571428573)]"
      ]
     },
     "execution_count": 157,
     "metadata": {},
     "output_type": "execute_result"
    }
   ],
   "source": [
    "%%sql\n",
    "\n",
    "SELECT * , AVG(Price) AS Average FROM Products GROUP BY CategoryID ORDER BY Average DESC"
   ]
  },
  {
   "cell_type": "markdown",
   "metadata": {},
   "source": [
    "--------------"
   ]
  },
  {
   "cell_type": "markdown",
   "metadata": {},
   "source": [
    "## 15. JOIN işlemleri"
   ]
  },
  {
   "cell_type": "code",
   "execution_count": 158,
   "metadata": {},
   "outputs": [
    {
     "name": "stdout",
     "output_type": "stream",
     "text": [
      " * sqlite:///vbo.db\n",
      "Done.\n"
     ]
    },
    {
     "data": {
      "text/html": [
       "<table>\n",
       "    <tr>\n",
       "        <th>name</th>\n",
       "    </tr>\n",
       "    <tr>\n",
       "        <td>Categories</td>\n",
       "    </tr>\n",
       "    <tr>\n",
       "        <td>Customers</td>\n",
       "    </tr>\n",
       "    <tr>\n",
       "        <td>Employees</td>\n",
       "    </tr>\n",
       "    <tr>\n",
       "        <td>OrderDetails</td>\n",
       "    </tr>\n",
       "    <tr>\n",
       "        <td>Orders</td>\n",
       "    </tr>\n",
       "    <tr>\n",
       "        <td>Products</td>\n",
       "    </tr>\n",
       "    <tr>\n",
       "        <td>Shippers</td>\n",
       "    </tr>\n",
       "    <tr>\n",
       "        <td>Suppliers</td>\n",
       "    </tr>\n",
       "    <tr>\n",
       "        <td>yeni_tablo</td>\n",
       "    </tr>\n",
       "</table>"
      ],
      "text/plain": [
       "[('Categories',),\n",
       " ('Customers',),\n",
       " ('Employees',),\n",
       " ('OrderDetails',),\n",
       " ('Orders',),\n",
       " ('Products',),\n",
       " ('Shippers',),\n",
       " ('Suppliers',),\n",
       " ('yeni_tablo',)]"
      ]
     },
     "execution_count": 158,
     "metadata": {},
     "output_type": "execute_result"
    }
   ],
   "source": [
    "%%sql\n",
    "\n",
    "SELECT name FROM sqlite_master WHERE type = 'table'"
   ]
  },
  {
   "cell_type": "code",
   "execution_count": 160,
   "metadata": {},
   "outputs": [
    {
     "name": "stdout",
     "output_type": "stream",
     "text": [
      " * sqlite:///vbo.db\n",
      "Done.\n"
     ]
    },
    {
     "data": {
      "text/html": [
       "<table>\n",
       "    <tr>\n",
       "        <th>CategoryID</th>\n",
       "        <th>CategoryName</th>\n",
       "        <th>Description</th>\n",
       "    </tr>\n",
       "    <tr>\n",
       "        <td>1</td>\n",
       "        <td>Beverages</td>\n",
       "        <td>Soft drinks, coffees, teas, beers, and ales</td>\n",
       "    </tr>\n",
       "    <tr>\n",
       "        <td>2</td>\n",
       "        <td>Condiments</td>\n",
       "        <td>Sweet and savory sauces, relishes, spreads, and seasonings</td>\n",
       "    </tr>\n",
       "    <tr>\n",
       "        <td>3</td>\n",
       "        <td>Confections</td>\n",
       "        <td>Desserts, candies, and sweet breads</td>\n",
       "    </tr>\n",
       "</table>"
      ],
      "text/plain": [
       "[(1, 'Beverages', 'Soft drinks, coffees, teas, beers, and ales'),\n",
       " (2, 'Condiments', 'Sweet and savory sauces, relishes, spreads, and seasonings'),\n",
       " (3, 'Confections', 'Desserts, candies, and sweet breads')]"
      ]
     },
     "execution_count": 160,
     "metadata": {},
     "output_type": "execute_result"
    }
   ],
   "source": [
    "%%sql\n",
    "\n",
    "SELECT * FROM Categories LIMIT 3"
   ]
  },
  {
   "cell_type": "code",
   "execution_count": 161,
   "metadata": {},
   "outputs": [
    {
     "name": "stdout",
     "output_type": "stream",
     "text": [
      " * sqlite:///vbo.db\n",
      "Done.\n"
     ]
    },
    {
     "data": {
      "text/html": [
       "<table>\n",
       "    <tr>\n",
       "        <th>ProductID</th>\n",
       "        <th>ProductName</th>\n",
       "        <th>SupplierID</th>\n",
       "        <th>CategoryID</th>\n",
       "        <th>Unit</th>\n",
       "        <th>Price</th>\n",
       "    </tr>\n",
       "    <tr>\n",
       "        <td>1</td>\n",
       "        <td>Chais</td>\n",
       "        <td>1</td>\n",
       "        <td>1</td>\n",
       "        <td>10 boxes x 20 bags</td>\n",
       "        <td>18</td>\n",
       "    </tr>\n",
       "    <tr>\n",
       "        <td>2</td>\n",
       "        <td>Chang</td>\n",
       "        <td>1</td>\n",
       "        <td>1</td>\n",
       "        <td>24 - 12 oz bottles</td>\n",
       "        <td>19</td>\n",
       "    </tr>\n",
       "    <tr>\n",
       "        <td>3</td>\n",
       "        <td>Aniseed Syrup</td>\n",
       "        <td>1</td>\n",
       "        <td>2</td>\n",
       "        <td>12 - 550 ml bottles</td>\n",
       "        <td>10</td>\n",
       "    </tr>\n",
       "</table>"
      ],
      "text/plain": [
       "[(1, 'Chais', 1, 1, '10 boxes x 20 bags', 18),\n",
       " (2, 'Chang', 1, 1, '24 - 12 oz bottles', 19),\n",
       " (3, 'Aniseed Syrup', 1, 2, '12 - 550 ml bottles', 10)]"
      ]
     },
     "execution_count": 161,
     "metadata": {},
     "output_type": "execute_result"
    }
   ],
   "source": [
    "%%sql\n",
    "\n",
    "SELECT * FROM Products LIMIT 3"
   ]
  },
  {
   "cell_type": "markdown",
   "metadata": {},
   "source": [
    "### LEFT JOİN"
   ]
  },
  {
   "cell_type": "code",
   "execution_count": 163,
   "metadata": {},
   "outputs": [
    {
     "name": "stdout",
     "output_type": "stream",
     "text": [
      " * sqlite:///vbo.db\n",
      "Done.\n"
     ]
    },
    {
     "data": {
      "text/html": [
       "<table>\n",
       "    <tr>\n",
       "        <th>ProductID</th>\n",
       "        <th>ProductName</th>\n",
       "        <th>SupplierID</th>\n",
       "        <th>CategoryID</th>\n",
       "        <th>Unit</th>\n",
       "        <th>Price</th>\n",
       "        <th>CategoryID_1</th>\n",
       "        <th>CategoryName</th>\n",
       "        <th>Description</th>\n",
       "    </tr>\n",
       "    <tr>\n",
       "        <td>1</td>\n",
       "        <td>Chais</td>\n",
       "        <td>1</td>\n",
       "        <td>1</td>\n",
       "        <td>10 boxes x 20 bags</td>\n",
       "        <td>18</td>\n",
       "        <td>1</td>\n",
       "        <td>Beverages</td>\n",
       "        <td>Soft drinks, coffees, teas, beers, and ales</td>\n",
       "    </tr>\n",
       "    <tr>\n",
       "        <td>2</td>\n",
       "        <td>Chang</td>\n",
       "        <td>1</td>\n",
       "        <td>1</td>\n",
       "        <td>24 - 12 oz bottles</td>\n",
       "        <td>19</td>\n",
       "        <td>1</td>\n",
       "        <td>Beverages</td>\n",
       "        <td>Soft drinks, coffees, teas, beers, and ales</td>\n",
       "    </tr>\n",
       "    <tr>\n",
       "        <td>3</td>\n",
       "        <td>Aniseed Syrup</td>\n",
       "        <td>1</td>\n",
       "        <td>2</td>\n",
       "        <td>12 - 550 ml bottles</td>\n",
       "        <td>10</td>\n",
       "        <td>2</td>\n",
       "        <td>Condiments</td>\n",
       "        <td>Sweet and savory sauces, relishes, spreads, and seasonings</td>\n",
       "    </tr>\n",
       "</table>"
      ],
      "text/plain": [
       "[(1, 'Chais', 1, 1, '10 boxes x 20 bags', 18, 1, 'Beverages', 'Soft drinks, coffees, teas, beers, and ales'),\n",
       " (2, 'Chang', 1, 1, '24 - 12 oz bottles', 19, 1, 'Beverages', 'Soft drinks, coffees, teas, beers, and ales'),\n",
       " (3, 'Aniseed Syrup', 1, 2, '12 - 550 ml bottles', 10, 2, 'Condiments', 'Sweet and savory sauces, relishes, spreads, and seasonings')]"
      ]
     },
     "execution_count": 163,
     "metadata": {},
     "output_type": "execute_result"
    }
   ],
   "source": [
    "%%sql\n",
    "\n",
    "SELECT * FROM \n",
    "Products LEFT OUTER JOIN Categories ON \n",
    "Products.CategoryID = Categories.CategoryID \n",
    "LIMIT 3"
   ]
  },
  {
   "cell_type": "code",
   "execution_count": 168,
   "metadata": {},
   "outputs": [
    {
     "name": "stdout",
     "output_type": "stream",
     "text": [
      " * sqlite:///vbo.db\n",
      "Done.\n"
     ]
    },
    {
     "data": {
      "text/html": [
       "<table>\n",
       "    <tr>\n",
       "        <th>ProductName</th>\n",
       "        <th>CategoryID</th>\n",
       "        <th>CategoryName</th>\n",
       "    </tr>\n",
       "    <tr>\n",
       "        <td>Chais</td>\n",
       "        <td>1</td>\n",
       "        <td>Beverages</td>\n",
       "    </tr>\n",
       "    <tr>\n",
       "        <td>Chang</td>\n",
       "        <td>1</td>\n",
       "        <td>Beverages</td>\n",
       "    </tr>\n",
       "    <tr>\n",
       "        <td>Aniseed Syrup</td>\n",
       "        <td>2</td>\n",
       "        <td>Condiments</td>\n",
       "    </tr>\n",
       "    <tr>\n",
       "        <td>Chef Anton&#x27;s Cajun Seasoning</td>\n",
       "        <td>2</td>\n",
       "        <td>Condiments</td>\n",
       "    </tr>\n",
       "    <tr>\n",
       "        <td>Chef Anton&#x27;s Gumbo Mix</td>\n",
       "        <td>2</td>\n",
       "        <td>Condiments</td>\n",
       "    </tr>\n",
       "</table>"
      ],
      "text/plain": [
       "[('Chais', 1, 'Beverages'),\n",
       " ('Chang', 1, 'Beverages'),\n",
       " ('Aniseed Syrup', 2, 'Condiments'),\n",
       " (\"Chef Anton's Cajun Seasoning\", 2, 'Condiments'),\n",
       " (\"Chef Anton's Gumbo Mix\", 2, 'Condiments')]"
      ]
     },
     "execution_count": 168,
     "metadata": {},
     "output_type": "execute_result"
    }
   ],
   "source": [
    "%%sql\n",
    "\n",
    "SELECT Products.ProductName, Categories.CategoryID, Categories.CategoryName\n",
    "FROM Products LEFT OUTER JOIN Categories ON \n",
    "Products.CategoryID = Categories.CategoryID\n",
    "LIMIT 5"
   ]
  },
  {
   "cell_type": "code",
   "execution_count": 170,
   "metadata": {},
   "outputs": [
    {
     "name": "stdout",
     "output_type": "stream",
     "text": [
      " * sqlite:///vbo.db\n",
      "Done.\n"
     ]
    },
    {
     "data": {
      "text/html": [
       "<table>\n",
       "    <tr>\n",
       "        <th>ProductName</th>\n",
       "        <th>CategoryID</th>\n",
       "        <th>CategoryName</th>\n",
       "    </tr>\n",
       "    <tr>\n",
       "        <td>Chais</td>\n",
       "        <td>1</td>\n",
       "        <td>Beverages</td>\n",
       "    </tr>\n",
       "    <tr>\n",
       "        <td>Chang</td>\n",
       "        <td>1</td>\n",
       "        <td>Beverages</td>\n",
       "    </tr>\n",
       "    <tr>\n",
       "        <td>Aniseed Syrup</td>\n",
       "        <td>2</td>\n",
       "        <td>Condiments</td>\n",
       "    </tr>\n",
       "    <tr>\n",
       "        <td>Chef Anton&#x27;s Cajun Seasoning</td>\n",
       "        <td>2</td>\n",
       "        <td>Condiments</td>\n",
       "    </tr>\n",
       "    <tr>\n",
       "        <td>Chef Anton&#x27;s Gumbo Mix</td>\n",
       "        <td>2</td>\n",
       "        <td>Condiments</td>\n",
       "    </tr>\n",
       "</table>"
      ],
      "text/plain": [
       "[('Chais', 1, 'Beverages'),\n",
       " ('Chang', 1, 'Beverages'),\n",
       " ('Aniseed Syrup', 2, 'Condiments'),\n",
       " (\"Chef Anton's Cajun Seasoning\", 2, 'Condiments'),\n",
       " (\"Chef Anton's Gumbo Mix\", 2, 'Condiments')]"
      ]
     },
     "execution_count": 170,
     "metadata": {},
     "output_type": "execute_result"
    }
   ],
   "source": [
    "%%sql\n",
    "\n",
    "SELECT PR.ProductName, CA.CategoryID, CA.CategoryName\n",
    "FROM Products AS PR LEFT OUTER JOIN Categories AS CA ON \n",
    "PR.CategoryID = CA.CategoryID \n",
    "LIMIT 5"
   ]
  },
  {
   "cell_type": "code",
   "execution_count": 171,
   "metadata": {},
   "outputs": [
    {
     "name": "stdout",
     "output_type": "stream",
     "text": [
      " * sqlite:///vbo.db\n",
      "Done.\n"
     ]
    },
    {
     "data": {
      "text/html": [
       "<table>\n",
       "    <tr>\n",
       "        <th>ProductName</th>\n",
       "        <th>CategoryID</th>\n",
       "        <th>CategoryName</th>\n",
       "    </tr>\n",
       "    <tr>\n",
       "        <td>Chais</td>\n",
       "        <td>1</td>\n",
       "        <td>Beverages</td>\n",
       "    </tr>\n",
       "    <tr>\n",
       "        <td>Chang</td>\n",
       "        <td>1</td>\n",
       "        <td>Beverages</td>\n",
       "    </tr>\n",
       "    <tr>\n",
       "        <td>Aniseed Syrup</td>\n",
       "        <td>2</td>\n",
       "        <td>Condiments</td>\n",
       "    </tr>\n",
       "    <tr>\n",
       "        <td>Chef Anton&#x27;s Cajun Seasoning</td>\n",
       "        <td>2</td>\n",
       "        <td>Condiments</td>\n",
       "    </tr>\n",
       "    <tr>\n",
       "        <td>Chef Anton&#x27;s Gumbo Mix</td>\n",
       "        <td>2</td>\n",
       "        <td>Condiments</td>\n",
       "    </tr>\n",
       "</table>"
      ],
      "text/plain": [
       "[('Chais', 1, 'Beverages'),\n",
       " ('Chang', 1, 'Beverages'),\n",
       " ('Aniseed Syrup', 2, 'Condiments'),\n",
       " (\"Chef Anton's Cajun Seasoning\", 2, 'Condiments'),\n",
       " (\"Chef Anton's Gumbo Mix\", 2, 'Condiments')]"
      ]
     },
     "execution_count": 171,
     "metadata": {},
     "output_type": "execute_result"
    }
   ],
   "source": [
    "%%sql\n",
    "\n",
    "SELECT PR.ProductName, CA.CategoryID, CA.CategoryName\n",
    "FROM Products PR LEFT OUTER JOIN Categories CA ON \n",
    "PR.CategoryID = CA.CategoryID\n",
    "LIMIT 5"
   ]
  },
  {
   "cell_type": "markdown",
   "metadata": {},
   "source": [
    "### INNER JOIN"
   ]
  },
  {
   "cell_type": "code",
   "execution_count": 172,
   "metadata": {},
   "outputs": [
    {
     "name": "stdout",
     "output_type": "stream",
     "text": [
      " * sqlite:///vbo.db\n",
      "Done.\n"
     ]
    },
    {
     "data": {
      "text/html": [
       "<table>\n",
       "    <tr>\n",
       "        <th>CustomerID</th>\n",
       "        <th>CustomerName</th>\n",
       "        <th>ContactName</th>\n",
       "        <th>Address</th>\n",
       "        <th>City</th>\n",
       "        <th>PostalCode</th>\n",
       "        <th>Country</th>\n",
       "    </tr>\n",
       "    <tr>\n",
       "        <td>1</td>\n",
       "        <td>Alfreds Futterkiste</td>\n",
       "        <td>Maria Anders</td>\n",
       "        <td>Obere Str. 57</td>\n",
       "        <td>Berlin</td>\n",
       "        <td>12209</td>\n",
       "        <td>Germany</td>\n",
       "    </tr>\n",
       "    <tr>\n",
       "        <td>2</td>\n",
       "        <td>Ana Trujillo Emparedados y helados</td>\n",
       "        <td>Ana Trujillo</td>\n",
       "        <td>Avda. de la Constitución 2222</td>\n",
       "        <td>México D.F.</td>\n",
       "        <td>5021</td>\n",
       "        <td>Mexico</td>\n",
       "    </tr>\n",
       "    <tr>\n",
       "        <td>3</td>\n",
       "        <td>Antonio Moreno Taquería</td>\n",
       "        <td>Antonio Moreno</td>\n",
       "        <td>Mataderos 2312</td>\n",
       "        <td>México D.F.</td>\n",
       "        <td>5023</td>\n",
       "        <td>Mexico</td>\n",
       "    </tr>\n",
       "</table>"
      ],
      "text/plain": [
       "[(1, 'Alfreds Futterkiste', 'Maria Anders', 'Obere Str. 57', 'Berlin', '12209', 'Germany'),\n",
       " (2, 'Ana Trujillo Emparedados y helados', 'Ana Trujillo', 'Avda. de la Constitución 2222', 'México D.F.', '5021', 'Mexico'),\n",
       " (3, 'Antonio Moreno Taquería', 'Antonio Moreno', 'Mataderos 2312', 'México D.F.', '5023', 'Mexico')]"
      ]
     },
     "execution_count": 172,
     "metadata": {},
     "output_type": "execute_result"
    }
   ],
   "source": [
    "%%sql\n",
    "\n",
    "SELECT * FROM Customers LIMIT 3"
   ]
  },
  {
   "cell_type": "code",
   "execution_count": 173,
   "metadata": {},
   "outputs": [
    {
     "name": "stdout",
     "output_type": "stream",
     "text": [
      " * sqlite:///vbo.db\n",
      "Done.\n"
     ]
    },
    {
     "data": {
      "text/html": [
       "<table>\n",
       "    <tr>\n",
       "        <th>OrderID</th>\n",
       "        <th>CustomerID</th>\n",
       "        <th>EmployeeID</th>\n",
       "        <th>OrderDate</th>\n",
       "        <th>ShipperID</th>\n",
       "    </tr>\n",
       "    <tr>\n",
       "        <td>10248</td>\n",
       "        <td>90</td>\n",
       "        <td>5</td>\n",
       "        <td>4.07.1996</td>\n",
       "        <td>3</td>\n",
       "    </tr>\n",
       "    <tr>\n",
       "        <td>10249</td>\n",
       "        <td>81</td>\n",
       "        <td>6</td>\n",
       "        <td>5.07.1996</td>\n",
       "        <td>1</td>\n",
       "    </tr>\n",
       "    <tr>\n",
       "        <td>10250</td>\n",
       "        <td>34</td>\n",
       "        <td>4</td>\n",
       "        <td>8.07.1996</td>\n",
       "        <td>2</td>\n",
       "    </tr>\n",
       "</table>"
      ],
      "text/plain": [
       "[(10248, 90, 5, '4.07.1996', 3),\n",
       " (10249, 81, 6, '5.07.1996', 1),\n",
       " (10250, 34, 4, '8.07.1996', 2)]"
      ]
     },
     "execution_count": 173,
     "metadata": {},
     "output_type": "execute_result"
    }
   ],
   "source": [
    "%%sql\n",
    "\n",
    "SELECT * FROM Orders LIMIT 3"
   ]
  },
  {
   "cell_type": "code",
   "execution_count": 179,
   "metadata": {},
   "outputs": [
    {
     "name": "stdout",
     "output_type": "stream",
     "text": [
      " * sqlite:///vbo.db\n",
      "Done.\n"
     ]
    },
    {
     "data": {
      "text/html": [
       "<table>\n",
       "    <tr>\n",
       "        <th>OrderID</th>\n",
       "        <th>CustomerName</th>\n",
       "    </tr>\n",
       "    <tr>\n",
       "        <td>10248</td>\n",
       "        <td>Wilman Kala</td>\n",
       "    </tr>\n",
       "    <tr>\n",
       "        <td>10249</td>\n",
       "        <td>Tradição Hipermercados</td>\n",
       "    </tr>\n",
       "    <tr>\n",
       "        <td>10250</td>\n",
       "        <td>Hanari Carnes</td>\n",
       "    </tr>\n",
       "    <tr>\n",
       "        <td>10251</td>\n",
       "        <td>Victuailles en stock</td>\n",
       "    </tr>\n",
       "    <tr>\n",
       "        <td>10252</td>\n",
       "        <td>Suprêmes délices</td>\n",
       "    </tr>\n",
       "    <tr>\n",
       "        <td>10253</td>\n",
       "        <td>Hanari Carnes</td>\n",
       "    </tr>\n",
       "    <tr>\n",
       "        <td>10254</td>\n",
       "        <td>Chop-suey Chinese</td>\n",
       "    </tr>\n",
       "    <tr>\n",
       "        <td>10255</td>\n",
       "        <td>Richter Supermarkt</td>\n",
       "    </tr>\n",
       "    <tr>\n",
       "        <td>10256</td>\n",
       "        <td>Wellington Importadora</td>\n",
       "    </tr>\n",
       "    <tr>\n",
       "        <td>10257</td>\n",
       "        <td>HILARIÓN-Abastos</td>\n",
       "    </tr>\n",
       "</table>"
      ],
      "text/plain": [
       "[(10248, 'Wilman Kala'),\n",
       " (10249, 'Tradição Hipermercados'),\n",
       " (10250, 'Hanari Carnes'),\n",
       " (10251, 'Victuailles en stock'),\n",
       " (10252, 'Suprêmes délices'),\n",
       " (10253, 'Hanari Carnes'),\n",
       " (10254, 'Chop-suey Chinese'),\n",
       " (10255, 'Richter Supermarkt'),\n",
       " (10256, 'Wellington Importadora'),\n",
       " (10257, 'HILARIÓN-Abastos')]"
      ]
     },
     "execution_count": 179,
     "metadata": {},
     "output_type": "execute_result"
    }
   ],
   "source": [
    "%%sql\n",
    "\n",
    "SELECT Orders.OrderID, Customers.CustomerName \n",
    "FROM Orders INNER JOIN Customers ON\n",
    "Orders.CustomerID = Customers.CustomerID\n",
    "LIMIT 10"
   ]
  },
  {
   "cell_type": "code",
   "execution_count": 180,
   "metadata": {},
   "outputs": [
    {
     "name": "stdout",
     "output_type": "stream",
     "text": [
      " * sqlite:///vbo.db\n",
      "Done.\n"
     ]
    },
    {
     "data": {
      "text/html": [
       "<table>\n",
       "    <tr>\n",
       "        <th>COUNT(*)</th>\n",
       "    </tr>\n",
       "    <tr>\n",
       "        <td>196</td>\n",
       "    </tr>\n",
       "</table>"
      ],
      "text/plain": [
       "[(196,)]"
      ]
     },
     "execution_count": 180,
     "metadata": {},
     "output_type": "execute_result"
    }
   ],
   "source": [
    "%%sql\n",
    "\n",
    "SELECT COUNT(*) FROM\n",
    "(SELECT Orders.OrderID, Customers.CustomerName \n",
    "FROM Orders INNER JOIN Customers ON\n",
    "Orders.CustomerID = Customers.CustomerID)\n",
    "LIMIT 10"
   ]
  },
  {
   "cell_type": "code",
   "execution_count": 182,
   "metadata": {},
   "outputs": [
    {
     "name": "stdout",
     "output_type": "stream",
     "text": [
      " * sqlite:///vbo.db\n",
      "(sqlite3.OperationalError) RIGHT and FULL OUTER JOINs are not currently supported\n",
      "[SQL: SELECT COUNT(*) FROM\n",
      "(SELECT Orders.OrderID, Customers.CustomerName \n",
      "FROM Orders OUTER JOIN Customers ON\n",
      "Orders.CustomerID = Customers.CustomerID)\n",
      "LIMIT 10]\n",
      "(Background on this error at: http://sqlalche.me/e/e3q8)\n"
     ]
    }
   ],
   "source": []
  },
  {
   "cell_type": "code",
   "execution_count": null,
   "metadata": {},
   "outputs": [],
   "source": []
  }
 ],
 "metadata": {
  "kernelspec": {
   "display_name": "Python 3",
   "language": "python",
   "name": "python3"
  },
  "language_info": {
   "codemirror_mode": {
    "name": "ipython",
    "version": 3
   },
   "file_extension": ".py",
   "mimetype": "text/x-python",
   "name": "python",
   "nbconvert_exporter": "python",
   "pygments_lexer": "ipython3",
   "version": "3.7.3"
  }
 },
 "nbformat": 4,
 "nbformat_minor": 4
}
