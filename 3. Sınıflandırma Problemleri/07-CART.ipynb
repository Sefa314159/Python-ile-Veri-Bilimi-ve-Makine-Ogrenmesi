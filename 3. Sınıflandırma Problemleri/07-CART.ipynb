{
 "cells": [
  {
   "cell_type": "markdown",
   "metadata": {},
   "source": [
    "# 1. Model & Tahmin (CART)"
   ]
  },
  {
   "cell_type": "code",
   "execution_count": 73,
   "metadata": {},
   "outputs": [],
   "source": [
    "import numpy as np\n",
    "import pandas as pd \n",
    "import statsmodels.api as sm\n",
    "import statsmodels.formula.api as smf\n",
    "import seaborn as sns\n",
    "from sklearn.preprocessing import scale \n",
    "from sklearn.model_selection import train_test_split, GridSearchCV, cross_val_score\n",
    "from sklearn.metrics import confusion_matrix, accuracy_score, classification_report\n",
    "from sklearn.metrics import roc_auc_score,roc_curve\n",
    "import statsmodels.formula.api as smf\n",
    "import matplotlib.pyplot as plt\n",
    "from sklearn.neighbors import KNeighborsClassifier\n",
    "from sklearn.discriminant_analysis import LinearDiscriminantAnalysis\n",
    "from sklearn.linear_model import LogisticRegression\n",
    "from sklearn.svm import SVC\n",
    "from sklearn.naive_bayes import GaussianNB\n",
    "from sklearn import tree\n",
    "from sklearn.ensemble import RandomForestClassifier\n",
    "from sklearn.ensemble import GradientBoostingClassifier\n",
    "from xgboost import XGBClassifier\n",
    "from lightgbm import LGBMClassifier\n",
    "from catboost import CatBoostClassifier\n",
    "from sklearn.naive_bayes import GaussianNB\n",
    "from sklearn.preprocessing import StandardScaler\n",
    "from sklearn.neural_network import MLPClassifier\n",
    "from sklearn.tree import DecisionTreeClassifier\n",
    "from skompiler import skompile\n",
    "\n",
    "from warnings import filterwarnings\n",
    "filterwarnings('ignore')"
   ]
  },
  {
   "cell_type": "code",
   "execution_count": 74,
   "metadata": {},
   "outputs": [
    {
     "data": {
      "text/html": [
       "<div>\n",
       "<style scoped>\n",
       "    .dataframe tbody tr th:only-of-type {\n",
       "        vertical-align: middle;\n",
       "    }\n",
       "\n",
       "    .dataframe tbody tr th {\n",
       "        vertical-align: top;\n",
       "    }\n",
       "\n",
       "    .dataframe thead th {\n",
       "        text-align: right;\n",
       "    }\n",
       "</style>\n",
       "<table border=\"1\" class=\"dataframe\">\n",
       "  <thead>\n",
       "    <tr style=\"text-align: right;\">\n",
       "      <th></th>\n",
       "      <th>Pregnancies</th>\n",
       "      <th>Glucose</th>\n",
       "      <th>BloodPressure</th>\n",
       "      <th>SkinThickness</th>\n",
       "      <th>Insulin</th>\n",
       "      <th>BMI</th>\n",
       "      <th>DiabetesPedigreeFunction</th>\n",
       "      <th>Age</th>\n",
       "      <th>Outcome</th>\n",
       "    </tr>\n",
       "  </thead>\n",
       "  <tbody>\n",
       "    <tr>\n",
       "      <th>0</th>\n",
       "      <td>6</td>\n",
       "      <td>148</td>\n",
       "      <td>72</td>\n",
       "      <td>35</td>\n",
       "      <td>0</td>\n",
       "      <td>33.6</td>\n",
       "      <td>0.627</td>\n",
       "      <td>50</td>\n",
       "      <td>1</td>\n",
       "    </tr>\n",
       "    <tr>\n",
       "      <th>1</th>\n",
       "      <td>1</td>\n",
       "      <td>85</td>\n",
       "      <td>66</td>\n",
       "      <td>29</td>\n",
       "      <td>0</td>\n",
       "      <td>26.6</td>\n",
       "      <td>0.351</td>\n",
       "      <td>31</td>\n",
       "      <td>0</td>\n",
       "    </tr>\n",
       "    <tr>\n",
       "      <th>2</th>\n",
       "      <td>8</td>\n",
       "      <td>183</td>\n",
       "      <td>64</td>\n",
       "      <td>0</td>\n",
       "      <td>0</td>\n",
       "      <td>23.3</td>\n",
       "      <td>0.672</td>\n",
       "      <td>32</td>\n",
       "      <td>1</td>\n",
       "    </tr>\n",
       "    <tr>\n",
       "      <th>3</th>\n",
       "      <td>1</td>\n",
       "      <td>89</td>\n",
       "      <td>66</td>\n",
       "      <td>23</td>\n",
       "      <td>94</td>\n",
       "      <td>28.1</td>\n",
       "      <td>0.167</td>\n",
       "      <td>21</td>\n",
       "      <td>0</td>\n",
       "    </tr>\n",
       "    <tr>\n",
       "      <th>4</th>\n",
       "      <td>0</td>\n",
       "      <td>137</td>\n",
       "      <td>40</td>\n",
       "      <td>35</td>\n",
       "      <td>168</td>\n",
       "      <td>43.1</td>\n",
       "      <td>2.288</td>\n",
       "      <td>33</td>\n",
       "      <td>1</td>\n",
       "    </tr>\n",
       "  </tbody>\n",
       "</table>\n",
       "</div>"
      ],
      "text/plain": [
       "   Pregnancies  Glucose  BloodPressure  SkinThickness  Insulin   BMI  \\\n",
       "0            6      148             72             35        0  33.6   \n",
       "1            1       85             66             29        0  26.6   \n",
       "2            8      183             64              0        0  23.3   \n",
       "3            1       89             66             23       94  28.1   \n",
       "4            0      137             40             35      168  43.1   \n",
       "\n",
       "   DiabetesPedigreeFunction  Age  Outcome  \n",
       "0                     0.627   50        1  \n",
       "1                     0.351   31        0  \n",
       "2                     0.672   32        1  \n",
       "3                     0.167   21        0  \n",
       "4                     2.288   33        1  "
      ]
     },
     "execution_count": 74,
     "metadata": {},
     "output_type": "execute_result"
    }
   ],
   "source": [
    "diabetes = pd.read_csv(\"diabetes.csv\")\n",
    "\n",
    "df = diabetes.copy()\n",
    "\n",
    "df = df.dropna()\n",
    "\n",
    "df.head()"
   ]
  },
  {
   "cell_type": "code",
   "execution_count": 75,
   "metadata": {},
   "outputs": [
    {
     "name": "stdout",
     "output_type": "stream",
     "text": [
      "<class 'pandas.core.frame.DataFrame'>\n",
      "Int64Index: 768 entries, 0 to 767\n",
      "Data columns (total 9 columns):\n",
      "Pregnancies                 768 non-null int64\n",
      "Glucose                     768 non-null int64\n",
      "BloodPressure               768 non-null int64\n",
      "SkinThickness               768 non-null int64\n",
      "Insulin                     768 non-null int64\n",
      "BMI                         768 non-null float64\n",
      "DiabetesPedigreeFunction    768 non-null float64\n",
      "Age                         768 non-null int64\n",
      "Outcome                     768 non-null int64\n",
      "dtypes: float64(2), int64(7)\n",
      "memory usage: 60.0 KB\n"
     ]
    }
   ],
   "source": [
    "df.info()"
   ]
  },
  {
   "cell_type": "code",
   "execution_count": 76,
   "metadata": {},
   "outputs": [
    {
     "data": {
      "text/plain": [
       "(768, 9)"
      ]
     },
     "execution_count": 76,
     "metadata": {},
     "output_type": "execute_result"
    }
   ],
   "source": [
    "df.shape"
   ]
  },
  {
   "cell_type": "code",
   "execution_count": 77,
   "metadata": {},
   "outputs": [
    {
     "data": {
      "text/plain": [
       "0    500\n",
       "1    268\n",
       "Name: Outcome, dtype: int64"
      ]
     },
     "execution_count": 77,
     "metadata": {},
     "output_type": "execute_result"
    }
   ],
   "source": [
    "df[\"Outcome\"].value_counts()"
   ]
  },
  {
   "cell_type": "code",
   "execution_count": 78,
   "metadata": {},
   "outputs": [
    {
     "data": {
      "image/png": "[encoded data removed]",
      "text/plain": [
       "<Figure size 432x288 with 1 Axes>"
      ]
     },
     "metadata": {
      "needs_background": "light"
     },
     "output_type": "display_data"
    }
   ],
   "source": [
    "df[\"Outcome\"].value_counts().plot.barh();"
   ]
  },
  {
   "cell_type": "code",
   "execution_count": 79,
   "metadata": {},
   "outputs": [
    {
     "data": {
      "text/html": [
       "<div>\n",
       "<style scoped>\n",
       "    .dataframe tbody tr th:only-of-type {\n",
       "        vertical-align: middle;\n",
       "    }\n",
       "\n",
       "    .dataframe tbody tr th {\n",
       "        vertical-align: top;\n",
       "    }\n",
       "\n",
       "    .dataframe thead th {\n",
       "        text-align: right;\n",
       "    }\n",
       "</style>\n",
       "<table border=\"1\" class=\"dataframe\">\n",
       "  <thead>\n",
       "    <tr style=\"text-align: right;\">\n",
       "      <th></th>\n",
       "      <th>count</th>\n",
       "      <th>mean</th>\n",
       "      <th>std</th>\n",
       "      <th>min</th>\n",
       "      <th>25%</th>\n",
       "      <th>50%</th>\n",
       "      <th>75%</th>\n",
       "      <th>max</th>\n",
       "    </tr>\n",
       "  </thead>\n",
       "  <tbody>\n",
       "    <tr>\n",
       "      <th>Pregnancies</th>\n",
       "      <td>768.0</td>\n",
       "      <td>3.845052</td>\n",
       "      <td>3.369578</td>\n",
       "      <td>0.000</td>\n",
       "      <td>1.00000</td>\n",
       "      <td>3.0000</td>\n",
       "      <td>6.00000</td>\n",
       "      <td>17.00</td>\n",
       "    </tr>\n",
       "    <tr>\n",
       "      <th>Glucose</th>\n",
       "      <td>768.0</td>\n",
       "      <td>120.894531</td>\n",
       "      <td>31.972618</td>\n",
       "      <td>0.000</td>\n",
       "      <td>99.00000</td>\n",
       "      <td>117.0000</td>\n",
       "      <td>140.25000</td>\n",
       "      <td>199.00</td>\n",
       "    </tr>\n",
       "    <tr>\n",
       "      <th>BloodPressure</th>\n",
       "      <td>768.0</td>\n",
       "      <td>69.105469</td>\n",
       "      <td>19.355807</td>\n",
       "      <td>0.000</td>\n",
       "      <td>62.00000</td>\n",
       "      <td>72.0000</td>\n",
       "      <td>80.00000</td>\n",
       "      <td>122.00</td>\n",
       "    </tr>\n",
       "    <tr>\n",
       "      <th>SkinThickness</th>\n",
       "      <td>768.0</td>\n",
       "      <td>20.536458</td>\n",
       "      <td>15.952218</td>\n",
       "      <td>0.000</td>\n",
       "      <td>0.00000</td>\n",
       "      <td>23.0000</td>\n",
       "      <td>32.00000</td>\n",
       "      <td>99.00</td>\n",
       "    </tr>\n",
       "    <tr>\n",
       "      <th>Insulin</th>\n",
       "      <td>768.0</td>\n",
       "      <td>79.799479</td>\n",
       "      <td>115.244002</td>\n",
       "      <td>0.000</td>\n",
       "      <td>0.00000</td>\n",
       "      <td>30.5000</td>\n",
       "      <td>127.25000</td>\n",
       "      <td>846.00</td>\n",
       "    </tr>\n",
       "    <tr>\n",
       "      <th>BMI</th>\n",
       "      <td>768.0</td>\n",
       "      <td>31.992578</td>\n",
       "      <td>7.884160</td>\n",
       "      <td>0.000</td>\n",
       "      <td>27.30000</td>\n",
       "      <td>32.0000</td>\n",
       "      <td>36.60000</td>\n",
       "      <td>67.10</td>\n",
       "    </tr>\n",
       "    <tr>\n",
       "      <th>DiabetesPedigreeFunction</th>\n",
       "      <td>768.0</td>\n",
       "      <td>0.471876</td>\n",
       "      <td>0.331329</td>\n",
       "      <td>0.078</td>\n",
       "      <td>0.24375</td>\n",
       "      <td>0.3725</td>\n",
       "      <td>0.62625</td>\n",
       "      <td>2.42</td>\n",
       "    </tr>\n",
       "    <tr>\n",
       "      <th>Age</th>\n",
       "      <td>768.0</td>\n",
       "      <td>33.240885</td>\n",
       "      <td>11.760232</td>\n",
       "      <td>21.000</td>\n",
       "      <td>24.00000</td>\n",
       "      <td>29.0000</td>\n",
       "      <td>41.00000</td>\n",
       "      <td>81.00</td>\n",
       "    </tr>\n",
       "    <tr>\n",
       "      <th>Outcome</th>\n",
       "      <td>768.0</td>\n",
       "      <td>0.348958</td>\n",
       "      <td>0.476951</td>\n",
       "      <td>0.000</td>\n",
       "      <td>0.00000</td>\n",
       "      <td>0.0000</td>\n",
       "      <td>1.00000</td>\n",
       "      <td>1.00</td>\n",
       "    </tr>\n",
       "  </tbody>\n",
       "</table>\n",
       "</div>"
      ],
      "text/plain": [
       "                          count        mean         std     min       25%  \\\n",
       "Pregnancies               768.0    3.845052    3.369578   0.000   1.00000   \n",
       "Glucose                   768.0  120.894531   31.972618   0.000  99.00000   \n",
       "BloodPressure             768.0   69.105469   19.355807   0.000  62.00000   \n",
       "SkinThickness             768.0   20.536458   15.952218   0.000   0.00000   \n",
       "Insulin                   768.0   79.799479  115.244002   0.000   0.00000   \n",
       "BMI                       768.0   31.992578    7.884160   0.000  27.30000   \n",
       "DiabetesPedigreeFunction  768.0    0.471876    0.331329   0.078   0.24375   \n",
       "Age                       768.0   33.240885   11.760232  21.000  24.00000   \n",
       "Outcome                   768.0    0.348958    0.476951   0.000   0.00000   \n",
       "\n",
       "                               50%        75%     max  \n",
       "Pregnancies                 3.0000    6.00000   17.00  \n",
       "Glucose                   117.0000  140.25000  199.00  \n",
       "BloodPressure              72.0000   80.00000  122.00  \n",
       "SkinThickness              23.0000   32.00000   99.00  \n",
       "Insulin                    30.5000  127.25000  846.00  \n",
       "BMI                        32.0000   36.60000   67.10  \n",
       "DiabetesPedigreeFunction    0.3725    0.62625    2.42  \n",
       "Age                        29.0000   41.00000   81.00  \n",
       "Outcome                     0.0000    1.00000    1.00  "
      ]
     },
     "execution_count": 79,
     "metadata": {},
     "output_type": "execute_result"
    }
   ],
   "source": [
    "df.describe().T"
   ]
  },
  {
   "cell_type": "code",
   "execution_count": 80,
   "metadata": {},
   "outputs": [
    {
     "data": {
      "text/plain": [
       "0    1\n",
       "1    0\n",
       "2    1\n",
       "3    0\n",
       "4    1\n",
       "Name: Outcome, dtype: int64"
      ]
     },
     "execution_count": 80,
     "metadata": {},
     "output_type": "execute_result"
    }
   ],
   "source": [
    "y = df[\"Outcome\"]\n",
    "\n",
    "y.head()"
   ]
  },
  {
   "cell_type": "code",
   "execution_count": 81,
   "metadata": {},
   "outputs": [
    {
     "data": {
      "text/html": [
       "<div>\n",
       "<style scoped>\n",
       "    .dataframe tbody tr th:only-of-type {\n",
       "        vertical-align: middle;\n",
       "    }\n",
       "\n",
       "    .dataframe tbody tr th {\n",
       "        vertical-align: top;\n",
       "    }\n",
       "\n",
       "    .dataframe thead th {\n",
       "        text-align: right;\n",
       "    }\n",
       "</style>\n",
       "<table border=\"1\" class=\"dataframe\">\n",
       "  <thead>\n",
       "    <tr style=\"text-align: right;\">\n",
       "      <th></th>\n",
       "      <th>Pregnancies</th>\n",
       "      <th>Glucose</th>\n",
       "      <th>BloodPressure</th>\n",
       "      <th>SkinThickness</th>\n",
       "      <th>Insulin</th>\n",
       "      <th>BMI</th>\n",
       "      <th>DiabetesPedigreeFunction</th>\n",
       "      <th>Age</th>\n",
       "    </tr>\n",
       "  </thead>\n",
       "  <tbody>\n",
       "    <tr>\n",
       "      <th>0</th>\n",
       "      <td>6</td>\n",
       "      <td>148</td>\n",
       "      <td>72</td>\n",
       "      <td>35</td>\n",
       "      <td>0</td>\n",
       "      <td>33.6</td>\n",
       "      <td>0.627</td>\n",
       "      <td>50</td>\n",
       "    </tr>\n",
       "    <tr>\n",
       "      <th>1</th>\n",
       "      <td>1</td>\n",
       "      <td>85</td>\n",
       "      <td>66</td>\n",
       "      <td>29</td>\n",
       "      <td>0</td>\n",
       "      <td>26.6</td>\n",
       "      <td>0.351</td>\n",
       "      <td>31</td>\n",
       "    </tr>\n",
       "    <tr>\n",
       "      <th>2</th>\n",
       "      <td>8</td>\n",
       "      <td>183</td>\n",
       "      <td>64</td>\n",
       "      <td>0</td>\n",
       "      <td>0</td>\n",
       "      <td>23.3</td>\n",
       "      <td>0.672</td>\n",
       "      <td>32</td>\n",
       "    </tr>\n",
       "    <tr>\n",
       "      <th>3</th>\n",
       "      <td>1</td>\n",
       "      <td>89</td>\n",
       "      <td>66</td>\n",
       "      <td>23</td>\n",
       "      <td>94</td>\n",
       "      <td>28.1</td>\n",
       "      <td>0.167</td>\n",
       "      <td>21</td>\n",
       "    </tr>\n",
       "    <tr>\n",
       "      <th>4</th>\n",
       "      <td>0</td>\n",
       "      <td>137</td>\n",
       "      <td>40</td>\n",
       "      <td>35</td>\n",
       "      <td>168</td>\n",
       "      <td>43.1</td>\n",
       "      <td>2.288</td>\n",
       "      <td>33</td>\n",
       "    </tr>\n",
       "  </tbody>\n",
       "</table>\n",
       "</div>"
      ],
      "text/plain": [
       "   Pregnancies  Glucose  BloodPressure  SkinThickness  Insulin   BMI  \\\n",
       "0            6      148             72             35        0  33.6   \n",
       "1            1       85             66             29        0  26.6   \n",
       "2            8      183             64              0        0  23.3   \n",
       "3            1       89             66             23       94  28.1   \n",
       "4            0      137             40             35      168  43.1   \n",
       "\n",
       "   DiabetesPedigreeFunction  Age  \n",
       "0                     0.627   50  \n",
       "1                     0.351   31  \n",
       "2                     0.672   32  \n",
       "3                     0.167   21  \n",
       "4                     2.288   33  "
      ]
     },
     "execution_count": 81,
     "metadata": {},
     "output_type": "execute_result"
    }
   ],
   "source": [
    "X = df.drop([\"Outcome\"], axis = 1)\n",
    "\n",
    "# X = df[\"Pregnancies\"]\n",
    "\n",
    "X = pd.DataFrame(X)\n",
    "\n",
    "X.head()"
   ]
  },
  {
   "cell_type": "code",
   "execution_count": 82,
   "metadata": {},
   "outputs": [],
   "source": [
    "X_train, X_test, y_train, y_test = train_test_split(X, y, test_size = 0.30, random_state = 42)"
   ]
  },
  {
   "cell_type": "code",
   "execution_count": 83,
   "metadata": {},
   "outputs": [
    {
     "data": {
      "text/plain": [
       "DecisionTreeClassifier(class_weight=None, criterion='gini', max_depth=None,\n",
       "                       max_features=None, max_leaf_nodes=None,\n",
       "                       min_impurity_decrease=0.0, min_impurity_split=None,\n",
       "                       min_samples_leaf=1, min_samples_split=2,\n",
       "                       min_weight_fraction_leaf=0.0, presort=False,\n",
       "                       random_state=None, splitter='best')"
      ]
     },
     "execution_count": 83,
     "metadata": {},
     "output_type": "execute_result"
    }
   ],
   "source": [
    "cart = DecisionTreeClassifier()\n",
    "\n",
    "cart_model = cart.fit(X_train, y_train)\n",
    "\n",
    "cart_model"
   ]
  },
  {
   "cell_type": "code",
   "execution_count": 84,
   "metadata": {},
   "outputs": [
    {
     "data": {
      "text/plain": [
       "'((((((0 if x[6] <= 0.671999990940094 else 1 if x[6] <= 0.6974999904632568 else\\n    0) if x[5] <= 31.40000057220459 else ((0 if x[3] <= 40.5 else 1) if x[1\\n    ] <= 111.5 else ((0 if x[5] <= 32.59999942779541 else 1) if x[2] <= \\n    65.0 else 0) if x[2] <= 72.0 else 1) if x[4] <= 9.0 else (0 if x[6] <= \\n    0.6395000219345093 else 1 if x[6] <= 0.6759999990463257 else 0) if x[0] <=\\n    4.5 else 0 if x[3] <= 40.5 else 1) if x[5] <= 49.10000038146973 else 1) if\\n    x[1] <= 127.5 else 1 if x[2] <= 56.0 else (0 if x[7] <= 27.5 else 0 if \\n    x[3] <= 14.5 else 1) if x[5] <= 30.300000190734863 else 1 if x[5] <= \\n    32.000000953674316 else ((0 if x[5] <= 33.75 else 1) if x[0] <= 0.5 else\\n    1 if x[5] <= 32.45000076293945 else 0) if x[2] <= 85.0 else 1) if x[7] <=\\n    28.5 else (1 if x[7] <= 29.5 else (0 if x[2] <= 89.0 else 1) if x[5] <=\\n    9.649999618530273 else 0 if x[1] <= 133.0 else (1 if x[2] <= 73.0 else \\n    0) if x[1] <= 135.0 else 0) if x[5] <= 26.949999809265137 else (1 if x[\\n    1] <= 28.5 else 0 if x[0] <= 9.5 else 0 if x[1] <= 80.0 else 1 if x[5] <=\\n    35.10000038146973 else 0) if x[1] <= 94.5 else ((((0 if x[6] <= \\n    0.24950000643730164 else 1 if x[1] <= 126.5 else 0) if x[5] <= \\n    28.34999942779541 else 1 if x[5] <= 31.15000057220459 else 1 if x[2] <=\\n    67.0 else 0 if x[7] <= 36.5 else 0 if x[2] <= 71.0 else (1 if x[6] <= \\n    0.13249999657273293 else 0) if x[6] <= 0.21000000089406967 else 1) if x\\n    [3] <= 26.5 else ((0 if x[2] <= 57.0 else 1 if x[4] <= 180.5 else 0) if\\n    x[2] <= 67.0 else 0 if x[2] <= 80.0 else 1 if x[7] <= 37.0 else 0) if x\\n    [1] <= 127.5 else (1 if x[0] <= 2.5 else 0) if x[5] <= 35.5 else 1) if \\n    x[2] <= 83.0 else ((0 if x[3] <= 39.5 else 1 if x[6] <= \\n    0.3385000079870224 else 0) if x[5] <= 41.19999885559082 else 1) if x[4] <=\\n    124.0 else 0 if x[3] <= 19.5 else 1) if x[6] <= 0.527999997138977 else \\n    ((((0 if x[7] <= 47.0 else 1) if x[1] <= 108.5 else 1) if x[1] <= 132.0\\n     else 0) if x[5] <= 29.09999942779541 else 1 if x[6] <= \\n    0.5479999780654907 else 0) if x[5] <= 31.600000381469727 else ((1 if x[\\n    2] <= 87.0 else 1 if x[5] <= 36.64999961853027 else 0) if x[3] <= 54.5 else\\n    0) if x[6] <= 1.1489999890327454 else 1 if x[7] <= 36.0 else 0) if x[1] <=\\n    154.5 else (1 if x[5] <= 25.350000381469727 else (0 if x[0] <= 1.5 else\\n    1) if x[7] <= 52.5 else 0) if x[5] <= 28.700000762939453 else (((0 if x\\n    [7] <= 24.5 else 0 if x[6] <= 0.14100000262260437 else 1) if x[1] <= \\n    164.5 else 0) if x[1] <= 165.5 else ((0 if x[7] <= 32.0 else 1) if x[6] <=\\n    0.27650000154972076 else 1) if x[2] <= 65.0 else 1) if x[6] <= \\n    1.4275000095367432 else 1 if x[0] <= 3.5 else 0)\\n'"
      ]
     },
     "execution_count": 84,
     "metadata": {},
     "output_type": "execute_result"
    }
   ],
   "source": [
    "skompile(cart_model.predict).to(\"python/code\")"
   ]
  },
  {
   "cell_type": "code",
   "execution_count": 85,
   "metadata": {},
   "outputs": [
    {
     "name": "stdout",
     "output_type": "stream",
     "text": [
      "((((((0 if x[6] <= 0.671999990940094 else 1 if x[6] <= 0.6974999904632568 else\n",
      "    0) if x[5] <= 31.40000057220459 else ((0 if x[3] <= 40.5 else 1) if x[1\n",
      "    ] <= 111.5 else ((0 if x[5] <= 32.59999942779541 else 1) if x[2] <= \n",
      "    65.0 else 0) if x[2] <= 72.0 else 1) if x[4] <= 9.0 else (0 if x[6] <= \n",
      "    0.6395000219345093 else 1 if x[6] <= 0.6759999990463257 else 0) if x[0] <=\n",
      "    4.5 else 0 if x[3] <= 40.5 else 1) if x[5] <= 49.10000038146973 else 1) if\n",
      "    x[1] <= 127.5 else 1 if x[2] <= 56.0 else (0 if x[7] <= 27.5 else 0 if \n",
      "    x[3] <= 14.5 else 1) if x[5] <= 30.300000190734863 else 1 if x[5] <= \n",
      "    32.000000953674316 else ((0 if x[5] <= 33.75 else 1) if x[0] <= 0.5 else\n",
      "    1 if x[5] <= 32.45000076293945 else 0) if x[2] <= 85.0 else 1) if x[7] <=\n",
      "    28.5 else (1 if x[7] <= 29.5 else (0 if x[2] <= 89.0 else 1) if x[5] <=\n",
      "    9.649999618530273 else 0 if x[1] <= 133.0 else (1 if x[2] <= 73.0 else \n",
      "    0) if x[1] <= 135.0 else 0) if x[5] <= 26.949999809265137 else (1 if x[\n",
      "    1] <= 28.5 else 0 if x[0] <= 9.5 else 0 if x[1] <= 80.0 else 1 if x[5] <=\n",
      "    35.10000038146973 else 0) if x[1] <= 94.5 else ((((0 if x[6] <= \n",
      "    0.24950000643730164 else 1 if x[1] <= 126.5 else 0) if x[5] <= \n",
      "    28.34999942779541 else 1 if x[5] <= 31.15000057220459 else 1 if x[2] <=\n",
      "    67.0 else 0 if x[7] <= 36.5 else 0 if x[2] <= 71.0 else (1 if x[6] <= \n",
      "    0.13249999657273293 else 0) if x[6] <= 0.21000000089406967 else 1) if x\n",
      "    [3] <= 26.5 else ((0 if x[2] <= 57.0 else 1 if x[4] <= 180.5 else 0) if\n",
      "    x[2] <= 67.0 else 0 if x[2] <= 80.0 else 1 if x[7] <= 37.0 else 0) if x\n",
      "    [1] <= 127.5 else (1 if x[0] <= 2.5 else 0) if x[5] <= 35.5 else 1) if \n",
      "    x[2] <= 83.0 else ((0 if x[3] <= 39.5 else 1 if x[6] <= \n",
      "    0.3385000079870224 else 0) if x[5] <= 41.19999885559082 else 1) if x[4] <=\n",
      "    124.0 else 0 if x[3] <= 19.5 else 1) if x[6] <= 0.527999997138977 else \n",
      "    ((((0 if x[7] <= 47.0 else 1) if x[1] <= 108.5 else 1) if x[1] <= 132.0\n",
      "     else 0) if x[5] <= 29.09999942779541 else 1 if x[6] <= \n",
      "    0.5479999780654907 else 0) if x[5] <= 31.600000381469727 else ((1 if x[\n",
      "    2] <= 87.0 else 1 if x[5] <= 36.64999961853027 else 0) if x[3] <= 54.5 else\n",
      "    0) if x[6] <= 1.1489999890327454 else 1 if x[7] <= 36.0 else 0) if x[1] <=\n",
      "    154.5 else (1 if x[5] <= 25.350000381469727 else (0 if x[0] <= 1.5 else\n",
      "    1) if x[7] <= 52.5 else 0) if x[5] <= 28.700000762939453 else (((0 if x\n",
      "    [7] <= 24.5 else 0 if x[6] <= 0.14100000262260437 else 1) if x[1] <= \n",
      "    164.5 else 0) if x[1] <= 165.5 else ((0 if x[7] <= 32.0 else 1) if x[6] <=\n",
      "    0.27650000154972076 else 1) if x[2] <= 65.0 else 1) if x[6] <= \n",
      "    1.4275000095367432 else 1 if x[0] <= 3.5 else 0)\n",
      "\n"
     ]
    }
   ],
   "source": [
    "print(skompile(cart_model.predict).to(\"python/code\"))"
   ]
  },
  {
   "cell_type": "code",
   "execution_count": 86,
   "metadata": {},
   "outputs": [
    {
     "data": {
      "text/plain": [
       "DecisionTreeClassifier(class_weight=None, criterion='gini', max_depth=2,\n",
       "                       max_features=None, max_leaf_nodes=None,\n",
       "                       min_impurity_decrease=0.0, min_impurity_split=None,\n",
       "                       min_samples_leaf=1, min_samples_split=2,\n",
       "                       min_weight_fraction_leaf=0.0, presort=False,\n",
       "                       random_state=None, splitter='best')"
      ]
     },
     "execution_count": 86,
     "metadata": {},
     "output_type": "execute_result"
    }
   ],
   "source": [
    "cart = DecisionTreeClassifier(max_depth = 2)\n",
    "\n",
    "cart_model = cart.fit(X_train, y_train)\n",
    "\n",
    "cart_model"
   ]
  },
  {
   "cell_type": "code",
   "execution_count": 87,
   "metadata": {},
   "outputs": [
    {
     "name": "stdout",
     "output_type": "stream",
     "text": [
      "((0 if x[7] <= 28.5 else 0) if x[1] <= 154.5 else 1 if x[5] <= \n",
      "    28.700000762939453 else 1)\n",
      "\n"
     ]
    }
   ],
   "source": [
    "print(skompile(cart_model.predict).to(\"python/code\"))"
   ]
  },
  {
   "cell_type": "code",
   "execution_count": 88,
   "metadata": {},
   "outputs": [
    {
     "data": {
      "text/plain": [
       "0"
      ]
     },
     "execution_count": 88,
     "metadata": {},
     "output_type": "execute_result"
    }
   ],
   "source": [
    "x = [3]\n",
    "\n",
    "((0 if x[0] <= 2.5 else 0) if x[0] <= 6.5 else 1 if x[0] <= 13.5 else 1)"
   ]
  },
  {
   "cell_type": "code",
   "execution_count": 89,
   "metadata": {},
   "outputs": [
    {
     "data": {
      "text/plain": [
       "1"
      ]
     },
     "execution_count": 89,
     "metadata": {},
     "output_type": "execute_result"
    }
   ],
   "source": [
    "x = [9]\n",
    "\n",
    "((0 if x[0] <= 2.5 else 0) if x[0] <= 6.5 else 1 if x[0] <= 13.5 else 1)"
   ]
  },
  {
   "cell_type": "code",
   "execution_count": 90,
   "metadata": {},
   "outputs": [
    {
     "data": {
      "text/plain": [
       "0.7186147186147186"
      ]
     },
     "execution_count": 90,
     "metadata": {},
     "output_type": "execute_result"
    }
   ],
   "source": [
    "y_pred = cart_model.predict(X_test)\n",
    "\n",
    "accuracy_score(y_test, y_pred)"
   ]
  },
  {
   "cell_type": "code",
   "execution_count": 91,
   "metadata": {},
   "outputs": [
    {
     "data": {
      "text/plain": [
       "DecisionTreeClassifier(class_weight=None, criterion='gini', max_depth=None,\n",
       "                       max_features=None, max_leaf_nodes=None,\n",
       "                       min_impurity_decrease=0.0, min_impurity_split=None,\n",
       "                       min_samples_leaf=1, min_samples_split=2,\n",
       "                       min_weight_fraction_leaf=0.0, presort=False,\n",
       "                       random_state=None, splitter='best')"
      ]
     },
     "execution_count": 91,
     "metadata": {},
     "output_type": "execute_result"
    }
   ],
   "source": [
    "cart = DecisionTreeClassifier()\n",
    "\n",
    "cart_model = cart.fit(X_train, y_train)\n",
    "\n",
    "cart_model"
   ]
  },
  {
   "cell_type": "code",
   "execution_count": 92,
   "metadata": {},
   "outputs": [
    {
     "name": "stdout",
     "output_type": "stream",
     "text": [
      "((((((0 if x[6] <= 0.671999990940094 else 1 if x[6] <= 0.6974999904632568 else\n",
      "    0) if x[5] <= 31.40000057220459 else ((0 if x[3] <= 40.5 else 1) if x[1\n",
      "    ] <= 111.5 else ((1 if x[1] <= 123.0 else 0) if x[5] <= \n",
      "    37.39999961853027 else 0) if x[2] <= 72.0 else 1) if x[4] <= 9.0 else (\n",
      "    0 if x[6] <= 0.6395000219345093 else 1 if x[6] <= 0.6759999990463257 else\n",
      "    0) if x[0] <= 4.5 else 0 if x[3] <= 40.5 else 1) if x[5] <= \n",
      "    49.10000038146973 else 1) if x[1] <= 127.5 else 1 if x[2] <= 56.0 else \n",
      "    (0 if x[7] <= 27.5 else 1 if x[6] <= 0.32649999111890793 else 0) if x[5\n",
      "    ] <= 30.300000190734863 else 1 if x[5] <= 32.000000953674316 else ((0 if\n",
      "    x[5] <= 33.75 else 1) if x[0] <= 0.5 else 1 if x[5] <= \n",
      "    32.45000076293945 else 0) if x[2] <= 85.0 else 1) if x[7] <= 28.5 else \n",
      "    (1 if x[7] <= 29.5 else (0 if x[1] <= 133.0 else (1 if x[4] <= 30.0 else\n",
      "    0) if x[1] <= 135.0 else 0) if x[2] <= 94.0 else 1 if x[0] <= 9.0 else \n",
      "    0) if x[5] <= 26.949999809265137 else (1 if x[1] <= 28.5 else 0 if x[0] <=\n",
      "    9.5 else 0 if x[1] <= 80.0 else 1 if x[4] <= 27.0 else 0) if x[1] <= \n",
      "    94.5 else ((((0 if x[6] <= 0.24950000643730164 else 0 if x[2] <= 65.0 else\n",
      "    1) if x[5] <= 28.34999942779541 else 1 if x[2] <= 67.0 else 0 if x[7] <=\n",
      "    30.5 else ((0 if x[0] <= 5.5 else 1) if x[6] <= 0.21000000089406967 else\n",
      "    1 if x[6] <= 0.42249999940395355 else 0 if x[1] <= 133.5 else 1) if x[0\n",
      "    ] <= 9.0 else 0 if x[4] <= 57.5 else 1) if x[3] <= 26.5 else (((1 if x[\n",
      "    0] <= 0.5 else 0) if x[0] <= 5.5 else 1) if x[2] <= 67.0 else 0 if x[2] <=\n",
      "    80.0 else 1 if x[7] <= 37.0 else 0) if x[1] <= 127.5 else (1 if x[6] <=\n",
      "    0.15850000083446503 else 0) if x[6] <= 0.3110000044107437 else 1) if x[\n",
      "    2] <= 83.0 else ((0 if x[3] <= 39.5 else 0 if x[4] <= 44.0 else 1) if x\n",
      "    [5] <= 41.19999885559082 else 1) if x[4] <= 124.0 else 0 if x[3] <= \n",
      "    19.5 else 1) if x[6] <= 0.527999997138977 else ((((0 if x[7] <= 47.0 else\n",
      "    1) if x[1] <= 108.5 else 1) if x[1] <= 132.0 else 0) if x[5] <= \n",
      "    29.09999942779541 else 0 if x[7] <= 50.0 else 1) if x[5] <= \n",
      "    31.600000381469727 else ((1 if x[2] <= 87.0 else 0 if x[6] <= \n",
      "    0.7305000126361847 else 1) if x[3] <= 54.5 else 0) if x[6] <= \n",
      "    1.1489999890327454 else 1 if x[7] <= 36.0 else 0) if x[1] <= 154.5 else\n",
      "    (1 if x[5] <= 25.350000381469727 else 0 if x[6] <= 0.3684999942779541 else\n",
      "    (0 if x[6] <= 0.9229999780654907 else 1) if x[3] <= 16.5 else 1) if x[5\n",
      "    ] <= 28.700000762939453 else (((((0 if x[2] <= 67.0 else 1) if x[4] <= \n",
      "    180.0 else 0) if x[4] <= 457.0 else 1) if x[7] <= 30.5 else 1) if x[6] <=\n",
      "    0.3044999986886978 else (1 if x[1] <= 164.5 else 0) if x[1] <= 165.5 else\n",
      "    1) if x[6] <= 1.4275000095367432 else 1 if x[0] <= 3.5 else 0)\n",
      "\n"
     ]
    }
   ],
   "source": [
    "print(skompile(cart_model.predict).to(\"python/code\"))"
   ]
  },
  {
   "cell_type": "code",
   "execution_count": 93,
   "metadata": {},
   "outputs": [
    {
     "data": {
      "text/plain": [
       "1"
      ]
     },
     "execution_count": 93,
     "metadata": {},
     "output_type": "execute_result"
    }
   ],
   "source": [
    "x = [9]\n",
    "\n",
    "(((0 if x[0] <= 0.5 else 0 if x[0] <= 1.5 else 0) if x[0] <= 2.5 else (0 if\n",
    "    x[0] <= 3.5 else 0) if x[0] <= 4.5 else 0 if x[0] <= 5.5 else 0) if x[0\n",
    "    ] <= 6.5 else (((1 if x[0] <= 7.5 else 1) if x[0] <= 8.5 else 1) if x[0\n",
    "    ] <= 9.5 else (0 if x[0] <= 10.5 else 0) if x[0] <= 11.5 else 0 if x[0] <=\n",
    "    12.5 else 0) if x[0] <= 13.5 else 1)"
   ]
  },
  {
   "cell_type": "code",
   "execution_count": 94,
   "metadata": {},
   "outputs": [
    {
     "data": {
      "text/plain": [
       "0"
      ]
     },
     "execution_count": 94,
     "metadata": {},
     "output_type": "execute_result"
    }
   ],
   "source": [
    "x = [0]\n",
    "\n",
    "(((0 if x[0] <= 0.5 else 0 if x[0] <= 1.5 else 0) if x[0] <= 2.5 else (0 if\n",
    "    x[0] <= 3.5 else 0) if x[0] <= 4.5 else 0 if x[0] <= 5.5 else 0) if x[0\n",
    "    ] <= 6.5 else (((1 if x[0] <= 7.5 else 1) if x[0] <= 8.5 else 1) if x[0\n",
    "    ] <= 9.5 else (0 if x[0] <= 10.5 else 0) if x[0] <= 11.5 else 0 if x[0] <=\n",
    "    12.5 else 0) if x[0] <= 13.5 else 1)"
   ]
  },
  {
   "cell_type": "code",
   "execution_count": 95,
   "metadata": {},
   "outputs": [
    {
     "data": {
      "text/plain": [
       "0.7056277056277056"
      ]
     },
     "execution_count": 95,
     "metadata": {},
     "output_type": "execute_result"
    }
   ],
   "source": [
    "y_pred = cart_model.predict(X_test)\n",
    "\n",
    "accuracy_score(y_test, y_pred)"
   ]
  },
  {
   "cell_type": "markdown",
   "metadata": {},
   "source": [
    "-----------"
   ]
  },
  {
   "cell_type": "markdown",
   "metadata": {},
   "source": [
    "# 2. Model Doğrulama / Model Tuning (CART)"
   ]
  },
  {
   "cell_type": "code",
   "execution_count": 96,
   "metadata": {},
   "outputs": [
    {
     "data": {
      "text/plain": [
       "DecisionTreeClassifier(class_weight=None, criterion='gini', max_depth=None,\n",
       "                       max_features=None, max_leaf_nodes=None,\n",
       "                       min_impurity_decrease=0.0, min_impurity_split=None,\n",
       "                       min_samples_leaf=1, min_samples_split=2,\n",
       "                       min_weight_fraction_leaf=0.0, presort=False,\n",
       "                       random_state=None, splitter='best')"
      ]
     },
     "execution_count": 96,
     "metadata": {},
     "output_type": "execute_result"
    }
   ],
   "source": [
    "cart_model"
   ]
  },
  {
   "cell_type": "code",
   "execution_count": 97,
   "metadata": {},
   "outputs": [],
   "source": [
    "cart_grid = {\"max_depth\": range(1,10),\n",
    "            \"min_samples_split\" : list(range(2,50))}"
   ]
  },
  {
   "cell_type": "code",
   "execution_count": 98,
   "metadata": {},
   "outputs": [
    {
     "name": "stdout",
     "output_type": "stream",
     "text": [
      "Fitting 10 folds for each of 432 candidates, totalling 4320 fits\n"
     ]
    },
    {
     "name": "stderr",
     "output_type": "stream",
     "text": [
      "[Parallel(n_jobs=-1)]: Using backend LokyBackend with 8 concurrent workers.\n",
      "[Parallel(n_jobs=-1)]: Done 250 tasks      | elapsed:    0.4s\n",
      "[Parallel(n_jobs=-1)]: Done 3396 tasks      | elapsed:    2.9s\n",
      "[Parallel(n_jobs=-1)]: Done 4320 out of 4320 | elapsed:    3.7s finished\n"
     ]
    }
   ],
   "source": [
    "cart = tree.DecisionTreeClassifier()\n",
    "\n",
    "cart_cv = GridSearchCV(cart, cart_grid, cv = 10, n_jobs = -1, verbose = 2)\n",
    "\n",
    "cart_cv_model = cart_cv.fit(X_train, y_train)"
   ]
  },
  {
   "cell_type": "code",
   "execution_count": 99,
   "metadata": {},
   "outputs": [
    {
     "data": {
      "text/plain": [
       "{'max_depth': 5, 'min_samples_split': 19}"
      ]
     },
     "execution_count": 99,
     "metadata": {},
     "output_type": "execute_result"
    }
   ],
   "source": [
    "cart_cv_model.best_params_"
   ]
  },
  {
   "cell_type": "code",
   "execution_count": 100,
   "metadata": {},
   "outputs": [],
   "source": [
    "# Final Modeli\n",
    "\n",
    "cart = tree.DecisionTreeClassifier(max_depth = 5, min_samples_split = 19)\n",
    "\n",
    "cart_tuned = cart.fit(X_train, y_train)"
   ]
  },
  {
   "cell_type": "code",
   "execution_count": 101,
   "metadata": {},
   "outputs": [
    {
     "data": {
      "text/plain": [
       "0.7532467532467533"
      ]
     },
     "execution_count": 101,
     "metadata": {},
     "output_type": "execute_result"
    }
   ],
   "source": [
    "y_pred = cart_tuned.predict(X_test)\n",
    "\n",
    "accuracy_score(y_test, y_pred)"
   ]
  },
  {
   "cell_type": "markdown",
   "metadata": {},
   "source": [
    "----------"
   ]
  },
  {
   "cell_type": "code",
   "execution_count": null,
   "metadata": {},
   "outputs": [],
   "source": []
  }
 ],
 "metadata": {
  "kernelspec": {
   "display_name": "Python 3",
   "language": "python",
   "name": "python3"
  },
  "language_info": {
   "codemirror_mode": {
    "name": "ipython",
    "version": 3
   },
   "file_extension": ".py",
   "mimetype": "text/x-python",
   "name": "python",
   "nbconvert_exporter": "python",
   "pygments_lexer": "ipython3",
   "version": "3.7.3"
  }
 },
 "nbformat": 4,
 "nbformat_minor": 2
}
